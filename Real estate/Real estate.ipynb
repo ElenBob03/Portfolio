{
 "cells": [
  {
   "cell_type": "markdown",
   "id": "fac1feb9",
   "metadata": {},
   "source": [
    "# Исследование объявлений о продаже квартир\n",
    "\n",
    "В нашем распоряжении данные сервиса Яндекс.Недвижимость — архив объявлений о продаже квартир в Санкт-Петербурге и соседних населённых пунктов за несколько лет. Нужно научиться определять рыночную стоимость объектов недвижимости. Наша задача — установить параметры. Это позволит построить автоматизированную систему: она отследит аномалии и мошенническую деятельность. \n",
    "\n",
    "По каждой квартире на продажу доступны два вида данных. Первые вписаны пользователем, вторые — получены автоматически на основе картографических данных. Например, расстояние до центра, аэропорта, ближайшего парка и водоёма. "
   ]
  },
  {
   "cell_type": "markdown",
   "id": "1e494262",
   "metadata": {},
   "source": [
    "# Описание данных\n",
    "- airports_nearest — расстояние до ближайшего аэропорта в метрах (м)\n",
    "- balcony — число балконов\n",
    "- ceiling_height — высота потолков (м)\n",
    "- cityCenters_nearest — расстояние до центра города (м)\n",
    "- days_exposition — сколько дней было размещено объявление (от публикации до снятия)\n",
    "- first_day_exposition — дата публикации\n",
    "- floor — этаж\n",
    "- floors_total — всего этажей в доме\n",
    "- is_apartment — апартаменты (булев тип)\n",
    "- kitchen_area — площадь кухни в квадратных метрах (м²)\n",
    "- last_price — цена на момент снятия с публикации\n",
    "- living_area — жилая площадь в квадратных метрах (м²)\n",
    "- locality_name — название населённого пункта\n",
    "- open_plan — свободная планировка (булев тип)\n",
    "- parks_around3000 — число парков в радиусе 3 км\n",
    "- parks_nearest — расстояние до ближайшего парка (м)\n",
    "- ponds_around3000 — число водоёмов в радиусе 3 км\n",
    "- ponds_nearest — расстояние до ближайшего водоёма (м)\n",
    "- rooms — число комнат\n",
    "- studio — квартира-студия (булев тип)\n",
    "- total_area — общая площадь квартиры в квадратных метрах (м²)\n",
    "- total_images — число фотографий квартиры в объявлении"
   ]
  },
  {
   "cell_type": "markdown",
   "id": "79afe043",
   "metadata": {},
   "source": [
    "# План работ:\n",
    "- Шаг 1. Откройть файл с данными и изучить общую информацию.\n",
    "- Шаг 2. Предобработка данных - обработка пропусков, аномалий и дубликатов.\n",
    "- Шаг 3. Добавить в таблицу новые столбцы, которые пригодятся для следующего анализа даннах.\n",
    "- Шаг 4. Провести исследовательский анализ данных - изучить разные параметры объектов.\n",
    "- Шаг 5. Зафиксировать основной вывод проведённого исследования."
   ]
  },
  {
   "cell_type": "markdown",
   "id": "be65ab01",
   "metadata": {
    "toc": true
   },
   "source": [
    "<h1>Содержание<span class=\"tocSkip\"></span></h1>\n",
    "<div class=\"toc\"><ul class=\"toc-item\"><li><span><a href=\"#Откроем-файл-с-данными-и-изучим-общую-информацию.\" data-toc-modified-id=\"Откроем-файл-с-данными-и-изучим-общую-информацию.-1\"><span class=\"toc-item-num\">1&nbsp;&nbsp;</span>Откроем файл с данными и изучим общую информацию.</a></span></li><li><span><a href=\"#Предобработка-данных\" data-toc-modified-id=\"Предобработка-данных-2\"><span class=\"toc-item-num\">2&nbsp;&nbsp;</span>Предобработка данных</a></span><ul class=\"toc-item\"><li><span><a href=\"#Посмотрим-на-долю-пропущенных-значений-в-столбцах\" data-toc-modified-id=\"Посмотрим-на-долю-пропущенных-значений-в-столбцах-2.1\"><span class=\"toc-item-num\">2.1&nbsp;&nbsp;</span>Посмотрим на долю пропущенных значений в столбцах</a></span></li><li><span><a href=\"#Обработаем-пропуски-и-аномалии-в-столбцах\" data-toc-modified-id=\"Обработаем-пропуски-и-аномалии-в-столбцах-2.2\"><span class=\"toc-item-num\">2.2&nbsp;&nbsp;</span>Обработаем пропуски и аномалии в столбцах</a></span></li></ul></li><li><span><a href=\"#Расчитаем-и-добавим-в-таблицу-новые-столбцы\" data-toc-modified-id=\"Расчитаем-и-добавим-в-таблицу-новые-столбцы-3\"><span class=\"toc-item-num\">3&nbsp;&nbsp;</span>Расчитаем и добавим в таблицу новые столбцы</a></span><ul class=\"toc-item\"><li><span><a href=\"#Столбец-с-ценой-за-1кв-метр\" data-toc-modified-id=\"Столбец-с-ценой-за-1кв-метр-3.1\"><span class=\"toc-item-num\">3.1&nbsp;&nbsp;</span>Столбец с ценой за 1кв метр</a></span></li><li><span><a href=\"#Столбец-с-днем-недели\" data-toc-modified-id=\"Столбец-с-днем-недели-3.2\"><span class=\"toc-item-num\">3.2&nbsp;&nbsp;</span>Столбец с днем недели</a></span></li><li><span><a href=\"#Столбец-с-месяцем\" data-toc-modified-id=\"Столбец-с-месяцем-3.3\"><span class=\"toc-item-num\">3.3&nbsp;&nbsp;</span>Столбец с месяцем</a></span></li><li><span><a href=\"#Столбец-с-годом\" data-toc-modified-id=\"Столбец-с-годом-3.4\"><span class=\"toc-item-num\">3.4&nbsp;&nbsp;</span>Столбец с годом</a></span></li><li><span><a href=\"#Столбец-с-этажностью-объекта\" data-toc-modified-id=\"Столбец-с-этажностью-объекта-3.5\"><span class=\"toc-item-num\">3.5&nbsp;&nbsp;</span>Столбец с этажностью объекта</a></span></li><li><span><a href=\"#Столбец-с-расстоянием-до-центра-города-в-км\" data-toc-modified-id=\"Столбец-с-расстоянием-до-центра-города-в-км-3.6\"><span class=\"toc-item-num\">3.6&nbsp;&nbsp;</span>Столбец с расстоянием до центра города в км</a></span></li></ul></li><li><span><a href=\"#Проведим-исследовательский-анализ-данных\" data-toc-modified-id=\"Проведим-исследовательский-анализ-данных-4\"><span class=\"toc-item-num\">4&nbsp;&nbsp;</span>Проведим исследовательский анализ данных</a></span><ul class=\"toc-item\"><li><span><a href=\"#Изучим--параметры-объектов:\" data-toc-modified-id=\"Изучим--параметры-объектов:-4.1\"><span class=\"toc-item-num\">4.1&nbsp;&nbsp;</span>Изучим  параметры объектов:</a></span><ul class=\"toc-item\"><li><span><a href=\"#Общая-площадь:\" data-toc-modified-id=\"Общая-площадь:-4.1.1\"><span class=\"toc-item-num\">4.1.1&nbsp;&nbsp;</span>Общая площадь:</a></span></li><li><span><a href=\"#Жилая-площадь:\" data-toc-modified-id=\"Жилая-площадь:-4.1.2\"><span class=\"toc-item-num\">4.1.2&nbsp;&nbsp;</span>Жилая площадь:</a></span></li><li><span><a href=\"#Площадь-кухни:\" data-toc-modified-id=\"Площадь-кухни:-4.1.3\"><span class=\"toc-item-num\">4.1.3&nbsp;&nbsp;</span>Площадь кухни:</a></span></li><li><span><a href=\"#Цена-объектов:\" data-toc-modified-id=\"Цена-объектов:-4.1.4\"><span class=\"toc-item-num\">4.1.4&nbsp;&nbsp;</span>Цена объектов:</a></span></li><li><span><a href=\"#Количество-комнат:\" data-toc-modified-id=\"Количество-комнат:-4.1.5\"><span class=\"toc-item-num\">4.1.5&nbsp;&nbsp;</span>Количество комнат:</a></span></li><li><span><a href=\"#Высота-потолков:\" data-toc-modified-id=\"Высота-потолков:-4.1.6\"><span class=\"toc-item-num\">4.1.6&nbsp;&nbsp;</span>Высота потолков:</a></span></li><li><span><a href=\"#Этажность-объектов:\" data-toc-modified-id=\"Этажность-объектов:-4.1.7\"><span class=\"toc-item-num\">4.1.7&nbsp;&nbsp;</span>Этажность объектов:</a></span></li><li><span><a href=\"#Тип-этажа-объектов:\" data-toc-modified-id=\"Тип-этажа-объектов:-4.1.8\"><span class=\"toc-item-num\">4.1.8&nbsp;&nbsp;</span>Тип этажа объектов:</a></span></li><li><span><a href=\"#Общее-количество-этажей-объектов:\" data-toc-modified-id=\"Общее-количество-этажей-объектов:-4.1.9\"><span class=\"toc-item-num\">4.1.9&nbsp;&nbsp;</span>Общее количество этажей объектов:</a></span></li><li><span><a href=\"#Расстояние-до-центра-города-в-метрах:\" data-toc-modified-id=\"Расстояние-до-центра-города-в-метрах:-4.1.10\"><span class=\"toc-item-num\">4.1.10&nbsp;&nbsp;</span>Расстояние до центра города в метрах:</a></span></li><li><span><a href=\"#Расстояние-до-ближайшего-аэропорта:\" data-toc-modified-id=\"Расстояние-до-ближайшего-аэропорта:-4.1.11\"><span class=\"toc-item-num\">4.1.11&nbsp;&nbsp;</span>Расстояние до ближайшего аэропорта:</a></span></li><li><span><a href=\"#Расстояние-до-ближайшего-парка:\" data-toc-modified-id=\"Расстояние-до-ближайшего-парка:-4.1.12\"><span class=\"toc-item-num\">4.1.12&nbsp;&nbsp;</span>Расстояние до ближайшего парка:</a></span></li><li><span><a href=\"#День-публикации-объявления:\" data-toc-modified-id=\"День-публикации-объявления:-4.1.13\"><span class=\"toc-item-num\">4.1.13&nbsp;&nbsp;</span>День публикации объявления:</a></span></li><li><span><a href=\"#Месяц-публикации-объявления:\" data-toc-modified-id=\"Месяц-публикации-объявления:-4.1.14\"><span class=\"toc-item-num\">4.1.14&nbsp;&nbsp;</span>Месяц публикации объявления:</a></span></li></ul></li><li><span><a href=\"#Изучим,-как-быстро-продавались-квартиры.\" data-toc-modified-id=\"Изучим,-как-быстро-продавались-квартиры.-4.2\"><span class=\"toc-item-num\">4.2&nbsp;&nbsp;</span>Изучим, как быстро продавались квартиры.</a></span></li><li><span><a href=\"#Проверим-какие-факторы-больше-всего-влияют-на-полную-стоимость-объекта.\" data-toc-modified-id=\"Проверим-какие-факторы-больше-всего-влияют-на-полную-стоимость-объекта.-4.3\"><span class=\"toc-item-num\">4.3&nbsp;&nbsp;</span>Проверим какие факторы больше всего влияют на полную стоимость объекта.</a></span><ul class=\"toc-item\"><li><span><a href=\"#Зависимость-цены-от-общей-площади-объекта\" data-toc-modified-id=\"Зависимость-цены-от-общей-площади-объекта-4.3.1\"><span class=\"toc-item-num\">4.3.1&nbsp;&nbsp;</span>Зависимость цены от общей площади объекта</a></span></li><li><span><a href=\"#Зависимость-цены-от-жилой-площади-объекта\" data-toc-modified-id=\"Зависимость-цены-от-жилой-площади-объекта-4.3.2\"><span class=\"toc-item-num\">4.3.2&nbsp;&nbsp;</span>Зависимость цены от жилой площади объекта</a></span></li><li><span><a href=\"#Зависимость-цены-от-площади-кухни-объекта\" data-toc-modified-id=\"Зависимость-цены-от-площади-кухни-объекта-4.3.3\"><span class=\"toc-item-num\">4.3.3&nbsp;&nbsp;</span>Зависимость цены от площади кухни объекта</a></span></li><li><span><a href=\"#Зависимость-цены-от-кол-ва-комнат-объекта\" data-toc-modified-id=\"Зависимость-цены-от-кол-ва-комнат-объекта-4.3.4\"><span class=\"toc-item-num\">4.3.4&nbsp;&nbsp;</span>Зависимость цены от кол-ва комнат объекта</a></span></li><li><span><a href=\"#Зависимость-цены-от-этажа-объекта\" data-toc-modified-id=\"Зависимость-цены-от-этажа-объекта-4.3.5\"><span class=\"toc-item-num\">4.3.5&nbsp;&nbsp;</span>Зависимость цены от этажа объекта</a></span></li><li><span><a href=\"#Зависимость-цены-от-дня-размещения-объявления\" data-toc-modified-id=\"Зависимость-цены-от-дня-размещения-объявления-4.3.6\"><span class=\"toc-item-num\">4.3.6&nbsp;&nbsp;</span>Зависимость цены от дня размещения объявления</a></span></li><li><span><a href=\"#Зависимость-цены-от-месяца-размещения-объявления\" data-toc-modified-id=\"Зависимость-цены-от-месяца-размещения-объявления-4.3.7\"><span class=\"toc-item-num\">4.3.7&nbsp;&nbsp;</span>Зависимость цены от месяца размещения объявления</a></span></li><li><span><a href=\"#Зависимость-цены-от-года-размещения-объявления\" data-toc-modified-id=\"Зависимость-цены-от-года-размещения-объявления-4.3.8\"><span class=\"toc-item-num\">4.3.8&nbsp;&nbsp;</span>Зависимость цены от года размещения объявления</a></span></li></ul></li><li><span><a href=\"#Расчитаем-среднюю-цену-одного-квадратного-метра-в-10-населённых-пунктах-с-наибольшим-числом-объявлений.\" data-toc-modified-id=\"Расчитаем-среднюю-цену-одного-квадратного-метра-в-10-населённых-пунктах-с-наибольшим-числом-объявлений.-4.4\"><span class=\"toc-item-num\">4.4&nbsp;&nbsp;</span>Расчитаем среднюю цену одного квадратного метра в 10 населённых пунктах с наибольшим числом объявлений.</a></span></li><li><span><a href=\"#Рассмотрим-стоимость-объектов-по-удаленности-от-центра-города.\" data-toc-modified-id=\"Рассмотрим-стоимость-объектов-по-удаленности-от-центра-города.-4.5\"><span class=\"toc-item-num\">4.5&nbsp;&nbsp;</span>Рассмотрим стоимость объектов по удаленности от центра города.</a></span></li></ul></li><li><span><a href=\"#Общий-вывод\" data-toc-modified-id=\"Общий-вывод-5\"><span class=\"toc-item-num\">5&nbsp;&nbsp;</span>Общий вывод</a></span></li></ul></div>"
   ]
  },
  {
   "cell_type": "markdown",
   "id": "045dffd2",
   "metadata": {},
   "source": [
    "## Откроем файл с данными и изучим общую информацию. "
   ]
  },
  {
   "cell_type": "code",
   "execution_count": 1,
   "id": "5a6c187e",
   "metadata": {
    "scrolled": false
   },
   "outputs": [],
   "source": [
    "# импорт библиотек\n",
    "import pandas as pd\n",
    "import seaborn as sb\n",
    "import matplotlib.pyplot as plt"
   ]
  },
  {
   "cell_type": "code",
   "execution_count": 2,
   "id": "11fdbcaa",
   "metadata": {
    "scrolled": false
   },
   "outputs": [],
   "source": [
    "# считываем csv-файл\n",
    "data = pd.read_csv('/datasets/real_estate_data.csv', sep='\\t')"
   ]
  },
  {
   "cell_type": "code",
   "execution_count": 3,
   "id": "51a995ea",
   "metadata": {},
   "outputs": [
    {
     "data": {
      "text/html": [
       "<div>\n",
       "<style scoped>\n",
       "    .dataframe tbody tr th:only-of-type {\n",
       "        vertical-align: middle;\n",
       "    }\n",
       "\n",
       "    .dataframe tbody tr th {\n",
       "        vertical-align: top;\n",
       "    }\n",
       "\n",
       "    .dataframe thead th {\n",
       "        text-align: right;\n",
       "    }\n",
       "</style>\n",
       "<table border=\"1\" class=\"dataframe\">\n",
       "  <thead>\n",
       "    <tr style=\"text-align: right;\">\n",
       "      <th></th>\n",
       "      <th>total_images</th>\n",
       "      <th>last_price</th>\n",
       "      <th>total_area</th>\n",
       "      <th>first_day_exposition</th>\n",
       "      <th>rooms</th>\n",
       "      <th>ceiling_height</th>\n",
       "      <th>floors_total</th>\n",
       "      <th>living_area</th>\n",
       "      <th>floor</th>\n",
       "      <th>is_apartment</th>\n",
       "      <th>...</th>\n",
       "      <th>kitchen_area</th>\n",
       "      <th>balcony</th>\n",
       "      <th>locality_name</th>\n",
       "      <th>airports_nearest</th>\n",
       "      <th>cityCenters_nearest</th>\n",
       "      <th>parks_around3000</th>\n",
       "      <th>parks_nearest</th>\n",
       "      <th>ponds_around3000</th>\n",
       "      <th>ponds_nearest</th>\n",
       "      <th>days_exposition</th>\n",
       "    </tr>\n",
       "  </thead>\n",
       "  <tbody>\n",
       "    <tr>\n",
       "      <th>0</th>\n",
       "      <td>20</td>\n",
       "      <td>13000000.0</td>\n",
       "      <td>108.00</td>\n",
       "      <td>2019-03-07T00:00:00</td>\n",
       "      <td>3</td>\n",
       "      <td>2.70</td>\n",
       "      <td>16.0</td>\n",
       "      <td>51.00</td>\n",
       "      <td>8</td>\n",
       "      <td>NaN</td>\n",
       "      <td>...</td>\n",
       "      <td>25.00</td>\n",
       "      <td>NaN</td>\n",
       "      <td>Санкт-Петербург</td>\n",
       "      <td>18863.0</td>\n",
       "      <td>16028.0</td>\n",
       "      <td>1.0</td>\n",
       "      <td>482.0</td>\n",
       "      <td>2.0</td>\n",
       "      <td>755.0</td>\n",
       "      <td>NaN</td>\n",
       "    </tr>\n",
       "    <tr>\n",
       "      <th>1</th>\n",
       "      <td>7</td>\n",
       "      <td>3350000.0</td>\n",
       "      <td>40.40</td>\n",
       "      <td>2018-12-04T00:00:00</td>\n",
       "      <td>1</td>\n",
       "      <td>NaN</td>\n",
       "      <td>11.0</td>\n",
       "      <td>18.60</td>\n",
       "      <td>1</td>\n",
       "      <td>NaN</td>\n",
       "      <td>...</td>\n",
       "      <td>11.00</td>\n",
       "      <td>2.0</td>\n",
       "      <td>посёлок Шушары</td>\n",
       "      <td>12817.0</td>\n",
       "      <td>18603.0</td>\n",
       "      <td>0.0</td>\n",
       "      <td>NaN</td>\n",
       "      <td>0.0</td>\n",
       "      <td>NaN</td>\n",
       "      <td>81.0</td>\n",
       "    </tr>\n",
       "    <tr>\n",
       "      <th>2</th>\n",
       "      <td>10</td>\n",
       "      <td>5196000.0</td>\n",
       "      <td>56.00</td>\n",
       "      <td>2015-08-20T00:00:00</td>\n",
       "      <td>2</td>\n",
       "      <td>NaN</td>\n",
       "      <td>5.0</td>\n",
       "      <td>34.30</td>\n",
       "      <td>4</td>\n",
       "      <td>NaN</td>\n",
       "      <td>...</td>\n",
       "      <td>8.30</td>\n",
       "      <td>0.0</td>\n",
       "      <td>Санкт-Петербург</td>\n",
       "      <td>21741.0</td>\n",
       "      <td>13933.0</td>\n",
       "      <td>1.0</td>\n",
       "      <td>90.0</td>\n",
       "      <td>2.0</td>\n",
       "      <td>574.0</td>\n",
       "      <td>558.0</td>\n",
       "    </tr>\n",
       "    <tr>\n",
       "      <th>3</th>\n",
       "      <td>0</td>\n",
       "      <td>64900000.0</td>\n",
       "      <td>159.00</td>\n",
       "      <td>2015-07-24T00:00:00</td>\n",
       "      <td>3</td>\n",
       "      <td>NaN</td>\n",
       "      <td>14.0</td>\n",
       "      <td>NaN</td>\n",
       "      <td>9</td>\n",
       "      <td>NaN</td>\n",
       "      <td>...</td>\n",
       "      <td>NaN</td>\n",
       "      <td>0.0</td>\n",
       "      <td>Санкт-Петербург</td>\n",
       "      <td>28098.0</td>\n",
       "      <td>6800.0</td>\n",
       "      <td>2.0</td>\n",
       "      <td>84.0</td>\n",
       "      <td>3.0</td>\n",
       "      <td>234.0</td>\n",
       "      <td>424.0</td>\n",
       "    </tr>\n",
       "    <tr>\n",
       "      <th>4</th>\n",
       "      <td>2</td>\n",
       "      <td>10000000.0</td>\n",
       "      <td>100.00</td>\n",
       "      <td>2018-06-19T00:00:00</td>\n",
       "      <td>2</td>\n",
       "      <td>3.03</td>\n",
       "      <td>14.0</td>\n",
       "      <td>32.00</td>\n",
       "      <td>13</td>\n",
       "      <td>NaN</td>\n",
       "      <td>...</td>\n",
       "      <td>41.00</td>\n",
       "      <td>NaN</td>\n",
       "      <td>Санкт-Петербург</td>\n",
       "      <td>31856.0</td>\n",
       "      <td>8098.0</td>\n",
       "      <td>2.0</td>\n",
       "      <td>112.0</td>\n",
       "      <td>1.0</td>\n",
       "      <td>48.0</td>\n",
       "      <td>121.0</td>\n",
       "    </tr>\n",
       "    <tr>\n",
       "      <th>5</th>\n",
       "      <td>10</td>\n",
       "      <td>2890000.0</td>\n",
       "      <td>30.40</td>\n",
       "      <td>2018-09-10T00:00:00</td>\n",
       "      <td>1</td>\n",
       "      <td>NaN</td>\n",
       "      <td>12.0</td>\n",
       "      <td>14.40</td>\n",
       "      <td>5</td>\n",
       "      <td>NaN</td>\n",
       "      <td>...</td>\n",
       "      <td>9.10</td>\n",
       "      <td>NaN</td>\n",
       "      <td>городской посёлок Янино-1</td>\n",
       "      <td>NaN</td>\n",
       "      <td>NaN</td>\n",
       "      <td>NaN</td>\n",
       "      <td>NaN</td>\n",
       "      <td>NaN</td>\n",
       "      <td>NaN</td>\n",
       "      <td>55.0</td>\n",
       "    </tr>\n",
       "    <tr>\n",
       "      <th>6</th>\n",
       "      <td>6</td>\n",
       "      <td>3700000.0</td>\n",
       "      <td>37.30</td>\n",
       "      <td>2017-11-02T00:00:00</td>\n",
       "      <td>1</td>\n",
       "      <td>NaN</td>\n",
       "      <td>26.0</td>\n",
       "      <td>10.60</td>\n",
       "      <td>6</td>\n",
       "      <td>NaN</td>\n",
       "      <td>...</td>\n",
       "      <td>14.40</td>\n",
       "      <td>1.0</td>\n",
       "      <td>посёлок Парголово</td>\n",
       "      <td>52996.0</td>\n",
       "      <td>19143.0</td>\n",
       "      <td>0.0</td>\n",
       "      <td>NaN</td>\n",
       "      <td>0.0</td>\n",
       "      <td>NaN</td>\n",
       "      <td>155.0</td>\n",
       "    </tr>\n",
       "    <tr>\n",
       "      <th>7</th>\n",
       "      <td>5</td>\n",
       "      <td>7915000.0</td>\n",
       "      <td>71.60</td>\n",
       "      <td>2019-04-18T00:00:00</td>\n",
       "      <td>2</td>\n",
       "      <td>NaN</td>\n",
       "      <td>24.0</td>\n",
       "      <td>NaN</td>\n",
       "      <td>22</td>\n",
       "      <td>NaN</td>\n",
       "      <td>...</td>\n",
       "      <td>18.90</td>\n",
       "      <td>2.0</td>\n",
       "      <td>Санкт-Петербург</td>\n",
       "      <td>23982.0</td>\n",
       "      <td>11634.0</td>\n",
       "      <td>0.0</td>\n",
       "      <td>NaN</td>\n",
       "      <td>0.0</td>\n",
       "      <td>NaN</td>\n",
       "      <td>NaN</td>\n",
       "    </tr>\n",
       "    <tr>\n",
       "      <th>8</th>\n",
       "      <td>20</td>\n",
       "      <td>2900000.0</td>\n",
       "      <td>33.16</td>\n",
       "      <td>2018-05-23T00:00:00</td>\n",
       "      <td>1</td>\n",
       "      <td>NaN</td>\n",
       "      <td>27.0</td>\n",
       "      <td>15.43</td>\n",
       "      <td>26</td>\n",
       "      <td>NaN</td>\n",
       "      <td>...</td>\n",
       "      <td>8.81</td>\n",
       "      <td>NaN</td>\n",
       "      <td>посёлок Мурино</td>\n",
       "      <td>NaN</td>\n",
       "      <td>NaN</td>\n",
       "      <td>NaN</td>\n",
       "      <td>NaN</td>\n",
       "      <td>NaN</td>\n",
       "      <td>NaN</td>\n",
       "      <td>189.0</td>\n",
       "    </tr>\n",
       "    <tr>\n",
       "      <th>9</th>\n",
       "      <td>18</td>\n",
       "      <td>5400000.0</td>\n",
       "      <td>61.00</td>\n",
       "      <td>2017-02-26T00:00:00</td>\n",
       "      <td>3</td>\n",
       "      <td>2.50</td>\n",
       "      <td>9.0</td>\n",
       "      <td>43.60</td>\n",
       "      <td>7</td>\n",
       "      <td>NaN</td>\n",
       "      <td>...</td>\n",
       "      <td>6.50</td>\n",
       "      <td>2.0</td>\n",
       "      <td>Санкт-Петербург</td>\n",
       "      <td>50898.0</td>\n",
       "      <td>15008.0</td>\n",
       "      <td>0.0</td>\n",
       "      <td>NaN</td>\n",
       "      <td>0.0</td>\n",
       "      <td>NaN</td>\n",
       "      <td>289.0</td>\n",
       "    </tr>\n",
       "  </tbody>\n",
       "</table>\n",
       "<p>10 rows × 22 columns</p>\n",
       "</div>"
      ],
      "text/plain": [
       "   total_images  last_price  total_area first_day_exposition  rooms  \\\n",
       "0            20  13000000.0      108.00  2019-03-07T00:00:00      3   \n",
       "1             7   3350000.0       40.40  2018-12-04T00:00:00      1   \n",
       "2            10   5196000.0       56.00  2015-08-20T00:00:00      2   \n",
       "3             0  64900000.0      159.00  2015-07-24T00:00:00      3   \n",
       "4             2  10000000.0      100.00  2018-06-19T00:00:00      2   \n",
       "5            10   2890000.0       30.40  2018-09-10T00:00:00      1   \n",
       "6             6   3700000.0       37.30  2017-11-02T00:00:00      1   \n",
       "7             5   7915000.0       71.60  2019-04-18T00:00:00      2   \n",
       "8            20   2900000.0       33.16  2018-05-23T00:00:00      1   \n",
       "9            18   5400000.0       61.00  2017-02-26T00:00:00      3   \n",
       "\n",
       "   ceiling_height  floors_total  living_area  floor is_apartment  ...  \\\n",
       "0            2.70          16.0        51.00      8          NaN  ...   \n",
       "1             NaN          11.0        18.60      1          NaN  ...   \n",
       "2             NaN           5.0        34.30      4          NaN  ...   \n",
       "3             NaN          14.0          NaN      9          NaN  ...   \n",
       "4            3.03          14.0        32.00     13          NaN  ...   \n",
       "5             NaN          12.0        14.40      5          NaN  ...   \n",
       "6             NaN          26.0        10.60      6          NaN  ...   \n",
       "7             NaN          24.0          NaN     22          NaN  ...   \n",
       "8             NaN          27.0        15.43     26          NaN  ...   \n",
       "9            2.50           9.0        43.60      7          NaN  ...   \n",
       "\n",
       "   kitchen_area  balcony              locality_name  airports_nearest  \\\n",
       "0         25.00      NaN            Санкт-Петербург           18863.0   \n",
       "1         11.00      2.0             посёлок Шушары           12817.0   \n",
       "2          8.30      0.0            Санкт-Петербург           21741.0   \n",
       "3           NaN      0.0            Санкт-Петербург           28098.0   \n",
       "4         41.00      NaN            Санкт-Петербург           31856.0   \n",
       "5          9.10      NaN  городской посёлок Янино-1               NaN   \n",
       "6         14.40      1.0          посёлок Парголово           52996.0   \n",
       "7         18.90      2.0            Санкт-Петербург           23982.0   \n",
       "8          8.81      NaN             посёлок Мурино               NaN   \n",
       "9          6.50      2.0            Санкт-Петербург           50898.0   \n",
       "\n",
       "  cityCenters_nearest  parks_around3000  parks_nearest  ponds_around3000  \\\n",
       "0             16028.0               1.0          482.0               2.0   \n",
       "1             18603.0               0.0            NaN               0.0   \n",
       "2             13933.0               1.0           90.0               2.0   \n",
       "3              6800.0               2.0           84.0               3.0   \n",
       "4              8098.0               2.0          112.0               1.0   \n",
       "5                 NaN               NaN            NaN               NaN   \n",
       "6             19143.0               0.0            NaN               0.0   \n",
       "7             11634.0               0.0            NaN               0.0   \n",
       "8                 NaN               NaN            NaN               NaN   \n",
       "9             15008.0               0.0            NaN               0.0   \n",
       "\n",
       "   ponds_nearest  days_exposition  \n",
       "0          755.0              NaN  \n",
       "1            NaN             81.0  \n",
       "2          574.0            558.0  \n",
       "3          234.0            424.0  \n",
       "4           48.0            121.0  \n",
       "5            NaN             55.0  \n",
       "6            NaN            155.0  \n",
       "7            NaN              NaN  \n",
       "8            NaN            189.0  \n",
       "9            NaN            289.0  \n",
       "\n",
       "[10 rows x 22 columns]"
      ]
     },
     "metadata": {},
     "output_type": "display_data"
    }
   ],
   "source": [
    "# вывод первых 10-ти строк\n",
    "display(data.head(10))"
   ]
  },
  {
   "cell_type": "code",
   "execution_count": 4,
   "id": "b93692de",
   "metadata": {},
   "outputs": [
    {
     "name": "stdout",
     "output_type": "stream",
     "text": [
      "<class 'pandas.core.frame.DataFrame'>\n",
      "RangeIndex: 23699 entries, 0 to 23698\n",
      "Data columns (total 22 columns):\n",
      " #   Column                Non-Null Count  Dtype  \n",
      "---  ------                --------------  -----  \n",
      " 0   total_images          23699 non-null  int64  \n",
      " 1   last_price            23699 non-null  float64\n",
      " 2   total_area            23699 non-null  float64\n",
      " 3   first_day_exposition  23699 non-null  object \n",
      " 4   rooms                 23699 non-null  int64  \n",
      " 5   ceiling_height        14504 non-null  float64\n",
      " 6   floors_total          23613 non-null  float64\n",
      " 7   living_area           21796 non-null  float64\n",
      " 8   floor                 23699 non-null  int64  \n",
      " 9   is_apartment          2775 non-null   object \n",
      " 10  studio                23699 non-null  bool   \n",
      " 11  open_plan             23699 non-null  bool   \n",
      " 12  kitchen_area          21421 non-null  float64\n",
      " 13  balcony               12180 non-null  float64\n",
      " 14  locality_name         23650 non-null  object \n",
      " 15  airports_nearest      18157 non-null  float64\n",
      " 16  cityCenters_nearest   18180 non-null  float64\n",
      " 17  parks_around3000      18181 non-null  float64\n",
      " 18  parks_nearest         8079 non-null   float64\n",
      " 19  ponds_around3000      18181 non-null  float64\n",
      " 20  ponds_nearest         9110 non-null   float64\n",
      " 21  days_exposition       20518 non-null  float64\n",
      "dtypes: bool(2), float64(14), int64(3), object(3)\n",
      "memory usage: 3.7+ MB\n"
     ]
    }
   ],
   "source": [
    "# просмотр информации о датафрейме\n",
    "data.info()"
   ]
  },
  {
   "cell_type": "code",
   "execution_count": 5,
   "id": "9915e334",
   "metadata": {},
   "outputs": [
    {
     "data": {
      "image/png": "[encoded data removed]",
      "text/plain": [
       "<Figure size 1080x1440 with 20 Axes>"
      ]
     },
     "metadata": {
      "needs_background": "light"
     },
     "output_type": "display_data"
    }
   ],
   "source": [
    "#общая гистограмма для всех числовых столбцов\n",
    "data.hist(figsize=(15, 20));"
   ]
  },
  {
   "cell_type": "markdown",
   "id": "e36cd3a2",
   "metadata": {},
   "source": [
    "**Вывод:** В полученных данных присутсвуют пропуски и аномалии. Так как датафрейм состоит из двух частей добавленных пользователем и автоматически рассчитанных по картам, можно предположить, что пропуски могли возникнуть по причине ошибок пользователей, сбоев автоматичекой обработки по картам и ошибок при выгрузке данных. Рассмотрим их более детально в следующей части проекта."
   ]
  },
  {
   "cell_type": "markdown",
   "id": "18ec313c",
   "metadata": {},
   "source": [
    "## Предобработка данных"
   ]
  },
  {
   "cell_type": "markdown",
   "id": "339c0441",
   "metadata": {},
   "source": [
    "### Посмотрим на долю пропущенных значений в столбцах"
   ]
  },
  {
   "cell_type": "code",
   "execution_count": 6,
   "id": "9d051db3",
   "metadata": {},
   "outputs": [
    {
     "data": {
      "text/html": [
       "<style  type=\"text/css\" >\n",
       "#T_88d97_row0_col0{\n",
       "            background-color:  #67000d;\n",
       "            color:  #f1f1f1;\n",
       "        }#T_88d97_row1_col0{\n",
       "            background-color:  #cb181d;\n",
       "            color:  #f1f1f1;\n",
       "        }#T_88d97_row2_col0{\n",
       "            background-color:  #da2723;\n",
       "            color:  #f1f1f1;\n",
       "        }#T_88d97_row3_col0{\n",
       "            background-color:  #f6583e;\n",
       "            color:  #000000;\n",
       "        }#T_88d97_row4_col0{\n",
       "            background-color:  #fb7d5d;\n",
       "            color:  #000000;\n",
       "        }#T_88d97_row5_col0,#T_88d97_row6_col0,#T_88d97_row7_col0,#T_88d97_row8_col0{\n",
       "            background-color:  #fcb79c;\n",
       "            color:  #000000;\n",
       "        }#T_88d97_row9_col0{\n",
       "            background-color:  #fed9c9;\n",
       "            color:  #000000;\n",
       "        }#T_88d97_row10_col0{\n",
       "            background-color:  #fee3d7;\n",
       "            color:  #000000;\n",
       "        }#T_88d97_row11_col0{\n",
       "            background-color:  #fee6da;\n",
       "            color:  #000000;\n",
       "        }#T_88d97_row12_col0{\n",
       "            background-color:  #fff4ef;\n",
       "            color:  #000000;\n",
       "        }#T_88d97_row13_col0,#T_88d97_row14_col0,#T_88d97_row15_col0,#T_88d97_row16_col0,#T_88d97_row17_col0,#T_88d97_row18_col0,#T_88d97_row19_col0,#T_88d97_row20_col0,#T_88d97_row21_col0{\n",
       "            background-color:  #fff5f0;\n",
       "            color:  #000000;\n",
       "        }</style><table id=\"T_88d97_\" ><thead>    <tr>        <th class=\"blank level0\" ></th>        <th class=\"col_heading level0 col0\" >0</th>    </tr></thead><tbody>\n",
       "                <tr>\n",
       "                        <th id=\"T_88d97_level0_row0\" class=\"row_heading level0 row0\" >is_apartment</th>\n",
       "                        <td id=\"T_88d97_row0_col0\" class=\"data row0 col0\" >88.300000</td>\n",
       "            </tr>\n",
       "            <tr>\n",
       "                        <th id=\"T_88d97_level0_row1\" class=\"row_heading level0 row1\" >parks_nearest</th>\n",
       "                        <td id=\"T_88d97_row1_col0\" class=\"data row1 col0\" >65.900000</td>\n",
       "            </tr>\n",
       "            <tr>\n",
       "                        <th id=\"T_88d97_level0_row2\" class=\"row_heading level0 row2\" >ponds_nearest</th>\n",
       "                        <td id=\"T_88d97_row2_col0\" class=\"data row2 col0\" >61.600000</td>\n",
       "            </tr>\n",
       "            <tr>\n",
       "                        <th id=\"T_88d97_level0_row3\" class=\"row_heading level0 row3\" >balcony</th>\n",
       "                        <td id=\"T_88d97_row3_col0\" class=\"data row3 col0\" >48.600000</td>\n",
       "            </tr>\n",
       "            <tr>\n",
       "                        <th id=\"T_88d97_level0_row4\" class=\"row_heading level0 row4\" >ceiling_height</th>\n",
       "                        <td id=\"T_88d97_row4_col0\" class=\"data row4 col0\" >38.800000</td>\n",
       "            </tr>\n",
       "            <tr>\n",
       "                        <th id=\"T_88d97_level0_row5\" class=\"row_heading level0 row5\" >airports_nearest</th>\n",
       "                        <td id=\"T_88d97_row5_col0\" class=\"data row5 col0\" >23.400000</td>\n",
       "            </tr>\n",
       "            <tr>\n",
       "                        <th id=\"T_88d97_level0_row6\" class=\"row_heading level0 row6\" >cityCenters_nearest</th>\n",
       "                        <td id=\"T_88d97_row6_col0\" class=\"data row6 col0\" >23.300000</td>\n",
       "            </tr>\n",
       "            <tr>\n",
       "                        <th id=\"T_88d97_level0_row7\" class=\"row_heading level0 row7\" >ponds_around3000</th>\n",
       "                        <td id=\"T_88d97_row7_col0\" class=\"data row7 col0\" >23.300000</td>\n",
       "            </tr>\n",
       "            <tr>\n",
       "                        <th id=\"T_88d97_level0_row8\" class=\"row_heading level0 row8\" >parks_around3000</th>\n",
       "                        <td id=\"T_88d97_row8_col0\" class=\"data row8 col0\" >23.300000</td>\n",
       "            </tr>\n",
       "            <tr>\n",
       "                        <th id=\"T_88d97_level0_row9\" class=\"row_heading level0 row9\" >days_exposition</th>\n",
       "                        <td id=\"T_88d97_row9_col0\" class=\"data row9 col0\" >13.400000</td>\n",
       "            </tr>\n",
       "            <tr>\n",
       "                        <th id=\"T_88d97_level0_row10\" class=\"row_heading level0 row10\" >kitchen_area</th>\n",
       "                        <td id=\"T_88d97_row10_col0\" class=\"data row10 col0\" >9.600000</td>\n",
       "            </tr>\n",
       "            <tr>\n",
       "                        <th id=\"T_88d97_level0_row11\" class=\"row_heading level0 row11\" >living_area</th>\n",
       "                        <td id=\"T_88d97_row11_col0\" class=\"data row11 col0\" >8.000000</td>\n",
       "            </tr>\n",
       "            <tr>\n",
       "                        <th id=\"T_88d97_level0_row12\" class=\"row_heading level0 row12\" >floors_total</th>\n",
       "                        <td id=\"T_88d97_row12_col0\" class=\"data row12 col0\" >0.400000</td>\n",
       "            </tr>\n",
       "            <tr>\n",
       "                        <th id=\"T_88d97_level0_row13\" class=\"row_heading level0 row13\" >locality_name</th>\n",
       "                        <td id=\"T_88d97_row13_col0\" class=\"data row13 col0\" >0.200000</td>\n",
       "            </tr>\n",
       "            <tr>\n",
       "                        <th id=\"T_88d97_level0_row14\" class=\"row_heading level0 row14\" >total_images</th>\n",
       "                        <td id=\"T_88d97_row14_col0\" class=\"data row14 col0\" >0.000000</td>\n",
       "            </tr>\n",
       "            <tr>\n",
       "                        <th id=\"T_88d97_level0_row15\" class=\"row_heading level0 row15\" >last_price</th>\n",
       "                        <td id=\"T_88d97_row15_col0\" class=\"data row15 col0\" >0.000000</td>\n",
       "            </tr>\n",
       "            <tr>\n",
       "                        <th id=\"T_88d97_level0_row16\" class=\"row_heading level0 row16\" >studio</th>\n",
       "                        <td id=\"T_88d97_row16_col0\" class=\"data row16 col0\" >0.000000</td>\n",
       "            </tr>\n",
       "            <tr>\n",
       "                        <th id=\"T_88d97_level0_row17\" class=\"row_heading level0 row17\" >floor</th>\n",
       "                        <td id=\"T_88d97_row17_col0\" class=\"data row17 col0\" >0.000000</td>\n",
       "            </tr>\n",
       "            <tr>\n",
       "                        <th id=\"T_88d97_level0_row18\" class=\"row_heading level0 row18\" >rooms</th>\n",
       "                        <td id=\"T_88d97_row18_col0\" class=\"data row18 col0\" >0.000000</td>\n",
       "            </tr>\n",
       "            <tr>\n",
       "                        <th id=\"T_88d97_level0_row19\" class=\"row_heading level0 row19\" >first_day_exposition</th>\n",
       "                        <td id=\"T_88d97_row19_col0\" class=\"data row19 col0\" >0.000000</td>\n",
       "            </tr>\n",
       "            <tr>\n",
       "                        <th id=\"T_88d97_level0_row20\" class=\"row_heading level0 row20\" >total_area</th>\n",
       "                        <td id=\"T_88d97_row20_col0\" class=\"data row20 col0\" >0.000000</td>\n",
       "            </tr>\n",
       "            <tr>\n",
       "                        <th id=\"T_88d97_level0_row21\" class=\"row_heading level0 row21\" >open_plan</th>\n",
       "                        <td id=\"T_88d97_row21_col0\" class=\"data row21 col0\" >0.000000</td>\n",
       "            </tr>\n",
       "    </tbody></table>"
      ],
      "text/plain": [
       "<pandas.io.formats.style.Styler at 0x7fe4cfade7f0>"
      ]
     },
     "execution_count": 6,
     "metadata": {},
     "output_type": "execute_result"
    }
   ],
   "source": [
    "pd.DataFrame(round(data.isnull().mean().sort_values(ascending= False)*100, 1)).style.background_gradient('Reds')"
   ]
  },
  {
   "cell_type": "markdown",
   "id": "00b8236b",
   "metadata": {},
   "source": [
    "Пропуски в следующих столбцах и заметки по ним:\n",
    "- is_apartment             - самый большой процент пропусков, возможно новый/необязательный/не проставленный параметр\n",
    "- parks_nearest            - расстояние до ближайших парков много где не указано \n",
    "- ponds_nearest            - расстояние до ближайших водоемов тоже много где не указано \n",
    "- balcony                  - не указано колличество балконов\n",
    "- ceiling_height           - не указана высота потолков\n",
    "- airports_nearest         - не указано расстояние до ближайших аэропортов\n",
    "- cityCenters_nearest      - не указано растояние до центра города\n",
    "- ponds_around3000         - не указано колличество водоемов по близости\n",
    "- parks_around3000         - не указано колличество парков по близости\n",
    "- days_exposition          - нет колличества дней объявления\n",
    "- kitchen_area             - не указана площадь кухни\n",
    "- living_area              - не указана жилая площадь\n",
    "- floors_total             - не везде есть общее колличество этажей\n",
    "- locality_name            - не указан населенный пункт\n",
    "\n",
    "В столбцах показывающих близлежащие достопримечательности пропуски можно было бы заполнить по карте, но это слишком долго. Далее для удобства будем просматривать каждый столбец отдельно и подготавливать дынне в них. \n"
   ]
  },
  {
   "cell_type": "markdown",
   "id": "515aa1d8",
   "metadata": {},
   "source": [
    "### Обработаем пропуски и аномалии в столбцах"
   ]
  },
  {
   "cell_type": "code",
   "execution_count": 7,
   "id": "826dfb4c",
   "metadata": {},
   "outputs": [],
   "source": [
    "# Создадим функцию для описания данных в столбце\n",
    "def column_report(column_name,box=True):\n",
    "    print('Nan %',data[column_name].isnull().mean()*100)\n",
    "    print(data[column_name].describe())\n",
    "    if box != False:\n",
    "        pd.DataFrame(data[column_name]).boxplot(vert=False,figsize=(15,5));    "
   ]
  },
  {
   "cell_type": "markdown",
   "id": "57113be1",
   "metadata": {},
   "source": [
    "Первым по колличеству пропусков идет столбец is_apartment, посмотрим на него с помощью созданной функции:"
   ]
  },
  {
   "cell_type": "code",
   "execution_count": 8,
   "id": "a3b21704",
   "metadata": {
    "scrolled": false
   },
   "outputs": [
    {
     "name": "stdout",
     "output_type": "stream",
     "text": [
      "Nan % 88.2906451749019\n",
      "count      2775\n",
      "unique        2\n",
      "top       False\n",
      "freq       2725\n",
      "Name: is_apartment, dtype: object\n"
     ]
    }
   ],
   "source": [
    "column_report('is_apartment',False)"
   ]
  },
  {
   "cell_type": "markdown",
   "id": "ac4e3095",
   "metadata": {},
   "source": [
    "В столбце почти 90% пропусков, много но заполнять на 0 не совсем правильно, поэтому просто изменим тип данных на bool:"
   ]
  },
  {
   "cell_type": "code",
   "execution_count": 9,
   "id": "c1f707c7",
   "metadata": {
    "scrolled": false
   },
   "outputs": [
    {
     "name": "stdout",
     "output_type": "stream",
     "text": [
      "Nan % 0.0\n",
      "count     23699\n",
      "unique        2\n",
      "top        True\n",
      "freq      20974\n",
      "Name: is_apartment, dtype: object\n"
     ]
    }
   ],
   "source": [
    "data['is_apartment'] = data['is_apartment'].astype('bool')\n",
    "column_report('is_apartment',False)"
   ]
  },
  {
   "cell_type": "markdown",
   "id": "ed139e9f",
   "metadata": {},
   "source": [
    "Далее столбец с расстояниями до ближайших парков парков:"
   ]
  },
  {
   "cell_type": "code",
   "execution_count": 10,
   "id": "514e891b",
   "metadata": {},
   "outputs": [
    {
     "name": "stdout",
     "output_type": "stream",
     "text": [
      "Nan % 65.90995400649817\n",
      "count    8079.000000\n",
      "mean      490.804555\n",
      "std       342.317995\n",
      "min         1.000000\n",
      "25%       288.000000\n",
      "50%       455.000000\n",
      "75%       612.000000\n",
      "max      3190.000000\n",
      "Name: parks_nearest, dtype: float64\n"
     ]
    },
    {
     "data": {
      "image/png": "[encoded data removed]",
      "text/plain": [
       "<Figure size 1080x360 with 1 Axes>"
      ]
     },
     "metadata": {
      "needs_background": "light"
     },
     "output_type": "display_data"
    }
   ],
   "source": [
    "# parks_nearest\n",
    "column_report('parks_nearest')"
   ]
  },
  {
   "cell_type": "markdown",
   "id": "a949ff67",
   "metadata": {},
   "source": [
    "Есть пропуски, но они не мешают дальнейшему анализу, оставим как есть. Возможно, если не указано расстояние до парка, то, скорее всего, парк не близко."
   ]
  },
  {
   "cell_type": "markdown",
   "id": "370ce9b8",
   "metadata": {},
   "source": [
    "Далее посмотрим на ближайшие водоемы:"
   ]
  },
  {
   "cell_type": "code",
   "execution_count": 11,
   "id": "9e77ebf3",
   "metadata": {},
   "outputs": [
    {
     "name": "stdout",
     "output_type": "stream",
     "text": [
      "Nan % 61.55955947508333\n",
      "count    9110.000000\n",
      "mean      517.980900\n",
      "std       277.720643\n",
      "min        13.000000\n",
      "25%       294.000000\n",
      "50%       502.000000\n",
      "75%       729.000000\n",
      "max      1344.000000\n",
      "Name: ponds_nearest, dtype: float64\n"
     ]
    },
    {
     "data": {
      "image/png": "[encoded data removed]",
      "text/plain": [
       "<Figure size 1080x360 with 1 Axes>"
      ]
     },
     "metadata": {
      "needs_background": "light"
     },
     "output_type": "display_data"
    }
   ],
   "source": [
    "# ponds_nearest\n",
    "column_report('ponds_nearest')"
   ]
  },
  {
   "cell_type": "markdown",
   "id": "66b3d047",
   "metadata": {},
   "source": [
    "Как и в парках есть пропуски, но они не мешают дальнейшему анализу, оставим как есть. Если не указано расстояние до водоема, то, скорее всего, его и нет."
   ]
  },
  {
   "cell_type": "markdown",
   "id": "3b69990a",
   "metadata": {},
   "source": [
    "Далее посмторим на данные по балконам:"
   ]
  },
  {
   "cell_type": "code",
   "execution_count": 12,
   "id": "a5644776",
   "metadata": {},
   "outputs": [
    {
     "name": "stdout",
     "output_type": "stream",
     "text": [
      "Nan % 48.605426389299126\n",
      "count    12180.000000\n",
      "mean         1.150082\n",
      "std          1.071300\n",
      "min          0.000000\n",
      "25%          0.000000\n",
      "50%          1.000000\n",
      "75%          2.000000\n",
      "max          5.000000\n",
      "Name: balcony, dtype: float64\n"
     ]
    },
    {
     "data": {
      "image/png": "[encoded data removed]",
      "text/plain": [
       "<Figure size 1080x360 with 1 Axes>"
      ]
     },
     "metadata": {
      "needs_background": "light"
     },
     "output_type": "display_data"
    }
   ],
   "source": [
    "# balcony\n",
    "column_report('balcony')"
   ]
  },
  {
   "cell_type": "markdown",
   "id": "a72af40b",
   "metadata": {},
   "source": [
    "Почти 50% пропусков тоже много и тип данных не целый. Балконы либо есть либо нет, поэтому там где они не указаны предположим что они равны 0. А еще половинки балкона также быть не может, поэтому заменим тип на целый:"
   ]
  },
  {
   "cell_type": "code",
   "execution_count": 13,
   "id": "5b0bbe16",
   "metadata": {},
   "outputs": [
    {
     "name": "stdout",
     "output_type": "stream",
     "text": [
      "Nan % 0.0\n",
      "count    23699.000000\n",
      "mean         0.591080\n",
      "std          0.959298\n",
      "min          0.000000\n",
      "25%          0.000000\n",
      "50%          0.000000\n",
      "75%          1.000000\n",
      "max          5.000000\n",
      "Name: balcony, dtype: float64\n"
     ]
    },
    {
     "data": {
      "image/png": "[encoded data removed]",
      "text/plain": [
       "<Figure size 1080x360 with 1 Axes>"
      ]
     },
     "metadata": {
      "needs_background": "light"
     },
     "output_type": "display_data"
    }
   ],
   "source": [
    "data['balcony'] = data['balcony'].fillna(0).astype('int')\n",
    "column_report('balcony')"
   ]
  },
  {
   "cell_type": "markdown",
   "id": "76c69d40",
   "metadata": {},
   "source": [
    "Сложно поверить в существование квартир с более чем 3мя балконами, проверим на всякий случай сколько таких:"
   ]
  },
  {
   "cell_type": "code",
   "execution_count": 14,
   "id": "c367fc49",
   "metadata": {},
   "outputs": [
    {
     "data": {
      "text/plain": [
       "568"
      ]
     },
     "execution_count": 14,
     "metadata": {},
     "output_type": "execute_result"
    }
   ],
   "source": [
    "data.loc[ data['balcony'] >=3,'balcony'].count()"
   ]
  },
  {
   "cell_type": "markdown",
   "id": "95cbb1d8",
   "metadata": {},
   "source": [
    "Не очень много, идем дальше. Посмотрим на высоту потолков:"
   ]
  },
  {
   "cell_type": "code",
   "execution_count": 15,
   "id": "881d2b1d",
   "metadata": {},
   "outputs": [
    {
     "name": "stdout",
     "output_type": "stream",
     "text": [
      "Nan % 38.799105447487236\n",
      "count    14504.000000\n",
      "mean         2.771499\n",
      "std          1.261056\n",
      "min          1.000000\n",
      "25%          2.520000\n",
      "50%          2.650000\n",
      "75%          2.800000\n",
      "max        100.000000\n",
      "Name: ceiling_height, dtype: float64\n"
     ]
    },
    {
     "data": {
      "image/png": "[encoded data removed]",
      "text/plain": [
       "<Figure size 1080x360 with 1 Axes>"
      ]
     },
     "metadata": {
      "needs_background": "light"
     },
     "output_type": "display_data"
    }
   ],
   "source": [
    "# ceiling_height\n",
    "column_report('ceiling_height')"
   ]
  },
  {
   "cell_type": "markdown",
   "id": "20ccfcd6",
   "metadata": {},
   "source": [
    "Почти 40% пропусков. Посмотрим еще на уникальные значения потолков:"
   ]
  },
  {
   "cell_type": "code",
   "execution_count": 16,
   "id": "0f292d38",
   "metadata": {},
   "outputs": [
    {
     "data": {
      "text/plain": [
       "array([  2.7 ,    nan,   3.03,   2.5 ,   2.67,   2.56,   3.05,   2.75,\n",
       "         2.6 ,   2.9 ,   2.8 ,   2.55,   3.  ,   2.65,   3.2 ,   2.61,\n",
       "         3.25,   3.45,   2.77,   2.85,   2.64,   2.57,   4.15,   3.5 ,\n",
       "         3.3 ,   2.71,   4.  ,   2.47,   2.73,   2.84,   3.1 ,   2.34,\n",
       "         3.4 ,   3.06,   2.72,   2.54,   2.51,   2.78,   2.76,  25.  ,\n",
       "         2.58,   3.7 ,   2.52,   5.2 ,   2.87,   2.66,   2.59,   2.  ,\n",
       "         2.45,   3.6 ,   2.92,   3.11,   3.13,   3.8 ,   3.15,   3.55,\n",
       "         3.16,   3.62,   3.12,   2.53,   2.74,   2.96,   2.46,   5.3 ,\n",
       "         5.  ,   2.79,   2.95,   4.06,   2.94,   3.82,   3.54,   3.53,\n",
       "         2.83,   4.7 ,   2.4 ,   3.38,   3.01,   5.6 ,   3.65,   3.9 ,\n",
       "         3.18,   3.35,   2.3 ,   3.57,   2.48,   2.62,   2.82,   3.98,\n",
       "         2.63,   3.83,   3.52,   3.95,   3.75,   2.88,   3.67,   3.87,\n",
       "         3.66,   3.85,   3.86,   4.19,   3.24,   4.8 ,   4.5 ,   4.2 ,\n",
       "         3.36,  32.  ,   3.08,   3.68,   3.07,   3.37,   3.09,   8.  ,\n",
       "         3.26,   3.34,   2.81,   3.44,   2.97,   3.14,   4.37,   2.68,\n",
       "         3.22,   3.27,  27.  ,   4.1 ,   2.93,   3.46,  24.  ,   3.47,\n",
       "         3.33,   3.63,   3.32,  26.  ,   1.2 ,   8.3 ,   2.98,   2.86,\n",
       "         3.17,   4.4 ,   3.28,   3.04,   4.45,   5.5 ,   3.84,   3.23,\n",
       "         3.02,   3.21,   3.43,   3.78,   4.3 ,   3.39,   2.69,   3.31,\n",
       "         4.65,   3.56,   2.2 ,   3.51,   3.93,   3.42,   2.99,   3.49,\n",
       "        14.  ,   4.14,   2.91,   3.88,   1.75,   4.25,   3.29,  20.  ,\n",
       "         2.25,   3.76,   3.69,   6.  ,  22.6 ,   2.89,   3.58,   5.8 ,\n",
       "        27.5 ,   2.49,   4.9 ,   3.48,  10.3 ,   1.  , 100.  ,   3.59])"
      ]
     },
     "execution_count": 16,
     "metadata": {},
     "output_type": "execute_result"
    }
   ],
   "source": [
    "#проверим уникальные значения столбца с высотой потолков\n",
    "data['ceiling_height'].unique()"
   ]
  },
  {
   "cell_type": "markdown",
   "id": "a6e31dc1",
   "metadata": {},
   "source": [
    "Похоже в некоторых данных смещена десятичная часть - для начала исправим этот момент. Так как минимально допустимой нормой считаются потолки 2.4 м, сдвинем запятую у всех значений больше 24: \n"
   ]
  },
  {
   "cell_type": "code",
   "execution_count": 17,
   "id": "751699cb",
   "metadata": {},
   "outputs": [],
   "source": [
    "data.loc[ data['ceiling_height'] >=24,'ceiling_height'] = data['ceiling_height'] / 10"
   ]
  },
  {
   "cell_type": "markdown",
   "id": "c43709b4",
   "metadata": {},
   "source": [
    "А теперь заполним пропуски медианным значением и посмотрим на столбец снова:"
   ]
  },
  {
   "cell_type": "code",
   "execution_count": 18,
   "id": "b002079d",
   "metadata": {},
   "outputs": [
    {
     "name": "stdout",
     "output_type": "stream",
     "text": [
      "Nan % 0.0\n",
      "count    23699.000000\n",
      "mean         2.700338\n",
      "std          0.305658\n",
      "min          1.000000\n",
      "25%          2.600000\n",
      "50%          2.650000\n",
      "75%          2.700000\n",
      "max         22.600000\n",
      "Name: ceiling_height, dtype: float64\n"
     ]
    },
    {
     "data": {
      "image/png": "[encoded data removed]",
      "text/plain": [
       "<Figure size 1080x360 with 1 Axes>"
      ]
     },
     "metadata": {
      "needs_background": "light"
     },
     "output_type": "display_data"
    }
   ],
   "source": [
    "data['ceiling_height'] = data['ceiling_height'].fillna(data['ceiling_height'].median(skipna=True))\n",
    "column_report('ceiling_height')"
   ]
  },
  {
   "cell_type": "markdown",
   "id": "86afb4d9",
   "metadata": {},
   "source": [
    "Остались аномальные значения, например меньше 2.4 м и свыше 6м. Проверим насколько их много:"
   ]
  },
  {
   "cell_type": "code",
   "execution_count": 19,
   "id": "effeee72",
   "metadata": {},
   "outputs": [
    {
     "name": "stdout",
     "output_type": "stream",
     "text": [
      "31\n"
     ]
    }
   ],
   "source": [
    "anomaly_ceiling_height = data.loc[ ((data['ceiling_height']>=6) | (data['ceiling_height']<2.4)),'ceiling_height' ]\n",
    "print(anomaly_ceiling_height.count())"
   ]
  },
  {
   "cell_type": "markdown",
   "id": "3c095bf6",
   "metadata": {},
   "source": [
    "Всего 31 строка с аномалиями, думаю их можно убрать:"
   ]
  },
  {
   "cell_type": "code",
   "execution_count": 20,
   "id": "a5c6e279",
   "metadata": {},
   "outputs": [],
   "source": [
    "data.drop(anomaly_ceiling_height.index, inplace=True)"
   ]
  },
  {
   "cell_type": "markdown",
   "id": "19382bb9",
   "metadata": {},
   "source": [
    "И снова проверим высоты потолков:"
   ]
  },
  {
   "cell_type": "code",
   "execution_count": 21,
   "id": "7b38e8f5",
   "metadata": {},
   "outputs": [
    {
     "name": "stdout",
     "output_type": "stream",
     "text": [
      "Nan % 0.0\n",
      "count    23668.000000\n",
      "mean         2.697236\n",
      "std          0.219534\n",
      "min          2.400000\n",
      "25%          2.600000\n",
      "50%          2.650000\n",
      "75%          2.700000\n",
      "max          5.800000\n",
      "Name: ceiling_height, dtype: float64\n"
     ]
    },
    {
     "data": {
      "image/png": "[encoded data removed]",
      "text/plain": [
       "<Figure size 1080x360 with 1 Axes>"
      ]
     },
     "metadata": {
      "needs_background": "light"
     },
     "output_type": "display_data"
    }
   ],
   "source": [
    "column_report('ceiling_height')"
   ]
  },
  {
   "cell_type": "markdown",
   "id": "02344d55",
   "metadata": {},
   "source": [
    "Стало гораздо правдоподобнее. Посмотри теперь на расстояние к ближайшим аэропортам:"
   ]
  },
  {
   "cell_type": "code",
   "execution_count": 22,
   "id": "d20b7b7d",
   "metadata": {
    "scrolled": false
   },
   "outputs": [
    {
     "name": "stdout",
     "output_type": "stream",
     "text": [
      "Nan % 23.347980395470678\n",
      "count    18142.000000\n",
      "mean     28794.033789\n",
      "std      12633.049788\n",
      "min          0.000000\n",
      "25%      18582.750000\n",
      "50%      26726.000000\n",
      "75%      37276.500000\n",
      "max      84869.000000\n",
      "Name: airports_nearest, dtype: float64\n"
     ]
    },
    {
     "data": {
      "image/png": "[encoded data removed]",
      "text/plain": [
       "<Figure size 1080x360 with 1 Axes>"
      ]
     },
     "metadata": {
      "needs_background": "light"
     },
     "output_type": "display_data"
    }
   ],
   "source": [
    "# airports_nearest\n",
    "column_report('airports_nearest')"
   ]
  },
  {
   "cell_type": "markdown",
   "id": "2bf2c01d",
   "metadata": {},
   "source": [
    "23% пропусков, оставим как есть, возможно аэропорто рядом и нет"
   ]
  },
  {
   "cell_type": "markdown",
   "id": "f1033019",
   "metadata": {},
   "source": [
    "Поссмотрим на расстояние до центра города:"
   ]
  },
  {
   "cell_type": "code",
   "execution_count": 23,
   "id": "e4632e50",
   "metadata": {
    "scrolled": false
   },
   "outputs": [
    {
     "name": "stdout",
     "output_type": "stream",
     "text": [
      "Nan % 23.250802771674834\n",
      "count    18165.000000\n",
      "mean     14191.270906\n",
      "std       8610.075224\n",
      "min        181.000000\n",
      "25%       9238.000000\n",
      "50%      13099.000000\n",
      "75%      16293.000000\n",
      "max      65968.000000\n",
      "Name: cityCenters_nearest, dtype: float64\n"
     ]
    },
    {
     "data": {
      "image/png": "[encoded data removed]",
      "text/plain": [
       "<Figure size 1080x360 with 1 Axes>"
      ]
     },
     "metadata": {
      "needs_background": "light"
     },
     "output_type": "display_data"
    }
   ],
   "source": [
    "# cityCenters_nearest\n",
    "column_report('cityCenters_nearest')"
   ]
  },
  {
   "cell_type": "markdown",
   "id": "e7674724",
   "metadata": {},
   "source": [
    "Почти 23% пропусков, оставим как есть."
   ]
  },
  {
   "cell_type": "markdown",
   "id": "07efe86c",
   "metadata": {},
   "source": [
    "Посмотрим на колличество близлежащих водоемов:"
   ]
  },
  {
   "cell_type": "code",
   "execution_count": 24,
   "id": "58a863f4",
   "metadata": {
    "scrolled": false
   },
   "outputs": [
    {
     "name": "stdout",
     "output_type": "stream",
     "text": [
      "Nan % 23.246577657596756\n",
      "count    18166.000000\n",
      "mean         0.770065\n",
      "std          0.938240\n",
      "min          0.000000\n",
      "25%          0.000000\n",
      "50%          1.000000\n",
      "75%          1.000000\n",
      "max          3.000000\n",
      "Name: ponds_around3000, dtype: float64\n"
     ]
    },
    {
     "data": {
      "image/png": "[encoded data removed]",
      "text/plain": [
       "<Figure size 1080x360 with 1 Axes>"
      ]
     },
     "metadata": {
      "needs_background": "light"
     },
     "output_type": "display_data"
    }
   ],
   "source": [
    "# ponds_around3000\n",
    "column_report('ponds_around3000')"
   ]
  },
  {
   "cell_type": "markdown",
   "id": "b41cca29",
   "metadata": {},
   "source": [
    "Предположим, что если данных не указано то и водоемов тоже нет - заполним пропуски на 0. Также колличество водоемов скорее всего должно быть целым числом, тк половины пруда быть не может - преобразуем тип в целый:"
   ]
  },
  {
   "cell_type": "code",
   "execution_count": 25,
   "id": "afc9dedd",
   "metadata": {},
   "outputs": [
    {
     "name": "stdout",
     "output_type": "stream",
     "text": [
      "Nan % 0.0\n",
      "count    23668.000000\n",
      "mean         0.591051\n",
      "std          0.884002\n",
      "min          0.000000\n",
      "25%          0.000000\n",
      "50%          0.000000\n",
      "75%          1.000000\n",
      "max          3.000000\n",
      "Name: ponds_around3000, dtype: float64\n"
     ]
    },
    {
     "data": {
      "image/png": "[encoded data removed]",
      "text/plain": [
       "<Figure size 1080x360 with 1 Axes>"
      ]
     },
     "metadata": {
      "needs_background": "light"
     },
     "output_type": "display_data"
    }
   ],
   "source": [
    "data['ponds_around3000'] = data['ponds_around3000'].fillna(0).astype('int')\n",
    "column_report('ponds_around3000')"
   ]
  },
  {
   "cell_type": "markdown",
   "id": "ea468f08",
   "metadata": {},
   "source": [
    "Чтож видов на воду продается не так много судя по всему. Посмотрим что с парками:"
   ]
  },
  {
   "cell_type": "code",
   "execution_count": 26,
   "id": "0abfc2c1",
   "metadata": {
    "scrolled": false
   },
   "outputs": [
    {
     "name": "stdout",
     "output_type": "stream",
     "text": [
      "Nan % 23.246577657596756\n",
      "count    18166.000000\n",
      "mean         0.611197\n",
      "std          0.801968\n",
      "min          0.000000\n",
      "25%          0.000000\n",
      "50%          0.000000\n",
      "75%          1.000000\n",
      "max          3.000000\n",
      "Name: parks_around3000, dtype: float64\n"
     ]
    },
    {
     "data": {
      "image/png": "[encoded data removed]",
      "text/plain": [
       "<Figure size 1080x360 with 1 Axes>"
      ]
     },
     "metadata": {
      "needs_background": "light"
     },
     "output_type": "display_data"
    }
   ],
   "source": [
    "# parks_around3000\n",
    "column_report('parks_around3000')"
   ]
  },
  {
   "cell_type": "markdown",
   "id": "89b7d7f7",
   "metadata": {},
   "source": [
    "С парками поступим по аналогии с водоемами:"
   ]
  },
  {
   "cell_type": "code",
   "execution_count": 27,
   "id": "afbb28d2",
   "metadata": {},
   "outputs": [
    {
     "name": "stdout",
     "output_type": "stream",
     "text": [
      "Nan % 0.0\n",
      "count    23668.000000\n",
      "mean         0.469114\n",
      "std          0.748526\n",
      "min          0.000000\n",
      "25%          0.000000\n",
      "50%          0.000000\n",
      "75%          1.000000\n",
      "max          3.000000\n",
      "Name: parks_around3000, dtype: float64\n"
     ]
    },
    {
     "data": {
      "image/png": "[encoded data removed]",
      "text/plain": [
       "<Figure size 1080x360 with 1 Axes>"
      ]
     },
     "metadata": {
      "needs_background": "light"
     },
     "output_type": "display_data"
    }
   ],
   "source": [
    "data['parks_around3000'] = data['parks_around3000'].fillna(0).astype('int')\n",
    "column_report('parks_around3000')"
   ]
  },
  {
   "cell_type": "markdown",
   "id": "954b88dc",
   "metadata": {},
   "source": [
    "Парков вблизи также не много, как и водоемов. Перейдем к колличеству дней активности объявления:"
   ]
  },
  {
   "cell_type": "code",
   "execution_count": 28,
   "id": "87d9e90b",
   "metadata": {
    "scrolled": false
   },
   "outputs": [
    {
     "name": "stdout",
     "output_type": "stream",
     "text": [
      "Nan % 13.423187426060505\n",
      "count    20491.000000\n",
      "mean       180.930506\n",
      "std        219.812175\n",
      "min          1.000000\n",
      "25%         45.000000\n",
      "50%         95.000000\n",
      "75%        232.000000\n",
      "max       1580.000000\n",
      "Name: days_exposition, dtype: float64\n"
     ]
    },
    {
     "data": {
      "image/png": "[encoded data removed]",
      "text/plain": [
       "<Figure size 1080x360 with 1 Axes>"
      ]
     },
     "metadata": {
      "needs_background": "light"
     },
     "output_type": "display_data"
    }
   ],
   "source": [
    "# days_exposition\n",
    "column_report('days_exposition')"
   ]
  },
  {
   "cell_type": "markdown",
   "id": "aca0c639",
   "metadata": {},
   "source": [
    "13% пропусков, скорее всего квартиры в таких объявлениях еще не проданы, поэтому оставим пропуски и преобразуем тип данных в целый для дальнейшего удобства подсчета дней:"
   ]
  },
  {
   "cell_type": "code",
   "execution_count": 29,
   "id": "5875ab02",
   "metadata": {
    "scrolled": true
   },
   "outputs": [],
   "source": [
    "data.loc[data['days_exposition'].notna(),'days_exposition'] = data.loc[\n",
    "    data['days_exposition'].notna(),'days_exposition'].astype(int)"
   ]
  },
  {
   "cell_type": "markdown",
   "id": "7708b14a",
   "metadata": {},
   "source": [
    "Посмотрим на общую площадь помещений:"
   ]
  },
  {
   "cell_type": "code",
   "execution_count": 30,
   "id": "e61e3f12",
   "metadata": {},
   "outputs": [
    {
     "name": "stdout",
     "output_type": "stream",
     "text": [
      "Nan % 0.0\n",
      "count    23668.000000\n",
      "mean        60.357979\n",
      "std         35.660998\n",
      "min         12.000000\n",
      "25%         40.000000\n",
      "50%         52.000000\n",
      "75%         70.000000\n",
      "max        900.000000\n",
      "Name: total_area, dtype: float64\n"
     ]
    },
    {
     "data": {
      "image/png": "[encoded data removed]",
      "text/plain": [
       "<Figure size 1080x360 with 1 Axes>"
      ]
     },
     "metadata": {
      "needs_background": "light"
     },
     "output_type": "display_data"
    }
   ],
   "source": [
    "# total_area\n",
    "column_report('total_area')"
   ]
  },
  {
   "cell_type": "markdown",
   "id": "2d485fff",
   "metadata": {},
   "source": [
    "Среднее и медиана отличаются всего на 8м, конечно площади под 900м смущают но их мало. Проверим ка дела с жилой площадью:"
   ]
  },
  {
   "cell_type": "code",
   "execution_count": 31,
   "id": "ba498172",
   "metadata": {},
   "outputs": [
    {
     "name": "stdout",
     "output_type": "stream",
     "text": [
      "Nan % 8.027716748352205\n",
      "count    21768.000000\n",
      "mean        34.459006\n",
      "std         22.025657\n",
      "min          2.000000\n",
      "25%         18.600000\n",
      "50%         30.000000\n",
      "75%         42.300000\n",
      "max        409.700000\n",
      "Name: living_area, dtype: float64\n"
     ]
    },
    {
     "data": {
      "image/png": "[encoded data removed]",
      "text/plain": [
       "<Figure size 1080x360 with 1 Axes>"
      ]
     },
     "metadata": {
      "needs_background": "light"
     },
     "output_type": "display_data"
    }
   ],
   "source": [
    "# living_area\n",
    "column_report('living_area')"
   ]
  },
  {
   "cell_type": "markdown",
   "id": "ba3490d2",
   "metadata": {},
   "source": [
    "8% пропусков заполним разделив общую площадь на коэффициент отношения среднего общей площади к среднему жилой площади:"
   ]
  },
  {
   "cell_type": "code",
   "execution_count": 32,
   "id": "1efe7ecf",
   "metadata": {
    "scrolled": false
   },
   "outputs": [
    {
     "name": "stdout",
     "output_type": "stream",
     "text": [
      "Nan % 0.0\n",
      "count    23668.000000\n",
      "mean        34.596377\n",
      "std         22.351424\n",
      "min          2.000000\n",
      "25%         19.000000\n",
      "50%         30.000000\n",
      "75%         42.108299\n",
      "max        409.700000\n",
      "Name: living_area, dtype: float64\n"
     ]
    },
    {
     "data": {
      "image/png": "[encoded data removed]",
      "text/plain": [
       "<Figure size 1080x360 with 1 Axes>"
      ]
     },
     "metadata": {
      "needs_background": "light"
     },
     "output_type": "display_data"
    }
   ],
   "source": [
    "data['living_area'] =  data['living_area'].fillna( data['total_area']/ (data['total_area'].mean() /data['living_area'].mean(skipna=True)))\n",
    "column_report('living_area')"
   ]
  },
  {
   "cell_type": "markdown",
   "id": "3a4e35f0",
   "metadata": {},
   "source": [
    "Минимальной жилой площадью на человека считается 18 квадратных метров, указанный минимум в 2 метра напоминает чулан под лестницей. Проверим сколько таких маленьких жилых помещений:"
   ]
  },
  {
   "cell_type": "code",
   "execution_count": 33,
   "id": "6e781f7b",
   "metadata": {},
   "outputs": [
    {
     "name": "stdout",
     "output_type": "stream",
     "text": [
      "4258\n"
     ]
    }
   ],
   "source": [
    "anomaly_living_area = data.loc[(data['living_area']<18),'living_area']\n",
    "print(anomaly_living_area.count())"
   ]
  },
  {
   "cell_type": "markdown",
   "id": "c2308c16",
   "metadata": {},
   "source": [
    "Чтож, видимо чуланы продаются и покупаются. Посмотрим на площади кухонь:"
   ]
  },
  {
   "cell_type": "code",
   "execution_count": 34,
   "id": "e8243e4f",
   "metadata": {},
   "outputs": [
    {
     "name": "stdout",
     "output_type": "stream",
     "text": [
      "Nan % 9.603684299476086\n",
      "count    21395.000000\n",
      "mean        10.572377\n",
      "std          5.907703\n",
      "min          1.300000\n",
      "25%          7.000000\n",
      "50%          9.100000\n",
      "75%         12.000000\n",
      "max        112.000000\n",
      "Name: kitchen_area, dtype: float64\n"
     ]
    },
    {
     "data": {
      "image/png": "[encoded data removed]",
      "text/plain": [
       "<Figure size 1080x360 with 1 Axes>"
      ]
     },
     "metadata": {
      "needs_background": "light"
     },
     "output_type": "display_data"
    }
   ],
   "source": [
    "# kitchen_area\n",
    "column_report('kitchen_area')"
   ]
  },
  {
   "cell_type": "markdown",
   "id": "d24eb921",
   "metadata": {},
   "source": [
    "9% пропусков заполним разделив жилую площадь на коэффициент отношения среднего жилой площади к среднему кухонной площади:"
   ]
  },
  {
   "cell_type": "code",
   "execution_count": 35,
   "id": "9df6d05e",
   "metadata": {
    "scrolled": true
   },
   "outputs": [
    {
     "name": "stdout",
     "output_type": "stream",
     "text": [
      "Nan % 0.0\n",
      "count    23668.000000\n",
      "mean        10.527495\n",
      "std          6.067054\n",
      "min          0.611184\n",
      "25%          7.000000\n",
      "50%          9.000000\n",
      "75%         12.000000\n",
      "max        112.000000\n",
      "Name: kitchen_area, dtype: float64\n"
     ]
    },
    {
     "data": {
      "image/png": "[encoded data removed]",
      "text/plain": [
       "<Figure size 1080x360 with 1 Axes>"
      ]
     },
     "metadata": {
      "needs_background": "light"
     },
     "output_type": "display_data"
    }
   ],
   "source": [
    "data['kitchen_area'] = data['kitchen_area'].fillna(data['living_area']\n",
    "                                                   /(data['living_area'].mean()/data['kitchen_area'].mean(skipna=True)))\n",
    "column_report('kitchen_area')"
   ]
  },
  {
   "cell_type": "markdown",
   "id": "17ff0a21",
   "metadata": {},
   "source": [
    "Кухонь может и не быть поэтому минимум в 0м допустим. Аномально большие кухни скорее всего указаны с учетом столовых, среднее и медиана разнятся всего на пару метров, так что выбросы допустимы. "
   ]
  },
  {
   "cell_type": "markdown",
   "id": "a2848bd3",
   "metadata": {},
   "source": [
    "Проверим общее колличество этажей:"
   ]
  },
  {
   "cell_type": "code",
   "execution_count": 36,
   "id": "861bcfdd",
   "metadata": {},
   "outputs": [
    {
     "name": "stdout",
     "output_type": "stream",
     "text": [
      "Nan % 0.3633598107148893\n",
      "count    23582.000000\n",
      "mean        10.675303\n",
      "std          6.596107\n",
      "min          1.000000\n",
      "25%          5.000000\n",
      "50%          9.000000\n",
      "75%         16.000000\n",
      "max         60.000000\n",
      "Name: floors_total, dtype: float64\n"
     ]
    },
    {
     "data": {
      "image/png": "[encoded data removed]",
      "text/plain": [
       "<Figure size 1080x360 with 1 Axes>"
      ]
     },
     "metadata": {
      "needs_background": "light"
     },
     "output_type": "display_data"
    }
   ],
   "source": [
    "column_report('floors_total')"
   ]
  },
  {
   "cell_type": "markdown",
   "id": "08d42380",
   "metadata": {},
   "source": [
    "Есть немного пропусков, заполним общее колличество этажей этажом продаваемого объекта:"
   ]
  },
  {
   "cell_type": "code",
   "execution_count": 37,
   "id": "3c38584a",
   "metadata": {
    "scrolled": false
   },
   "outputs": [
    {
     "name": "stdout",
     "output_type": "stream",
     "text": [
      "Nan % 0.0\n",
      "count    23668.000000\n",
      "mean        10.672934\n",
      "std          6.594738\n",
      "min          1.000000\n",
      "25%          5.000000\n",
      "50%          9.000000\n",
      "75%         16.000000\n",
      "max         60.000000\n",
      "Name: floors_total, dtype: float64\n"
     ]
    },
    {
     "data": {
      "image/png": "[encoded data removed]",
      "text/plain": [
       "<Figure size 1080x360 with 1 Axes>"
      ]
     },
     "metadata": {
      "needs_background": "light"
     },
     "output_type": "display_data"
    }
   ],
   "source": [
    "data['floors_total'] = data['floors_total'].fillna(data['floor'])\n",
    "column_report('floors_total')"
   ]
  },
  {
   "cell_type": "markdown",
   "id": "054e5c73",
   "metadata": {},
   "source": [
    "Согласно гуглу выше 35 этажа жилых помещений в Санкт-Питербурге нет, так что проверим все что выше и уберем:"
   ]
  },
  {
   "cell_type": "code",
   "execution_count": 38,
   "id": "7ce0af77",
   "metadata": {
    "scrolled": false
   },
   "outputs": [
    {
     "name": "stdout",
     "output_type": "stream",
     "text": [
      "5\n",
      "Nan % 0.0\n",
      "count    23663.000000\n",
      "mean        10.665892\n",
      "std          6.575969\n",
      "min          1.000000\n",
      "25%          5.000000\n",
      "50%          9.000000\n",
      "75%         16.000000\n",
      "max         35.000000\n",
      "Name: floors_total, dtype: float64\n"
     ]
    },
    {
     "data": {
      "image/png": "[encoded data removed]",
      "text/plain": [
       "<Figure size 1080x360 with 1 Axes>"
      ]
     },
     "metadata": {
      "needs_background": "light"
     },
     "output_type": "display_data"
    }
   ],
   "source": [
    "anomaly_floors_total = data.loc[(data['floors_total']>35),'floors_total']\n",
    "print(anomaly_floors_total.count())\n",
    "data.drop(anomaly_floors_total.index, inplace=True)\n",
    "column_report('floors_total')"
   ]
  },
  {
   "cell_type": "markdown",
   "id": "fcfdb3ca",
   "metadata": {},
   "source": [
    "Проверим и преобразуем столбец с названиями населенных пунктов:"
   ]
  },
  {
   "cell_type": "code",
   "execution_count": 39,
   "id": "26ac095b",
   "metadata": {
    "scrolled": false
   },
   "outputs": [
    {
     "name": "stdout",
     "output_type": "stream",
     "text": [
      "Nan % 0.20707433546042342\n",
      "count               23614\n",
      "unique                364\n",
      "top       Санкт-Петербург\n",
      "freq                15704\n",
      "Name: locality_name, dtype: object\n"
     ]
    },
    {
     "data": {
      "text/plain": [
       "49"
      ]
     },
     "execution_count": 39,
     "metadata": {},
     "output_type": "execute_result"
    }
   ],
   "source": [
    "# column_report('locality_name')\n",
    "column_report('locality_name',False)\n",
    "data['locality_name'].isna().sum()"
   ]
  },
  {
   "cell_type": "markdown",
   "id": "4e4c56d3",
   "metadata": {},
   "source": [
    "Всего 49 строк без указания населенного пункта, уберем их:"
   ]
  },
  {
   "cell_type": "code",
   "execution_count": 40,
   "id": "b35b31dd",
   "metadata": {},
   "outputs": [],
   "source": [
    "anomaly_locality_name = data.loc[data['locality_name'].isna()]\n",
    "data.drop(anomaly_locality_name.index, inplace=True)"
   ]
  },
  {
   "cell_type": "markdown",
   "id": "baca78e1",
   "metadata": {},
   "source": [
    "Проверим уникальные названия населенных пунктов:"
   ]
  },
  {
   "cell_type": "code",
   "execution_count": 41,
   "id": "07942ae6",
   "metadata": {
    "scrolled": false
   },
   "outputs": [
    {
     "name": "stdout",
     "output_type": "stream",
     "text": [
      "['Санкт-Петербург' 'посёлок Шушары' 'городской посёлок Янино-1'\n",
      " 'посёлок Парголово' 'посёлок Мурино' 'Ломоносов' 'Сертолово' 'Петергоф'\n",
      " 'Пушкин' 'деревня Кудрово' 'Коммунар' 'Колпино'\n",
      " 'поселок городского типа Красный Бор' 'Гатчина' 'поселок Мурино'\n",
      " 'деревня Фёдоровское' 'Выборг' 'Кронштадт' 'Кировск'\n",
      " 'деревня Новое Девяткино' 'посёлок Металлострой'\n",
      " 'посёлок городского типа Лебяжье' 'посёлок городского типа Сиверский'\n",
      " 'поселок Молодцово' 'поселок городского типа Кузьмоловский'\n",
      " 'садовое товарищество Новая Ропша' 'Павловск' 'деревня Пикколово'\n",
      " 'Всеволожск' 'Волхов' 'Кингисепп' 'Приозерск' 'Сестрорецк'\n",
      " 'деревня Куттузи' 'посёлок Аннино' 'поселок городского типа Ефимовский'\n",
      " 'посёлок Плодовое' 'деревня Заклинье' 'поселок Торковичи'\n",
      " 'поселок Первомайское' 'Красное Село' 'посёлок Понтонный' 'Сясьстрой'\n",
      " 'деревня Старая' 'деревня Лесколово' 'Сланцы' 'село Путилово' 'Ивангород'\n",
      " 'Мурино' 'Шлиссельбург' 'Никольское' 'Зеленогорск' 'Сосновый Бор'\n",
      " 'поселок Новый Свет' 'деревня Оржицы' 'деревня Кальтино' 'Кудрово'\n",
      " 'поселок Романовка' 'посёлок Бугры' 'поселок Бугры'\n",
      " 'поселок городского типа Рощино' 'Кириши' 'Луга' 'Волосово' 'Отрадное'\n",
      " 'село Павлово' 'поселок Оредеж' 'село Копорье'\n",
      " 'посёлок городского типа Красный Бор' 'посёлок Молодёжное' 'Тихвин'\n",
      " 'посёлок Победа' 'деревня Нурма' 'поселок городского типа Синявино'\n",
      " 'Тосно' 'посёлок Новый Свет' 'посёлок городского типа Кузьмоловский'\n",
      " 'посёлок Стрельна' 'Бокситогорск' 'посёлок Александровская'\n",
      " 'деревня Лопухинка' 'Пикалёво' 'поселок Терволово'\n",
      " 'поселок городского типа Советский' 'Подпорожье' 'посёлок Петровское'\n",
      " 'посёлок городского типа Токсово' 'поселок Сельцо'\n",
      " 'посёлок городского типа Вырица' 'деревня Кипень' 'деревня Келози'\n",
      " 'деревня Вартемяги' 'посёлок Тельмана' 'поселок Севастьяново'\n",
      " 'городской поселок Большая Ижора' 'городской посёлок Павлово'\n",
      " 'деревня Агалатово' 'посёлок Новогорелово'\n",
      " 'городской посёлок Лесогорский' 'деревня Лаголово' 'поселок Цвелодубово'\n",
      " 'поселок городского типа Рахья' 'поселок городского типа Вырица'\n",
      " 'деревня Белогорка' 'поселок Заводской' 'городской посёлок Новоселье'\n",
      " 'деревня Большие Колпаны' 'деревня Горбунки' 'деревня Батово'\n",
      " 'деревня Заневка' 'деревня Иссад' 'Приморск'\n",
      " 'городской посёлок Фёдоровское' 'деревня Мистолово' 'Новая Ладога'\n",
      " 'поселок Зимитицы' 'поселок Барышево' 'деревня Разметелево'\n",
      " 'поселок городского типа имени Свердлова' 'деревня Пеники'\n",
      " 'поселок Рябово' 'деревня Пудомяги' 'поселок станции Корнево'\n",
      " 'деревня Низино' 'деревня Бегуницы' 'посёлок Поляны'\n",
      " 'городской посёлок Мга' 'поселок Елизаветино'\n",
      " 'посёлок городского типа Кузнечное' 'деревня Колтуши'\n",
      " 'поселок Запорожское' 'посёлок городского типа Рощино'\n",
      " 'деревня Гостилицы' 'деревня Малое Карлино' 'посёлок Мичуринское'\n",
      " 'посёлок городского типа имени Морозова' 'посёлок Песочный'\n",
      " 'посёлок Сосново' 'деревня Аро' 'поселок Ильичёво'\n",
      " 'посёлок городского типа Тайцы' 'деревня Малое Верево' 'деревня Извара'\n",
      " 'поселок станции Вещево' 'село Паша' 'деревня Калитино'\n",
      " 'посёлок городского типа Ульяновка' 'деревня Чудской Бор'\n",
      " 'поселок городского типа Дубровка' 'деревня Мины' 'поселок Войсковицы'\n",
      " 'посёлок городского типа имени Свердлова' 'деревня Коркино'\n",
      " 'посёлок Ропша' 'поселок городского типа Приладожский' 'посёлок Щеглово'\n",
      " 'посёлок Гаврилово' 'Лодейное Поле' 'деревня Рабитицы'\n",
      " 'поселок городского типа Никольский' 'деревня Кузьмолово'\n",
      " 'деревня Малые Колпаны' 'поселок Тельмана' 'посёлок Петро-Славянка'\n",
      " 'городской посёлок Назия' 'посёлок Репино' 'посёлок Ильичёво'\n",
      " 'поселок Углово' 'поселок Старая Малукса' 'садовое товарищество Рахья'\n",
      " 'поселок Аннино' 'поселок Победа' 'деревня Меньково'\n",
      " 'деревня Старые Бегуницы' 'посёлок Сапёрный' 'поселок Семрино'\n",
      " 'поселок Гаврилово' 'поселок Глажево' 'поселок Кобринское'\n",
      " 'деревня Гарболово' 'деревня Юкки' 'поселок станции Приветнинское'\n",
      " 'деревня Мануйлово' 'деревня Пчева' 'поселок Поляны' 'поселок Цвылёво'\n",
      " 'поселок Мельниково' 'посёлок Пудость' 'посёлок Усть-Луга' 'Светогорск'\n",
      " 'Любань' 'поселок Селезнёво' 'поселок городского типа Рябово'\n",
      " 'Каменногорск' 'деревня Кривко' 'поселок Глебычево' 'деревня Парицы'\n",
      " 'поселок Жилпосёлок' 'посёлок городского типа Мга'\n",
      " 'городской поселок Янино-1' 'посёлок Войскорово' 'село Никольское'\n",
      " 'посёлок Терволово' 'поселок Стеклянный' 'посёлок городского типа Важины'\n",
      " 'посёлок Мыза-Ивановка' 'село Русско-Высоцкое'\n",
      " 'поселок городского типа Лебяжье' 'поселок городского типа Форносово'\n",
      " 'село Старая Ладога' 'поселок Житково' 'городской посёлок Виллози'\n",
      " 'деревня Лампово' 'деревня Шпаньково' 'деревня Лаврики' 'посёлок Сумино'\n",
      " 'посёлок Возрождение' 'деревня Старосиверская' 'посёлок Кикерино'\n",
      " 'поселок Возрождение' 'деревня Старое Хинколово' 'посёлок Пригородный'\n",
      " 'посёлок Торфяное' 'городской посёлок Будогощь' 'поселок Суходолье'\n",
      " 'поселок Красная Долина' 'деревня Хапо-Ое'\n",
      " 'поселок городского типа Дружная Горка' 'поселок Лисий Нос'\n",
      " 'деревня Яльгелево' 'посёлок Стеклянный' 'село Рождествено'\n",
      " 'деревня Старополье' 'посёлок Левашово' 'деревня Сяськелево'\n",
      " 'деревня Камышовка'\n",
      " 'садоводческое некоммерческое товарищество Лесная Поляна'\n",
      " 'деревня Хязельки' 'поселок Жилгородок' 'посёлок городского типа Павлово'\n",
      " 'деревня Ялгино' 'поселок Новый Учхоз' 'городской посёлок Рощино'\n",
      " 'поселок Гончарово' 'поселок Почап' 'посёлок Сапёрное'\n",
      " 'посёлок Платформа 69-й километр' 'поселок Каложицы' 'деревня Фалилеево'\n",
      " 'деревня Пельгора' 'поселок городского типа Лесогорский'\n",
      " 'деревня Торошковичи' 'посёлок Белоостров' 'посёлок Алексеевка'\n",
      " 'поселок Серебрянский' 'поселок Лукаши' 'поселок Петровское'\n",
      " 'деревня Щеглово' 'поселок Мичуринское' 'деревня Тарасово'\n",
      " 'поселок Кингисеппский' 'посёлок при железнодорожной станции Вещево'\n",
      " 'поселок Ушаки' 'деревня Котлы' 'деревня Сижно' 'деревня Торосово'\n",
      " 'посёлок Форт Красная Горка' 'поселок городского типа Токсово'\n",
      " 'деревня Новолисино' 'посёлок станции Громово' 'деревня Глинка'\n",
      " 'посёлок Мельниково' 'поселок городского типа Назия'\n",
      " 'деревня Старая Пустошь' 'поселок Коммунары' 'поселок Починок'\n",
      " 'посёлок городского типа Вознесенье' 'деревня Разбегаево'\n",
      " 'посёлок городского типа Рябово' 'поселок Гладкое'\n",
      " 'посёлок при железнодорожной станции Приветнинское' 'поселок Тёсово-4'\n",
      " 'посёлок Жилгородок' 'деревня Бор' 'посёлок Коробицыно'\n",
      " 'деревня Большая Вруда' 'деревня Курковицы' 'посёлок Лисий Нос'\n",
      " 'городской посёлок Советский' 'посёлок Кобралово' 'деревня Суоранда'\n",
      " 'поселок Кобралово' 'поселок городского типа Кондратьево'\n",
      " 'коттеджный поселок Счастье' 'поселок Любань' 'деревня Реброво'\n",
      " 'деревня Зимитицы' 'деревня Тойворово' 'поселок Семиозерье'\n",
      " 'поселок Лесное' 'поселок Совхозный' 'поселок Усть-Луга'\n",
      " 'посёлок Ленинское' 'посёлок Суйда' 'посёлок городского типа Форносово'\n",
      " 'деревня Нижние Осельки' 'посёлок станции Свирь' 'поселок Перово'\n",
      " 'Высоцк' 'поселок Гарболово' 'село Шум' 'поселок Котельский'\n",
      " 'поселок станции Лужайка' 'деревня Большая Пустомержа'\n",
      " 'поселок Красносельское' 'деревня Вахнова Кара' 'деревня Пижма'\n",
      " 'коттеджный поселок Кивеннапа Север' 'поселок Коробицыно'\n",
      " 'поселок Ромашки' 'посёлок Перово' 'деревня Каськово' 'деревня Куровицы'\n",
      " 'посёлок Плоское' 'поселок Сумино'\n",
      " 'поселок городского типа Большая Ижора' 'поселок Кирпичное'\n",
      " 'деревня Ям-Тесово' 'деревня Раздолье' 'деревня Терпилицы'\n",
      " 'посёлок Шугозеро' 'деревня Ваганово' 'поселок Пушное'\n",
      " 'садовое товарищество Садко' 'посёлок Усть-Ижора' 'деревня Выскатка'\n",
      " 'городской посёлок Свирьстрой' 'поселок Громово' 'деревня Кисельня'\n",
      " 'посёлок Старая Малукса' 'деревня Трубников Бор' 'поселок Калитино'\n",
      " 'посёлок Высокоключевой' 'садовое товарищество Приладожский'\n",
      " 'посёлок Пансионат Зелёный Бор' 'деревня Ненимяки'\n",
      " 'поселок Пансионат Зелёный Бор' 'деревня Снегирёвка' 'деревня Рапполово'\n",
      " 'деревня Пустынка' 'поселок Рабитицы' 'деревня Большой Сабск'\n",
      " 'деревня Русско' 'деревня Лупполово' 'деревня Большое Рейзино'\n",
      " 'деревня Малая Романовка' 'поселок Дружноселье' 'поселок Пчевжа'\n",
      " 'поселок Володарское' 'деревня Нижняя' 'коттеджный посёлок Лесное'\n",
      " 'деревня Тихковицы' 'деревня Борисова Грива' 'посёлок Дзержинского']\n"
     ]
    },
    {
     "data": {
      "text/plain": [
       "Санкт-Петербург         15704\n",
       "посёлок Мурино            522\n",
       "посёлок Шушары            440\n",
       "Всеволожск                397\n",
       "Пушкин                    369\n",
       "                        ...  \n",
       "поселок Усть-Луга           1\n",
       "посёлок Плоское             1\n",
       "поселок Гаврилово           1\n",
       "поселок Севастьяново        1\n",
       "деревня Шпаньково           1\n",
       "Name: locality_name, Length: 364, dtype: int64"
      ]
     },
     "execution_count": 41,
     "metadata": {},
     "output_type": "execute_result"
    }
   ],
   "source": [
    "print(data['locality_name'].unique())\n",
    "data['locality_name'].value_counts()"
   ]
  },
  {
   "cell_type": "markdown",
   "id": "be04e184",
   "metadata": {},
   "source": [
    "Создадим новый столбец с названиями, в котором заменим буквы ё на е и оставим только названия с заглавной буквы, так нам удастся избежать неявных дубликатов:"
   ]
  },
  {
   "cell_type": "code",
   "execution_count": 42,
   "id": "7604f912",
   "metadata": {},
   "outputs": [],
   "source": [
    "#создадим функцию для устранения неявных дубликатов в названиях оставляя только название с заглавной буквы\n",
    "def zaglav(gname):\n",
    "    try:\n",
    "        for i in range(len(gname)):\n",
    "            if gname[i].isupper() == True:\n",
    "                return gname[i:len(gname)]\n",
    "    except:\n",
    "        return 'error'"
   ]
  },
  {
   "cell_type": "code",
   "execution_count": 43,
   "id": "c049b2db",
   "metadata": {},
   "outputs": [
    {
     "data": {
      "text/plain": [
       "Санкт-Петербург            15704\n",
       "Мурино                       590\n",
       "Кудрово                      471\n",
       "Шушары                       440\n",
       "Всеволожск                   397\n",
       "                           ...  \n",
       "Пельгора                       1\n",
       "Платформа 69-й километр        1\n",
       "Жилпоселок                     1\n",
       "Корнево                        1\n",
       "Хапо-Ое                        1\n",
       "Name: ln_zaglav_name, Length: 305, dtype: int64"
      ]
     },
     "execution_count": 43,
     "metadata": {},
     "output_type": "execute_result"
    }
   ],
   "source": [
    "#создадим новый столбец с заглавным названием населенного пункта\n",
    "data['ln_zaglav_name'] = data['locality_name'].str.replace('ё','е').apply(zaglav)\n",
    "\n",
    "# проверим значения нового столбца с названиями\n",
    "data['ln_zaglav_name'].value_counts()"
   ]
  },
  {
   "cell_type": "markdown",
   "id": "224977bf",
   "metadata": {},
   "source": [
    "Уникальных названий было 364, а стало 305 - это на 59 меньше. Посмотрим теперь на новый столбец с названиями:"
   ]
  },
  {
   "cell_type": "code",
   "execution_count": 44,
   "id": "7993ec17",
   "metadata": {},
   "outputs": [
    {
     "data": {
      "text/html": [
       "<div>\n",
       "<style scoped>\n",
       "    .dataframe tbody tr th:only-of-type {\n",
       "        vertical-align: middle;\n",
       "    }\n",
       "\n",
       "    .dataframe tbody tr th {\n",
       "        vertical-align: top;\n",
       "    }\n",
       "\n",
       "    .dataframe thead th {\n",
       "        text-align: right;\n",
       "    }\n",
       "</style>\n",
       "<table border=\"1\" class=\"dataframe\">\n",
       "  <thead>\n",
       "    <tr style=\"text-align: right;\">\n",
       "      <th></th>\n",
       "      <th>total_images</th>\n",
       "      <th>last_price</th>\n",
       "      <th>total_area</th>\n",
       "      <th>first_day_exposition</th>\n",
       "      <th>rooms</th>\n",
       "      <th>ceiling_height</th>\n",
       "      <th>floors_total</th>\n",
       "      <th>living_area</th>\n",
       "      <th>floor</th>\n",
       "      <th>is_apartment</th>\n",
       "      <th>...</th>\n",
       "      <th>balcony</th>\n",
       "      <th>locality_name</th>\n",
       "      <th>airports_nearest</th>\n",
       "      <th>cityCenters_nearest</th>\n",
       "      <th>parks_around3000</th>\n",
       "      <th>parks_nearest</th>\n",
       "      <th>ponds_around3000</th>\n",
       "      <th>ponds_nearest</th>\n",
       "      <th>days_exposition</th>\n",
       "      <th>ln_zaglav_name</th>\n",
       "    </tr>\n",
       "  </thead>\n",
       "  <tbody>\n",
       "    <tr>\n",
       "      <th>0</th>\n",
       "      <td>20</td>\n",
       "      <td>13000000.0</td>\n",
       "      <td>108.0</td>\n",
       "      <td>2019-03-07T00:00:00</td>\n",
       "      <td>3</td>\n",
       "      <td>2.70</td>\n",
       "      <td>16.0</td>\n",
       "      <td>51.000000</td>\n",
       "      <td>8</td>\n",
       "      <td>True</td>\n",
       "      <td>...</td>\n",
       "      <td>0</td>\n",
       "      <td>Санкт-Петербург</td>\n",
       "      <td>18863.0</td>\n",
       "      <td>16028.0</td>\n",
       "      <td>1</td>\n",
       "      <td>482.0</td>\n",
       "      <td>2</td>\n",
       "      <td>755.0</td>\n",
       "      <td>NaN</td>\n",
       "      <td>Санкт-Петербург</td>\n",
       "    </tr>\n",
       "    <tr>\n",
       "      <th>1</th>\n",
       "      <td>7</td>\n",
       "      <td>3350000.0</td>\n",
       "      <td>40.4</td>\n",
       "      <td>2018-12-04T00:00:00</td>\n",
       "      <td>1</td>\n",
       "      <td>2.65</td>\n",
       "      <td>11.0</td>\n",
       "      <td>18.600000</td>\n",
       "      <td>1</td>\n",
       "      <td>True</td>\n",
       "      <td>...</td>\n",
       "      <td>2</td>\n",
       "      <td>посёлок Шушары</td>\n",
       "      <td>12817.0</td>\n",
       "      <td>18603.0</td>\n",
       "      <td>0</td>\n",
       "      <td>NaN</td>\n",
       "      <td>0</td>\n",
       "      <td>NaN</td>\n",
       "      <td>81.0</td>\n",
       "      <td>Шушары</td>\n",
       "    </tr>\n",
       "    <tr>\n",
       "      <th>2</th>\n",
       "      <td>10</td>\n",
       "      <td>5196000.0</td>\n",
       "      <td>56.0</td>\n",
       "      <td>2015-08-20T00:00:00</td>\n",
       "      <td>2</td>\n",
       "      <td>2.65</td>\n",
       "      <td>5.0</td>\n",
       "      <td>34.300000</td>\n",
       "      <td>4</td>\n",
       "      <td>True</td>\n",
       "      <td>...</td>\n",
       "      <td>0</td>\n",
       "      <td>Санкт-Петербург</td>\n",
       "      <td>21741.0</td>\n",
       "      <td>13933.0</td>\n",
       "      <td>1</td>\n",
       "      <td>90.0</td>\n",
       "      <td>2</td>\n",
       "      <td>574.0</td>\n",
       "      <td>558.0</td>\n",
       "      <td>Санкт-Петербург</td>\n",
       "    </tr>\n",
       "    <tr>\n",
       "      <th>3</th>\n",
       "      <td>0</td>\n",
       "      <td>64900000.0</td>\n",
       "      <td>159.0</td>\n",
       "      <td>2015-07-24T00:00:00</td>\n",
       "      <td>3</td>\n",
       "      <td>2.65</td>\n",
       "      <td>14.0</td>\n",
       "      <td>90.774776</td>\n",
       "      <td>9</td>\n",
       "      <td>True</td>\n",
       "      <td>...</td>\n",
       "      <td>0</td>\n",
       "      <td>Санкт-Петербург</td>\n",
       "      <td>28098.0</td>\n",
       "      <td>6800.0</td>\n",
       "      <td>2</td>\n",
       "      <td>84.0</td>\n",
       "      <td>3</td>\n",
       "      <td>234.0</td>\n",
       "      <td>424.0</td>\n",
       "      <td>Санкт-Петербург</td>\n",
       "    </tr>\n",
       "    <tr>\n",
       "      <th>4</th>\n",
       "      <td>2</td>\n",
       "      <td>10000000.0</td>\n",
       "      <td>100.0</td>\n",
       "      <td>2018-06-19T00:00:00</td>\n",
       "      <td>2</td>\n",
       "      <td>3.03</td>\n",
       "      <td>14.0</td>\n",
       "      <td>32.000000</td>\n",
       "      <td>13</td>\n",
       "      <td>True</td>\n",
       "      <td>...</td>\n",
       "      <td>0</td>\n",
       "      <td>Санкт-Петербург</td>\n",
       "      <td>31856.0</td>\n",
       "      <td>8098.0</td>\n",
       "      <td>2</td>\n",
       "      <td>112.0</td>\n",
       "      <td>1</td>\n",
       "      <td>48.0</td>\n",
       "      <td>121.0</td>\n",
       "      <td>Санкт-Петербург</td>\n",
       "    </tr>\n",
       "  </tbody>\n",
       "</table>\n",
       "<p>5 rows × 23 columns</p>\n",
       "</div>"
      ],
      "text/plain": [
       "   total_images  last_price  total_area first_day_exposition  rooms  \\\n",
       "0            20  13000000.0       108.0  2019-03-07T00:00:00      3   \n",
       "1             7   3350000.0        40.4  2018-12-04T00:00:00      1   \n",
       "2            10   5196000.0        56.0  2015-08-20T00:00:00      2   \n",
       "3             0  64900000.0       159.0  2015-07-24T00:00:00      3   \n",
       "4             2  10000000.0       100.0  2018-06-19T00:00:00      2   \n",
       "\n",
       "   ceiling_height  floors_total  living_area  floor  is_apartment  ...  \\\n",
       "0            2.70          16.0    51.000000      8          True  ...   \n",
       "1            2.65          11.0    18.600000      1          True  ...   \n",
       "2            2.65           5.0    34.300000      4          True  ...   \n",
       "3            2.65          14.0    90.774776      9          True  ...   \n",
       "4            3.03          14.0    32.000000     13          True  ...   \n",
       "\n",
       "   balcony    locality_name  airports_nearest  cityCenters_nearest  \\\n",
       "0        0  Санкт-Петербург           18863.0              16028.0   \n",
       "1        2   посёлок Шушары           12817.0              18603.0   \n",
       "2        0  Санкт-Петербург           21741.0              13933.0   \n",
       "3        0  Санкт-Петербург           28098.0               6800.0   \n",
       "4        0  Санкт-Петербург           31856.0               8098.0   \n",
       "\n",
       "  parks_around3000  parks_nearest  ponds_around3000  ponds_nearest  \\\n",
       "0                1          482.0                 2          755.0   \n",
       "1                0            NaN                 0            NaN   \n",
       "2                1           90.0                 2          574.0   \n",
       "3                2           84.0                 3          234.0   \n",
       "4                2          112.0                 1           48.0   \n",
       "\n",
       "   days_exposition   ln_zaglav_name  \n",
       "0              NaN  Санкт-Петербург  \n",
       "1             81.0           Шушары  \n",
       "2            558.0  Санкт-Петербург  \n",
       "3            424.0  Санкт-Петербург  \n",
       "4            121.0  Санкт-Петербург  \n",
       "\n",
       "[5 rows x 23 columns]"
      ]
     },
     "metadata": {},
     "output_type": "display_data"
    }
   ],
   "source": [
    "display(data.head(5))"
   ]
  },
  {
   "cell_type": "markdown",
   "id": "b907934c",
   "metadata": {},
   "source": [
    "Проверим столбец с колличеством прикрепленных к объявлению фотографий:"
   ]
  },
  {
   "cell_type": "code",
   "execution_count": 45,
   "id": "d84ac977",
   "metadata": {},
   "outputs": [
    {
     "name": "stdout",
     "output_type": "stream",
     "text": [
      "Nan % 0.0\n",
      "count    23614.000000\n",
      "mean         9.862454\n",
      "std          5.680921\n",
      "min          0.000000\n",
      "25%          6.000000\n",
      "50%          9.000000\n",
      "75%         14.000000\n",
      "max         50.000000\n",
      "Name: total_images, dtype: float64\n"
     ]
    },
    {
     "data": {
      "image/png": "[encoded data removed]",
      "text/plain": [
       "<Figure size 1080x360 with 1 Axes>"
      ]
     },
     "metadata": {
      "needs_background": "light"
     },
     "output_type": "display_data"
    }
   ],
   "source": [
    "# total_images\n",
    "column_report('total_images')"
   ]
  },
  {
   "cell_type": "markdown",
   "id": "077e3233",
   "metadata": {},
   "source": [
    "Пропусков нет, среднее и медиана почти одинаковы и точ то где-то есть по 50 фоток не страшно. посмотрим на столбец с ценами:"
   ]
  },
  {
   "cell_type": "code",
   "execution_count": 46,
   "id": "62b76432",
   "metadata": {},
   "outputs": [
    {
     "name": "stdout",
     "output_type": "stream",
     "text": [
      "Nan % 0.0\n",
      "count    2.361400e+04\n",
      "mean     6.539625e+06\n",
      "std      1.087915e+07\n",
      "min      1.219000e+04\n",
      "25%      3.405250e+06\n",
      "50%      4.650000e+06\n",
      "75%      6.800000e+06\n",
      "max      7.630000e+08\n",
      "Name: last_price, dtype: float64\n"
     ]
    },
    {
     "data": {
      "image/png": "[encoded data removed]",
      "text/plain": [
       "<Figure size 1080x360 with 1 Axes>"
      ]
     },
     "metadata": {
      "needs_background": "light"
     },
     "output_type": "display_data"
    }
   ],
   "source": [
    "# last_price \n",
    "column_report('last_price') "
   ]
  },
  {
   "cell_type": "markdown",
   "id": "58d5aa7b",
   "metadata": {},
   "source": [
    "Так как цены не маленькие, то выводятся в экспонециальной форме что не очень информативно."
   ]
  },
  {
   "cell_type": "markdown",
   "id": "8966ce02",
   "metadata": {},
   "source": [
    "Посмотрим на данные по студиям и изменим тип на логический, тк либо студия либо нет:"
   ]
  },
  {
   "cell_type": "code",
   "execution_count": 47,
   "id": "95c6f570",
   "metadata": {},
   "outputs": [
    {
     "name": "stdout",
     "output_type": "stream",
     "text": [
      "Nan % 0.0\n",
      "count     23614\n",
      "unique        2\n",
      "top       False\n",
      "freq      23465\n",
      "Name: studio, dtype: object\n"
     ]
    },
    {
     "data": {
      "image/png": "[encoded data removed]",
      "text/plain": [
       "<Figure size 1080x360 with 1 Axes>"
      ]
     },
     "metadata": {
      "needs_background": "light"
     },
     "output_type": "display_data"
    }
   ],
   "source": [
    "# studio\n",
    "column_report('studio')\n",
    "data['studio'] = data['studio'].astype('bool')"
   ]
  },
  {
   "cell_type": "markdown",
   "id": "b634bcee",
   "metadata": {},
   "source": [
    "Проверим данные по этажам:"
   ]
  },
  {
   "cell_type": "code",
   "execution_count": 48,
   "id": "77bc8975",
   "metadata": {},
   "outputs": [
    {
     "name": "stdout",
     "output_type": "stream",
     "text": [
      "Nan % 0.0\n",
      "count    23614.000000\n",
      "mean         5.891209\n",
      "std          4.879271\n",
      "min          1.000000\n",
      "25%          2.000000\n",
      "50%          4.000000\n",
      "75%          8.000000\n",
      "max         33.000000\n",
      "Name: floor, dtype: float64\n"
     ]
    },
    {
     "data": {
      "image/png": "[encoded data removed]",
      "text/plain": [
       "<Figure size 1080x360 with 1 Axes>"
      ]
     },
     "metadata": {
      "needs_background": "light"
     },
     "output_type": "display_data"
    }
   ],
   "source": [
    "# floor\n",
    "column_report('floor')"
   ]
  },
  {
   "cell_type": "markdown",
   "id": "8483e499",
   "metadata": {},
   "source": [
    "Этажи в порядке. Проверим комнаты:"
   ]
  },
  {
   "cell_type": "code",
   "execution_count": 49,
   "id": "ea2ad381",
   "metadata": {},
   "outputs": [
    {
     "name": "stdout",
     "output_type": "stream",
     "text": [
      "Nan % 0.0\n",
      "count    23614.00000\n",
      "mean         2.07034\n",
      "std          1.07894\n",
      "min          0.00000\n",
      "25%          1.00000\n",
      "50%          2.00000\n",
      "75%          3.00000\n",
      "max         19.00000\n",
      "Name: rooms, dtype: float64\n"
     ]
    },
    {
     "data": {
      "image/png": "[encoded data removed]",
      "text/plain": [
       "<Figure size 1080x360 with 1 Axes>"
      ]
     },
     "metadata": {
      "needs_background": "light"
     },
     "output_type": "display_data"
    }
   ],
   "source": [
    "# rooms\n",
    "column_report('rooms')"
   ]
  },
  {
   "cell_type": "markdown",
   "id": "75adec15",
   "metadata": {},
   "source": [
    "Среднее и медиана почти сошлись, так что выбросы в 19 комнат нам не мешают. Далее идет столбец с первым днем объявления, в нем мы преобразуем тип данных для дальнейших подсчетов:"
   ]
  },
  {
   "cell_type": "code",
   "execution_count": 50,
   "id": "490e3990",
   "metadata": {},
   "outputs": [],
   "source": [
    "# first_day_exposition\n",
    "data['first_day_exposition'] = pd.to_datetime(data['first_day_exposition'], format = '%Y-%m-%d')"
   ]
  },
  {
   "cell_type": "markdown",
   "id": "f3acdfa0",
   "metadata": {},
   "source": [
    "Проверим данные о планировке:"
   ]
  },
  {
   "cell_type": "code",
   "execution_count": 51,
   "id": "21b8bca9",
   "metadata": {},
   "outputs": [
    {
     "name": "stdout",
     "output_type": "stream",
     "text": [
      "Nan % 0.0\n",
      "count     23614\n",
      "unique        2\n",
      "top       False\n",
      "freq      23547\n",
      "Name: open_plan, dtype: object\n"
     ]
    },
    {
     "data": {
      "image/png": "[encoded data removed]",
      "text/plain": [
       "<Figure size 1080x360 with 1 Axes>"
      ]
     },
     "metadata": {
      "needs_background": "light"
     },
     "output_type": "display_data"
    }
   ],
   "source": [
    "# open_plan\n",
    "column_report('open_plan')"
   ]
  },
  {
   "cell_type": "markdown",
   "id": "5b0385b2",
   "metadata": {},
   "source": [
    "В данных о планах объектов аномалий нет."
   ]
  },
  {
   "cell_type": "markdown",
   "id": "06bbad7e",
   "metadata": {},
   "source": [
    "**Вывод:** Прошлись по всем столбцам. Обработали пропуски и аномалии где это возможно, устранили неявные дубликаты в названии локаций. Можно переходить к созданию дополнительных столбцов, которые будут необходимы в дальнейшем анализе."
   ]
  },
  {
   "cell_type": "markdown",
   "id": "5b5a043d",
   "metadata": {},
   "source": [
    "## Расчитаем и добавим в таблицу новые столбцы"
   ]
  },
  {
   "cell_type": "markdown",
   "id": "dea297f6",
   "metadata": {},
   "source": [
    "### Столбец с ценой за 1кв метр"
   ]
  },
  {
   "cell_type": "code",
   "execution_count": 52,
   "id": "e6f62ee2",
   "metadata": {},
   "outputs": [],
   "source": [
    "data['cena_za_metr'] = (data['last_price'] / data['total_area']).astype('int')"
   ]
  },
  {
   "cell_type": "markdown",
   "id": "fe973880",
   "metadata": {},
   "source": [
    "### Столбец с днем недели"
   ]
  },
  {
   "cell_type": "code",
   "execution_count": 53,
   "id": "281351f2",
   "metadata": {},
   "outputs": [],
   "source": [
    "data['week_day'] = data['first_day_exposition'].dt.weekday"
   ]
  },
  {
   "cell_type": "markdown",
   "id": "9f63c8cc",
   "metadata": {},
   "source": [
    "### Столбец с месяцем"
   ]
  },
  {
   "cell_type": "code",
   "execution_count": 54,
   "id": "b0076dfb",
   "metadata": {},
   "outputs": [],
   "source": [
    "data['month'] = data['first_day_exposition'].dt.month"
   ]
  },
  {
   "cell_type": "markdown",
   "id": "2135a4ac",
   "metadata": {},
   "source": [
    "### Столбец с годом"
   ]
  },
  {
   "cell_type": "code",
   "execution_count": 55,
   "id": "951f5001",
   "metadata": {},
   "outputs": [],
   "source": [
    "data['year'] = data['first_day_exposition'].dt.year"
   ]
  },
  {
   "cell_type": "markdown",
   "id": "3b0ccb6f",
   "metadata": {},
   "source": [
    "### Столбец с этажностью объекта"
   ]
  },
  {
   "cell_type": "markdown",
   "id": "961f1138",
   "metadata": {},
   "source": [
    "Для определения этажа напишем функцию:"
   ]
  },
  {
   "cell_type": "code",
   "execution_count": 56,
   "id": "ad12b0bb",
   "metadata": {},
   "outputs": [],
   "source": [
    "#функция по этажам\n",
    "def floor_cat(r):\n",
    "    if r['floor'] == 1:\n",
    "        return 'первый'\n",
    "    elif r['floor'] == r['floors_total']:\n",
    "        return 'последний'\n",
    "    elif 1 < r['floor'] < r['floors_total']:\n",
    "        return 'другой'"
   ]
  },
  {
   "cell_type": "markdown",
   "id": "5a6251e6",
   "metadata": {},
   "source": [
    "Создаем столбец этажности с помощью функции и apply: "
   ]
  },
  {
   "cell_type": "code",
   "execution_count": 57,
   "id": "e8b490ba",
   "metadata": {},
   "outputs": [],
   "source": [
    "data['floor_cat'] = data.apply(floor_cat, axis = 1)"
   ]
  },
  {
   "cell_type": "markdown",
   "id": "010a0597",
   "metadata": {},
   "source": [
    "### Столбец с расстоянием до центра города в км"
   ]
  },
  {
   "cell_type": "code",
   "execution_count": 58,
   "id": "5a1ebbf9",
   "metadata": {},
   "outputs": [],
   "source": [
    "data['cC_near_km'] = round(data['cityCenters_nearest'] / 1000)"
   ]
  },
  {
   "cell_type": "markdown",
   "id": "d7e790ce",
   "metadata": {},
   "source": [
    "Посмотрим на новые столбцы:"
   ]
  },
  {
   "cell_type": "code",
   "execution_count": 59,
   "id": "0479c940",
   "metadata": {},
   "outputs": [
    {
     "data": {
      "text/html": [
       "<div>\n",
       "<style scoped>\n",
       "    .dataframe tbody tr th:only-of-type {\n",
       "        vertical-align: middle;\n",
       "    }\n",
       "\n",
       "    .dataframe tbody tr th {\n",
       "        vertical-align: top;\n",
       "    }\n",
       "\n",
       "    .dataframe thead th {\n",
       "        text-align: right;\n",
       "    }\n",
       "</style>\n",
       "<table border=\"1\" class=\"dataframe\">\n",
       "  <thead>\n",
       "    <tr style=\"text-align: right;\">\n",
       "      <th></th>\n",
       "      <th>total_images</th>\n",
       "      <th>last_price</th>\n",
       "      <th>total_area</th>\n",
       "      <th>first_day_exposition</th>\n",
       "      <th>rooms</th>\n",
       "      <th>ceiling_height</th>\n",
       "      <th>floors_total</th>\n",
       "      <th>living_area</th>\n",
       "      <th>floor</th>\n",
       "      <th>is_apartment</th>\n",
       "      <th>...</th>\n",
       "      <th>ponds_around3000</th>\n",
       "      <th>ponds_nearest</th>\n",
       "      <th>days_exposition</th>\n",
       "      <th>ln_zaglav_name</th>\n",
       "      <th>cena_za_metr</th>\n",
       "      <th>week_day</th>\n",
       "      <th>month</th>\n",
       "      <th>year</th>\n",
       "      <th>floor_cat</th>\n",
       "      <th>cC_near_km</th>\n",
       "    </tr>\n",
       "  </thead>\n",
       "  <tbody>\n",
       "    <tr>\n",
       "      <th>0</th>\n",
       "      <td>20</td>\n",
       "      <td>13000000.0</td>\n",
       "      <td>108.0</td>\n",
       "      <td>2019-03-07</td>\n",
       "      <td>3</td>\n",
       "      <td>2.70</td>\n",
       "      <td>16.0</td>\n",
       "      <td>51.000000</td>\n",
       "      <td>8</td>\n",
       "      <td>True</td>\n",
       "      <td>...</td>\n",
       "      <td>2</td>\n",
       "      <td>755.0</td>\n",
       "      <td>NaN</td>\n",
       "      <td>Санкт-Петербург</td>\n",
       "      <td>120370</td>\n",
       "      <td>3</td>\n",
       "      <td>3</td>\n",
       "      <td>2019</td>\n",
       "      <td>другой</td>\n",
       "      <td>16.0</td>\n",
       "    </tr>\n",
       "    <tr>\n",
       "      <th>1</th>\n",
       "      <td>7</td>\n",
       "      <td>3350000.0</td>\n",
       "      <td>40.4</td>\n",
       "      <td>2018-12-04</td>\n",
       "      <td>1</td>\n",
       "      <td>2.65</td>\n",
       "      <td>11.0</td>\n",
       "      <td>18.600000</td>\n",
       "      <td>1</td>\n",
       "      <td>True</td>\n",
       "      <td>...</td>\n",
       "      <td>0</td>\n",
       "      <td>NaN</td>\n",
       "      <td>81.0</td>\n",
       "      <td>Шушары</td>\n",
       "      <td>82920</td>\n",
       "      <td>1</td>\n",
       "      <td>12</td>\n",
       "      <td>2018</td>\n",
       "      <td>первый</td>\n",
       "      <td>19.0</td>\n",
       "    </tr>\n",
       "    <tr>\n",
       "      <th>2</th>\n",
       "      <td>10</td>\n",
       "      <td>5196000.0</td>\n",
       "      <td>56.0</td>\n",
       "      <td>2015-08-20</td>\n",
       "      <td>2</td>\n",
       "      <td>2.65</td>\n",
       "      <td>5.0</td>\n",
       "      <td>34.300000</td>\n",
       "      <td>4</td>\n",
       "      <td>True</td>\n",
       "      <td>...</td>\n",
       "      <td>2</td>\n",
       "      <td>574.0</td>\n",
       "      <td>558.0</td>\n",
       "      <td>Санкт-Петербург</td>\n",
       "      <td>92785</td>\n",
       "      <td>3</td>\n",
       "      <td>8</td>\n",
       "      <td>2015</td>\n",
       "      <td>другой</td>\n",
       "      <td>14.0</td>\n",
       "    </tr>\n",
       "    <tr>\n",
       "      <th>3</th>\n",
       "      <td>0</td>\n",
       "      <td>64900000.0</td>\n",
       "      <td>159.0</td>\n",
       "      <td>2015-07-24</td>\n",
       "      <td>3</td>\n",
       "      <td>2.65</td>\n",
       "      <td>14.0</td>\n",
       "      <td>90.774776</td>\n",
       "      <td>9</td>\n",
       "      <td>True</td>\n",
       "      <td>...</td>\n",
       "      <td>3</td>\n",
       "      <td>234.0</td>\n",
       "      <td>424.0</td>\n",
       "      <td>Санкт-Петербург</td>\n",
       "      <td>408176</td>\n",
       "      <td>4</td>\n",
       "      <td>7</td>\n",
       "      <td>2015</td>\n",
       "      <td>другой</td>\n",
       "      <td>7.0</td>\n",
       "    </tr>\n",
       "    <tr>\n",
       "      <th>4</th>\n",
       "      <td>2</td>\n",
       "      <td>10000000.0</td>\n",
       "      <td>100.0</td>\n",
       "      <td>2018-06-19</td>\n",
       "      <td>2</td>\n",
       "      <td>3.03</td>\n",
       "      <td>14.0</td>\n",
       "      <td>32.000000</td>\n",
       "      <td>13</td>\n",
       "      <td>True</td>\n",
       "      <td>...</td>\n",
       "      <td>1</td>\n",
       "      <td>48.0</td>\n",
       "      <td>121.0</td>\n",
       "      <td>Санкт-Петербург</td>\n",
       "      <td>100000</td>\n",
       "      <td>1</td>\n",
       "      <td>6</td>\n",
       "      <td>2018</td>\n",
       "      <td>другой</td>\n",
       "      <td>8.0</td>\n",
       "    </tr>\n",
       "  </tbody>\n",
       "</table>\n",
       "<p>5 rows × 29 columns</p>\n",
       "</div>"
      ],
      "text/plain": [
       "   total_images  last_price  total_area first_day_exposition  rooms  \\\n",
       "0            20  13000000.0       108.0           2019-03-07      3   \n",
       "1             7   3350000.0        40.4           2018-12-04      1   \n",
       "2            10   5196000.0        56.0           2015-08-20      2   \n",
       "3             0  64900000.0       159.0           2015-07-24      3   \n",
       "4             2  10000000.0       100.0           2018-06-19      2   \n",
       "\n",
       "   ceiling_height  floors_total  living_area  floor  is_apartment  ...  \\\n",
       "0            2.70          16.0    51.000000      8          True  ...   \n",
       "1            2.65          11.0    18.600000      1          True  ...   \n",
       "2            2.65           5.0    34.300000      4          True  ...   \n",
       "3            2.65          14.0    90.774776      9          True  ...   \n",
       "4            3.03          14.0    32.000000     13          True  ...   \n",
       "\n",
       "   ponds_around3000  ponds_nearest  days_exposition   ln_zaglav_name  \\\n",
       "0                 2          755.0              NaN  Санкт-Петербург   \n",
       "1                 0            NaN             81.0           Шушары   \n",
       "2                 2          574.0            558.0  Санкт-Петербург   \n",
       "3                 3          234.0            424.0  Санкт-Петербург   \n",
       "4                 1           48.0            121.0  Санкт-Петербург   \n",
       "\n",
       "  cena_za_metr  week_day  month  year  floor_cat  cC_near_km  \n",
       "0       120370         3      3  2019     другой        16.0  \n",
       "1        82920         1     12  2018     первый        19.0  \n",
       "2        92785         3      8  2015     другой        14.0  \n",
       "3       408176         4      7  2015     другой         7.0  \n",
       "4       100000         1      6  2018     другой         8.0  \n",
       "\n",
       "[5 rows x 29 columns]"
      ]
     },
     "metadata": {},
     "output_type": "display_data"
    }
   ],
   "source": [
    "display(data.head(5))"
   ]
  },
  {
   "cell_type": "markdown",
   "id": "08da8819",
   "metadata": {},
   "source": [
    "**Вывод:** \n",
    "- Создали столбец с ценой объектов за 1квадратный метр. \n",
    "- Создали столбцы с днем, месяцем и годом объявлений. \n",
    "- Создали столбец с типом эатажа каждого объекта.\n",
    "- Создали столбец с расстоянием от объекта до центра города в км."
   ]
  },
  {
   "cell_type": "markdown",
   "id": "717a2ab2",
   "metadata": {},
   "source": [
    "## Проведим исследовательский анализ данных"
   ]
  },
  {
   "cell_type": "markdown",
   "id": "22576ce5",
   "metadata": {},
   "source": [
    "### Изучим  параметры объектов:"
   ]
  },
  {
   "cell_type": "markdown",
   "id": "953a7ca3",
   "metadata": {},
   "source": [
    "#### Общая площадь:"
   ]
  },
  {
   "cell_type": "code",
   "execution_count": 60,
   "id": "bd63aef8",
   "metadata": {},
   "outputs": [
    {
     "data": {
      "text/plain": [
       "count    23614.000000\n",
       "mean        60.338696\n",
       "std         35.671770\n",
       "min         12.000000\n",
       "25%         40.000000\n",
       "50%         52.000000\n",
       "75%         69.787500\n",
       "max        900.000000\n",
       "Name: total_area, dtype: float64"
      ]
     },
     "execution_count": 60,
     "metadata": {},
     "output_type": "execute_result"
    },
    {
     "data": {
      "image/png": "[encoded data removed]",
      "text/plain": [
       "<Figure size 720x504 with 1 Axes>"
      ]
     },
     "metadata": {
      "needs_background": "light"
     },
     "output_type": "display_data"
    }
   ],
   "source": [
    "data.plot(y = 'total_area', kind = 'hist', bins = 100, grid=True, figsize = (10,7), range = (0,500))\n",
    "data['total_area'].describe()"
   ]
  },
  {
   "cell_type": "markdown",
   "id": "fa18ba8f",
   "metadata": {},
   "source": [
    "По гистограмме общей площади данные распределены нормально, присутсвуют выбросы, которые не сильно влияют на данные. \n",
    "Средняя площадь продаваемых объектов 60 квадратных метров, минимальное значение 12 кв м, а максимальное 900 кв м."
   ]
  },
  {
   "cell_type": "markdown",
   "id": "33b41df6",
   "metadata": {},
   "source": [
    "#### Жилая площадь:"
   ]
  },
  {
   "cell_type": "code",
   "execution_count": 61,
   "id": "bd217820",
   "metadata": {},
   "outputs": [
    {
     "data": {
      "text/plain": [
       "count    23614.000000\n",
       "mean        34.585951\n",
       "std         22.357881\n",
       "min          2.000000\n",
       "25%         19.000000\n",
       "50%         30.000000\n",
       "75%         42.100000\n",
       "max        409.700000\n",
       "Name: living_area, dtype: float64"
      ]
     },
     "execution_count": 61,
     "metadata": {},
     "output_type": "execute_result"
    },
    {
     "data": {
      "image/png": "[encoded data removed]",
      "text/plain": [
       "<Figure size 720x504 with 1 Axes>"
      ]
     },
     "metadata": {
      "needs_background": "light"
     },
     "output_type": "display_data"
    }
   ],
   "source": [
    "data.plot(y = 'living_area', kind = 'hist', bins = 100, grid=True, figsize = (10,7), range = (0,250))\n",
    "data['living_area'].describe()"
   ]
  },
  {
   "cell_type": "markdown",
   "id": "5b085c88",
   "metadata": {},
   "source": [
    "По гистограмме жилой площади данные распределены нормально, присутсвует выбросы, которые не сильно влияют на данные.\n",
    "Средняя жилая площадь продаваемых объектов 34 квадратных метра, минимальное значение 2 кв м, а максимальное 409 кв м."
   ]
  },
  {
   "cell_type": "markdown",
   "id": "28311a25",
   "metadata": {},
   "source": [
    "#### Площадь кухни:"
   ]
  },
  {
   "cell_type": "code",
   "execution_count": 62,
   "id": "da338dbf",
   "metadata": {},
   "outputs": [
    {
     "data": {
      "text/plain": [
       "count    23614.000000\n",
       "mean        10.523487\n",
       "std          6.064738\n",
       "min          0.611184\n",
       "25%          7.000000\n",
       "50%          9.000000\n",
       "75%         12.000000\n",
       "max        112.000000\n",
       "Name: kitchen_area, dtype: float64"
      ]
     },
     "execution_count": 62,
     "metadata": {},
     "output_type": "execute_result"
    },
    {
     "data": {
      "image/png": "[encoded data removed]",
      "text/plain": [
       "<Figure size 720x504 with 1 Axes>"
      ]
     },
     "metadata": {
      "needs_background": "light"
     },
     "output_type": "display_data"
    }
   ],
   "source": [
    "data.plot(y = 'kitchen_area', kind = 'hist', bins = 50, grid=True, figsize = (10,7), range = (0,60))\n",
    "data['kitchen_area'].describe()"
   ]
  },
  {
   "cell_type": "markdown",
   "id": "853e2919",
   "metadata": {},
   "source": [
    "По гистограмме площади кухни данные распределены нормально, присутсвует выбросы, которые не сильно влияют на данные.\n",
    "Средняя площадь кухонь у продаваемых объектов 11 квадратных метров, минимальное значение 0 кв м, а максимальное 230 кв м."
   ]
  },
  {
   "cell_type": "markdown",
   "id": "3c553e44",
   "metadata": {},
   "source": [
    "#### Цена объектов:"
   ]
  },
  {
   "cell_type": "code",
   "execution_count": 63,
   "id": "d2239350",
   "metadata": {},
   "outputs": [
    {
     "data": {
      "text/plain": [
       "count    2.361400e+04\n",
       "mean     6.539625e+06\n",
       "std      1.087915e+07\n",
       "min      1.219000e+04\n",
       "25%      3.405250e+06\n",
       "50%      4.650000e+06\n",
       "75%      6.800000e+06\n",
       "max      7.630000e+08\n",
       "Name: last_price, dtype: float64"
      ]
     },
     "execution_count": 63,
     "metadata": {},
     "output_type": "execute_result"
    },
    {
     "data": {
      "image/png": "[encoded data removed]",
      "text/plain": [
       "<Figure size 720x504 with 1 Axes>"
      ]
     },
     "metadata": {
      "needs_background": "light"
     },
     "output_type": "display_data"
    }
   ],
   "source": [
    "data.plot(y = 'last_price', kind = 'hist', bins = 100, grid=True, range = (0,15000000), figsize = (10,7))\n",
    "data['last_price'].describe()"
   ]
  },
  {
   "cell_type": "markdown",
   "id": "93673f68",
   "metadata": {},
   "source": [
    "С данными по цене все нормально, но на графике данные выводятся в экспоненциальной форме."
   ]
  },
  {
   "cell_type": "markdown",
   "id": "345a639a",
   "metadata": {},
   "source": [
    "#### Количество комнат:"
   ]
  },
  {
   "cell_type": "code",
   "execution_count": 64,
   "id": "4bb3394e",
   "metadata": {},
   "outputs": [
    {
     "data": {
      "text/plain": [
       "count    23614.00000\n",
       "mean         2.07034\n",
       "std          1.07894\n",
       "min          0.00000\n",
       "25%          1.00000\n",
       "50%          2.00000\n",
       "75%          3.00000\n",
       "max         19.00000\n",
       "Name: rooms, dtype: float64"
      ]
     },
     "execution_count": 64,
     "metadata": {},
     "output_type": "execute_result"
    },
    {
     "data": {
      "image/png": "[encoded data removed]",
      "text/plain": [
       "<Figure size 720x504 with 1 Axes>"
      ]
     },
     "metadata": {
      "needs_background": "light"
     },
     "output_type": "display_data"
    }
   ],
   "source": [
    "data.plot(y = 'rooms', kind = 'hist', bins = 50, grid=True, figsize = (10,7))\n",
    "data['rooms'].describe()"
   ]
  },
  {
   "cell_type": "markdown",
   "id": "7fb69e08",
   "metadata": {},
   "source": [
    "Судя по данным - двухкомнатные объекты самые популярные."
   ]
  },
  {
   "cell_type": "markdown",
   "id": "80720f53",
   "metadata": {},
   "source": [
    "#### Высота потолков:"
   ]
  },
  {
   "cell_type": "code",
   "execution_count": 65,
   "id": "6eb6c2c7",
   "metadata": {},
   "outputs": [
    {
     "data": {
      "text/plain": [
       "count    23614.000000\n",
       "mean         2.697128\n",
       "std          0.219470\n",
       "min          2.400000\n",
       "25%          2.600000\n",
       "50%          2.650000\n",
       "75%          2.700000\n",
       "max          5.800000\n",
       "Name: ceiling_height, dtype: float64"
      ]
     },
     "execution_count": 65,
     "metadata": {},
     "output_type": "execute_result"
    },
    {
     "data": {
      "image/png": "[encoded data removed]",
      "text/plain": [
       "<Figure size 720x504 with 1 Axes>"
      ]
     },
     "metadata": {
      "needs_background": "light"
     },
     "output_type": "display_data"
    }
   ],
   "source": [
    "data.plot(y = 'ceiling_height', kind = 'hist', bins = 30, range = (2,5), grid=True, figsize = (10,7))\n",
    "data['ceiling_height'].describe()"
   ]
  },
  {
   "cell_type": "markdown",
   "id": "42570386",
   "metadata": {},
   "source": [
    "С данными все в порядке."
   ]
  },
  {
   "cell_type": "markdown",
   "id": "82ef47fb",
   "metadata": {},
   "source": [
    "#### Этажность объектов:"
   ]
  },
  {
   "cell_type": "code",
   "execution_count": 66,
   "id": "4061d28c",
   "metadata": {},
   "outputs": [
    {
     "data": {
      "text/plain": [
       "count    23614.000000\n",
       "mean         5.891209\n",
       "std          4.879271\n",
       "min          1.000000\n",
       "25%          2.000000\n",
       "50%          4.000000\n",
       "75%          8.000000\n",
       "max         33.000000\n",
       "Name: floor, dtype: float64"
      ]
     },
     "execution_count": 66,
     "metadata": {},
     "output_type": "execute_result"
    },
    {
     "data": {
      "image/png": "[encoded data removed]",
      "text/plain": [
       "<Figure size 720x504 with 1 Axes>"
      ]
     },
     "metadata": {
      "needs_background": "light"
     },
     "output_type": "display_data"
    }
   ],
   "source": [
    "data.plot(y = 'floor', kind = 'hist', bins = 20, range = (1,5), grid=True, figsize = (10,7))\n",
    "data['floor'].describe()"
   ]
  },
  {
   "cell_type": "markdown",
   "id": "08943390",
   "metadata": {},
   "source": [
    "Чаще всего продаются объекты на 2м этаже."
   ]
  },
  {
   "cell_type": "markdown",
   "id": "472546c1",
   "metadata": {},
   "source": [
    "#### Тип этажа объектов:"
   ]
  },
  {
   "cell_type": "code",
   "execution_count": 67,
   "id": "90613ab9",
   "metadata": {},
   "outputs": [
    {
     "data": {
      "image/png": "[encoded data removed]",
      "text/plain": [
       "<Figure size 720x504 with 1 Axes>"
      ]
     },
     "metadata": {
      "needs_background": "light"
     },
     "output_type": "display_data"
    }
   ],
   "source": [
    "data['floor_cat'].hist(grid=True, figsize = (10,7));"
   ]
  },
  {
   "cell_type": "markdown",
   "id": "097d5ba0",
   "metadata": {},
   "source": [
    "Первые этажи продаются чуть меньше последних, а все остальные этажи чаще всего."
   ]
  },
  {
   "cell_type": "markdown",
   "id": "b08dabe7",
   "metadata": {},
   "source": [
    "#### Общее количество этажей объектов:"
   ]
  },
  {
   "cell_type": "code",
   "execution_count": 68,
   "id": "724b39d1",
   "metadata": {},
   "outputs": [
    {
     "data": {
      "text/plain": [
       "count    23614.000000\n",
       "mean        10.668205\n",
       "std          6.573572\n",
       "min          1.000000\n",
       "25%          5.000000\n",
       "50%          9.000000\n",
       "75%         16.000000\n",
       "max         35.000000\n",
       "Name: floors_total, dtype: float64"
      ]
     },
     "execution_count": 68,
     "metadata": {},
     "output_type": "execute_result"
    },
    {
     "data": {
      "image/png": "[encoded data removed]",
      "text/plain": [
       "<Figure size 720x504 with 1 Axes>"
      ]
     },
     "metadata": {
      "needs_background": "light"
     },
     "output_type": "display_data"
    }
   ],
   "source": [
    "data.plot(y = 'floors_total', kind = 'hist', bins = 50, range = (1,50), grid=True, figsize = (10,7))\n",
    "data['floors_total'].describe()"
   ]
  },
  {
   "cell_type": "markdown",
   "id": "107435bd",
   "metadata": {},
   "source": [
    "Минимальный этаж в объявлениях 1й, максимальный 35й. В среднем чаще продают 9 и 10е этажи."
   ]
  },
  {
   "cell_type": "markdown",
   "id": "3c0b6e99",
   "metadata": {},
   "source": [
    "#### Расстояние до центра города в метрах:"
   ]
  },
  {
   "cell_type": "code",
   "execution_count": 69,
   "id": "2fb51ad7",
   "metadata": {},
   "outputs": [
    {
     "data": {
      "text/plain": [
       "count    18119.000000\n",
       "mean     14194.944699\n",
       "std       8605.336492\n",
       "min        181.000000\n",
       "25%       9241.000000\n",
       "50%      13105.000000\n",
       "75%      16293.000000\n",
       "max      65968.000000\n",
       "Name: cityCenters_nearest, dtype: float64"
      ]
     },
     "execution_count": 69,
     "metadata": {},
     "output_type": "execute_result"
    },
    {
     "data": {
      "image/png": "[encoded data removed]",
      "text/plain": [
       "<Figure size 720x504 with 1 Axes>"
      ]
     },
     "metadata": {
      "needs_background": "light"
     },
     "output_type": "display_data"
    }
   ],
   "source": [
    "data.plot(y = 'cityCenters_nearest', kind = 'hist', bins = 500, range = (100,50000), grid=True, figsize = (10,7))\n",
    "data['cityCenters_nearest'].describe()"
   ]
  },
  {
   "cell_type": "markdown",
   "id": "24e7d5de",
   "metadata": {},
   "source": [
    "Минимальное растояние до центра грода 181м, максимальное 65968м. Среднее = 14194, а медиана = 13105."
   ]
  },
  {
   "cell_type": "markdown",
   "id": "3bfba6f6",
   "metadata": {},
   "source": [
    "#### Расстояние до ближайшего аэропорта:"
   ]
  },
  {
   "cell_type": "code",
   "execution_count": 70,
   "id": "053cfc09",
   "metadata": {},
   "outputs": [
    {
     "data": {
      "text/plain": [
       "count    18096.00000\n",
       "mean     28803.55924\n",
       "std      12637.11214\n",
       "min          0.00000\n",
       "25%      18574.00000\n",
       "50%      26756.50000\n",
       "75%      37310.00000\n",
       "max      84869.00000\n",
       "Name: airports_nearest, dtype: float64"
      ]
     },
     "execution_count": 70,
     "metadata": {},
     "output_type": "execute_result"
    },
    {
     "data": {
      "image/png": "[encoded data removed]",
      "text/plain": [
       "<Figure size 720x504 with 1 Axes>"
      ]
     },
     "metadata": {
      "needs_background": "light"
     },
     "output_type": "display_data"
    }
   ],
   "source": [
    "data.plot(y = 'airports_nearest', kind = 'hist', bins = 500, range = (0,90000), grid=True, figsize = (10,7))\n",
    "data['airports_nearest'].describe()"
   ]
  },
  {
   "cell_type": "markdown",
   "id": "0b09eedf",
   "metadata": {},
   "source": [
    "Минимальное растояние до аэропорта 0м, максимальное 84869м. Среднее = 28803м и медиана = 26756м."
   ]
  },
  {
   "cell_type": "markdown",
   "id": "e014a8a0",
   "metadata": {},
   "source": [
    "#### Расстояние до ближайшего парка:"
   ]
  },
  {
   "cell_type": "code",
   "execution_count": 71,
   "id": "dc68c113",
   "metadata": {},
   "outputs": [
    {
     "data": {
      "text/plain": [
       "count    8053.000000\n",
       "mean      490.775736\n",
       "std       342.695089\n",
       "min         1.000000\n",
       "25%       287.000000\n",
       "50%       454.000000\n",
       "75%       612.000000\n",
       "max      3190.000000\n",
       "Name: parks_nearest, dtype: float64"
      ]
     },
     "execution_count": 71,
     "metadata": {},
     "output_type": "execute_result"
    },
    {
     "data": {
      "image/png": "[encoded data removed]",
      "text/plain": [
       "<Figure size 720x504 with 1 Axes>"
      ]
     },
     "metadata": {
      "needs_background": "light"
     },
     "output_type": "display_data"
    }
   ],
   "source": [
    "data.plot(y = 'parks_nearest', kind = 'hist', bins = 100, range = (1,3000), grid=True, figsize = (10,7))\n",
    "data['parks_nearest'].describe()"
   ]
  },
  {
   "cell_type": "markdown",
   "id": "be2820d3",
   "metadata": {},
   "source": [
    "Минимальное растояние до парка 1м, максимальное 3190м. Среднее = 490м и медиана = 454м."
   ]
  },
  {
   "cell_type": "markdown",
   "id": "d668c5a4",
   "metadata": {},
   "source": [
    "#### День публикации объявления:"
   ]
  },
  {
   "cell_type": "code",
   "execution_count": 72,
   "id": "dc78e01e",
   "metadata": {},
   "outputs": [
    {
     "data": {
      "image/png": "[encoded data removed]",
      "text/plain": [
       "<Figure size 720x504 with 1 Axes>"
      ]
     },
     "metadata": {
      "needs_background": "light"
     },
     "output_type": "display_data"
    }
   ],
   "source": [
    "data.plot(y = 'week_day', kind = 'hist', bins = 50, range = (0,6), grid=True, figsize = (10,7));"
   ]
  },
  {
   "cell_type": "markdown",
   "id": "ed19b669",
   "metadata": {},
   "source": [
    "Четверг и вторник самые популярные дни публикаций объявлений, а суббота и воскресенье менее популярны - всетаки выходные ;)"
   ]
  },
  {
   "cell_type": "markdown",
   "id": "181076cf",
   "metadata": {},
   "source": [
    "#### Месяц публикации объявления:"
   ]
  },
  {
   "cell_type": "code",
   "execution_count": 73,
   "id": "951b54ff",
   "metadata": {},
   "outputs": [
    {
     "data": {
      "image/png": "[encoded data removed]",
      "text/plain": [
       "<Figure size 720x504 with 1 Axes>"
      ]
     },
     "metadata": {
      "needs_background": "light"
     },
     "output_type": "display_data"
    }
   ],
   "source": [
    "data.plot(y = 'month', kind = 'hist', bins = 50, range = (1,12), grid=True, figsize = (10,7));"
   ]
  },
  {
   "cell_type": "markdown",
   "id": "37b76e4d",
   "metadata": {},
   "source": [
    "В феврале объявлений появляется больше, к весне наблюдается спад активности, затем скачок летом и плавный рост осенью."
   ]
  },
  {
   "cell_type": "markdown",
   "id": "9938c0b5",
   "metadata": {},
   "source": [
    "### Изучим, как быстро продавались квартиры."
   ]
  },
  {
   "cell_type": "markdown",
   "id": "1439a0dc",
   "metadata": {},
   "source": [
    "Построим гистограмму и проверим среднее и медиану по столбцу days_exposition. Этот параметр показывает, сколько дней было размещено каждое объявление."
   ]
  },
  {
   "cell_type": "code",
   "execution_count": 74,
   "id": "ec4947b2",
   "metadata": {},
   "outputs": [
    {
     "data": {
      "text/plain": [
       "count    20439.000000\n",
       "mean       180.817653\n",
       "std        219.876333\n",
       "min          1.000000\n",
       "25%         45.000000\n",
       "50%         95.000000\n",
       "75%        231.000000\n",
       "max       1580.000000\n",
       "Name: days_exposition, dtype: float64"
      ]
     },
     "execution_count": 74,
     "metadata": {},
     "output_type": "execute_result"
    },
    {
     "data": {
      "image/png": "[encoded data removed]",
      "text/plain": [
       "<Figure size 720x504 with 1 Axes>"
      ]
     },
     "metadata": {
      "needs_background": "light"
     },
     "output_type": "display_data"
    }
   ],
   "source": [
    "data.plot(y = 'days_exposition', kind = 'hist', bins = 100, range = (0,500), grid=True, figsize = (10,7))\n",
    "data['days_exposition'].describe()"
   ]
  },
  {
   "cell_type": "markdown",
   "id": "153275fc",
   "metadata": {},
   "source": [
    "В среднем продажа занимает 180 дней, хотя есть и аномально быстрые продажи за 1 день. Необычно долгие продажи заняли почти 5 лет. Медианное значение 95 дней, что меньше среднего. На графике есть пики, скорее всего они соответсвуют автоматическому снятию объявления, которое указано в сервисе объявлений."
   ]
  },
  {
   "cell_type": "markdown",
   "id": "76402938",
   "metadata": {},
   "source": [
    "### Проверим какие факторы больше всего влияют на полную стоимость объекта. "
   ]
  },
  {
   "cell_type": "markdown",
   "id": "b5126efe",
   "metadata": {},
   "source": [
    "Для этого изучим зависимость цены от разных факторов:\n",
    "- Зависимость цены от общей площади объекта\n",
    "- Зависимость цены от жилой площади объекта\n",
    "- Зависимость цены от площади кухни объекта\n",
    "- Зависимость цены от кол-ва комнат объекта\n",
    "- Зависимость цены от этажа объекта\n",
    "- Зависимость цены от дня размещения объявления\n",
    "- Зависимость цены от месяца размещения объявления\n",
    "- Зависимость цены от года размещения объявления"
   ]
  },
  {
   "cell_type": "markdown",
   "id": "5f3a3463",
   "metadata": {},
   "source": [
    "#### Зависимость цены от общей площади объекта"
   ]
  },
  {
   "cell_type": "code",
   "execution_count": 75,
   "id": "537b941c",
   "metadata": {},
   "outputs": [
    {
     "data": {
      "text/html": [
       "<div>\n",
       "<style scoped>\n",
       "    .dataframe tbody tr th:only-of-type {\n",
       "        vertical-align: middle;\n",
       "    }\n",
       "\n",
       "    .dataframe tbody tr th {\n",
       "        vertical-align: top;\n",
       "    }\n",
       "\n",
       "    .dataframe thead th {\n",
       "        text-align: right;\n",
       "    }\n",
       "</style>\n",
       "<table border=\"1\" class=\"dataframe\">\n",
       "  <thead>\n",
       "    <tr style=\"text-align: right;\">\n",
       "      <th></th>\n",
       "      <th>median</th>\n",
       "    </tr>\n",
       "    <tr>\n",
       "      <th>total_area</th>\n",
       "      <th></th>\n",
       "    </tr>\n",
       "  </thead>\n",
       "  <tbody>\n",
       "    <tr>\n",
       "      <th>12.0</th>\n",
       "      <td>2400000.0</td>\n",
       "    </tr>\n",
       "    <tr>\n",
       "      <th>13.0</th>\n",
       "      <td>1850000.0</td>\n",
       "    </tr>\n",
       "    <tr>\n",
       "      <th>13.2</th>\n",
       "      <td>1686000.0</td>\n",
       "    </tr>\n",
       "    <tr>\n",
       "      <th>14.0</th>\n",
       "      <td>1190000.0</td>\n",
       "    </tr>\n",
       "    <tr>\n",
       "      <th>15.0</th>\n",
       "      <td>1725000.0</td>\n",
       "    </tr>\n",
       "    <tr>\n",
       "      <th>15.5</th>\n",
       "      <td>2450000.0</td>\n",
       "    </tr>\n",
       "    <tr>\n",
       "      <th>16.0</th>\n",
       "      <td>2100000.0</td>\n",
       "    </tr>\n",
       "    <tr>\n",
       "      <th>17.0</th>\n",
       "      <td>1700000.0</td>\n",
       "    </tr>\n",
       "    <tr>\n",
       "      <th>17.2</th>\n",
       "      <td>2050000.0</td>\n",
       "    </tr>\n",
       "    <tr>\n",
       "      <th>17.6</th>\n",
       "      <td>3400000.0</td>\n",
       "    </tr>\n",
       "  </tbody>\n",
       "</table>\n",
       "</div>"
      ],
      "text/plain": [
       "               median\n",
       "total_area           \n",
       "12.0        2400000.0\n",
       "13.0        1850000.0\n",
       "13.2        1686000.0\n",
       "14.0        1190000.0\n",
       "15.0        1725000.0\n",
       "15.5        2450000.0\n",
       "16.0        2100000.0\n",
       "17.0        1700000.0\n",
       "17.2        2050000.0\n",
       "17.6        3400000.0"
      ]
     },
     "metadata": {},
     "output_type": "display_data"
    },
    {
     "data": {
      "text/plain": [
       "0.6538706226371375"
      ]
     },
     "execution_count": 75,
     "metadata": {},
     "output_type": "execute_result"
    },
    {
     "data": {
      "image/png": "[encoded data removed]",
      "text/plain": [
       "<Figure size 432x288 with 1 Axes>"
      ]
     },
     "metadata": {
      "needs_background": "light"
     },
     "output_type": "display_data"
    }
   ],
   "source": [
    "tab_tot_area = data.pivot_table(index = 'total_area', values = 'last_price', aggfunc = ['median'])\n",
    "tab_tot_area.columns = ['median']\n",
    "tab_tot_area.plot(y = 'median', style = 'o')\n",
    "tab_tot_area.sort_values('median', ascending = False)\n",
    "display(tab_tot_area.head(10))\n",
    "data['total_area'].corr(data['last_price'])"
   ]
  },
  {
   "cell_type": "markdown",
   "id": "127b2522",
   "metadata": {},
   "source": [
    "Коэффициент корреляции 0.65, а значит зависимость цены от площади объекта есть. Чем больше площадь объекта, тем больше стоимость, что логично и соответсвует действительности."
   ]
  },
  {
   "cell_type": "markdown",
   "id": "6e4271ce",
   "metadata": {},
   "source": [
    "#### Зависимость цены от жилой площади объекта"
   ]
  },
  {
   "cell_type": "code",
   "execution_count": 76,
   "id": "0caf23cc",
   "metadata": {},
   "outputs": [
    {
     "data": {
      "text/html": [
       "<div>\n",
       "<style scoped>\n",
       "    .dataframe tbody tr th:only-of-type {\n",
       "        vertical-align: middle;\n",
       "    }\n",
       "\n",
       "    .dataframe tbody tr th {\n",
       "        vertical-align: top;\n",
       "    }\n",
       "\n",
       "    .dataframe thead th {\n",
       "        text-align: right;\n",
       "    }\n",
       "</style>\n",
       "<table border=\"1\" class=\"dataframe\">\n",
       "  <thead>\n",
       "    <tr style=\"text-align: right;\">\n",
       "      <th></th>\n",
       "      <th>median</th>\n",
       "    </tr>\n",
       "    <tr>\n",
       "      <th>living_area</th>\n",
       "      <th></th>\n",
       "    </tr>\n",
       "  </thead>\n",
       "  <tbody>\n",
       "    <tr>\n",
       "      <th>2.000000</th>\n",
       "      <td>4340000.0</td>\n",
       "    </tr>\n",
       "    <tr>\n",
       "      <th>3.000000</th>\n",
       "      <td>34715000.0</td>\n",
       "    </tr>\n",
       "    <tr>\n",
       "      <th>5.000000</th>\n",
       "      <td>2680000.0</td>\n",
       "    </tr>\n",
       "    <tr>\n",
       "      <th>5.400000</th>\n",
       "      <td>6100000.0</td>\n",
       "    </tr>\n",
       "    <tr>\n",
       "      <th>6.000000</th>\n",
       "      <td>3799000.0</td>\n",
       "    </tr>\n",
       "    <tr>\n",
       "      <th>6.500000</th>\n",
       "      <td>4050000.0</td>\n",
       "    </tr>\n",
       "    <tr>\n",
       "      <th>7.421837</th>\n",
       "      <td>1625000.0</td>\n",
       "    </tr>\n",
       "    <tr>\n",
       "      <th>7.536019</th>\n",
       "      <td>1686000.0</td>\n",
       "    </tr>\n",
       "    <tr>\n",
       "      <th>8.000000</th>\n",
       "      <td>6850000.0</td>\n",
       "    </tr>\n",
       "    <tr>\n",
       "      <th>8.300000</th>\n",
       "      <td>4000000.0</td>\n",
       "    </tr>\n",
       "  </tbody>\n",
       "</table>\n",
       "</div>"
      ],
      "text/plain": [
       "                 median\n",
       "living_area            \n",
       "2.000000      4340000.0\n",
       "3.000000     34715000.0\n",
       "5.000000      2680000.0\n",
       "5.400000      6100000.0\n",
       "6.000000      3799000.0\n",
       "6.500000      4050000.0\n",
       "7.421837      1625000.0\n",
       "7.536019      1686000.0\n",
       "8.000000      6850000.0\n",
       "8.300000      4000000.0"
      ]
     },
     "metadata": {},
     "output_type": "display_data"
    },
    {
     "data": {
      "text/plain": [
       "0.5853444945937482"
      ]
     },
     "execution_count": 76,
     "metadata": {},
     "output_type": "execute_result"
    },
    {
     "data": {
      "image/png": "[encoded data removed]",
      "text/plain": [
       "<Figure size 432x288 with 1 Axes>"
      ]
     },
     "metadata": {
      "needs_background": "light"
     },
     "output_type": "display_data"
    }
   ],
   "source": [
    "tab_liv_area = data.pivot_table(index = 'living_area', values = 'last_price', aggfunc = ['median'])\n",
    "tab_liv_area.columns = ['median']\n",
    "tab_liv_area.plot(y = 'median', style = 'o')\n",
    "tab_liv_area.sort_values('median', ascending = False)\n",
    "display(tab_liv_area.head(10))\n",
    "data['living_area'].corr(data['last_price'])"
   ]
  },
  {
   "cell_type": "markdown",
   "id": "d7d88e50",
   "metadata": {},
   "source": [
    "Коэффициент корреляции 0.58, а значит зависимость цены от жилой площади объекта тоже есть. Чем больше жилая площадь объекта, тем больше стоимость."
   ]
  },
  {
   "cell_type": "markdown",
   "id": "051e1ab3",
   "metadata": {},
   "source": [
    "#### Зависимость цены от площади кухни объекта"
   ]
  },
  {
   "cell_type": "code",
   "execution_count": 77,
   "id": "2be46400",
   "metadata": {},
   "outputs": [
    {
     "data": {
      "text/html": [
       "<div>\n",
       "<style scoped>\n",
       "    .dataframe tbody tr th:only-of-type {\n",
       "        vertical-align: middle;\n",
       "    }\n",
       "\n",
       "    .dataframe tbody tr th {\n",
       "        vertical-align: top;\n",
       "    }\n",
       "\n",
       "    .dataframe thead th {\n",
       "        text-align: right;\n",
       "    }\n",
       "</style>\n",
       "<table border=\"1\" class=\"dataframe\">\n",
       "  <thead>\n",
       "    <tr style=\"text-align: right;\">\n",
       "      <th></th>\n",
       "      <th>median</th>\n",
       "    </tr>\n",
       "    <tr>\n",
       "      <th>kitchen_area</th>\n",
       "      <th></th>\n",
       "    </tr>\n",
       "  </thead>\n",
       "  <tbody>\n",
       "    <tr>\n",
       "      <th>0.611184</th>\n",
       "      <td>2330000.0</td>\n",
       "    </tr>\n",
       "    <tr>\n",
       "      <th>1.300000</th>\n",
       "      <td>4250000.0</td>\n",
       "    </tr>\n",
       "    <tr>\n",
       "      <th>1.527960</th>\n",
       "      <td>2680000.0</td>\n",
       "    </tr>\n",
       "    <tr>\n",
       "      <th>2.000000</th>\n",
       "      <td>2720000.0</td>\n",
       "    </tr>\n",
       "    <tr>\n",
       "      <th>2.268054</th>\n",
       "      <td>1625000.0</td>\n",
       "    </tr>\n",
       "    <tr>\n",
       "      <th>2.300000</th>\n",
       "      <td>2940000.0</td>\n",
       "    </tr>\n",
       "    <tr>\n",
       "      <th>2.302947</th>\n",
       "      <td>1686000.0</td>\n",
       "    </tr>\n",
       "    <tr>\n",
       "      <th>2.400000</th>\n",
       "      <td>2200000.0</td>\n",
       "    </tr>\n",
       "    <tr>\n",
       "      <th>2.616986</th>\n",
       "      <td>1725000.0</td>\n",
       "    </tr>\n",
       "    <tr>\n",
       "      <th>2.750328</th>\n",
       "      <td>3300000.0</td>\n",
       "    </tr>\n",
       "  </tbody>\n",
       "</table>\n",
       "</div>"
      ],
      "text/plain": [
       "                 median\n",
       "kitchen_area           \n",
       "0.611184      2330000.0\n",
       "1.300000      4250000.0\n",
       "1.527960      2680000.0\n",
       "2.000000      2720000.0\n",
       "2.268054      1625000.0\n",
       "2.300000      2940000.0\n",
       "2.302947      1686000.0\n",
       "2.400000      2200000.0\n",
       "2.616986      1725000.0\n",
       "2.750328      3300000.0"
      ]
     },
     "metadata": {},
     "output_type": "display_data"
    },
    {
     "data": {
      "text/plain": [
       "0.517702418762686"
      ]
     },
     "execution_count": 77,
     "metadata": {},
     "output_type": "execute_result"
    },
    {
     "data": {
      "image/png": "[encoded data removed]",
      "text/plain": [
       "<Figure size 432x288 with 1 Axes>"
      ]
     },
     "metadata": {
      "needs_background": "light"
     },
     "output_type": "display_data"
    }
   ],
   "source": [
    "tab_kit_area = data.pivot_table(index = 'kitchen_area', values = 'last_price', aggfunc = ['median'])\n",
    "tab_kit_area.columns = ['median']\n",
    "tab_kit_area.plot(y = 'median', style = 'o')\n",
    "tab_kit_area.sort_values('median', ascending = False)\n",
    "display(tab_kit_area.head(10))\n",
    "data['kitchen_area'].corr(data['last_price'])"
   ]
  },
  {
   "cell_type": "markdown",
   "id": "516c70ea",
   "metadata": {},
   "source": [
    "Коэффициент корреляции 0.44, а значит зависимость цены от площади кухни объекта также есть. Чем больше площадь кухни объекта, тем больше стоимость."
   ]
  },
  {
   "cell_type": "markdown",
   "id": "01ab5e0f",
   "metadata": {},
   "source": [
    "#### Зависимость цены от кол-ва комнат объекта"
   ]
  },
  {
   "cell_type": "code",
   "execution_count": 78,
   "id": "06aa0f27",
   "metadata": {},
   "outputs": [
    {
     "data": {
      "text/html": [
       "<div>\n",
       "<style scoped>\n",
       "    .dataframe tbody tr th:only-of-type {\n",
       "        vertical-align: middle;\n",
       "    }\n",
       "\n",
       "    .dataframe tbody tr th {\n",
       "        vertical-align: top;\n",
       "    }\n",
       "\n",
       "    .dataframe thead th {\n",
       "        text-align: right;\n",
       "    }\n",
       "</style>\n",
       "<table border=\"1\" class=\"dataframe\">\n",
       "  <thead>\n",
       "    <tr style=\"text-align: right;\">\n",
       "      <th></th>\n",
       "      <th>count</th>\n",
       "      <th>median</th>\n",
       "    </tr>\n",
       "    <tr>\n",
       "      <th>rooms</th>\n",
       "      <th></th>\n",
       "      <th></th>\n",
       "    </tr>\n",
       "  </thead>\n",
       "  <tbody>\n",
       "    <tr>\n",
       "      <th>0</th>\n",
       "      <td>197</td>\n",
       "      <td>2700000.0</td>\n",
       "    </tr>\n",
       "    <tr>\n",
       "      <th>1</th>\n",
       "      <td>8023</td>\n",
       "      <td>3600000.0</td>\n",
       "    </tr>\n",
       "    <tr>\n",
       "      <th>2</th>\n",
       "      <td>7910</td>\n",
       "      <td>4770169.0</td>\n",
       "    </tr>\n",
       "    <tr>\n",
       "      <th>3</th>\n",
       "      <td>5789</td>\n",
       "      <td>6200000.0</td>\n",
       "    </tr>\n",
       "    <tr>\n",
       "      <th>4</th>\n",
       "      <td>1174</td>\n",
       "      <td>9000000.0</td>\n",
       "    </tr>\n",
       "    <tr>\n",
       "      <th>5</th>\n",
       "      <td>326</td>\n",
       "      <td>14000000.0</td>\n",
       "    </tr>\n",
       "    <tr>\n",
       "      <th>6</th>\n",
       "      <td>105</td>\n",
       "      <td>19000000.0</td>\n",
       "    </tr>\n",
       "    <tr>\n",
       "      <th>7</th>\n",
       "      <td>59</td>\n",
       "      <td>24900000.0</td>\n",
       "    </tr>\n",
       "    <tr>\n",
       "      <th>8</th>\n",
       "      <td>12</td>\n",
       "      <td>23095000.0</td>\n",
       "    </tr>\n",
       "    <tr>\n",
       "      <th>9</th>\n",
       "      <td>8</td>\n",
       "      <td>23750000.0</td>\n",
       "    </tr>\n",
       "  </tbody>\n",
       "</table>\n",
       "</div>"
      ],
      "text/plain": [
       "       count      median\n",
       "rooms                   \n",
       "0        197   2700000.0\n",
       "1       8023   3600000.0\n",
       "2       7910   4770169.0\n",
       "3       5789   6200000.0\n",
       "4       1174   9000000.0\n",
       "5        326  14000000.0\n",
       "6        105  19000000.0\n",
       "7         59  24900000.0\n",
       "8         12  23095000.0\n",
       "9          8  23750000.0"
      ]
     },
     "metadata": {},
     "output_type": "display_data"
    },
    {
     "data": {
      "text/plain": [
       "0.3635792435592322"
      ]
     },
     "execution_count": 78,
     "metadata": {},
     "output_type": "execute_result"
    },
    {
     "data": {
      "image/png": "[encoded data removed]",
      "text/plain": [
       "<Figure size 432x288 with 1 Axes>"
      ]
     },
     "metadata": {
      "needs_background": "light"
     },
     "output_type": "display_data"
    }
   ],
   "source": [
    "tab_rooms = data.pivot_table(index = 'rooms', values = 'last_price', aggfunc = ['count', 'median'])\n",
    "tab_rooms.columns = ['count', 'median']\n",
    "tab_rooms.query('count > 50').plot(y = 'median')\n",
    "tab_rooms.query('count > 50').sort_values('median', ascending = False)\n",
    "display(tab_rooms.head(10))\n",
    "data['rooms'].corr(data['last_price'])"
   ]
  },
  {
   "cell_type": "markdown",
   "id": "5806694e",
   "metadata": {},
   "source": [
    "Коэффициент корреляции 0.36, а значит небольшая зависимость цены от количества комнат объекта все же есть. Чем больше комнат, тем немного больше стоимость."
   ]
  },
  {
   "cell_type": "markdown",
   "id": "245e9f5a",
   "metadata": {},
   "source": [
    "#### Зависимость цены от этажа объекта"
   ]
  },
  {
   "cell_type": "code",
   "execution_count": 79,
   "id": "a82bd6dc",
   "metadata": {
    "scrolled": false
   },
   "outputs": [
    {
     "data": {
      "text/html": [
       "<div>\n",
       "<style scoped>\n",
       "    .dataframe tbody tr th:only-of-type {\n",
       "        vertical-align: middle;\n",
       "    }\n",
       "\n",
       "    .dataframe tbody tr th {\n",
       "        vertical-align: top;\n",
       "    }\n",
       "\n",
       "    .dataframe thead th {\n",
       "        text-align: right;\n",
       "    }\n",
       "</style>\n",
       "<table border=\"1\" class=\"dataframe\">\n",
       "  <thead>\n",
       "    <tr style=\"text-align: right;\">\n",
       "      <th></th>\n",
       "      <th>median</th>\n",
       "    </tr>\n",
       "    <tr>\n",
       "      <th>floor_cat</th>\n",
       "      <th></th>\n",
       "    </tr>\n",
       "  </thead>\n",
       "  <tbody>\n",
       "    <tr>\n",
       "      <th>другой</th>\n",
       "      <td>4850000.0</td>\n",
       "    </tr>\n",
       "    <tr>\n",
       "      <th>первый</th>\n",
       "      <td>3900000.0</td>\n",
       "    </tr>\n",
       "    <tr>\n",
       "      <th>последний</th>\n",
       "      <td>4350000.0</td>\n",
       "    </tr>\n",
       "  </tbody>\n",
       "</table>\n",
       "</div>"
      ],
      "text/plain": [
       "              median\n",
       "floor_cat           \n",
       "другой     4850000.0\n",
       "первый     3900000.0\n",
       "последний  4350000.0"
      ]
     },
     "metadata": {},
     "output_type": "display_data"
    },
    {
     "data": {
      "image/png": "[encoded data removed]",
      "text/plain": [
       "<Figure size 432x288 with 1 Axes>"
      ]
     },
     "metadata": {
      "needs_background": "light"
     },
     "output_type": "display_data"
    }
   ],
   "source": [
    "tab_floor_cat = data.pivot_table(index = 'floor_cat', values = 'last_price', aggfunc = ['median'])\n",
    "tab_floor_cat.columns = ['median']\n",
    "tab_floor_cat.plot.bar(y = 'median')\n",
    "display(tab_floor_cat)"
   ]
  },
  {
   "cell_type": "markdown",
   "id": "65dc917a",
   "metadata": {},
   "source": [
    "Квартиры на промежуточных этажах дороже чем на первом и последнем. Первые этажи дешевле последних - это факт, тк пентхаусы и видовые этажи стоят дороже."
   ]
  },
  {
   "cell_type": "markdown",
   "id": "e5446216",
   "metadata": {},
   "source": [
    "#### Зависимость цены от дня размещения объявления"
   ]
  },
  {
   "cell_type": "code",
   "execution_count": 80,
   "id": "174bf3f5",
   "metadata": {},
   "outputs": [
    {
     "data": {
      "text/html": [
       "<div>\n",
       "<style scoped>\n",
       "    .dataframe tbody tr th:only-of-type {\n",
       "        vertical-align: middle;\n",
       "    }\n",
       "\n",
       "    .dataframe tbody tr th {\n",
       "        vertical-align: top;\n",
       "    }\n",
       "\n",
       "    .dataframe thead th {\n",
       "        text-align: right;\n",
       "    }\n",
       "</style>\n",
       "<table border=\"1\" class=\"dataframe\">\n",
       "  <thead>\n",
       "    <tr style=\"text-align: right;\">\n",
       "      <th></th>\n",
       "      <th>median</th>\n",
       "    </tr>\n",
       "    <tr>\n",
       "      <th>week_day</th>\n",
       "      <th></th>\n",
       "    </tr>\n",
       "  </thead>\n",
       "  <tbody>\n",
       "    <tr>\n",
       "      <th>0</th>\n",
       "      <td>4650000.0</td>\n",
       "    </tr>\n",
       "    <tr>\n",
       "      <th>1</th>\n",
       "      <td>4714595.0</td>\n",
       "    </tr>\n",
       "    <tr>\n",
       "      <th>2</th>\n",
       "      <td>4700000.0</td>\n",
       "    </tr>\n",
       "    <tr>\n",
       "      <th>3</th>\n",
       "      <td>4650000.0</td>\n",
       "    </tr>\n",
       "    <tr>\n",
       "      <th>4</th>\n",
       "      <td>4575000.0</td>\n",
       "    </tr>\n",
       "    <tr>\n",
       "      <th>5</th>\n",
       "      <td>4567500.0</td>\n",
       "    </tr>\n",
       "    <tr>\n",
       "      <th>6</th>\n",
       "      <td>4550000.0</td>\n",
       "    </tr>\n",
       "  </tbody>\n",
       "</table>\n",
       "</div>"
      ],
      "text/plain": [
       "             median\n",
       "week_day           \n",
       "0         4650000.0\n",
       "1         4714595.0\n",
       "2         4700000.0\n",
       "3         4650000.0\n",
       "4         4575000.0\n",
       "5         4567500.0\n",
       "6         4550000.0"
      ]
     },
     "metadata": {},
     "output_type": "display_data"
    },
    {
     "data": {
      "image/png": "[encoded data removed]",
      "text/plain": [
       "<Figure size 432x288 with 1 Axes>"
      ]
     },
     "metadata": {
      "needs_background": "light"
     },
     "output_type": "display_data"
    }
   ],
   "source": [
    "tab_day = data.pivot_table(index = 'week_day', values = 'last_price', aggfunc = ['median'])\n",
    "tab_day.columns = ['median']\n",
    "tab_day.plot.bar(y = 'median')\n",
    "display(tab_day)"
   ]
  },
  {
   "cell_type": "markdown",
   "id": "d952092f",
   "metadata": {},
   "source": [
    "По вторникам цена самая высокая, а по выходным самая низкая. Возможно из-за того, что вторник и среда самае продуктивные дни недели, или люди устав от работы думают продать жилье подороже и отправится в долгий отпуск на вырученные деньги)"
   ]
  },
  {
   "cell_type": "markdown",
   "id": "9b95b588",
   "metadata": {},
   "source": [
    "#### Зависимость цены от месяца размещения объявления"
   ]
  },
  {
   "cell_type": "code",
   "execution_count": 81,
   "id": "a11c03f9",
   "metadata": {},
   "outputs": [
    {
     "data": {
      "text/html": [
       "<div>\n",
       "<style scoped>\n",
       "    .dataframe tbody tr th:only-of-type {\n",
       "        vertical-align: middle;\n",
       "    }\n",
       "\n",
       "    .dataframe tbody tr th {\n",
       "        vertical-align: top;\n",
       "    }\n",
       "\n",
       "    .dataframe thead th {\n",
       "        text-align: right;\n",
       "    }\n",
       "</style>\n",
       "<table border=\"1\" class=\"dataframe\">\n",
       "  <thead>\n",
       "    <tr style=\"text-align: right;\">\n",
       "      <th></th>\n",
       "      <th>median</th>\n",
       "    </tr>\n",
       "    <tr>\n",
       "      <th>month</th>\n",
       "      <th></th>\n",
       "    </tr>\n",
       "  </thead>\n",
       "  <tbody>\n",
       "    <tr>\n",
       "      <th>1</th>\n",
       "      <td>4600000.0</td>\n",
       "    </tr>\n",
       "    <tr>\n",
       "      <th>2</th>\n",
       "      <td>4650000.0</td>\n",
       "    </tr>\n",
       "    <tr>\n",
       "      <th>3</th>\n",
       "      <td>4650000.0</td>\n",
       "    </tr>\n",
       "    <tr>\n",
       "      <th>4</th>\n",
       "      <td>4800000.0</td>\n",
       "    </tr>\n",
       "    <tr>\n",
       "      <th>5</th>\n",
       "      <td>4500000.0</td>\n",
       "    </tr>\n",
       "    <tr>\n",
       "      <th>6</th>\n",
       "      <td>4400000.0</td>\n",
       "    </tr>\n",
       "    <tr>\n",
       "      <th>7</th>\n",
       "      <td>4650000.0</td>\n",
       "    </tr>\n",
       "    <tr>\n",
       "      <th>8</th>\n",
       "      <td>4570000.0</td>\n",
       "    </tr>\n",
       "    <tr>\n",
       "      <th>9</th>\n",
       "      <td>4700000.0</td>\n",
       "    </tr>\n",
       "    <tr>\n",
       "      <th>10</th>\n",
       "      <td>4570000.0</td>\n",
       "    </tr>\n",
       "    <tr>\n",
       "      <th>11</th>\n",
       "      <td>4700000.0</td>\n",
       "    </tr>\n",
       "    <tr>\n",
       "      <th>12</th>\n",
       "      <td>4700000.0</td>\n",
       "    </tr>\n",
       "  </tbody>\n",
       "</table>\n",
       "</div>"
      ],
      "text/plain": [
       "          median\n",
       "month           \n",
       "1      4600000.0\n",
       "2      4650000.0\n",
       "3      4650000.0\n",
       "4      4800000.0\n",
       "5      4500000.0\n",
       "6      4400000.0\n",
       "7      4650000.0\n",
       "8      4570000.0\n",
       "9      4700000.0\n",
       "10     4570000.0\n",
       "11     4700000.0\n",
       "12     4700000.0"
      ]
     },
     "metadata": {},
     "output_type": "display_data"
    },
    {
     "data": {
      "image/png": "[encoded data removed]",
      "text/plain": [
       "<Figure size 432x288 with 1 Axes>"
      ]
     },
     "metadata": {
      "needs_background": "light"
     },
     "output_type": "display_data"
    }
   ],
   "source": [
    "tab_month = data.pivot_table(index = 'month', values = 'last_price', aggfunc = ['median'])\n",
    "tab_month.columns = ['median']\n",
    "tab_month.plot.bar(y = 'median')\n",
    "display(tab_month)"
   ]
  },
  {
   "cell_type": "markdown",
   "id": "006f5ea7",
   "metadata": {},
   "source": [
    "Самые высокие цены на жилье в апреле, а самые низкие в июне. Возможно это с вязано с желанием людей начать новую жизнь весной и началом сезона отпусков летом.\n"
   ]
  },
  {
   "cell_type": "markdown",
   "id": "1ad11613",
   "metadata": {},
   "source": [
    "#### Зависимость цены от года размещения объявления"
   ]
  },
  {
   "cell_type": "code",
   "execution_count": 82,
   "id": "3f02516e",
   "metadata": {},
   "outputs": [
    {
     "data": {
      "text/html": [
       "<div>\n",
       "<style scoped>\n",
       "    .dataframe tbody tr th:only-of-type {\n",
       "        vertical-align: middle;\n",
       "    }\n",
       "\n",
       "    .dataframe tbody tr th {\n",
       "        vertical-align: top;\n",
       "    }\n",
       "\n",
       "    .dataframe thead th {\n",
       "        text-align: right;\n",
       "    }\n",
       "</style>\n",
       "<table border=\"1\" class=\"dataframe\">\n",
       "  <thead>\n",
       "    <tr style=\"text-align: right;\">\n",
       "      <th></th>\n",
       "      <th>median</th>\n",
       "    </tr>\n",
       "    <tr>\n",
       "      <th>year</th>\n",
       "      <th></th>\n",
       "    </tr>\n",
       "  </thead>\n",
       "  <tbody>\n",
       "    <tr>\n",
       "      <th>2014</th>\n",
       "      <td>7640000.0</td>\n",
       "    </tr>\n",
       "    <tr>\n",
       "      <th>2015</th>\n",
       "      <td>5337000.0</td>\n",
       "    </tr>\n",
       "    <tr>\n",
       "      <th>2016</th>\n",
       "      <td>4550000.0</td>\n",
       "    </tr>\n",
       "    <tr>\n",
       "      <th>2017</th>\n",
       "      <td>4500000.0</td>\n",
       "    </tr>\n",
       "    <tr>\n",
       "      <th>2018</th>\n",
       "      <td>4550000.0</td>\n",
       "    </tr>\n",
       "    <tr>\n",
       "      <th>2019</th>\n",
       "      <td>5050000.0</td>\n",
       "    </tr>\n",
       "  </tbody>\n",
       "</table>\n",
       "</div>"
      ],
      "text/plain": [
       "         median\n",
       "year           \n",
       "2014  7640000.0\n",
       "2015  5337000.0\n",
       "2016  4550000.0\n",
       "2017  4500000.0\n",
       "2018  4550000.0\n",
       "2019  5050000.0"
      ]
     },
     "metadata": {},
     "output_type": "display_data"
    },
    {
     "data": {
      "image/png": "[encoded data removed]",
      "text/plain": [
       "<Figure size 432x288 with 1 Axes>"
      ]
     },
     "metadata": {
      "needs_background": "light"
     },
     "output_type": "display_data"
    }
   ],
   "source": [
    "tab_year = data.pivot_table(index = 'year', values = 'last_price', aggfunc = ['median'])\n",
    "tab_year.columns = ['median']\n",
    "tab_year.plot.bar(y = 'median')\n",
    "display(tab_year)"
   ]
  },
  {
   "cell_type": "markdown",
   "id": "f2d6b9e2",
   "metadata": {},
   "source": [
    "Налюдаем, что самые высокие цены были в 2014 году, а потом Крым наш и куча санкций цены начали резко падать, но с 2017 года наблюдается очередной рост. Надолго ли?)"
   ]
  },
  {
   "cell_type": "markdown",
   "id": "9e6f476d",
   "metadata": {},
   "source": [
    "### Расчитаем среднюю цену одного квадратного метра в 10 населённых пунктах с наибольшим числом объявлений."
   ]
  },
  {
   "cell_type": "markdown",
   "id": "234688dc",
   "metadata": {},
   "source": [
    "Выделим населённые пункты с самой высокой и низкой стоимостью квадратного метра. Эти данные мы найдем по имени в новом столбце ln_zaglav_name(созданный столбец без неявных дубликатов)."
   ]
  },
  {
   "cell_type": "code",
   "execution_count": 83,
   "id": "99999e03",
   "metadata": {},
   "outputs": [
    {
     "data": {
      "text/html": [
       "<div>\n",
       "<style scoped>\n",
       "    .dataframe tbody tr th:only-of-type {\n",
       "        vertical-align: middle;\n",
       "    }\n",
       "\n",
       "    .dataframe tbody tr th {\n",
       "        vertical-align: top;\n",
       "    }\n",
       "\n",
       "    .dataframe thead th {\n",
       "        text-align: right;\n",
       "    }\n",
       "</style>\n",
       "<table border=\"1\" class=\"dataframe\">\n",
       "  <thead>\n",
       "    <tr style=\"text-align: right;\">\n",
       "      <th></th>\n",
       "      <th>count</th>\n",
       "      <th>mean</th>\n",
       "    </tr>\n",
       "    <tr>\n",
       "      <th>ln_zaglav_name</th>\n",
       "      <th></th>\n",
       "      <th></th>\n",
       "    </tr>\n",
       "  </thead>\n",
       "  <tbody>\n",
       "    <tr>\n",
       "      <th>Санкт-Петербург</th>\n",
       "      <td>15704</td>\n",
       "      <td>114794.780884</td>\n",
       "    </tr>\n",
       "    <tr>\n",
       "      <th>Мурино</th>\n",
       "      <td>590</td>\n",
       "      <td>86087.055932</td>\n",
       "    </tr>\n",
       "    <tr>\n",
       "      <th>Кудрово</th>\n",
       "      <td>471</td>\n",
       "      <td>95325.726115</td>\n",
       "    </tr>\n",
       "    <tr>\n",
       "      <th>Шушары</th>\n",
       "      <td>440</td>\n",
       "      <td>78676.904545</td>\n",
       "    </tr>\n",
       "    <tr>\n",
       "      <th>Всеволожск</th>\n",
       "      <td>397</td>\n",
       "      <td>68718.853904</td>\n",
       "    </tr>\n",
       "    <tr>\n",
       "      <th>Пушкин</th>\n",
       "      <td>369</td>\n",
       "      <td>103125.373984</td>\n",
       "    </tr>\n",
       "    <tr>\n",
       "      <th>Колпино</th>\n",
       "      <td>338</td>\n",
       "      <td>75424.150888</td>\n",
       "    </tr>\n",
       "    <tr>\n",
       "      <th>Парголово</th>\n",
       "      <td>327</td>\n",
       "      <td>90175.489297</td>\n",
       "    </tr>\n",
       "    <tr>\n",
       "      <th>Гатчина</th>\n",
       "      <td>307</td>\n",
       "      <td>68745.693811</td>\n",
       "    </tr>\n",
       "    <tr>\n",
       "      <th>Выборг</th>\n",
       "      <td>235</td>\n",
       "      <td>58237.723404</td>\n",
       "    </tr>\n",
       "  </tbody>\n",
       "</table>\n",
       "</div>"
      ],
      "text/plain": [
       "                 count           mean\n",
       "ln_zaglav_name                       \n",
       "Санкт-Петербург  15704  114794.780884\n",
       "Мурино             590   86087.055932\n",
       "Кудрово            471   95325.726115\n",
       "Шушары             440   78676.904545\n",
       "Всеволожск         397   68718.853904\n",
       "Пушкин             369  103125.373984\n",
       "Колпино            338   75424.150888\n",
       "Парголово          327   90175.489297\n",
       "Гатчина            307   68745.693811\n",
       "Выборг             235   58237.723404"
      ]
     },
     "metadata": {},
     "output_type": "display_data"
    },
    {
     "data": {
      "text/html": [
       "<div>\n",
       "<style scoped>\n",
       "    .dataframe tbody tr th:only-of-type {\n",
       "        vertical-align: middle;\n",
       "    }\n",
       "\n",
       "    .dataframe tbody tr th {\n",
       "        vertical-align: top;\n",
       "    }\n",
       "\n",
       "    .dataframe thead th {\n",
       "        text-align: right;\n",
       "    }\n",
       "</style>\n",
       "<table border=\"1\" class=\"dataframe\">\n",
       "  <thead>\n",
       "    <tr style=\"text-align: right;\">\n",
       "      <th></th>\n",
       "      <th>count</th>\n",
       "      <th>mean</th>\n",
       "    </tr>\n",
       "    <tr>\n",
       "      <th>ln_zaglav_name</th>\n",
       "      <th></th>\n",
       "      <th></th>\n",
       "    </tr>\n",
       "  </thead>\n",
       "  <tbody>\n",
       "    <tr>\n",
       "      <th>Санкт-Петербург</th>\n",
       "      <td>15704</td>\n",
       "      <td>114794.780884</td>\n",
       "    </tr>\n",
       "  </tbody>\n",
       "</table>\n",
       "</div>"
      ],
      "text/plain": [
       "                 count           mean\n",
       "ln_zaglav_name                       \n",
       "Санкт-Петербург  15704  114794.780884"
      ]
     },
     "metadata": {},
     "output_type": "display_data"
    },
    {
     "data": {
      "text/html": [
       "<div>\n",
       "<style scoped>\n",
       "    .dataframe tbody tr th:only-of-type {\n",
       "        vertical-align: middle;\n",
       "    }\n",
       "\n",
       "    .dataframe tbody tr th {\n",
       "        vertical-align: top;\n",
       "    }\n",
       "\n",
       "    .dataframe thead th {\n",
       "        text-align: right;\n",
       "    }\n",
       "</style>\n",
       "<table border=\"1\" class=\"dataframe\">\n",
       "  <thead>\n",
       "    <tr style=\"text-align: right;\">\n",
       "      <th></th>\n",
       "      <th>count</th>\n",
       "      <th>mean</th>\n",
       "    </tr>\n",
       "    <tr>\n",
       "      <th>ln_zaglav_name</th>\n",
       "      <th></th>\n",
       "      <th></th>\n",
       "    </tr>\n",
       "  </thead>\n",
       "  <tbody>\n",
       "    <tr>\n",
       "      <th>Выборг</th>\n",
       "      <td>235</td>\n",
       "      <td>58237.723404</td>\n",
       "    </tr>\n",
       "  </tbody>\n",
       "</table>\n",
       "</div>"
      ],
      "text/plain": [
       "                count          mean\n",
       "ln_zaglav_name                     \n",
       "Выборг            235  58237.723404"
      ]
     },
     "metadata": {},
     "output_type": "display_data"
    }
   ],
   "source": [
    "#Средняя цена за кв м в 10 населённых пунктах с наибольшим числом объявлений\n",
    "loc_tab = data.pivot_table(index = 'ln_zaglav_name', values = 'cena_za_metr', aggfunc=['count', 'mean'])\n",
    "loc_tab.columns = ['count', 'mean']\n",
    "loc_tab = loc_tab.sort_values('count', ascending = False).head(10)\n",
    "display(loc_tab)\n",
    "#самая высокая цена за кв м\n",
    "display(loc_tab[loc_tab['mean']==loc_tab['mean'].max()])\n",
    "#самая низкая цена за кв м\n",
    "display(loc_tab[loc_tab['mean']==loc_tab['mean'].min()])"
   ]
  },
  {
   "cell_type": "markdown",
   "id": "77d09504",
   "metadata": {},
   "source": [
    "Самая высокая цена за квадратный метр и большее количество объявлений в Санкт-Петербурге, что ожидаемо, так как мы анализируем недвижемость в Санкт-Петербурге. Самая низкая стоимость среди 10ки пунктов с наибольшим колличеством объявлений в Выборге. "
   ]
  },
  {
   "cell_type": "markdown",
   "id": "7f0f2a08",
   "metadata": {},
   "source": [
    "### Рассмотрим стоимость объектов по удаленности от центра города."
   ]
  },
  {
   "cell_type": "markdown",
   "id": "a67f226d",
   "metadata": {},
   "source": [
    "Ранее мы посчитали расстояние до центра в километрах. Теперь выделим квартиры в Санкт-Петербурге с помощью столбца ln_zaglav_name и вычислим среднюю цену каждого километра. Опишем, как стоимость объектов зависит от расстояния до центра города."
   ]
  },
  {
   "cell_type": "code",
   "execution_count": 84,
   "id": "679cce27",
   "metadata": {},
   "outputs": [
    {
     "data": {
      "text/html": [
       "<div>\n",
       "<style scoped>\n",
       "    .dataframe tbody tr th:only-of-type {\n",
       "        vertical-align: middle;\n",
       "    }\n",
       "\n",
       "    .dataframe tbody tr th {\n",
       "        vertical-align: top;\n",
       "    }\n",
       "\n",
       "    .dataframe thead th {\n",
       "        text-align: right;\n",
       "    }\n",
       "</style>\n",
       "<table border=\"1\" class=\"dataframe\">\n",
       "  <thead>\n",
       "    <tr style=\"text-align: right;\">\n",
       "      <th></th>\n",
       "      <th>cena_za_metr</th>\n",
       "    </tr>\n",
       "    <tr>\n",
       "      <th>cC_near_km</th>\n",
       "      <th></th>\n",
       "    </tr>\n",
       "  </thead>\n",
       "  <tbody>\n",
       "    <tr>\n",
       "      <th>1.0</th>\n",
       "      <td>177004.963542</td>\n",
       "    </tr>\n",
       "    <tr>\n",
       "      <th>2.0</th>\n",
       "      <td>157848.564516</td>\n",
       "    </tr>\n",
       "    <tr>\n",
       "      <th>3.0</th>\n",
       "      <td>121386.991429</td>\n",
       "    </tr>\n",
       "    <tr>\n",
       "      <th>4.0</th>\n",
       "      <td>133282.422965</td>\n",
       "    </tr>\n",
       "    <tr>\n",
       "      <th>5.0</th>\n",
       "      <td>140509.339130</td>\n",
       "    </tr>\n",
       "    <tr>\n",
       "      <th>6.0</th>\n",
       "      <td>150228.418152</td>\n",
       "    </tr>\n",
       "    <tr>\n",
       "      <th>7.0</th>\n",
       "      <td>156176.445238</td>\n",
       "    </tr>\n",
       "    <tr>\n",
       "      <th>8.0</th>\n",
       "      <td>124850.937815</td>\n",
       "    </tr>\n",
       "    <tr>\n",
       "      <th>9.0</th>\n",
       "      <td>113130.595278</td>\n",
       "    </tr>\n",
       "    <tr>\n",
       "      <th>10.0</th>\n",
       "      <td>112727.066759</td>\n",
       "    </tr>\n",
       "    <tr>\n",
       "      <th>11.0</th>\n",
       "      <td>108637.310374</td>\n",
       "    </tr>\n",
       "    <tr>\n",
       "      <th>12.0</th>\n",
       "      <td>107493.064255</td>\n",
       "    </tr>\n",
       "    <tr>\n",
       "      <th>13.0</th>\n",
       "      <td>108159.841237</td>\n",
       "    </tr>\n",
       "    <tr>\n",
       "      <th>14.0</th>\n",
       "      <td>104252.041504</td>\n",
       "    </tr>\n",
       "    <tr>\n",
       "      <th>15.0</th>\n",
       "      <td>104261.180715</td>\n",
       "    </tr>\n",
       "    <tr>\n",
       "      <th>16.0</th>\n",
       "      <td>100542.168379</td>\n",
       "    </tr>\n",
       "    <tr>\n",
       "      <th>17.0</th>\n",
       "      <td>96597.212911</td>\n",
       "    </tr>\n",
       "    <tr>\n",
       "      <th>18.0</th>\n",
       "      <td>96361.839080</td>\n",
       "    </tr>\n",
       "    <tr>\n",
       "      <th>19.0</th>\n",
       "      <td>98652.305732</td>\n",
       "    </tr>\n",
       "    <tr>\n",
       "      <th>20.0</th>\n",
       "      <td>102471.733333</td>\n",
       "    </tr>\n",
       "    <tr>\n",
       "      <th>21.0</th>\n",
       "      <td>94469.136752</td>\n",
       "    </tr>\n",
       "    <tr>\n",
       "      <th>22.0</th>\n",
       "      <td>91329.965347</td>\n",
       "    </tr>\n",
       "    <tr>\n",
       "      <th>23.0</th>\n",
       "      <td>91828.070588</td>\n",
       "    </tr>\n",
       "    <tr>\n",
       "      <th>24.0</th>\n",
       "      <td>85736.461538</td>\n",
       "    </tr>\n",
       "    <tr>\n",
       "      <th>25.0</th>\n",
       "      <td>91531.038462</td>\n",
       "    </tr>\n",
       "    <tr>\n",
       "      <th>26.0</th>\n",
       "      <td>89285.415094</td>\n",
       "    </tr>\n",
       "    <tr>\n",
       "      <th>27.0</th>\n",
       "      <td>132115.000000</td>\n",
       "    </tr>\n",
       "    <tr>\n",
       "      <th>28.0</th>\n",
       "      <td>81161.571429</td>\n",
       "    </tr>\n",
       "    <tr>\n",
       "      <th>29.0</th>\n",
       "      <td>72952.666667</td>\n",
       "    </tr>\n",
       "  </tbody>\n",
       "</table>\n",
       "</div>"
      ],
      "text/plain": [
       "             cena_za_metr\n",
       "cC_near_km               \n",
       "1.0         177004.963542\n",
       "2.0         157848.564516\n",
       "3.0         121386.991429\n",
       "4.0         133282.422965\n",
       "5.0         140509.339130\n",
       "6.0         150228.418152\n",
       "7.0         156176.445238\n",
       "8.0         124850.937815\n",
       "9.0         113130.595278\n",
       "10.0        112727.066759\n",
       "11.0        108637.310374\n",
       "12.0        107493.064255\n",
       "13.0        108159.841237\n",
       "14.0        104252.041504\n",
       "15.0        104261.180715\n",
       "16.0        100542.168379\n",
       "17.0         96597.212911\n",
       "18.0         96361.839080\n",
       "19.0         98652.305732\n",
       "20.0        102471.733333\n",
       "21.0         94469.136752\n",
       "22.0         91329.965347\n",
       "23.0         91828.070588\n",
       "24.0         85736.461538\n",
       "25.0         91531.038462\n",
       "26.0         89285.415094\n",
       "27.0        132115.000000\n",
       "28.0         81161.571429\n",
       "29.0         72952.666667"
      ]
     },
     "metadata": {},
     "output_type": "display_data"
    },
    {
     "data": {
      "image/png": "[encoded data removed]",
      "text/plain": [
       "<Figure size 432x288 with 1 Axes>"
      ]
     },
     "metadata": {
      "needs_background": "light"
     },
     "output_type": "display_data"
    }
   ],
   "source": [
    "tab_km = data.query('ln_zaglav_name == \"Санкт-Петербург\" and cC_near_km !=0').pivot_table(index = 'cC_near_km', values = 'cena_za_metr', aggfunc = 'mean')\n",
    "tab_km.plot()\n",
    "display(tab_km)"
   ]
  },
  {
   "cell_type": "markdown",
   "id": "ad929067",
   "metadata": {},
   "source": [
    "Самая дорогая стоимость квадратного метра всего в 1 километре от центра, чуть дальше наблюдается спад - возможно из-за того что пешком уже до центра не прогуляешься туда и обратно)) С 4 до 7 км наблюдается рост цены, которая затем снижается. Отсюда можно предположить что самый центр радиус в 7 км. На графике также виден резкий пик в районе 27км, возможно элитные загородные домики)) "
   ]
  },
  {
   "cell_type": "markdown",
   "id": "9060c52c",
   "metadata": {},
   "source": [
    "## Общий вывод"
   ]
  },
  {
   "cell_type": "markdown",
   "id": "48736326",
   "metadata": {},
   "source": [
    "В нашем распоряжении были данные сервиса Яндекс.Недвижимость — архив объявлений о продаже квартир в Санкт-Петербурге и соседних населённых пунктов за несколько лет. Обработав пропуски, аномалии и неточности мы приступили к анализу. Что удалось обнаружить:\n",
    "\n",
    "- Средняя площадь продаваемых объектов 60 квадратных метров.\n",
    "- Средняя жилая площадь продаваемых объектов 34 квадратных метра.\n",
    "- Средняя площадь кухонь у продаваемых объектов 11 квадратных метров.\n",
    "- Двухкомнатные объекты самые популярные.\n",
    "- Чаще всего продаются объекты на 2м этаже.\n",
    "- Первые этажи продаются чуть меньше последних, а все остальные этажи чаще всего.\n",
    "- В среднем чаще продают 9 и 10е этажи.\n",
    "- Чаще продают достаточно удаленные от центра и аэропорта квартиры(среднее = 13939м и 28319м, соответветственно).\n",
    "- Парковая зона чаще расположена довольно близко среднее = 467м.\n",
    "- Четверг и вторник самые популярные дни публикаций объявлений, а суббота и воскресенье менее популярны.\n",
    "- В феврале объявлений появляется больше, к весне наблюдается спад активности, затем скачок летом и плавный рост осенью.\n",
    "- В среднем продажа занимает 180 дней, хотя есть и аномально быстрые продажи за 1 день. Необычно долгие продажи заняли почти 5 лет.\n",
    "Зависимости полной стоимости:\n",
    "- Чем больше площадь объекта, тем больше стоимость.\n",
    "- Чем больше жилая площадь объекта, тем больше стоимость.\n",
    "- Чем больше площадь кухни объекта, тем больше стоимость.\n",
    "- Чем больше комнат, тем немного больше стоимость.\n",
    "- Квартиры на нижних этажах дешевле, чем на верхних.\n",
    "- По вторникам цена самая высокая, а по выходным самая низкая.\n",
    "- Самые высокие цены на жилье в апреле, а самые низкие в июне.\n",
    "- Самые высокие цены были в 2014 году, с 2017 года наблюдается очередной рост.\n",
    "- Самая высокая цена за квадратный метр и большее количество объявлений в Санкт-Петербурге\n",
    "- Самая низкая стоимость среди 10ки пунктов с наибольшим колличеством объявлений в Выборге.\n",
    "- Выявили предпологаемый радиус центра города в 7 км.\n",
    "\n",
    "Для определения рыночной стоимости объектов недвижимости с помощью автоматизированной системы, рекомендуется выбрать следующие параметры:\n",
    "- Площадь объекта;\n",
    "- Жилая площадь объекта;\n",
    "- Площадь кухни объекта;\n",
    "- Кол-во комнат объекта;\n",
    "- Этаж объекта;\n",
    "- Расположение относительно центра города;\n",
    "- Расположение относительно ближайших парков."
   ]
  }
 ],
 "metadata": {
  "ExecuteTimeLog": [
   {
    "duration": 639,
    "start_time": "2022-10-24T06:24:48.542Z"
   },
   {
    "duration": 486,
    "start_time": "2022-10-24T06:28:03.386Z"
   },
   {
    "duration": 508,
    "start_time": "2022-10-24T07:11:34.746Z"
   },
   {
    "duration": 532,
    "start_time": "2022-10-24T07:12:00.400Z"
   },
   {
    "duration": 2869,
    "start_time": "2022-10-24T07:13:33.251Z"
   },
   {
    "duration": 9,
    "start_time": "2022-10-24T07:21:13.371Z"
   },
   {
    "duration": 11,
    "start_time": "2022-10-24T08:02:32.897Z"
   },
   {
    "duration": 11,
    "start_time": "2022-10-24T08:05:49.896Z"
   },
   {
    "duration": 10,
    "start_time": "2022-10-24T08:06:00.929Z"
   },
   {
    "duration": 45,
    "start_time": "2022-10-24T08:07:11.416Z"
   },
   {
    "duration": 9,
    "start_time": "2022-10-24T08:08:50.190Z"
   },
   {
    "duration": 86,
    "start_time": "2022-10-24T08:12:10.866Z"
   },
   {
    "duration": 42,
    "start_time": "2022-10-24T08:16:27.047Z"
   },
   {
    "duration": 89,
    "start_time": "2022-10-24T08:20:51.533Z"
   },
   {
    "duration": 76,
    "start_time": "2022-10-24T08:21:45.190Z"
   },
   {
    "duration": 86,
    "start_time": "2022-10-24T08:22:06.533Z"
   },
   {
    "duration": 75,
    "start_time": "2022-10-24T08:22:40.285Z"
   },
   {
    "duration": 45,
    "start_time": "2022-10-24T08:22:51.383Z"
   },
   {
    "duration": 21,
    "start_time": "2022-10-24T08:23:25.135Z"
   },
   {
    "duration": 22,
    "start_time": "2022-10-24T08:23:46.422Z"
   },
   {
    "duration": 7,
    "start_time": "2022-10-24T08:57:26.968Z"
   },
   {
    "duration": 4,
    "start_time": "2022-10-24T08:57:45.463Z"
   },
   {
    "duration": 8,
    "start_time": "2022-10-24T09:01:03.089Z"
   },
   {
    "duration": 12,
    "start_time": "2022-10-24T09:11:47.819Z"
   },
   {
    "duration": 7,
    "start_time": "2022-10-24T09:14:23.324Z"
   },
   {
    "duration": 9,
    "start_time": "2022-10-24T09:14:56.990Z"
   },
   {
    "duration": 5,
    "start_time": "2022-10-24T09:15:11.077Z"
   },
   {
    "duration": 8,
    "start_time": "2022-10-24T09:37:14.245Z"
   },
   {
    "duration": 5,
    "start_time": "2022-10-24T09:37:33.389Z"
   },
   {
    "duration": 73,
    "start_time": "2022-10-24T09:48:58.432Z"
   },
   {
    "duration": 4,
    "start_time": "2022-10-24T09:49:22.464Z"
   },
   {
    "duration": 303,
    "start_time": "2022-10-24T09:49:24.865Z"
   },
   {
    "duration": 3,
    "start_time": "2022-10-24T09:53:37.130Z"
   },
   {
    "duration": 9,
    "start_time": "2022-10-24T09:53:40.081Z"
   },
   {
    "duration": 32,
    "start_time": "2022-10-24T09:54:50.490Z"
   },
   {
    "duration": 3,
    "start_time": "2022-10-24T10:04:23.790Z"
   },
   {
    "duration": 39,
    "start_time": "2022-10-24T10:06:13.165Z"
   },
   {
    "duration": 48,
    "start_time": "2022-10-24T10:07:20.357Z"
   },
   {
    "duration": 49,
    "start_time": "2022-10-24T10:10:50.078Z"
   },
   {
    "duration": 53,
    "start_time": "2022-10-24T10:13:27.711Z"
   },
   {
    "duration": 8,
    "start_time": "2022-10-24T10:16:24.592Z"
   },
   {
    "duration": 48,
    "start_time": "2022-10-24T10:17:03.705Z"
   },
   {
    "duration": 6,
    "start_time": "2022-10-24T10:19:02.897Z"
   },
   {
    "duration": 19,
    "start_time": "2022-10-24T10:27:30.579Z"
   },
   {
    "duration": 64,
    "start_time": "2022-10-24T10:27:59.651Z"
   },
   {
    "duration": 37,
    "start_time": "2022-10-24T10:28:45.148Z"
   },
   {
    "duration": 222,
    "start_time": "2022-10-24T10:35:56.574Z"
   },
   {
    "duration": 112,
    "start_time": "2022-10-24T10:37:43.358Z"
   },
   {
    "duration": 1470,
    "start_time": "2022-10-24T10:37:55.294Z"
   },
   {
    "duration": 24,
    "start_time": "2022-10-24T10:38:08.445Z"
   },
   {
    "duration": 8,
    "start_time": "2022-10-24T10:39:08.886Z"
   },
   {
    "duration": 60,
    "start_time": "2022-10-24T10:39:24.894Z"
   },
   {
    "duration": 9,
    "start_time": "2022-10-24T10:39:51.879Z"
   },
   {
    "duration": 8,
    "start_time": "2022-10-24T10:40:18.358Z"
   },
   {
    "duration": 8,
    "start_time": "2022-10-24T10:41:45.169Z"
   },
   {
    "duration": 3032,
    "start_time": "2022-10-24T10:42:27.740Z"
   },
   {
    "duration": 11,
    "start_time": "2022-10-24T10:42:30.774Z"
   },
   {
    "duration": 28,
    "start_time": "2022-10-24T10:42:30.786Z"
   },
   {
    "duration": 6,
    "start_time": "2022-10-24T10:42:30.817Z"
   },
   {
    "duration": 5,
    "start_time": "2022-10-24T10:42:30.825Z"
   },
   {
    "duration": 65,
    "start_time": "2022-10-24T10:42:30.832Z"
   },
   {
    "duration": 4,
    "start_time": "2022-10-24T10:42:30.899Z"
   },
   {
    "duration": 60,
    "start_time": "2022-10-24T10:42:30.905Z"
   },
   {
    "duration": 25,
    "start_time": "2022-10-24T10:42:30.967Z"
   },
   {
    "duration": 11,
    "start_time": "2022-10-24T10:42:30.994Z"
   },
   {
    "duration": 5,
    "start_time": "2022-10-24T10:46:33.391Z"
   },
   {
    "duration": 2904,
    "start_time": "2022-10-24T10:46:42.484Z"
   },
   {
    "duration": 11,
    "start_time": "2022-10-24T10:46:45.391Z"
   },
   {
    "duration": 26,
    "start_time": "2022-10-24T10:46:45.404Z"
   },
   {
    "duration": 7,
    "start_time": "2022-10-24T10:46:45.432Z"
   },
   {
    "duration": 4,
    "start_time": "2022-10-24T10:46:45.442Z"
   },
   {
    "duration": 68,
    "start_time": "2022-10-24T10:46:45.448Z"
   },
   {
    "duration": 4,
    "start_time": "2022-10-24T10:46:45.518Z"
   },
   {
    "duration": 53,
    "start_time": "2022-10-24T10:46:45.524Z"
   },
   {
    "duration": 7,
    "start_time": "2022-10-24T10:46:45.591Z"
   },
   {
    "duration": 9,
    "start_time": "2022-10-24T10:46:45.600Z"
   },
   {
    "duration": 72,
    "start_time": "2022-10-24T11:19:19.361Z"
   },
   {
    "duration": 3,
    "start_time": "2022-10-24T11:19:32.314Z"
   },
   {
    "duration": 84,
    "start_time": "2022-10-24T11:21:10.561Z"
   },
   {
    "duration": 278,
    "start_time": "2022-10-24T11:22:06.778Z"
   },
   {
    "duration": 269,
    "start_time": "2022-10-24T11:22:24.714Z"
   },
   {
    "duration": 74,
    "start_time": "2022-10-24T11:24:02.039Z"
   },
   {
    "duration": 1793,
    "start_time": "2022-10-24T11:24:13.394Z"
   },
   {
    "duration": 83,
    "start_time": "2022-10-24T11:26:13.351Z"
   },
   {
    "duration": 2937,
    "start_time": "2022-10-24T11:26:26.563Z"
   },
   {
    "duration": 9,
    "start_time": "2022-10-24T11:26:29.503Z"
   },
   {
    "duration": 27,
    "start_time": "2022-10-24T11:26:29.514Z"
   },
   {
    "duration": 5,
    "start_time": "2022-10-24T11:26:29.544Z"
   },
   {
    "duration": 8,
    "start_time": "2022-10-24T11:26:29.551Z"
   },
   {
    "duration": 58,
    "start_time": "2022-10-24T11:26:29.561Z"
   },
   {
    "duration": 4,
    "start_time": "2022-10-24T11:26:29.620Z"
   },
   {
    "duration": 71,
    "start_time": "2022-10-24T11:26:29.626Z"
   },
   {
    "duration": 7,
    "start_time": "2022-10-24T11:26:29.700Z"
   },
   {
    "duration": 16,
    "start_time": "2022-10-24T11:26:29.710Z"
   },
   {
    "duration": 2870,
    "start_time": "2022-10-24T11:27:22.468Z"
   },
   {
    "duration": 11,
    "start_time": "2022-10-24T11:27:25.340Z"
   },
   {
    "duration": 28,
    "start_time": "2022-10-24T11:27:25.353Z"
   },
   {
    "duration": 5,
    "start_time": "2022-10-24T11:27:25.383Z"
   },
   {
    "duration": 16,
    "start_time": "2022-10-24T11:27:25.389Z"
   },
   {
    "duration": 38,
    "start_time": "2022-10-24T11:27:25.407Z"
   },
   {
    "duration": 4,
    "start_time": "2022-10-24T11:27:25.447Z"
   },
   {
    "duration": 75,
    "start_time": "2022-10-24T11:27:25.452Z"
   },
   {
    "duration": 6,
    "start_time": "2022-10-24T11:27:25.529Z"
   },
   {
    "duration": 20,
    "start_time": "2022-10-24T11:27:25.537Z"
   },
   {
    "duration": 51,
    "start_time": "2022-10-24T11:35:14.794Z"
   },
   {
    "duration": 463,
    "start_time": "2022-10-24T11:36:44.928Z"
   },
   {
    "duration": 0,
    "start_time": "2022-10-24T11:36:45.393Z"
   },
   {
    "duration": 0,
    "start_time": "2022-10-24T11:36:45.395Z"
   },
   {
    "duration": 0,
    "start_time": "2022-10-24T11:36:45.396Z"
   },
   {
    "duration": 0,
    "start_time": "2022-10-24T11:36:45.397Z"
   },
   {
    "duration": 0,
    "start_time": "2022-10-24T11:36:45.398Z"
   },
   {
    "duration": 0,
    "start_time": "2022-10-24T11:36:45.399Z"
   },
   {
    "duration": 0,
    "start_time": "2022-10-24T11:36:45.400Z"
   },
   {
    "duration": 0,
    "start_time": "2022-10-24T11:36:45.401Z"
   },
   {
    "duration": 1,
    "start_time": "2022-10-24T11:36:45.402Z"
   },
   {
    "duration": 0,
    "start_time": "2022-10-24T11:36:45.403Z"
   },
   {
    "duration": 8,
    "start_time": "2022-10-24T11:36:59.619Z"
   },
   {
    "duration": 484,
    "start_time": "2022-10-24T11:37:49.215Z"
   },
   {
    "duration": 0,
    "start_time": "2022-10-24T11:37:49.701Z"
   },
   {
    "duration": 0,
    "start_time": "2022-10-24T11:37:49.702Z"
   },
   {
    "duration": 0,
    "start_time": "2022-10-24T11:37:49.703Z"
   },
   {
    "duration": 0,
    "start_time": "2022-10-24T11:37:49.705Z"
   },
   {
    "duration": 0,
    "start_time": "2022-10-24T11:37:49.706Z"
   },
   {
    "duration": 1,
    "start_time": "2022-10-24T11:37:49.707Z"
   },
   {
    "duration": 0,
    "start_time": "2022-10-24T11:37:49.708Z"
   },
   {
    "duration": 0,
    "start_time": "2022-10-24T11:37:49.710Z"
   },
   {
    "duration": 0,
    "start_time": "2022-10-24T11:37:49.711Z"
   },
   {
    "duration": 0,
    "start_time": "2022-10-24T11:37:49.712Z"
   },
   {
    "duration": 3399,
    "start_time": "2022-10-24T13:34:57.920Z"
   },
   {
    "duration": 14,
    "start_time": "2022-10-24T13:35:01.322Z"
   },
   {
    "duration": 74,
    "start_time": "2022-10-24T13:35:01.338Z"
   },
   {
    "duration": 29,
    "start_time": "2022-10-24T13:35:01.415Z"
   },
   {
    "duration": 22,
    "start_time": "2022-10-24T13:35:01.446Z"
   },
   {
    "duration": 78,
    "start_time": "2022-10-24T13:35:01.471Z"
   },
   {
    "duration": 5,
    "start_time": "2022-10-24T13:35:01.550Z"
   },
   {
    "duration": 124,
    "start_time": "2022-10-24T13:35:01.557Z"
   },
   {
    "duration": 46,
    "start_time": "2022-10-24T13:35:01.683Z"
   },
   {
    "duration": 46,
    "start_time": "2022-10-24T13:35:01.732Z"
   },
   {
    "duration": 80,
    "start_time": "2022-10-24T13:35:01.780Z"
   },
   {
    "duration": 2964,
    "start_time": "2022-10-24T13:46:35.239Z"
   },
   {
    "duration": 9,
    "start_time": "2022-10-24T13:46:38.205Z"
   },
   {
    "duration": 22,
    "start_time": "2022-10-24T13:46:38.216Z"
   },
   {
    "duration": 5,
    "start_time": "2022-10-24T13:46:38.240Z"
   },
   {
    "duration": 6,
    "start_time": "2022-10-24T13:46:38.247Z"
   },
   {
    "duration": 41,
    "start_time": "2022-10-24T13:46:38.254Z"
   },
   {
    "duration": 3,
    "start_time": "2022-10-24T13:46:38.297Z"
   },
   {
    "duration": 43,
    "start_time": "2022-10-24T13:46:38.316Z"
   },
   {
    "duration": 6,
    "start_time": "2022-10-24T13:46:38.361Z"
   },
   {
    "duration": 18,
    "start_time": "2022-10-24T13:46:38.369Z"
   },
   {
    "duration": 5,
    "start_time": "2022-10-24T13:46:38.389Z"
   },
   {
    "duration": 91,
    "start_time": "2022-10-24T13:47:01.588Z"
   },
   {
    "duration": 449,
    "start_time": "2022-10-24T13:47:36.077Z"
   },
   {
    "duration": 428,
    "start_time": "2022-10-24T13:51:26.216Z"
   },
   {
    "duration": 501,
    "start_time": "2022-10-24T13:51:57.286Z"
   },
   {
    "duration": 438,
    "start_time": "2022-10-24T13:53:56.687Z"
   },
   {
    "duration": 319,
    "start_time": "2022-10-24T13:58:42.159Z"
   },
   {
    "duration": 405,
    "start_time": "2022-10-24T13:59:37.624Z"
   },
   {
    "duration": 407,
    "start_time": "2022-10-24T14:04:32.305Z"
   },
   {
    "duration": 337,
    "start_time": "2022-10-24T14:06:03.610Z"
   },
   {
    "duration": 212,
    "start_time": "2022-10-24T14:07:33.747Z"
   },
   {
    "duration": 349,
    "start_time": "2022-10-24T14:07:59.266Z"
   },
   {
    "duration": 277,
    "start_time": "2022-10-24T14:08:37.706Z"
   },
   {
    "duration": 304,
    "start_time": "2022-10-24T14:09:16.586Z"
   },
   {
    "duration": 348,
    "start_time": "2022-10-24T14:09:42.424Z"
   },
   {
    "duration": 460,
    "start_time": "2022-10-24T14:11:02.043Z"
   },
   {
    "duration": 284,
    "start_time": "2022-10-24T14:11:28.515Z"
   },
   {
    "duration": 303,
    "start_time": "2022-10-24T14:15:42.035Z"
   },
   {
    "duration": 393,
    "start_time": "2022-10-24T14:16:05.356Z"
   },
   {
    "duration": 258,
    "start_time": "2022-10-24T14:20:36.718Z"
   },
   {
    "duration": 281,
    "start_time": "2022-10-24T14:22:14.685Z"
   },
   {
    "duration": 241,
    "start_time": "2022-10-24T14:25:28.863Z"
   },
   {
    "duration": 353,
    "start_time": "2022-10-24T14:34:19.056Z"
   },
   {
    "duration": 211,
    "start_time": "2022-10-24T14:34:55.096Z"
   },
   {
    "duration": 229,
    "start_time": "2022-10-24T14:35:06.216Z"
   },
   {
    "duration": 228,
    "start_time": "2022-10-24T14:35:24.785Z"
   },
   {
    "duration": 17,
    "start_time": "2022-10-24T14:38:40.777Z"
   },
   {
    "duration": 331,
    "start_time": "2022-10-24T14:39:49.874Z"
   },
   {
    "duration": 3,
    "start_time": "2022-10-24T14:40:34.747Z"
   },
   {
    "duration": 236,
    "start_time": "2022-10-24T14:42:59.355Z"
   },
   {
    "duration": 377,
    "start_time": "2022-10-24T14:43:23.778Z"
   },
   {
    "duration": 342,
    "start_time": "2022-10-24T14:43:53.946Z"
   },
   {
    "duration": 240,
    "start_time": "2022-10-24T14:44:06.842Z"
   },
   {
    "duration": 269,
    "start_time": "2022-10-24T14:44:15.219Z"
   },
   {
    "duration": 46,
    "start_time": "2022-10-24T16:08:07.444Z"
   },
   {
    "duration": 2825,
    "start_time": "2022-10-24T16:08:28.659Z"
   },
   {
    "duration": 10,
    "start_time": "2022-10-24T16:08:31.486Z"
   },
   {
    "duration": 35,
    "start_time": "2022-10-24T16:08:31.497Z"
   },
   {
    "duration": 11,
    "start_time": "2022-10-24T16:08:31.534Z"
   },
   {
    "duration": 5,
    "start_time": "2022-10-24T16:08:31.547Z"
   },
   {
    "duration": 47,
    "start_time": "2022-10-24T16:08:31.553Z"
   },
   {
    "duration": 15,
    "start_time": "2022-10-24T16:08:31.602Z"
   },
   {
    "duration": 50,
    "start_time": "2022-10-24T16:08:31.619Z"
   },
   {
    "duration": 5,
    "start_time": "2022-10-24T16:08:31.671Z"
   },
   {
    "duration": 16,
    "start_time": "2022-10-24T16:08:31.679Z"
   },
   {
    "duration": 451,
    "start_time": "2022-10-24T16:08:31.697Z"
   },
   {
    "duration": 342,
    "start_time": "2022-10-24T16:08:32.149Z"
   },
   {
    "duration": 369,
    "start_time": "2022-10-24T16:08:32.492Z"
   },
   {
    "duration": 253,
    "start_time": "2022-10-24T16:08:32.863Z"
   },
   {
    "duration": 369,
    "start_time": "2022-10-24T16:08:33.121Z"
   },
   {
    "duration": 250,
    "start_time": "2022-10-24T16:08:33.492Z"
   },
   {
    "duration": 242,
    "start_time": "2022-10-24T16:08:33.744Z"
   },
   {
    "duration": 239,
    "start_time": "2022-10-24T16:08:33.988Z"
   },
   {
    "duration": 2,
    "start_time": "2022-10-24T16:08:34.228Z"
   },
   {
    "duration": 232,
    "start_time": "2022-10-24T16:08:34.232Z"
   },
   {
    "duration": 1045,
    "start_time": "2022-10-24T16:08:34.465Z"
   },
   {
    "duration": 2412,
    "start_time": "2022-10-24T16:11:32.324Z"
   },
   {
    "duration": 8,
    "start_time": "2022-10-24T16:11:34.738Z"
   },
   {
    "duration": 20,
    "start_time": "2022-10-24T16:11:34.748Z"
   },
   {
    "duration": 4,
    "start_time": "2022-10-24T16:11:34.770Z"
   },
   {
    "duration": 11,
    "start_time": "2022-10-24T16:11:34.776Z"
   },
   {
    "duration": 33,
    "start_time": "2022-10-24T16:11:34.788Z"
   },
   {
    "duration": 2,
    "start_time": "2022-10-24T16:11:34.823Z"
   },
   {
    "duration": 44,
    "start_time": "2022-10-24T16:11:34.826Z"
   },
   {
    "duration": 5,
    "start_time": "2022-10-24T16:11:34.872Z"
   },
   {
    "duration": 14,
    "start_time": "2022-10-24T16:11:34.878Z"
   },
   {
    "duration": 404,
    "start_time": "2022-10-24T16:11:34.894Z"
   },
   {
    "duration": 315,
    "start_time": "2022-10-24T16:11:35.299Z"
   },
   {
    "duration": 372,
    "start_time": "2022-10-24T16:11:35.615Z"
   },
   {
    "duration": 319,
    "start_time": "2022-10-24T16:11:35.989Z"
   },
   {
    "duration": 337,
    "start_time": "2022-10-24T16:11:36.309Z"
   },
   {
    "duration": 249,
    "start_time": "2022-10-24T16:11:36.648Z"
   },
   {
    "duration": 205,
    "start_time": "2022-10-24T16:11:36.898Z"
   },
   {
    "duration": 218,
    "start_time": "2022-10-24T16:11:37.105Z"
   },
   {
    "duration": 2,
    "start_time": "2022-10-24T16:11:37.325Z"
   },
   {
    "duration": 253,
    "start_time": "2022-10-24T16:11:37.328Z"
   },
   {
    "duration": 943,
    "start_time": "2022-10-24T16:11:37.582Z"
   },
   {
    "duration": 979,
    "start_time": "2022-10-24T16:11:38.527Z"
   },
   {
    "duration": 321,
    "start_time": "2022-10-24T16:11:39.507Z"
   },
   {
    "duration": 287,
    "start_time": "2022-10-24T16:11:39.830Z"
   },
   {
    "duration": 177,
    "start_time": "2022-10-24T16:12:05.567Z"
   },
   {
    "duration": 225,
    "start_time": "2022-10-24T16:12:16.721Z"
   },
   {
    "duration": 273,
    "start_time": "2022-10-24T16:13:41.902Z"
   },
   {
    "duration": 344,
    "start_time": "2022-10-24T16:13:59.959Z"
   },
   {
    "duration": 275,
    "start_time": "2022-10-24T16:16:43.248Z"
   },
   {
    "duration": 300,
    "start_time": "2022-10-24T16:17:14.768Z"
   },
   {
    "duration": 131,
    "start_time": "2022-10-24T16:34:54.421Z"
   },
   {
    "duration": 141,
    "start_time": "2022-10-24T16:37:47.711Z"
   },
   {
    "duration": 144,
    "start_time": "2022-10-24T16:38:21.927Z"
   },
   {
    "duration": 73,
    "start_time": "2022-10-24T16:39:40.919Z"
   },
   {
    "duration": 81,
    "start_time": "2022-10-24T16:39:59.574Z"
   },
   {
    "duration": 27,
    "start_time": "2022-10-24T16:40:48.408Z"
   },
   {
    "duration": 153,
    "start_time": "2022-10-24T16:41:29.431Z"
   },
   {
    "duration": 139,
    "start_time": "2022-10-24T16:49:12.528Z"
   },
   {
    "duration": 140,
    "start_time": "2022-10-24T16:51:35.113Z"
   },
   {
    "duration": 204,
    "start_time": "2022-10-24T16:54:03.874Z"
   },
   {
    "duration": 148,
    "start_time": "2022-10-24T16:54:29.563Z"
   },
   {
    "duration": 137,
    "start_time": "2022-10-24T16:57:57.749Z"
   },
   {
    "duration": 138,
    "start_time": "2022-10-24T17:02:07.965Z"
   },
   {
    "duration": 31,
    "start_time": "2022-10-24T17:02:43.686Z"
   },
   {
    "duration": 133,
    "start_time": "2022-10-24T17:03:16.180Z"
   },
   {
    "duration": 137,
    "start_time": "2022-10-24T17:08:54.663Z"
   },
   {
    "duration": 3015,
    "start_time": "2022-10-25T07:08:11.493Z"
   },
   {
    "duration": 8,
    "start_time": "2022-10-25T07:08:14.510Z"
   },
   {
    "duration": 28,
    "start_time": "2022-10-25T07:08:14.520Z"
   },
   {
    "duration": 5,
    "start_time": "2022-10-25T07:08:14.549Z"
   },
   {
    "duration": 18,
    "start_time": "2022-10-25T07:08:14.555Z"
   },
   {
    "duration": 43,
    "start_time": "2022-10-25T07:08:14.575Z"
   },
   {
    "duration": 9,
    "start_time": "2022-10-25T07:08:14.620Z"
   },
   {
    "duration": 69,
    "start_time": "2022-10-25T07:08:14.630Z"
   },
   {
    "duration": 6,
    "start_time": "2022-10-25T07:08:14.700Z"
   },
   {
    "duration": 30,
    "start_time": "2022-10-25T07:08:14.709Z"
   },
   {
    "duration": 419,
    "start_time": "2022-10-25T07:08:14.741Z"
   },
   {
    "duration": 317,
    "start_time": "2022-10-25T07:08:15.162Z"
   },
   {
    "duration": 397,
    "start_time": "2022-10-25T07:08:15.481Z"
   },
   {
    "duration": 268,
    "start_time": "2022-10-25T07:08:15.879Z"
   },
   {
    "duration": 349,
    "start_time": "2022-10-25T07:08:16.149Z"
   },
   {
    "duration": 264,
    "start_time": "2022-10-25T07:08:16.500Z"
   },
   {
    "duration": 223,
    "start_time": "2022-10-25T07:08:16.766Z"
   },
   {
    "duration": 248,
    "start_time": "2022-10-25T07:08:16.990Z"
   },
   {
    "duration": 3,
    "start_time": "2022-10-25T07:08:17.241Z"
   },
   {
    "duration": 286,
    "start_time": "2022-10-25T07:08:17.245Z"
   },
   {
    "duration": 1028,
    "start_time": "2022-10-25T07:08:17.533Z"
   },
   {
    "duration": 1040,
    "start_time": "2022-10-25T07:08:18.563Z"
   },
   {
    "duration": 341,
    "start_time": "2022-10-25T07:08:19.605Z"
   },
   {
    "duration": 250,
    "start_time": "2022-10-25T07:08:19.947Z"
   },
   {
    "duration": 270,
    "start_time": "2022-10-25T07:08:20.198Z"
   },
   {
    "duration": 338,
    "start_time": "2022-10-25T07:08:20.470Z"
   },
   {
    "duration": 276,
    "start_time": "2022-10-25T07:08:20.810Z"
   },
   {
    "duration": 163,
    "start_time": "2022-10-25T07:08:21.089Z"
   },
   {
    "duration": 145,
    "start_time": "2022-10-25T07:08:21.253Z"
   },
   {
    "duration": 164,
    "start_time": "2022-10-25T07:08:21.399Z"
   },
   {
    "duration": 142,
    "start_time": "2022-10-25T07:08:21.565Z"
   },
   {
    "duration": 396,
    "start_time": "2022-10-25T07:13:37.176Z"
   },
   {
    "duration": 229,
    "start_time": "2022-10-25T07:13:54.296Z"
   },
   {
    "duration": 234,
    "start_time": "2022-10-25T07:14:06.575Z"
   },
   {
    "duration": 304,
    "start_time": "2022-10-25T07:14:16.808Z"
   },
   {
    "duration": 1084,
    "start_time": "2022-10-25T07:14:26.698Z"
   },
   {
    "duration": 1024,
    "start_time": "2022-10-25T07:14:41.343Z"
   },
   {
    "duration": 257,
    "start_time": "2022-10-25T07:14:54.135Z"
   },
   {
    "duration": 85,
    "start_time": "2022-10-25T07:15:13.071Z"
   },
   {
    "duration": 2,
    "start_time": "2022-10-25T07:15:45.809Z"
   },
   {
    "duration": 206,
    "start_time": "2022-10-25T07:15:54.763Z"
   },
   {
    "duration": 231,
    "start_time": "2022-10-25T07:16:10.224Z"
   },
   {
    "duration": 242,
    "start_time": "2022-10-25T07:16:22.904Z"
   },
   {
    "duration": 423,
    "start_time": "2022-10-25T07:16:33.975Z"
   },
   {
    "duration": 244,
    "start_time": "2022-10-25T07:16:53.680Z"
   },
   {
    "duration": 302,
    "start_time": "2022-10-25T07:17:05.400Z"
   },
   {
    "duration": 393,
    "start_time": "2022-10-25T07:17:18.961Z"
   },
   {
    "duration": 215,
    "start_time": "2022-10-25T07:18:37.433Z"
   },
   {
    "duration": 158,
    "start_time": "2022-10-25T07:24:24.684Z"
   },
   {
    "duration": 154,
    "start_time": "2022-10-25T07:25:55.782Z"
   },
   {
    "duration": 274,
    "start_time": "2022-10-25T07:26:06.578Z"
   },
   {
    "duration": 146,
    "start_time": "2022-10-25T07:26:55.757Z"
   },
   {
    "duration": 188,
    "start_time": "2022-10-25T07:31:49.436Z"
   },
   {
    "duration": 24,
    "start_time": "2022-10-25T07:43:09.007Z"
   },
   {
    "duration": 26,
    "start_time": "2022-10-25T07:43:24.452Z"
   },
   {
    "duration": 27,
    "start_time": "2022-10-25T07:44:47.754Z"
   },
   {
    "duration": 34,
    "start_time": "2022-10-25T07:48:56.144Z"
   },
   {
    "duration": 402,
    "start_time": "2022-10-25T07:56:15.171Z"
   },
   {
    "duration": 422,
    "start_time": "2022-10-25T07:56:46.547Z"
   },
   {
    "duration": 152,
    "start_time": "2022-10-25T07:59:35.036Z"
   },
   {
    "duration": 2854,
    "start_time": "2022-10-25T08:17:04.434Z"
   },
   {
    "duration": 12,
    "start_time": "2022-10-25T08:17:07.290Z"
   },
   {
    "duration": 45,
    "start_time": "2022-10-25T08:17:07.304Z"
   },
   {
    "duration": 27,
    "start_time": "2022-10-25T08:17:07.352Z"
   },
   {
    "duration": 17,
    "start_time": "2022-10-25T08:17:07.381Z"
   },
   {
    "duration": 51,
    "start_time": "2022-10-25T08:17:07.400Z"
   },
   {
    "duration": 3,
    "start_time": "2022-10-25T08:17:07.453Z"
   },
   {
    "duration": 77,
    "start_time": "2022-10-25T08:17:07.458Z"
   },
   {
    "duration": 9,
    "start_time": "2022-10-25T08:17:07.536Z"
   },
   {
    "duration": 23,
    "start_time": "2022-10-25T08:17:07.547Z"
   },
   {
    "duration": 428,
    "start_time": "2022-10-25T08:17:07.572Z"
   },
   {
    "duration": 299,
    "start_time": "2022-10-25T08:17:08.002Z"
   },
   {
    "duration": 431,
    "start_time": "2022-10-25T08:17:08.303Z"
   },
   {
    "duration": 247,
    "start_time": "2022-10-25T08:17:08.738Z"
   },
   {
    "duration": 321,
    "start_time": "2022-10-25T08:17:08.987Z"
   },
   {
    "duration": 249,
    "start_time": "2022-10-25T08:17:09.311Z"
   },
   {
    "duration": 206,
    "start_time": "2022-10-25T08:17:09.562Z"
   },
   {
    "duration": 205,
    "start_time": "2022-10-25T08:17:09.770Z"
   },
   {
    "duration": 2,
    "start_time": "2022-10-25T08:17:09.976Z"
   },
   {
    "duration": 241,
    "start_time": "2022-10-25T08:17:09.980Z"
   },
   {
    "duration": 1019,
    "start_time": "2022-10-25T08:17:10.223Z"
   },
   {
    "duration": 984,
    "start_time": "2022-10-25T08:17:11.243Z"
   },
   {
    "duration": 315,
    "start_time": "2022-10-25T08:17:12.228Z"
   },
   {
    "duration": 246,
    "start_time": "2022-10-25T08:17:12.545Z"
   },
   {
    "duration": 229,
    "start_time": "2022-10-25T08:17:12.792Z"
   },
   {
    "duration": 314,
    "start_time": "2022-10-25T08:17:13.023Z"
   },
   {
    "duration": 151,
    "start_time": "2022-10-25T08:17:13.339Z"
   },
   {
    "duration": 282,
    "start_time": "2022-10-25T08:17:13.494Z"
   },
   {
    "duration": 141,
    "start_time": "2022-10-25T08:17:13.778Z"
   },
   {
    "duration": 156,
    "start_time": "2022-10-25T08:17:13.921Z"
   },
   {
    "duration": 148,
    "start_time": "2022-10-25T08:17:14.078Z"
   },
   {
    "duration": 177,
    "start_time": "2022-10-25T08:17:14.227Z"
   },
   {
    "duration": 153,
    "start_time": "2022-10-25T08:17:14.406Z"
   },
   {
    "duration": 153,
    "start_time": "2022-10-25T08:17:14.560Z"
   },
   {
    "duration": 42,
    "start_time": "2022-10-25T08:17:14.714Z"
   },
   {
    "duration": 161,
    "start_time": "2022-10-25T08:17:14.758Z"
   },
   {
    "duration": 74,
    "start_time": "2022-10-25T08:42:46.476Z"
   },
   {
    "duration": 130,
    "start_time": "2022-10-25T08:43:54.037Z"
   },
   {
    "duration": 306,
    "start_time": "2022-10-25T08:56:07.161Z"
   },
   {
    "duration": 220,
    "start_time": "2022-10-25T08:56:48.696Z"
   },
   {
    "duration": 2688,
    "start_time": "2022-10-25T09:18:40.740Z"
   },
   {
    "duration": 11,
    "start_time": "2022-10-25T09:18:43.430Z"
   },
   {
    "duration": 24,
    "start_time": "2022-10-25T09:18:43.442Z"
   },
   {
    "duration": 5,
    "start_time": "2022-10-25T09:18:43.468Z"
   },
   {
    "duration": 5,
    "start_time": "2022-10-25T09:18:43.475Z"
   },
   {
    "duration": 67,
    "start_time": "2022-10-25T09:18:43.481Z"
   },
   {
    "duration": 6,
    "start_time": "2022-10-25T09:18:43.550Z"
   },
   {
    "duration": 16,
    "start_time": "2022-10-25T09:18:43.558Z"
   },
   {
    "duration": 437,
    "start_time": "2022-10-25T09:18:43.576Z"
   },
   {
    "duration": 310,
    "start_time": "2022-10-25T09:18:44.016Z"
   },
   {
    "duration": 377,
    "start_time": "2022-10-25T09:18:44.327Z"
   },
   {
    "duration": 234,
    "start_time": "2022-10-25T09:18:44.706Z"
   },
   {
    "duration": 325,
    "start_time": "2022-10-25T09:18:44.941Z"
   },
   {
    "duration": 245,
    "start_time": "2022-10-25T09:18:45.267Z"
   },
   {
    "duration": 200,
    "start_time": "2022-10-25T09:18:45.513Z"
   },
   {
    "duration": 206,
    "start_time": "2022-10-25T09:18:45.714Z"
   },
   {
    "duration": 138,
    "start_time": "2022-10-25T09:18:45.922Z"
   },
   {
    "duration": 229,
    "start_time": "2022-10-25T09:18:46.062Z"
   },
   {
    "duration": 998,
    "start_time": "2022-10-25T09:18:46.292Z"
   },
   {
    "duration": 1035,
    "start_time": "2022-10-25T09:18:47.292Z"
   },
   {
    "duration": 360,
    "start_time": "2022-10-25T09:18:48.329Z"
   },
   {
    "duration": 218,
    "start_time": "2022-10-25T09:18:48.690Z"
   },
   {
    "duration": 226,
    "start_time": "2022-10-25T09:18:48.910Z"
   },
   {
    "duration": 317,
    "start_time": "2022-10-25T09:18:49.138Z"
   },
   {
    "duration": 262,
    "start_time": "2022-10-25T09:18:49.457Z"
   },
   {
    "duration": 164,
    "start_time": "2022-10-25T09:18:49.720Z"
   },
   {
    "duration": 145,
    "start_time": "2022-10-25T09:18:49.886Z"
   },
   {
    "duration": 152,
    "start_time": "2022-10-25T09:18:50.038Z"
   },
   {
    "duration": 162,
    "start_time": "2022-10-25T09:18:50.192Z"
   },
   {
    "duration": 159,
    "start_time": "2022-10-25T09:18:50.355Z"
   },
   {
    "duration": 166,
    "start_time": "2022-10-25T09:18:50.516Z"
   },
   {
    "duration": 157,
    "start_time": "2022-10-25T09:18:50.684Z"
   },
   {
    "duration": 35,
    "start_time": "2022-10-25T09:18:50.842Z"
   },
   {
    "duration": 162,
    "start_time": "2022-10-25T09:18:50.878Z"
   },
   {
    "duration": 2814,
    "start_time": "2022-10-25T09:53:25.642Z"
   },
   {
    "duration": 10,
    "start_time": "2022-10-25T09:53:28.458Z"
   },
   {
    "duration": 24,
    "start_time": "2022-10-25T09:53:28.469Z"
   },
   {
    "duration": 5,
    "start_time": "2022-10-25T09:53:28.495Z"
   },
   {
    "duration": 7,
    "start_time": "2022-10-25T09:53:28.502Z"
   },
   {
    "duration": 59,
    "start_time": "2022-10-25T09:53:28.511Z"
   },
   {
    "duration": 9,
    "start_time": "2022-10-25T09:53:28.572Z"
   },
   {
    "duration": 23,
    "start_time": "2022-10-25T09:53:28.583Z"
   },
   {
    "duration": 455,
    "start_time": "2022-10-25T09:53:28.608Z"
   },
   {
    "duration": 312,
    "start_time": "2022-10-25T09:53:29.067Z"
   },
   {
    "duration": 400,
    "start_time": "2022-10-25T09:53:29.381Z"
   },
   {
    "duration": 280,
    "start_time": "2022-10-25T09:53:29.783Z"
   },
   {
    "duration": 344,
    "start_time": "2022-10-25T09:53:30.065Z"
   },
   {
    "duration": 262,
    "start_time": "2022-10-25T09:53:30.411Z"
   },
   {
    "duration": 218,
    "start_time": "2022-10-25T09:53:30.674Z"
   },
   {
    "duration": 222,
    "start_time": "2022-10-25T09:53:30.894Z"
   },
   {
    "duration": 150,
    "start_time": "2022-10-25T09:53:31.117Z"
   },
   {
    "duration": 251,
    "start_time": "2022-10-25T09:53:31.269Z"
   },
   {
    "duration": 944,
    "start_time": "2022-10-25T09:53:31.522Z"
   },
   {
    "duration": 998,
    "start_time": "2022-10-25T09:53:32.468Z"
   },
   {
    "duration": 341,
    "start_time": "2022-10-25T09:53:33.468Z"
   },
   {
    "duration": 217,
    "start_time": "2022-10-25T09:53:33.811Z"
   },
   {
    "duration": 238,
    "start_time": "2022-10-25T09:53:34.029Z"
   },
   {
    "duration": 327,
    "start_time": "2022-10-25T09:53:34.268Z"
   },
   {
    "duration": 281,
    "start_time": "2022-10-25T09:53:34.596Z"
   },
   {
    "duration": 178,
    "start_time": "2022-10-25T09:53:34.879Z"
   },
   {
    "duration": 150,
    "start_time": "2022-10-25T09:53:35.058Z"
   },
   {
    "duration": 173,
    "start_time": "2022-10-25T09:53:35.211Z"
   },
   {
    "duration": 158,
    "start_time": "2022-10-25T09:53:35.385Z"
   },
   {
    "duration": 168,
    "start_time": "2022-10-25T09:53:35.544Z"
   },
   {
    "duration": 161,
    "start_time": "2022-10-25T09:53:35.714Z"
   },
   {
    "duration": 154,
    "start_time": "2022-10-25T09:53:35.877Z"
   },
   {
    "duration": 40,
    "start_time": "2022-10-25T09:53:36.033Z"
   },
   {
    "duration": 176,
    "start_time": "2022-10-25T09:53:36.075Z"
   },
   {
    "duration": 2968,
    "start_time": "2022-10-25T12:23:51.506Z"
   },
   {
    "duration": 14,
    "start_time": "2022-10-25T12:23:54.476Z"
   },
   {
    "duration": 41,
    "start_time": "2022-10-25T12:23:54.492Z"
   },
   {
    "duration": 5,
    "start_time": "2022-10-25T12:23:54.535Z"
   },
   {
    "duration": 9,
    "start_time": "2022-10-25T12:23:54.542Z"
   },
   {
    "duration": 50,
    "start_time": "2022-10-25T12:23:54.553Z"
   },
   {
    "duration": 6,
    "start_time": "2022-10-25T12:23:54.605Z"
   },
   {
    "duration": 20,
    "start_time": "2022-10-25T12:23:54.639Z"
   },
   {
    "duration": 554,
    "start_time": "2022-10-25T12:23:54.662Z"
   },
   {
    "duration": 341,
    "start_time": "2022-10-25T12:23:55.220Z"
   },
   {
    "duration": 432,
    "start_time": "2022-10-25T12:23:55.563Z"
   },
   {
    "duration": 312,
    "start_time": "2022-10-25T12:23:55.997Z"
   },
   {
    "duration": 372,
    "start_time": "2022-10-25T12:23:56.313Z"
   },
   {
    "duration": 302,
    "start_time": "2022-10-25T12:23:56.687Z"
   },
   {
    "duration": 226,
    "start_time": "2022-10-25T12:23:56.991Z"
   },
   {
    "duration": 298,
    "start_time": "2022-10-25T12:23:57.220Z"
   },
   {
    "duration": 148,
    "start_time": "2022-10-25T12:23:57.520Z"
   },
   {
    "duration": 251,
    "start_time": "2022-10-25T12:23:57.669Z"
   },
   {
    "duration": 1585,
    "start_time": "2022-10-25T12:23:57.921Z"
   },
   {
    "duration": 2237,
    "start_time": "2022-10-25T12:23:59.508Z"
   },
   {
    "duration": 721,
    "start_time": "2022-10-25T12:24:01.747Z"
   },
   {
    "duration": 481,
    "start_time": "2022-10-25T12:24:02.469Z"
   },
   {
    "duration": 489,
    "start_time": "2022-10-25T12:24:02.952Z"
   },
   {
    "duration": 630,
    "start_time": "2022-10-25T12:24:03.443Z"
   },
   {
    "duration": 572,
    "start_time": "2022-10-25T12:24:04.075Z"
   },
   {
    "duration": 320,
    "start_time": "2022-10-25T12:24:04.650Z"
   },
   {
    "duration": 299,
    "start_time": "2022-10-25T12:24:04.972Z"
   },
   {
    "duration": 363,
    "start_time": "2022-10-25T12:24:05.275Z"
   },
   {
    "duration": 242,
    "start_time": "2022-10-25T12:24:05.642Z"
   },
   {
    "duration": 363,
    "start_time": "2022-10-25T12:24:05.886Z"
   },
   {
    "duration": 297,
    "start_time": "2022-10-25T12:24:06.251Z"
   },
   {
    "duration": 322,
    "start_time": "2022-10-25T12:24:06.550Z"
   },
   {
    "duration": 99,
    "start_time": "2022-10-25T12:24:06.874Z"
   },
   {
    "duration": 477,
    "start_time": "2022-10-25T12:24:06.975Z"
   },
   {
    "duration": 49,
    "start_time": "2022-10-25T14:36:37.699Z"
   },
   {
    "duration": 2639,
    "start_time": "2022-10-25T14:36:50.831Z"
   },
   {
    "duration": 10,
    "start_time": "2022-10-25T14:36:53.472Z"
   },
   {
    "duration": 22,
    "start_time": "2022-10-25T14:36:53.483Z"
   },
   {
    "duration": 6,
    "start_time": "2022-10-25T14:36:53.507Z"
   },
   {
    "duration": 6,
    "start_time": "2022-10-25T14:36:53.515Z"
   },
   {
    "duration": 5,
    "start_time": "2022-10-25T14:36:53.523Z"
   },
   {
    "duration": 43,
    "start_time": "2022-10-25T14:36:53.530Z"
   },
   {
    "duration": 5,
    "start_time": "2022-10-25T14:36:53.575Z"
   },
   {
    "duration": 35,
    "start_time": "2022-10-25T14:36:53.582Z"
   },
   {
    "duration": 416,
    "start_time": "2022-10-25T14:36:53.620Z"
   },
   {
    "duration": 290,
    "start_time": "2022-10-25T14:36:54.037Z"
   },
   {
    "duration": 339,
    "start_time": "2022-10-25T14:36:54.329Z"
   },
   {
    "duration": 222,
    "start_time": "2022-10-25T14:36:54.670Z"
   },
   {
    "duration": 300,
    "start_time": "2022-10-25T14:36:54.893Z"
   },
   {
    "duration": 225,
    "start_time": "2022-10-25T14:36:55.195Z"
   },
   {
    "duration": 188,
    "start_time": "2022-10-25T14:36:55.421Z"
   },
   {
    "duration": 183,
    "start_time": "2022-10-25T14:36:55.610Z"
   },
   {
    "duration": 123,
    "start_time": "2022-10-25T14:36:55.795Z"
   },
   {
    "duration": 289,
    "start_time": "2022-10-25T14:36:55.920Z"
   },
   {
    "duration": 840,
    "start_time": "2022-10-25T14:36:56.211Z"
   },
   {
    "duration": 1001,
    "start_time": "2022-10-25T14:36:57.052Z"
   },
   {
    "duration": 309,
    "start_time": "2022-10-25T14:36:58.055Z"
   },
   {
    "duration": 190,
    "start_time": "2022-10-25T14:36:58.366Z"
   },
   {
    "duration": 199,
    "start_time": "2022-10-25T14:36:58.558Z"
   },
   {
    "duration": 275,
    "start_time": "2022-10-25T14:36:58.758Z"
   },
   {
    "duration": 234,
    "start_time": "2022-10-25T14:36:59.034Z"
   },
   {
    "duration": 145,
    "start_time": "2022-10-25T14:36:59.269Z"
   },
   {
    "duration": 130,
    "start_time": "2022-10-25T14:36:59.417Z"
   },
   {
    "duration": 147,
    "start_time": "2022-10-25T14:36:59.549Z"
   },
   {
    "duration": 134,
    "start_time": "2022-10-25T14:36:59.698Z"
   },
   {
    "duration": 140,
    "start_time": "2022-10-25T14:36:59.834Z"
   },
   {
    "duration": 154,
    "start_time": "2022-10-25T14:36:59.975Z"
   },
   {
    "duration": 154,
    "start_time": "2022-10-25T14:37:00.131Z"
   },
   {
    "duration": 33,
    "start_time": "2022-10-25T14:37:00.287Z"
   },
   {
    "duration": 148,
    "start_time": "2022-10-25T14:37:00.322Z"
   },
   {
    "duration": 153,
    "start_time": "2022-10-25T14:55:49.688Z"
   },
   {
    "duration": 187,
    "start_time": "2022-10-25T14:55:56.137Z"
   },
   {
    "duration": 413,
    "start_time": "2022-11-05T10:58:36.972Z"
   },
   {
    "duration": 2962,
    "start_time": "2022-11-05T10:58:37.387Z"
   },
   {
    "duration": 10,
    "start_time": "2022-11-05T10:58:40.351Z"
   },
   {
    "duration": 37,
    "start_time": "2022-11-05T10:58:40.364Z"
   },
   {
    "duration": 33,
    "start_time": "2022-11-05T10:58:40.402Z"
   },
   {
    "duration": 5,
    "start_time": "2022-11-05T10:58:40.436Z"
   },
   {
    "duration": 51,
    "start_time": "2022-11-05T10:58:40.443Z"
   },
   {
    "duration": 37,
    "start_time": "2022-11-05T10:58:40.496Z"
   },
   {
    "duration": 16,
    "start_time": "2022-11-05T10:58:40.534Z"
   },
   {
    "duration": 505,
    "start_time": "2022-11-05T10:58:40.553Z"
   },
   {
    "duration": 433,
    "start_time": "2022-11-05T10:58:41.059Z"
   },
   {
    "duration": 491,
    "start_time": "2022-11-05T10:58:41.494Z"
   },
   {
    "duration": 325,
    "start_time": "2022-11-05T10:58:41.987Z"
   },
   {
    "duration": 372,
    "start_time": "2022-11-05T10:58:42.314Z"
   },
   {
    "duration": 298,
    "start_time": "2022-11-05T10:58:42.689Z"
   },
   {
    "duration": 287,
    "start_time": "2022-11-05T10:58:42.989Z"
   },
   {
    "duration": 246,
    "start_time": "2022-11-05T10:58:43.278Z"
   },
   {
    "duration": 177,
    "start_time": "2022-11-05T10:58:43.532Z"
   },
   {
    "duration": 368,
    "start_time": "2022-11-05T10:58:43.710Z"
   },
   {
    "duration": 1019,
    "start_time": "2022-11-05T10:58:44.081Z"
   },
   {
    "duration": 1320,
    "start_time": "2022-11-05T10:58:45.102Z"
   },
   {
    "duration": 439,
    "start_time": "2022-11-05T10:58:46.424Z"
   },
   {
    "duration": 269,
    "start_time": "2022-11-05T10:58:46.865Z"
   },
   {
    "duration": 259,
    "start_time": "2022-11-05T10:58:47.136Z"
   },
   {
    "duration": 376,
    "start_time": "2022-11-05T10:58:47.397Z"
   },
   {
    "duration": 355,
    "start_time": "2022-11-05T10:58:47.778Z"
   },
   {
    "duration": 206,
    "start_time": "2022-11-05T10:58:48.135Z"
   },
   {
    "duration": 181,
    "start_time": "2022-11-05T10:58:48.346Z"
   },
   {
    "duration": 216,
    "start_time": "2022-11-05T10:58:48.531Z"
   },
   {
    "duration": 169,
    "start_time": "2022-11-05T10:58:48.749Z"
   },
   {
    "duration": 182,
    "start_time": "2022-11-05T10:58:48.920Z"
   },
   {
    "duration": 176,
    "start_time": "2022-11-05T10:58:49.104Z"
   },
   {
    "duration": 192,
    "start_time": "2022-11-05T10:58:49.282Z"
   },
   {
    "duration": 60,
    "start_time": "2022-11-05T10:58:49.476Z"
   },
   {
    "duration": 176,
    "start_time": "2022-11-05T10:58:49.538Z"
   },
   {
    "duration": 75,
    "start_time": "2022-11-05T11:00:57.833Z"
   },
   {
    "duration": 25,
    "start_time": "2022-11-05T11:13:02.049Z"
   },
   {
    "duration": 26,
    "start_time": "2022-11-05T11:15:34.958Z"
   },
   {
    "duration": 49,
    "start_time": "2022-11-05T11:16:20.133Z"
   },
   {
    "duration": 20,
    "start_time": "2022-11-05T11:16:37.384Z"
   },
   {
    "duration": 22,
    "start_time": "2022-11-05T11:16:47.926Z"
   },
   {
    "duration": 27,
    "start_time": "2022-11-05T11:16:56.729Z"
   },
   {
    "duration": 25,
    "start_time": "2022-11-05T11:17:11.547Z"
   },
   {
    "duration": 24,
    "start_time": "2022-11-05T11:17:28.861Z"
   },
   {
    "duration": 102,
    "start_time": "2022-11-05T11:24:07.370Z"
   },
   {
    "duration": 9,
    "start_time": "2022-11-05T11:25:06.869Z"
   },
   {
    "duration": 10,
    "start_time": "2022-11-05T11:25:27.543Z"
   },
   {
    "duration": 11,
    "start_time": "2022-11-05T11:25:34.532Z"
   },
   {
    "duration": 11,
    "start_time": "2022-11-05T11:25:42.171Z"
   },
   {
    "duration": 13,
    "start_time": "2022-11-05T11:25:56.315Z"
   },
   {
    "duration": 14,
    "start_time": "2022-11-05T11:26:09.559Z"
   },
   {
    "duration": 19,
    "start_time": "2022-11-05T11:26:41.388Z"
   },
   {
    "duration": 5,
    "start_time": "2022-11-05T11:26:41.673Z"
   },
   {
    "duration": 5,
    "start_time": "2022-11-05T11:27:23.582Z"
   },
   {
    "duration": 7,
    "start_time": "2022-11-05T11:27:26.761Z"
   },
   {
    "duration": 6,
    "start_time": "2022-11-05T11:27:32.716Z"
   },
   {
    "duration": 4,
    "start_time": "2022-11-05T11:27:33.604Z"
   },
   {
    "duration": 8,
    "start_time": "2022-11-05T11:27:42.135Z"
   },
   {
    "duration": 8,
    "start_time": "2022-11-05T11:27:51.005Z"
   },
   {
    "duration": 8,
    "start_time": "2022-11-05T11:28:03.970Z"
   },
   {
    "duration": 4,
    "start_time": "2022-11-05T11:28:04.662Z"
   },
   {
    "duration": 7,
    "start_time": "2022-11-05T11:28:08.562Z"
   },
   {
    "duration": 5,
    "start_time": "2022-11-05T11:28:14.984Z"
   },
   {
    "duration": 12,
    "start_time": "2022-11-05T11:28:18.763Z"
   },
   {
    "duration": 8,
    "start_time": "2022-11-05T11:28:43.528Z"
   },
   {
    "duration": 16,
    "start_time": "2022-11-05T13:05:59.627Z"
   },
   {
    "duration": 30,
    "start_time": "2022-11-05T13:06:36.260Z"
   },
   {
    "duration": 18,
    "start_time": "2022-11-05T13:06:46.902Z"
   },
   {
    "duration": 21,
    "start_time": "2022-11-05T13:07:01.099Z"
   },
   {
    "duration": 10,
    "start_time": "2022-11-05T13:08:43.607Z"
   },
   {
    "duration": 19,
    "start_time": "2022-11-05T13:08:54.209Z"
   },
   {
    "duration": 14,
    "start_time": "2022-11-05T13:09:00.825Z"
   },
   {
    "duration": 15,
    "start_time": "2022-11-05T13:09:28.572Z"
   },
   {
    "duration": 24,
    "start_time": "2022-11-05T13:09:41.268Z"
   },
   {
    "duration": 95,
    "start_time": "2022-11-05T13:11:43.598Z"
   },
   {
    "duration": 3,
    "start_time": "2022-11-05T13:11:46.686Z"
   },
   {
    "duration": 4,
    "start_time": "2022-11-05T13:11:47.237Z"
   },
   {
    "duration": 62,
    "start_time": "2022-11-05T13:11:47.787Z"
   },
   {
    "duration": 22,
    "start_time": "2022-11-05T13:12:41.498Z"
   },
   {
    "duration": 17,
    "start_time": "2022-11-05T13:13:06.635Z"
   },
   {
    "duration": 20,
    "start_time": "2022-11-05T13:13:08.535Z"
   },
   {
    "duration": 19,
    "start_time": "2022-11-05T13:13:09.027Z"
   },
   {
    "duration": 475,
    "start_time": "2022-11-05T13:13:41.882Z"
   },
   {
    "duration": 2613,
    "start_time": "2022-11-05T13:13:42.359Z"
   },
   {
    "duration": 11,
    "start_time": "2022-11-05T13:13:44.974Z"
   },
   {
    "duration": 91,
    "start_time": "2022-11-05T13:13:44.987Z"
   },
   {
    "duration": 28,
    "start_time": "2022-11-05T13:13:45.080Z"
   },
   {
    "duration": 34,
    "start_time": "2022-11-05T13:13:45.110Z"
   },
   {
    "duration": 3,
    "start_time": "2022-11-05T13:13:45.145Z"
   },
   {
    "duration": 11,
    "start_time": "2022-11-05T13:13:45.149Z"
   },
   {
    "duration": 74,
    "start_time": "2022-11-05T13:13:45.161Z"
   },
   {
    "duration": 6,
    "start_time": "2022-11-05T13:13:45.239Z"
   },
   {
    "duration": 15,
    "start_time": "2022-11-05T13:13:45.246Z"
   },
   {
    "duration": 19,
    "start_time": "2022-11-05T13:13:45.263Z"
   },
   {
    "duration": 540,
    "start_time": "2022-11-05T13:13:45.284Z"
   },
   {
    "duration": 373,
    "start_time": "2022-11-05T13:13:45.825Z"
   },
   {
    "duration": 462,
    "start_time": "2022-11-05T13:13:46.199Z"
   },
   {
    "duration": 294,
    "start_time": "2022-11-05T13:13:46.663Z"
   },
   {
    "duration": 372,
    "start_time": "2022-11-05T13:13:46.959Z"
   },
   {
    "duration": 299,
    "start_time": "2022-11-05T13:13:47.333Z"
   },
   {
    "duration": 306,
    "start_time": "2022-11-05T13:13:47.634Z"
   },
   {
    "duration": 301,
    "start_time": "2022-11-05T13:13:47.942Z"
   },
   {
    "duration": 192,
    "start_time": "2022-11-05T13:13:48.244Z"
   },
   {
    "duration": 369,
    "start_time": "2022-11-05T13:13:48.438Z"
   },
   {
    "duration": 1052,
    "start_time": "2022-11-05T13:13:48.809Z"
   },
   {
    "duration": 1093,
    "start_time": "2022-11-05T13:13:49.863Z"
   },
   {
    "duration": 397,
    "start_time": "2022-11-05T13:13:50.958Z"
   },
   {
    "duration": 265,
    "start_time": "2022-11-05T13:13:51.357Z"
   },
   {
    "duration": 263,
    "start_time": "2022-11-05T13:13:51.623Z"
   },
   {
    "duration": 358,
    "start_time": "2022-11-05T13:13:51.892Z"
   },
   {
    "duration": 266,
    "start_time": "2022-11-05T13:13:52.252Z"
   },
   {
    "duration": 204,
    "start_time": "2022-11-05T13:13:52.520Z"
   },
   {
    "duration": 184,
    "start_time": "2022-11-05T13:13:52.726Z"
   },
   {
    "duration": 207,
    "start_time": "2022-11-05T13:13:52.913Z"
   },
   {
    "duration": 180,
    "start_time": "2022-11-05T13:13:53.123Z"
   },
   {
    "duration": 210,
    "start_time": "2022-11-05T13:13:53.305Z"
   },
   {
    "duration": 204,
    "start_time": "2022-11-05T13:13:53.517Z"
   },
   {
    "duration": 184,
    "start_time": "2022-11-05T13:13:53.723Z"
   },
   {
    "duration": 49,
    "start_time": "2022-11-05T13:13:53.909Z"
   },
   {
    "duration": 197,
    "start_time": "2022-11-05T13:13:53.959Z"
   },
   {
    "duration": 5,
    "start_time": "2022-11-05T13:14:48.664Z"
   },
   {
    "duration": 22,
    "start_time": "2022-11-05T13:14:50.236Z"
   },
   {
    "duration": 79,
    "start_time": "2022-11-05T13:43:57.541Z"
   },
   {
    "duration": 11,
    "start_time": "2022-11-05T13:44:37.483Z"
   },
   {
    "duration": 95,
    "start_time": "2022-11-05T13:45:21.393Z"
   },
   {
    "duration": 9,
    "start_time": "2022-11-05T13:45:52.146Z"
   },
   {
    "duration": 6,
    "start_time": "2022-11-05T13:46:04.910Z"
   },
   {
    "duration": 122,
    "start_time": "2022-11-05T13:48:01.211Z"
   },
   {
    "duration": 98,
    "start_time": "2022-11-05T13:54:51.088Z"
   },
   {
    "duration": 83,
    "start_time": "2022-11-05T13:54:51.786Z"
   },
   {
    "duration": 93,
    "start_time": "2022-11-05T13:55:11.327Z"
   },
   {
    "duration": 96,
    "start_time": "2022-11-05T13:55:45.628Z"
   },
   {
    "duration": 92,
    "start_time": "2022-11-05T13:55:48.726Z"
   },
   {
    "duration": 111,
    "start_time": "2022-11-05T13:55:55.914Z"
   },
   {
    "duration": 129,
    "start_time": "2022-11-05T13:56:15.280Z"
   },
   {
    "duration": 121,
    "start_time": "2022-11-05T13:56:23.261Z"
   },
   {
    "duration": 114,
    "start_time": "2022-11-05T13:56:52.890Z"
   },
   {
    "duration": 153,
    "start_time": "2022-11-05T13:57:43.599Z"
   },
   {
    "duration": 127,
    "start_time": "2022-11-05T13:57:54.368Z"
   },
   {
    "duration": 132,
    "start_time": "2022-11-05T13:58:09.130Z"
   },
   {
    "duration": 16,
    "start_time": "2022-11-05T13:58:37.636Z"
   },
   {
    "duration": 150,
    "start_time": "2022-11-05T13:58:59.027Z"
   },
   {
    "duration": 146,
    "start_time": "2022-11-05T13:59:15.787Z"
   },
   {
    "duration": 4,
    "start_time": "2022-11-05T14:01:13.371Z"
   },
   {
    "duration": 19,
    "start_time": "2022-11-05T14:01:18.591Z"
   },
   {
    "duration": 18,
    "start_time": "2022-11-05T14:02:06.891Z"
   },
   {
    "duration": 4,
    "start_time": "2022-11-05T14:02:29.646Z"
   },
   {
    "duration": 4,
    "start_time": "2022-11-05T14:02:38.370Z"
   },
   {
    "duration": 133,
    "start_time": "2022-11-05T14:03:43.690Z"
   },
   {
    "duration": 171,
    "start_time": "2022-11-05T14:04:08.498Z"
   },
   {
    "duration": 158,
    "start_time": "2022-11-05T14:04:37.376Z"
   },
   {
    "duration": 65,
    "start_time": "2022-11-05T14:05:25.671Z"
   },
   {
    "duration": 77,
    "start_time": "2022-11-05T14:05:32.879Z"
   },
   {
    "duration": 177,
    "start_time": "2022-11-05T14:06:32.596Z"
   },
   {
    "duration": 161,
    "start_time": "2022-11-05T14:06:45.691Z"
   },
   {
    "duration": 161,
    "start_time": "2022-11-05T14:08:09.894Z"
   },
   {
    "duration": 76,
    "start_time": "2022-11-05T14:09:03.233Z"
   },
   {
    "duration": 165,
    "start_time": "2022-11-05T14:09:13.294Z"
   },
   {
    "duration": 141,
    "start_time": "2022-11-05T14:09:26.246Z"
   },
   {
    "duration": 156,
    "start_time": "2022-11-05T14:10:27.494Z"
   },
   {
    "duration": 136,
    "start_time": "2022-11-05T14:10:45.995Z"
   },
   {
    "duration": 5,
    "start_time": "2022-11-05T14:11:25.857Z"
   },
   {
    "duration": 161,
    "start_time": "2022-11-05T14:11:29.754Z"
   },
   {
    "duration": 149,
    "start_time": "2022-11-05T14:11:52.696Z"
   },
   {
    "duration": 179,
    "start_time": "2022-11-05T14:13:25.142Z"
   },
   {
    "duration": 381,
    "start_time": "2022-11-05T14:18:42.263Z"
   },
   {
    "duration": 2496,
    "start_time": "2022-11-05T14:18:42.646Z"
   },
   {
    "duration": 99,
    "start_time": "2022-11-05T14:18:45.144Z"
   },
   {
    "duration": 88,
    "start_time": "2022-11-05T14:18:45.245Z"
   },
   {
    "duration": 0,
    "start_time": "2022-11-05T14:18:45.336Z"
   },
   {
    "duration": 0,
    "start_time": "2022-11-05T14:18:45.338Z"
   },
   {
    "duration": 0,
    "start_time": "2022-11-05T14:18:45.340Z"
   },
   {
    "duration": 0,
    "start_time": "2022-11-05T14:18:45.341Z"
   },
   {
    "duration": 0,
    "start_time": "2022-11-05T14:18:45.343Z"
   },
   {
    "duration": 0,
    "start_time": "2022-11-05T14:18:45.344Z"
   },
   {
    "duration": 0,
    "start_time": "2022-11-05T14:18:45.346Z"
   },
   {
    "duration": 0,
    "start_time": "2022-11-05T14:18:45.347Z"
   },
   {
    "duration": 0,
    "start_time": "2022-11-05T14:18:45.349Z"
   },
   {
    "duration": 0,
    "start_time": "2022-11-05T14:18:45.350Z"
   },
   {
    "duration": 0,
    "start_time": "2022-11-05T14:18:45.352Z"
   },
   {
    "duration": 0,
    "start_time": "2022-11-05T14:18:45.354Z"
   },
   {
    "duration": 0,
    "start_time": "2022-11-05T14:18:45.355Z"
   },
   {
    "duration": 0,
    "start_time": "2022-11-05T14:18:45.357Z"
   },
   {
    "duration": 0,
    "start_time": "2022-11-05T14:18:45.359Z"
   },
   {
    "duration": 0,
    "start_time": "2022-11-05T14:18:45.360Z"
   },
   {
    "duration": 0,
    "start_time": "2022-11-05T14:18:45.362Z"
   },
   {
    "duration": 0,
    "start_time": "2022-11-05T14:18:45.363Z"
   },
   {
    "duration": 0,
    "start_time": "2022-11-05T14:18:45.365Z"
   },
   {
    "duration": 0,
    "start_time": "2022-11-05T14:18:45.366Z"
   },
   {
    "duration": 0,
    "start_time": "2022-11-05T14:18:45.367Z"
   },
   {
    "duration": 0,
    "start_time": "2022-11-05T14:18:45.369Z"
   },
   {
    "duration": 0,
    "start_time": "2022-11-05T14:18:45.431Z"
   },
   {
    "duration": 0,
    "start_time": "2022-11-05T14:18:45.433Z"
   },
   {
    "duration": 0,
    "start_time": "2022-11-05T14:18:45.434Z"
   },
   {
    "duration": 0,
    "start_time": "2022-11-05T14:18:45.436Z"
   },
   {
    "duration": 0,
    "start_time": "2022-11-05T14:18:45.438Z"
   },
   {
    "duration": 0,
    "start_time": "2022-11-05T14:18:45.439Z"
   },
   {
    "duration": 0,
    "start_time": "2022-11-05T14:18:45.441Z"
   },
   {
    "duration": 0,
    "start_time": "2022-11-05T14:18:45.442Z"
   },
   {
    "duration": 0,
    "start_time": "2022-11-05T14:18:45.444Z"
   },
   {
    "duration": 0,
    "start_time": "2022-11-05T14:18:45.445Z"
   },
   {
    "duration": 0,
    "start_time": "2022-11-05T14:18:45.447Z"
   },
   {
    "duration": 0,
    "start_time": "2022-11-05T14:18:45.449Z"
   },
   {
    "duration": 0,
    "start_time": "2022-11-05T14:18:45.450Z"
   },
   {
    "duration": 0,
    "start_time": "2022-11-05T14:18:45.452Z"
   },
   {
    "duration": 0,
    "start_time": "2022-11-05T14:18:45.453Z"
   },
   {
    "duration": 142,
    "start_time": "2022-11-05T14:19:05.064Z"
   },
   {
    "duration": 143,
    "start_time": "2022-11-05T14:19:10.848Z"
   },
   {
    "duration": 65,
    "start_time": "2022-11-05T14:33:15.398Z"
   },
   {
    "duration": 16,
    "start_time": "2022-11-05T14:35:38.785Z"
   },
   {
    "duration": 7,
    "start_time": "2022-11-05T14:35:53.703Z"
   },
   {
    "duration": 9,
    "start_time": "2022-11-05T14:36:15.997Z"
   },
   {
    "duration": 8,
    "start_time": "2022-11-05T14:36:24.019Z"
   },
   {
    "duration": 10,
    "start_time": "2022-11-05T14:36:30.504Z"
   },
   {
    "duration": 5,
    "start_time": "2022-11-05T14:36:32.383Z"
   },
   {
    "duration": 8,
    "start_time": "2022-11-05T14:37:05.009Z"
   },
   {
    "duration": 12,
    "start_time": "2022-11-05T14:37:06.494Z"
   },
   {
    "duration": 5,
    "start_time": "2022-11-05T14:37:09.170Z"
   },
   {
    "duration": 12,
    "start_time": "2022-11-05T14:38:24.644Z"
   },
   {
    "duration": 13,
    "start_time": "2022-11-05T14:38:25.755Z"
   },
   {
    "duration": 6,
    "start_time": "2022-11-05T14:38:26.393Z"
   },
   {
    "duration": 8,
    "start_time": "2022-11-05T14:38:27.108Z"
   },
   {
    "duration": 10,
    "start_time": "2022-11-05T14:39:12.861Z"
   },
   {
    "duration": 10,
    "start_time": "2022-11-05T14:39:13.392Z"
   },
   {
    "duration": 5,
    "start_time": "2022-11-05T14:39:14.049Z"
   },
   {
    "duration": 6,
    "start_time": "2022-11-05T14:39:14.604Z"
   },
   {
    "duration": 14,
    "start_time": "2022-11-05T14:39:57.426Z"
   },
   {
    "duration": 12,
    "start_time": "2022-11-05T14:39:57.917Z"
   },
   {
    "duration": 5,
    "start_time": "2022-11-05T14:39:58.428Z"
   },
   {
    "duration": 5,
    "start_time": "2022-11-05T14:39:58.930Z"
   },
   {
    "duration": 15,
    "start_time": "2022-11-05T14:41:14.585Z"
   },
   {
    "duration": 10,
    "start_time": "2022-11-05T14:41:15.047Z"
   },
   {
    "duration": 5,
    "start_time": "2022-11-05T14:41:15.663Z"
   },
   {
    "duration": 6,
    "start_time": "2022-11-05T14:41:16.174Z"
   },
   {
    "duration": 21,
    "start_time": "2022-11-05T14:41:57.966Z"
   },
   {
    "duration": 11,
    "start_time": "2022-11-05T14:41:58.376Z"
   },
   {
    "duration": 6,
    "start_time": "2022-11-05T14:41:58.962Z"
   },
   {
    "duration": 7,
    "start_time": "2022-11-05T14:41:59.502Z"
   },
   {
    "duration": 11,
    "start_time": "2022-11-05T14:42:12.000Z"
   },
   {
    "duration": 5,
    "start_time": "2022-11-05T14:42:12.987Z"
   },
   {
    "duration": 5,
    "start_time": "2022-11-05T14:42:13.526Z"
   },
   {
    "duration": 19,
    "start_time": "2022-11-05T14:44:22.633Z"
   },
   {
    "duration": 17,
    "start_time": "2022-11-05T14:44:26.430Z"
   },
   {
    "duration": 10,
    "start_time": "2022-11-05T14:44:26.906Z"
   },
   {
    "duration": 5,
    "start_time": "2022-11-05T14:44:27.601Z"
   },
   {
    "duration": 5,
    "start_time": "2022-11-05T14:44:28.186Z"
   },
   {
    "duration": 20,
    "start_time": "2022-11-05T14:55:38.044Z"
   },
   {
    "duration": 5,
    "start_time": "2022-11-05T14:55:43.286Z"
   },
   {
    "duration": 23,
    "start_time": "2022-11-05T14:55:44.612Z"
   },
   {
    "duration": 10,
    "start_time": "2022-11-05T14:55:45.090Z"
   },
   {
    "duration": 7,
    "start_time": "2022-11-05T14:55:45.697Z"
   },
   {
    "duration": 6,
    "start_time": "2022-11-05T14:55:46.186Z"
   },
   {
    "duration": 25,
    "start_time": "2022-11-05T14:56:13.940Z"
   },
   {
    "duration": 6,
    "start_time": "2022-11-05T14:56:19.063Z"
   },
   {
    "duration": 21,
    "start_time": "2022-11-05T14:56:20.357Z"
   },
   {
    "duration": 10,
    "start_time": "2022-11-05T14:56:20.742Z"
   },
   {
    "duration": 11,
    "start_time": "2022-11-05T14:56:21.219Z"
   },
   {
    "duration": 6,
    "start_time": "2022-11-05T14:56:21.697Z"
   },
   {
    "duration": 17,
    "start_time": "2022-11-05T14:56:39.930Z"
   },
   {
    "duration": 11,
    "start_time": "2022-11-05T14:57:01.134Z"
   },
   {
    "duration": 4,
    "start_time": "2022-11-05T14:57:01.703Z"
   },
   {
    "duration": 5,
    "start_time": "2022-11-05T14:57:02.177Z"
   },
   {
    "duration": 5,
    "start_time": "2022-11-05T14:58:08.651Z"
   },
   {
    "duration": 6,
    "start_time": "2022-11-05T14:58:13.329Z"
   },
   {
    "duration": 9,
    "start_time": "2022-11-05T14:59:04.479Z"
   },
   {
    "duration": 301,
    "start_time": "2022-11-05T14:59:12.051Z"
   },
   {
    "duration": 9,
    "start_time": "2022-11-05T14:59:27.085Z"
   },
   {
    "duration": 37,
    "start_time": "2022-11-05T14:59:46.672Z"
   },
   {
    "duration": 27,
    "start_time": "2022-11-05T15:03:02.657Z"
   },
   {
    "duration": 27,
    "start_time": "2022-11-05T15:03:35.683Z"
   },
   {
    "duration": 11,
    "start_time": "2022-11-05T15:03:38.007Z"
   },
   {
    "duration": 6,
    "start_time": "2022-11-05T15:03:38.746Z"
   },
   {
    "duration": 19,
    "start_time": "2022-11-05T15:03:39.394Z"
   },
   {
    "duration": 6,
    "start_time": "2022-11-05T15:03:49.635Z"
   },
   {
    "duration": 18,
    "start_time": "2022-11-05T15:03:52.441Z"
   },
   {
    "duration": 3,
    "start_time": "2022-11-05T15:13:50.836Z"
   },
   {
    "duration": 76,
    "start_time": "2022-11-05T15:13:53.445Z"
   },
   {
    "duration": 21,
    "start_time": "2022-11-05T15:14:05.995Z"
   },
   {
    "duration": 82,
    "start_time": "2022-11-05T15:15:45.702Z"
   },
   {
    "duration": 370,
    "start_time": "2022-11-05T15:15:59.829Z"
   },
   {
    "duration": 439,
    "start_time": "2022-11-05T15:16:16.663Z"
   },
   {
    "duration": 141,
    "start_time": "2022-11-05T15:29:00.405Z"
   },
   {
    "duration": 9,
    "start_time": "2022-11-05T15:29:00.846Z"
   },
   {
    "duration": 5,
    "start_time": "2022-11-05T15:29:01.343Z"
   },
   {
    "duration": 18,
    "start_time": "2022-11-05T15:29:01.878Z"
   },
   {
    "duration": 22,
    "start_time": "2022-11-05T15:32:18.221Z"
   },
   {
    "duration": 19,
    "start_time": "2022-11-05T15:33:53.711Z"
   },
   {
    "duration": 483,
    "start_time": "2022-11-05T15:33:59.553Z"
   },
   {
    "duration": 2702,
    "start_time": "2022-11-05T15:34:00.040Z"
   },
   {
    "duration": 118,
    "start_time": "2022-11-05T15:34:02.745Z"
   },
   {
    "duration": 68,
    "start_time": "2022-11-05T15:34:02.865Z"
   },
   {
    "duration": 18,
    "start_time": "2022-11-05T15:34:02.934Z"
   },
   {
    "duration": 2,
    "start_time": "2022-11-05T15:34:02.954Z"
   },
   {
    "duration": 75,
    "start_time": "2022-11-05T15:34:02.958Z"
   },
   {
    "duration": 9,
    "start_time": "2022-11-05T15:34:03.035Z"
   },
   {
    "duration": 4,
    "start_time": "2022-11-05T15:34:03.045Z"
   },
   {
    "duration": 18,
    "start_time": "2022-11-05T15:34:03.052Z"
   },
   {
    "duration": 5,
    "start_time": "2022-11-05T15:34:03.072Z"
   },
   {
    "duration": 64,
    "start_time": "2022-11-05T15:34:03.079Z"
   },
   {
    "duration": 2,
    "start_time": "2022-11-05T15:34:03.145Z"
   },
   {
    "duration": 10,
    "start_time": "2022-11-05T15:34:03.149Z"
   },
   {
    "duration": 83,
    "start_time": "2022-11-05T15:34:03.161Z"
   },
   {
    "duration": 8,
    "start_time": "2022-11-05T15:34:03.246Z"
   },
   {
    "duration": 17,
    "start_time": "2022-11-05T15:34:03.257Z"
   },
   {
    "duration": 131,
    "start_time": "2022-11-05T15:34:03.276Z"
   },
   {
    "duration": 0,
    "start_time": "2022-11-05T15:34:03.409Z"
   },
   {
    "duration": 0,
    "start_time": "2022-11-05T15:34:03.410Z"
   },
   {
    "duration": 0,
    "start_time": "2022-11-05T15:34:03.411Z"
   },
   {
    "duration": 0,
    "start_time": "2022-11-05T15:34:03.412Z"
   },
   {
    "duration": 0,
    "start_time": "2022-11-05T15:34:03.414Z"
   },
   {
    "duration": 0,
    "start_time": "2022-11-05T15:34:03.415Z"
   },
   {
    "duration": 0,
    "start_time": "2022-11-05T15:34:03.417Z"
   },
   {
    "duration": 0,
    "start_time": "2022-11-05T15:34:03.434Z"
   },
   {
    "duration": 0,
    "start_time": "2022-11-05T15:34:03.435Z"
   },
   {
    "duration": 0,
    "start_time": "2022-11-05T15:34:03.437Z"
   },
   {
    "duration": 0,
    "start_time": "2022-11-05T15:34:03.438Z"
   },
   {
    "duration": 0,
    "start_time": "2022-11-05T15:34:03.439Z"
   },
   {
    "duration": 0,
    "start_time": "2022-11-05T15:34:03.441Z"
   },
   {
    "duration": 0,
    "start_time": "2022-11-05T15:34:03.442Z"
   },
   {
    "duration": 0,
    "start_time": "2022-11-05T15:34:03.443Z"
   },
   {
    "duration": 0,
    "start_time": "2022-11-05T15:34:03.444Z"
   },
   {
    "duration": 0,
    "start_time": "2022-11-05T15:34:03.445Z"
   },
   {
    "duration": 0,
    "start_time": "2022-11-05T15:34:03.446Z"
   },
   {
    "duration": 0,
    "start_time": "2022-11-05T15:34:03.447Z"
   },
   {
    "duration": 0,
    "start_time": "2022-11-05T15:34:03.448Z"
   },
   {
    "duration": 0,
    "start_time": "2022-11-05T15:34:03.450Z"
   },
   {
    "duration": 0,
    "start_time": "2022-11-05T15:34:03.451Z"
   },
   {
    "duration": 0,
    "start_time": "2022-11-05T15:34:03.453Z"
   },
   {
    "duration": 0,
    "start_time": "2022-11-05T15:34:03.454Z"
   },
   {
    "duration": 0,
    "start_time": "2022-11-05T15:34:03.455Z"
   },
   {
    "duration": 483,
    "start_time": "2022-11-05T15:36:28.035Z"
   },
   {
    "duration": 2954,
    "start_time": "2022-11-05T15:36:28.520Z"
   },
   {
    "duration": 141,
    "start_time": "2022-11-05T15:36:31.476Z"
   },
   {
    "duration": 77,
    "start_time": "2022-11-05T15:36:31.619Z"
   },
   {
    "duration": 4,
    "start_time": "2022-11-05T15:36:31.698Z"
   },
   {
    "duration": 91,
    "start_time": "2022-11-05T15:36:31.704Z"
   },
   {
    "duration": 12,
    "start_time": "2022-11-05T15:36:31.797Z"
   },
   {
    "duration": 41,
    "start_time": "2022-11-05T15:36:31.811Z"
   },
   {
    "duration": 26,
    "start_time": "2022-11-05T15:36:31.854Z"
   },
   {
    "duration": 22,
    "start_time": "2022-11-05T15:36:31.884Z"
   },
   {
    "duration": 48,
    "start_time": "2022-11-05T15:36:31.908Z"
   },
   {
    "duration": 4,
    "start_time": "2022-11-05T15:36:31.958Z"
   },
   {
    "duration": 40,
    "start_time": "2022-11-05T15:36:31.964Z"
   },
   {
    "duration": 79,
    "start_time": "2022-11-05T15:36:32.006Z"
   },
   {
    "duration": 6,
    "start_time": "2022-11-05T15:36:32.087Z"
   },
   {
    "duration": 42,
    "start_time": "2022-11-05T15:36:32.095Z"
   },
   {
    "duration": 118,
    "start_time": "2022-11-05T15:36:32.141Z"
   },
   {
    "duration": 0,
    "start_time": "2022-11-05T15:36:32.262Z"
   },
   {
    "duration": 0,
    "start_time": "2022-11-05T15:36:32.263Z"
   },
   {
    "duration": 0,
    "start_time": "2022-11-05T15:36:32.265Z"
   },
   {
    "duration": 0,
    "start_time": "2022-11-05T15:36:32.267Z"
   },
   {
    "duration": 0,
    "start_time": "2022-11-05T15:36:32.268Z"
   },
   {
    "duration": 0,
    "start_time": "2022-11-05T15:36:32.270Z"
   },
   {
    "duration": 0,
    "start_time": "2022-11-05T15:36:32.271Z"
   },
   {
    "duration": 0,
    "start_time": "2022-11-05T15:36:32.273Z"
   },
   {
    "duration": 0,
    "start_time": "2022-11-05T15:36:32.274Z"
   },
   {
    "duration": 0,
    "start_time": "2022-11-05T15:36:32.276Z"
   },
   {
    "duration": 0,
    "start_time": "2022-11-05T15:36:32.277Z"
   },
   {
    "duration": 0,
    "start_time": "2022-11-05T15:36:32.279Z"
   },
   {
    "duration": 0,
    "start_time": "2022-11-05T15:36:32.280Z"
   },
   {
    "duration": 0,
    "start_time": "2022-11-05T15:36:32.282Z"
   },
   {
    "duration": 0,
    "start_time": "2022-11-05T15:36:32.284Z"
   },
   {
    "duration": 0,
    "start_time": "2022-11-05T15:36:32.337Z"
   },
   {
    "duration": 0,
    "start_time": "2022-11-05T15:36:32.339Z"
   },
   {
    "duration": 0,
    "start_time": "2022-11-05T15:36:32.340Z"
   },
   {
    "duration": 0,
    "start_time": "2022-11-05T15:36:32.341Z"
   },
   {
    "duration": 0,
    "start_time": "2022-11-05T15:36:32.342Z"
   },
   {
    "duration": 0,
    "start_time": "2022-11-05T15:36:32.344Z"
   },
   {
    "duration": 0,
    "start_time": "2022-11-05T15:36:32.345Z"
   },
   {
    "duration": 0,
    "start_time": "2022-11-05T15:36:32.346Z"
   },
   {
    "duration": 0,
    "start_time": "2022-11-05T15:36:32.347Z"
   },
   {
    "duration": 0,
    "start_time": "2022-11-05T15:36:32.349Z"
   },
   {
    "duration": 79,
    "start_time": "2022-11-05T15:38:37.507Z"
   },
   {
    "duration": 8,
    "start_time": "2022-11-05T15:38:47.763Z"
   },
   {
    "duration": 107,
    "start_time": "2022-11-05T15:39:09.706Z"
   },
   {
    "duration": 412,
    "start_time": "2022-11-05T15:39:32.687Z"
   },
   {
    "duration": 2785,
    "start_time": "2022-11-05T15:39:33.252Z"
   },
   {
    "duration": 110,
    "start_time": "2022-11-05T15:39:37.485Z"
   },
   {
    "duration": 69,
    "start_time": "2022-11-05T15:39:39.625Z"
   },
   {
    "duration": 98,
    "start_time": "2022-11-05T15:39:42.116Z"
   },
   {
    "duration": 98,
    "start_time": "2022-11-05T15:40:32.521Z"
   },
   {
    "duration": 273,
    "start_time": "2022-11-05T15:41:09.165Z"
   },
   {
    "duration": 287,
    "start_time": "2022-11-05T15:41:22.709Z"
   },
   {
    "duration": 15,
    "start_time": "2022-11-05T16:06:13.871Z"
   },
   {
    "duration": 633,
    "start_time": "2022-11-05T16:06:28.763Z"
   },
   {
    "duration": 2406,
    "start_time": "2022-11-05T16:06:29.399Z"
   },
   {
    "duration": 103,
    "start_time": "2022-11-05T16:06:33.421Z"
   },
   {
    "duration": 17,
    "start_time": "2022-11-05T16:06:34.213Z"
   },
   {
    "duration": 46,
    "start_time": "2022-11-05T16:06:36.137Z"
   },
   {
    "duration": 17,
    "start_time": "2022-11-05T16:06:56.398Z"
   },
   {
    "duration": 203,
    "start_time": "2022-11-05T16:07:02.036Z"
   },
   {
    "duration": 15,
    "start_time": "2022-11-05T16:07:30.297Z"
   },
   {
    "duration": 51,
    "start_time": "2022-11-06T08:10:16.408Z"
   },
   {
    "duration": 1352,
    "start_time": "2022-11-06T08:10:25.177Z"
   },
   {
    "duration": 2157,
    "start_time": "2022-11-06T08:10:26.531Z"
   },
   {
    "duration": 164,
    "start_time": "2022-11-06T08:10:28.690Z"
   },
   {
    "duration": 56,
    "start_time": "2022-11-06T08:10:28.857Z"
   },
   {
    "duration": 79,
    "start_time": "2022-11-06T08:10:28.915Z"
   },
   {
    "duration": 3,
    "start_time": "2022-11-06T08:10:29.010Z"
   },
   {
    "duration": 43,
    "start_time": "2022-11-06T08:10:29.015Z"
   },
   {
    "duration": 8,
    "start_time": "2022-11-06T08:10:29.060Z"
   },
   {
    "duration": 5,
    "start_time": "2022-11-06T08:10:29.070Z"
   },
   {
    "duration": 14,
    "start_time": "2022-11-06T08:10:29.108Z"
   },
   {
    "duration": 5,
    "start_time": "2022-11-06T08:10:29.124Z"
   },
   {
    "duration": 19,
    "start_time": "2022-11-06T08:10:29.131Z"
   },
   {
    "duration": 3,
    "start_time": "2022-11-06T08:10:29.152Z"
   },
   {
    "duration": 27,
    "start_time": "2022-11-06T08:10:29.157Z"
   },
   {
    "duration": 85,
    "start_time": "2022-11-06T08:10:29.186Z"
   },
   {
    "duration": 6,
    "start_time": "2022-11-06T08:10:29.273Z"
   },
   {
    "duration": 33,
    "start_time": "2022-11-06T08:10:29.281Z"
   },
   {
    "duration": 142,
    "start_time": "2022-11-06T08:10:29.316Z"
   },
   {
    "duration": 0,
    "start_time": "2022-11-06T08:10:29.460Z"
   },
   {
    "duration": 0,
    "start_time": "2022-11-06T08:10:29.461Z"
   },
   {
    "duration": 0,
    "start_time": "2022-11-06T08:10:29.462Z"
   },
   {
    "duration": 0,
    "start_time": "2022-11-06T08:10:29.463Z"
   },
   {
    "duration": 0,
    "start_time": "2022-11-06T08:10:29.464Z"
   },
   {
    "duration": 0,
    "start_time": "2022-11-06T08:10:29.466Z"
   },
   {
    "duration": 0,
    "start_time": "2022-11-06T08:10:29.467Z"
   },
   {
    "duration": 0,
    "start_time": "2022-11-06T08:10:29.468Z"
   },
   {
    "duration": 0,
    "start_time": "2022-11-06T08:10:29.469Z"
   },
   {
    "duration": 0,
    "start_time": "2022-11-06T08:10:29.470Z"
   },
   {
    "duration": 0,
    "start_time": "2022-11-06T08:10:29.472Z"
   },
   {
    "duration": 0,
    "start_time": "2022-11-06T08:10:29.473Z"
   },
   {
    "duration": 0,
    "start_time": "2022-11-06T08:10:29.475Z"
   },
   {
    "duration": 0,
    "start_time": "2022-11-06T08:10:29.477Z"
   },
   {
    "duration": 0,
    "start_time": "2022-11-06T08:10:29.478Z"
   },
   {
    "duration": 0,
    "start_time": "2022-11-06T08:10:29.509Z"
   },
   {
    "duration": 0,
    "start_time": "2022-11-06T08:10:29.511Z"
   },
   {
    "duration": 0,
    "start_time": "2022-11-06T08:10:29.512Z"
   },
   {
    "duration": 0,
    "start_time": "2022-11-06T08:10:29.514Z"
   },
   {
    "duration": 0,
    "start_time": "2022-11-06T08:10:29.516Z"
   },
   {
    "duration": 0,
    "start_time": "2022-11-06T08:10:29.517Z"
   },
   {
    "duration": 0,
    "start_time": "2022-11-06T08:10:29.519Z"
   },
   {
    "duration": 0,
    "start_time": "2022-11-06T08:10:29.521Z"
   },
   {
    "duration": 0,
    "start_time": "2022-11-06T08:10:29.522Z"
   },
   {
    "duration": 0,
    "start_time": "2022-11-06T08:10:29.524Z"
   },
   {
    "duration": 42,
    "start_time": "2022-11-06T08:10:57.796Z"
   },
   {
    "duration": 249,
    "start_time": "2022-11-06T08:11:02.199Z"
   },
   {
    "duration": 209,
    "start_time": "2022-11-06T08:12:30.369Z"
   },
   {
    "duration": 13,
    "start_time": "2022-11-06T08:13:16.604Z"
   },
   {
    "duration": 12,
    "start_time": "2022-11-06T08:14:45.985Z"
   },
   {
    "duration": 870,
    "start_time": "2022-11-06T08:14:50.856Z"
   },
   {
    "duration": 857,
    "start_time": "2022-11-06T08:15:32.697Z"
   },
   {
    "duration": 708,
    "start_time": "2022-11-06T08:16:48.803Z"
   },
   {
    "duration": 8,
    "start_time": "2022-11-06T08:18:06.791Z"
   },
   {
    "duration": 772,
    "start_time": "2022-11-06T08:18:16.156Z"
   },
   {
    "duration": 1341,
    "start_time": "2022-11-06T08:18:25.467Z"
   },
   {
    "duration": 7212,
    "start_time": "2022-11-06T08:18:31.287Z"
   },
   {
    "duration": 7066,
    "start_time": "2022-11-06T08:18:52.928Z"
   },
   {
    "duration": 706,
    "start_time": "2022-11-06T08:19:06.972Z"
   },
   {
    "duration": 66,
    "start_time": "2022-11-06T08:24:05.357Z"
   },
   {
    "duration": 22,
    "start_time": "2022-11-06T08:24:12.244Z"
   },
   {
    "duration": 52,
    "start_time": "2022-11-06T08:24:25.274Z"
   },
   {
    "duration": 6,
    "start_time": "2022-11-06T08:24:25.905Z"
   },
   {
    "duration": 1162,
    "start_time": "2022-11-06T08:24:32.686Z"
   },
   {
    "duration": 1970,
    "start_time": "2022-11-06T08:24:33.850Z"
   },
   {
    "duration": 139,
    "start_time": "2022-11-06T08:24:39.465Z"
   },
   {
    "duration": 53,
    "start_time": "2022-11-06T08:24:42.567Z"
   },
   {
    "duration": 586,
    "start_time": "2022-11-06T08:25:43.446Z"
   },
   {
    "duration": 76,
    "start_time": "2022-11-06T08:27:04.965Z"
   },
   {
    "duration": 197,
    "start_time": "2022-11-06T08:27:26.127Z"
   },
   {
    "duration": 155,
    "start_time": "2022-11-06T08:27:33.586Z"
   },
   {
    "duration": 118,
    "start_time": "2022-11-06T08:28:30.162Z"
   },
   {
    "duration": 122,
    "start_time": "2022-11-06T08:28:56.835Z"
   },
   {
    "duration": 116,
    "start_time": "2022-11-06T08:29:02.826Z"
   },
   {
    "duration": 177,
    "start_time": "2022-11-06T08:30:07.727Z"
   },
   {
    "duration": 371,
    "start_time": "2022-11-06T08:30:44.816Z"
   },
   {
    "duration": 833,
    "start_time": "2022-11-06T08:30:57.309Z"
   },
   {
    "duration": 319,
    "start_time": "2022-11-06T08:31:13.656Z"
   },
   {
    "duration": 258,
    "start_time": "2022-11-06T08:32:26.344Z"
   },
   {
    "duration": 159,
    "start_time": "2022-11-06T08:32:38.439Z"
   },
   {
    "duration": 102,
    "start_time": "2022-11-06T08:32:48.941Z"
   },
   {
    "duration": 106,
    "start_time": "2022-11-06T08:33:29.453Z"
   },
   {
    "duration": 104,
    "start_time": "2022-11-06T08:33:46.665Z"
   },
   {
    "duration": 102,
    "start_time": "2022-11-06T08:33:52.598Z"
   },
   {
    "duration": 101,
    "start_time": "2022-11-06T08:34:54.698Z"
   },
   {
    "duration": 107,
    "start_time": "2022-11-06T08:35:05.596Z"
   },
   {
    "duration": 172,
    "start_time": "2022-11-06T08:35:56.207Z"
   },
   {
    "duration": 115,
    "start_time": "2022-11-06T08:36:03.258Z"
   },
   {
    "duration": 407,
    "start_time": "2022-11-06T08:36:20.860Z"
   },
   {
    "duration": 394,
    "start_time": "2022-11-06T08:36:28.666Z"
   },
   {
    "duration": 254,
    "start_time": "2022-11-06T08:36:38.296Z"
   },
   {
    "duration": 174,
    "start_time": "2022-11-06T08:36:44.923Z"
   },
   {
    "duration": 185,
    "start_time": "2022-11-06T08:36:51.406Z"
   },
   {
    "duration": 125,
    "start_time": "2022-11-06T08:36:55.543Z"
   },
   {
    "duration": 107,
    "start_time": "2022-11-06T08:41:56.088Z"
   },
   {
    "duration": 19,
    "start_time": "2022-11-06T08:45:49.291Z"
   },
   {
    "duration": 121,
    "start_time": "2022-11-06T08:49:00.994Z"
   },
   {
    "duration": 129,
    "start_time": "2022-11-06T08:50:48.396Z"
   },
   {
    "duration": 127,
    "start_time": "2022-11-06T08:52:09.778Z"
   },
   {
    "duration": 137,
    "start_time": "2022-11-06T08:53:20.498Z"
   },
   {
    "duration": 1085,
    "start_time": "2022-11-06T08:54:09.174Z"
   },
   {
    "duration": 2007,
    "start_time": "2022-11-06T08:54:10.261Z"
   },
   {
    "duration": 146,
    "start_time": "2022-11-06T08:54:13.412Z"
   },
   {
    "duration": 56,
    "start_time": "2022-11-06T08:54:14.622Z"
   },
   {
    "duration": 103,
    "start_time": "2022-11-06T08:54:18.478Z"
   },
   {
    "duration": 119,
    "start_time": "2022-11-06T08:54:20.465Z"
   },
   {
    "duration": 1147,
    "start_time": "2022-11-06T08:54:51.811Z"
   },
   {
    "duration": 1996,
    "start_time": "2022-11-06T08:54:52.960Z"
   },
   {
    "duration": 146,
    "start_time": "2022-11-06T08:54:54.958Z"
   },
   {
    "duration": 51,
    "start_time": "2022-11-06T08:54:55.105Z"
   },
   {
    "duration": 102,
    "start_time": "2022-11-06T08:54:56.059Z"
   },
   {
    "duration": 135,
    "start_time": "2022-11-06T08:54:57.418Z"
   },
   {
    "duration": 138,
    "start_time": "2022-11-06T08:55:08.325Z"
   },
   {
    "duration": 122,
    "start_time": "2022-11-06T08:57:08.926Z"
   },
   {
    "duration": 135,
    "start_time": "2022-11-06T08:57:22.629Z"
   },
   {
    "duration": 120,
    "start_time": "2022-11-06T08:57:39.599Z"
   },
   {
    "duration": 1115,
    "start_time": "2022-11-06T08:57:48.263Z"
   },
   {
    "duration": 1907,
    "start_time": "2022-11-06T08:57:49.381Z"
   },
   {
    "duration": 172,
    "start_time": "2022-11-06T08:57:54.482Z"
   },
   {
    "duration": 56,
    "start_time": "2022-11-06T08:57:54.886Z"
   },
   {
    "duration": 141,
    "start_time": "2022-11-06T08:57:57.824Z"
   },
   {
    "duration": 144,
    "start_time": "2022-11-06T08:58:02.938Z"
   },
   {
    "duration": 134,
    "start_time": "2022-11-06T08:58:24.671Z"
   },
   {
    "duration": 120,
    "start_time": "2022-11-06T09:00:45.889Z"
   },
   {
    "duration": 132,
    "start_time": "2022-11-06T09:02:56.284Z"
   },
   {
    "duration": 133,
    "start_time": "2022-11-06T09:03:55.198Z"
   },
   {
    "duration": 124,
    "start_time": "2022-11-06T09:05:03.480Z"
   },
   {
    "duration": 147,
    "start_time": "2022-11-06T09:05:06.389Z"
   },
   {
    "duration": 1180,
    "start_time": "2022-11-06T09:05:32.044Z"
   },
   {
    "duration": 1992,
    "start_time": "2022-11-06T09:05:33.228Z"
   },
   {
    "duration": 147,
    "start_time": "2022-11-06T09:05:35.222Z"
   },
   {
    "duration": 60,
    "start_time": "2022-11-06T09:05:35.371Z"
   },
   {
    "duration": 110,
    "start_time": "2022-11-06T09:05:35.432Z"
   },
   {
    "duration": 146,
    "start_time": "2022-11-06T09:05:35.544Z"
   },
   {
    "duration": 131,
    "start_time": "2022-11-06T09:05:35.692Z"
   },
   {
    "duration": 140,
    "start_time": "2022-11-06T09:05:35.824Z"
   },
   {
    "duration": 147,
    "start_time": "2022-11-06T09:05:35.967Z"
   },
   {
    "duration": 3,
    "start_time": "2022-11-06T09:05:36.115Z"
   },
   {
    "duration": 30,
    "start_time": "2022-11-06T09:05:36.119Z"
   },
   {
    "duration": 8,
    "start_time": "2022-11-06T09:05:36.150Z"
   },
   {
    "duration": 3,
    "start_time": "2022-11-06T09:05:36.160Z"
   },
   {
    "duration": 17,
    "start_time": "2022-11-06T09:05:36.165Z"
   },
   {
    "duration": 6,
    "start_time": "2022-11-06T09:05:36.210Z"
   },
   {
    "duration": 24,
    "start_time": "2022-11-06T09:05:36.217Z"
   },
   {
    "duration": 2,
    "start_time": "2022-11-06T09:05:36.243Z"
   },
   {
    "duration": 11,
    "start_time": "2022-11-06T09:05:36.247Z"
   },
   {
    "duration": 61,
    "start_time": "2022-11-06T09:05:36.261Z"
   },
   {
    "duration": 5,
    "start_time": "2022-11-06T09:05:36.323Z"
   },
   {
    "duration": 12,
    "start_time": "2022-11-06T09:05:36.330Z"
   },
   {
    "duration": 135,
    "start_time": "2022-11-06T09:05:36.343Z"
   },
   {
    "duration": 0,
    "start_time": "2022-11-06T09:05:36.481Z"
   },
   {
    "duration": 0,
    "start_time": "2022-11-06T09:05:36.482Z"
   },
   {
    "duration": 0,
    "start_time": "2022-11-06T09:05:36.484Z"
   },
   {
    "duration": 0,
    "start_time": "2022-11-06T09:05:36.486Z"
   },
   {
    "duration": 0,
    "start_time": "2022-11-06T09:05:36.487Z"
   },
   {
    "duration": 0,
    "start_time": "2022-11-06T09:05:36.488Z"
   },
   {
    "duration": 0,
    "start_time": "2022-11-06T09:05:36.489Z"
   },
   {
    "duration": 0,
    "start_time": "2022-11-06T09:05:36.509Z"
   },
   {
    "duration": 0,
    "start_time": "2022-11-06T09:05:36.511Z"
   },
   {
    "duration": 0,
    "start_time": "2022-11-06T09:05:36.512Z"
   },
   {
    "duration": 0,
    "start_time": "2022-11-06T09:05:36.513Z"
   },
   {
    "duration": 0,
    "start_time": "2022-11-06T09:05:36.514Z"
   },
   {
    "duration": 0,
    "start_time": "2022-11-06T09:05:36.515Z"
   },
   {
    "duration": 0,
    "start_time": "2022-11-06T09:05:36.516Z"
   },
   {
    "duration": 0,
    "start_time": "2022-11-06T09:05:36.517Z"
   },
   {
    "duration": 0,
    "start_time": "2022-11-06T09:05:36.518Z"
   },
   {
    "duration": 0,
    "start_time": "2022-11-06T09:05:36.519Z"
   },
   {
    "duration": 0,
    "start_time": "2022-11-06T09:05:36.520Z"
   },
   {
    "duration": 0,
    "start_time": "2022-11-06T09:05:36.521Z"
   },
   {
    "duration": 0,
    "start_time": "2022-11-06T09:05:36.522Z"
   },
   {
    "duration": 0,
    "start_time": "2022-11-06T09:05:36.523Z"
   },
   {
    "duration": 0,
    "start_time": "2022-11-06T09:05:36.524Z"
   },
   {
    "duration": 0,
    "start_time": "2022-11-06T09:05:36.525Z"
   },
   {
    "duration": 0,
    "start_time": "2022-11-06T09:05:36.526Z"
   },
   {
    "duration": 0,
    "start_time": "2022-11-06T09:05:36.528Z"
   },
   {
    "duration": 139,
    "start_time": "2022-11-06T09:06:56.442Z"
   },
   {
    "duration": 1094,
    "start_time": "2022-11-06T09:07:10.146Z"
   },
   {
    "duration": 1959,
    "start_time": "2022-11-06T09:07:11.242Z"
   },
   {
    "duration": 194,
    "start_time": "2022-11-06T09:07:13.203Z"
   },
   {
    "duration": 70,
    "start_time": "2022-11-06T09:07:13.400Z"
   },
   {
    "duration": 113,
    "start_time": "2022-11-06T09:07:13.472Z"
   },
   {
    "duration": 145,
    "start_time": "2022-11-06T09:07:13.587Z"
   },
   {
    "duration": 131,
    "start_time": "2022-11-06T09:07:13.733Z"
   },
   {
    "duration": 137,
    "start_time": "2022-11-06T09:07:13.865Z"
   },
   {
    "duration": 146,
    "start_time": "2022-11-06T09:07:14.008Z"
   },
   {
    "duration": 3,
    "start_time": "2022-11-06T09:07:14.157Z"
   },
   {
    "duration": 27,
    "start_time": "2022-11-06T09:07:14.162Z"
   },
   {
    "duration": 25,
    "start_time": "2022-11-06T09:07:14.191Z"
   },
   {
    "duration": 5,
    "start_time": "2022-11-06T09:07:14.218Z"
   },
   {
    "duration": 15,
    "start_time": "2022-11-06T09:07:14.224Z"
   },
   {
    "duration": 5,
    "start_time": "2022-11-06T09:07:14.241Z"
   },
   {
    "duration": 16,
    "start_time": "2022-11-06T09:07:14.248Z"
   },
   {
    "duration": 45,
    "start_time": "2022-11-06T09:07:14.266Z"
   },
   {
    "duration": 8,
    "start_time": "2022-11-06T09:07:14.313Z"
   },
   {
    "duration": 63,
    "start_time": "2022-11-06T09:07:14.322Z"
   },
   {
    "duration": 24,
    "start_time": "2022-11-06T09:07:14.387Z"
   },
   {
    "duration": 17,
    "start_time": "2022-11-06T09:07:14.413Z"
   },
   {
    "duration": 144,
    "start_time": "2022-11-06T09:07:14.432Z"
   },
   {
    "duration": 0,
    "start_time": "2022-11-06T09:07:14.579Z"
   },
   {
    "duration": 0,
    "start_time": "2022-11-06T09:07:14.580Z"
   },
   {
    "duration": 0,
    "start_time": "2022-11-06T09:07:14.583Z"
   },
   {
    "duration": 0,
    "start_time": "2022-11-06T09:07:14.584Z"
   },
   {
    "duration": 0,
    "start_time": "2022-11-06T09:07:14.585Z"
   },
   {
    "duration": 0,
    "start_time": "2022-11-06T09:07:14.586Z"
   },
   {
    "duration": 0,
    "start_time": "2022-11-06T09:07:14.587Z"
   },
   {
    "duration": 0,
    "start_time": "2022-11-06T09:07:14.588Z"
   },
   {
    "duration": 0,
    "start_time": "2022-11-06T09:07:14.589Z"
   },
   {
    "duration": 0,
    "start_time": "2022-11-06T09:07:14.590Z"
   },
   {
    "duration": 0,
    "start_time": "2022-11-06T09:07:14.590Z"
   },
   {
    "duration": 1,
    "start_time": "2022-11-06T09:07:14.611Z"
   },
   {
    "duration": 0,
    "start_time": "2022-11-06T09:07:14.613Z"
   },
   {
    "duration": 0,
    "start_time": "2022-11-06T09:07:14.616Z"
   },
   {
    "duration": 0,
    "start_time": "2022-11-06T09:07:14.617Z"
   },
   {
    "duration": 0,
    "start_time": "2022-11-06T09:07:14.619Z"
   },
   {
    "duration": 0,
    "start_time": "2022-11-06T09:07:14.620Z"
   },
   {
    "duration": 0,
    "start_time": "2022-11-06T09:07:14.622Z"
   },
   {
    "duration": 0,
    "start_time": "2022-11-06T09:07:14.623Z"
   },
   {
    "duration": 0,
    "start_time": "2022-11-06T09:07:14.625Z"
   },
   {
    "duration": 0,
    "start_time": "2022-11-06T09:07:14.626Z"
   },
   {
    "duration": 0,
    "start_time": "2022-11-06T09:07:14.627Z"
   },
   {
    "duration": 0,
    "start_time": "2022-11-06T09:07:14.628Z"
   },
   {
    "duration": 0,
    "start_time": "2022-11-06T09:07:14.631Z"
   },
   {
    "duration": 0,
    "start_time": "2022-11-06T09:07:14.632Z"
   },
   {
    "duration": 128,
    "start_time": "2022-11-06T09:07:30.641Z"
   },
   {
    "duration": 141,
    "start_time": "2022-11-06T09:07:58.748Z"
   },
   {
    "duration": 1270,
    "start_time": "2022-11-06T09:08:04.223Z"
   },
   {
    "duration": 1953,
    "start_time": "2022-11-06T09:08:05.495Z"
   },
   {
    "duration": 163,
    "start_time": "2022-11-06T09:08:07.450Z"
   },
   {
    "duration": 53,
    "start_time": "2022-11-06T09:08:07.615Z"
   },
   {
    "duration": 122,
    "start_time": "2022-11-06T09:08:07.670Z"
   },
   {
    "duration": 144,
    "start_time": "2022-11-06T09:08:07.794Z"
   },
   {
    "duration": 145,
    "start_time": "2022-11-06T09:08:07.941Z"
   },
   {
    "duration": 143,
    "start_time": "2022-11-06T09:08:08.088Z"
   },
   {
    "duration": 183,
    "start_time": "2022-11-06T09:08:08.233Z"
   },
   {
    "duration": 3,
    "start_time": "2022-11-06T09:08:08.418Z"
   },
   {
    "duration": 43,
    "start_time": "2022-11-06T09:08:08.423Z"
   },
   {
    "duration": 8,
    "start_time": "2022-11-06T09:08:08.468Z"
   },
   {
    "duration": 5,
    "start_time": "2022-11-06T09:08:08.477Z"
   },
   {
    "duration": 44,
    "start_time": "2022-11-06T09:08:08.483Z"
   },
   {
    "duration": 10,
    "start_time": "2022-11-06T09:08:08.528Z"
   },
   {
    "duration": 29,
    "start_time": "2022-11-06T09:08:08.540Z"
   },
   {
    "duration": 4,
    "start_time": "2022-11-06T09:08:08.571Z"
   },
   {
    "duration": 12,
    "start_time": "2022-11-06T09:08:08.577Z"
   },
   {
    "duration": 58,
    "start_time": "2022-11-06T09:08:08.591Z"
   },
   {
    "duration": 6,
    "start_time": "2022-11-06T09:08:08.650Z"
   },
   {
    "duration": 28,
    "start_time": "2022-11-06T09:08:08.657Z"
   },
   {
    "duration": 132,
    "start_time": "2022-11-06T09:08:08.687Z"
   },
   {
    "duration": 0,
    "start_time": "2022-11-06T09:08:08.822Z"
   },
   {
    "duration": 0,
    "start_time": "2022-11-06T09:08:08.823Z"
   },
   {
    "duration": 0,
    "start_time": "2022-11-06T09:08:08.824Z"
   },
   {
    "duration": 0,
    "start_time": "2022-11-06T09:08:08.825Z"
   },
   {
    "duration": 0,
    "start_time": "2022-11-06T09:08:08.825Z"
   },
   {
    "duration": 0,
    "start_time": "2022-11-06T09:08:08.826Z"
   },
   {
    "duration": 0,
    "start_time": "2022-11-06T09:08:08.827Z"
   },
   {
    "duration": 0,
    "start_time": "2022-11-06T09:08:08.828Z"
   },
   {
    "duration": 0,
    "start_time": "2022-11-06T09:08:08.829Z"
   },
   {
    "duration": 0,
    "start_time": "2022-11-06T09:08:08.830Z"
   },
   {
    "duration": 0,
    "start_time": "2022-11-06T09:08:08.832Z"
   },
   {
    "duration": 0,
    "start_time": "2022-11-06T09:08:08.833Z"
   },
   {
    "duration": 0,
    "start_time": "2022-11-06T09:08:08.834Z"
   },
   {
    "duration": 0,
    "start_time": "2022-11-06T09:08:08.835Z"
   },
   {
    "duration": 0,
    "start_time": "2022-11-06T09:08:08.836Z"
   },
   {
    "duration": 0,
    "start_time": "2022-11-06T09:08:08.836Z"
   },
   {
    "duration": 0,
    "start_time": "2022-11-06T09:08:08.837Z"
   },
   {
    "duration": 0,
    "start_time": "2022-11-06T09:08:08.838Z"
   },
   {
    "duration": 0,
    "start_time": "2022-11-06T09:08:08.839Z"
   },
   {
    "duration": 0,
    "start_time": "2022-11-06T09:08:08.840Z"
   },
   {
    "duration": 0,
    "start_time": "2022-11-06T09:08:08.841Z"
   },
   {
    "duration": 0,
    "start_time": "2022-11-06T09:08:08.842Z"
   },
   {
    "duration": 0,
    "start_time": "2022-11-06T09:08:08.843Z"
   },
   {
    "duration": 0,
    "start_time": "2022-11-06T09:08:08.844Z"
   },
   {
    "duration": 0,
    "start_time": "2022-11-06T09:08:08.845Z"
   },
   {
    "duration": 123,
    "start_time": "2022-11-06T09:09:58.042Z"
   },
   {
    "duration": 1131,
    "start_time": "2022-11-06T09:10:46.870Z"
   },
   {
    "duration": 1898,
    "start_time": "2022-11-06T09:10:48.002Z"
   },
   {
    "duration": 152,
    "start_time": "2022-11-06T09:10:49.902Z"
   },
   {
    "duration": 57,
    "start_time": "2022-11-06T09:10:50.057Z"
   },
   {
    "duration": 120,
    "start_time": "2022-11-06T09:10:50.116Z"
   },
   {
    "duration": 161,
    "start_time": "2022-11-06T09:10:50.238Z"
   },
   {
    "duration": 147,
    "start_time": "2022-11-06T09:10:50.400Z"
   },
   {
    "duration": 155,
    "start_time": "2022-11-06T09:10:50.548Z"
   },
   {
    "duration": 196,
    "start_time": "2022-11-06T09:10:50.704Z"
   },
   {
    "duration": 158,
    "start_time": "2022-11-06T09:10:50.902Z"
   },
   {
    "duration": 4,
    "start_time": "2022-11-06T09:10:51.063Z"
   },
   {
    "duration": 16,
    "start_time": "2022-11-06T09:10:51.069Z"
   },
   {
    "duration": 5,
    "start_time": "2022-11-06T09:10:51.086Z"
   },
   {
    "duration": 23,
    "start_time": "2022-11-06T09:10:51.093Z"
   },
   {
    "duration": 8,
    "start_time": "2022-11-06T09:10:51.117Z"
   },
   {
    "duration": 32,
    "start_time": "2022-11-06T09:10:51.126Z"
   },
   {
    "duration": 4,
    "start_time": "2022-11-06T09:10:51.160Z"
   },
   {
    "duration": 54,
    "start_time": "2022-11-06T09:10:51.165Z"
   },
   {
    "duration": 3,
    "start_time": "2022-11-06T09:10:51.221Z"
   },
   {
    "duration": 9,
    "start_time": "2022-11-06T09:10:51.226Z"
   },
   {
    "duration": 55,
    "start_time": "2022-11-06T09:10:51.236Z"
   },
   {
    "duration": 28,
    "start_time": "2022-11-06T09:10:51.293Z"
   },
   {
    "duration": 12,
    "start_time": "2022-11-06T09:10:51.324Z"
   },
   {
    "duration": 133,
    "start_time": "2022-11-06T09:10:51.338Z"
   },
   {
    "duration": 0,
    "start_time": "2022-11-06T09:10:51.473Z"
   },
   {
    "duration": 0,
    "start_time": "2022-11-06T09:10:51.474Z"
   },
   {
    "duration": 0,
    "start_time": "2022-11-06T09:10:51.475Z"
   },
   {
    "duration": 0,
    "start_time": "2022-11-06T09:10:51.476Z"
   },
   {
    "duration": 0,
    "start_time": "2022-11-06T09:10:51.477Z"
   },
   {
    "duration": 0,
    "start_time": "2022-11-06T09:10:51.478Z"
   },
   {
    "duration": 0,
    "start_time": "2022-11-06T09:10:51.478Z"
   },
   {
    "duration": 0,
    "start_time": "2022-11-06T09:10:51.479Z"
   },
   {
    "duration": 0,
    "start_time": "2022-11-06T09:10:51.480Z"
   },
   {
    "duration": 0,
    "start_time": "2022-11-06T09:10:51.481Z"
   },
   {
    "duration": 0,
    "start_time": "2022-11-06T09:10:51.482Z"
   },
   {
    "duration": 0,
    "start_time": "2022-11-06T09:10:51.483Z"
   },
   {
    "duration": 0,
    "start_time": "2022-11-06T09:10:51.484Z"
   },
   {
    "duration": 0,
    "start_time": "2022-11-06T09:10:51.485Z"
   },
   {
    "duration": 0,
    "start_time": "2022-11-06T09:10:51.486Z"
   },
   {
    "duration": 0,
    "start_time": "2022-11-06T09:10:51.488Z"
   },
   {
    "duration": 0,
    "start_time": "2022-11-06T09:10:51.512Z"
   },
   {
    "duration": 0,
    "start_time": "2022-11-06T09:10:51.515Z"
   },
   {
    "duration": 0,
    "start_time": "2022-11-06T09:10:51.517Z"
   },
   {
    "duration": 0,
    "start_time": "2022-11-06T09:10:51.519Z"
   },
   {
    "duration": 0,
    "start_time": "2022-11-06T09:10:51.521Z"
   },
   {
    "duration": 0,
    "start_time": "2022-11-06T09:10:51.522Z"
   },
   {
    "duration": 0,
    "start_time": "2022-11-06T09:10:51.524Z"
   },
   {
    "duration": 0,
    "start_time": "2022-11-06T09:10:51.525Z"
   },
   {
    "duration": 0,
    "start_time": "2022-11-06T09:10:51.527Z"
   },
   {
    "duration": 133,
    "start_time": "2022-11-06T09:11:30.467Z"
   },
   {
    "duration": 131,
    "start_time": "2022-11-06T09:12:12.075Z"
   },
   {
    "duration": 1119,
    "start_time": "2022-11-06T09:12:44.541Z"
   },
   {
    "duration": 2038,
    "start_time": "2022-11-06T09:12:45.662Z"
   },
   {
    "duration": 153,
    "start_time": "2022-11-06T09:12:47.701Z"
   },
   {
    "duration": 60,
    "start_time": "2022-11-06T09:12:47.856Z"
   },
   {
    "duration": 117,
    "start_time": "2022-11-06T09:12:47.918Z"
   },
   {
    "duration": 138,
    "start_time": "2022-11-06T09:12:48.037Z"
   },
   {
    "duration": 147,
    "start_time": "2022-11-06T09:12:48.177Z"
   },
   {
    "duration": 143,
    "start_time": "2022-11-06T09:12:48.326Z"
   },
   {
    "duration": 158,
    "start_time": "2022-11-06T09:12:48.470Z"
   },
   {
    "duration": 127,
    "start_time": "2022-11-06T09:12:48.631Z"
   },
   {
    "duration": 127,
    "start_time": "2022-11-06T09:12:48.760Z"
   },
   {
    "duration": 149,
    "start_time": "2022-11-06T09:12:48.888Z"
   },
   {
    "duration": 147,
    "start_time": "2022-11-06T09:12:49.039Z"
   },
   {
    "duration": 3,
    "start_time": "2022-11-06T09:12:49.188Z"
   },
   {
    "duration": 7,
    "start_time": "2022-11-06T09:12:49.192Z"
   },
   {
    "duration": 29,
    "start_time": "2022-11-06T09:12:49.200Z"
   },
   {
    "duration": 4,
    "start_time": "2022-11-06T09:12:49.231Z"
   },
   {
    "duration": 32,
    "start_time": "2022-11-06T09:12:49.236Z"
   },
   {
    "duration": 5,
    "start_time": "2022-11-06T09:12:49.269Z"
   },
   {
    "duration": 24,
    "start_time": "2022-11-06T09:12:49.276Z"
   },
   {
    "duration": 2,
    "start_time": "2022-11-06T09:12:49.310Z"
   },
   {
    "duration": 15,
    "start_time": "2022-11-06T09:12:49.314Z"
   },
   {
    "duration": 43,
    "start_time": "2022-11-06T09:12:49.330Z"
   },
   {
    "duration": 6,
    "start_time": "2022-11-06T09:12:49.375Z"
   },
   {
    "duration": 28,
    "start_time": "2022-11-06T09:12:49.382Z"
   },
   {
    "duration": 134,
    "start_time": "2022-11-06T09:12:49.411Z"
   },
   {
    "duration": 0,
    "start_time": "2022-11-06T09:12:49.548Z"
   },
   {
    "duration": 0,
    "start_time": "2022-11-06T09:12:49.549Z"
   },
   {
    "duration": 0,
    "start_time": "2022-11-06T09:12:49.549Z"
   },
   {
    "duration": 0,
    "start_time": "2022-11-06T09:12:49.550Z"
   },
   {
    "duration": 0,
    "start_time": "2022-11-06T09:12:49.551Z"
   },
   {
    "duration": 0,
    "start_time": "2022-11-06T09:12:49.552Z"
   },
   {
    "duration": 0,
    "start_time": "2022-11-06T09:12:49.554Z"
   },
   {
    "duration": 0,
    "start_time": "2022-11-06T09:12:49.554Z"
   },
   {
    "duration": 0,
    "start_time": "2022-11-06T09:12:49.555Z"
   },
   {
    "duration": 0,
    "start_time": "2022-11-06T09:12:49.556Z"
   },
   {
    "duration": 0,
    "start_time": "2022-11-06T09:12:49.557Z"
   },
   {
    "duration": 0,
    "start_time": "2022-11-06T09:12:49.558Z"
   },
   {
    "duration": 0,
    "start_time": "2022-11-06T09:12:49.559Z"
   },
   {
    "duration": 0,
    "start_time": "2022-11-06T09:12:49.560Z"
   },
   {
    "duration": 0,
    "start_time": "2022-11-06T09:12:49.561Z"
   },
   {
    "duration": 0,
    "start_time": "2022-11-06T09:12:49.562Z"
   },
   {
    "duration": 0,
    "start_time": "2022-11-06T09:12:49.562Z"
   },
   {
    "duration": 0,
    "start_time": "2022-11-06T09:12:49.563Z"
   },
   {
    "duration": 0,
    "start_time": "2022-11-06T09:12:49.564Z"
   },
   {
    "duration": 0,
    "start_time": "2022-11-06T09:12:49.564Z"
   },
   {
    "duration": 0,
    "start_time": "2022-11-06T09:12:49.565Z"
   },
   {
    "duration": 0,
    "start_time": "2022-11-06T09:12:49.566Z"
   },
   {
    "duration": 0,
    "start_time": "2022-11-06T09:12:49.567Z"
   },
   {
    "duration": 0,
    "start_time": "2022-11-06T09:12:49.568Z"
   },
   {
    "duration": 1,
    "start_time": "2022-11-06T09:12:49.568Z"
   },
   {
    "duration": 141,
    "start_time": "2022-11-06T09:20:41.870Z"
   },
   {
    "duration": 13,
    "start_time": "2022-11-06T09:24:21.966Z"
   },
   {
    "duration": 20,
    "start_time": "2022-11-06T09:24:45.103Z"
   },
   {
    "duration": 25,
    "start_time": "2022-11-06T09:25:20.298Z"
   },
   {
    "duration": 13,
    "start_time": "2022-11-06T09:25:35.179Z"
   },
   {
    "duration": 210,
    "start_time": "2022-11-06T09:25:40.361Z"
   },
   {
    "duration": 15,
    "start_time": "2022-11-06T09:26:00.776Z"
   },
   {
    "duration": 13,
    "start_time": "2022-11-06T09:26:16.138Z"
   },
   {
    "duration": 14,
    "start_time": "2022-11-06T09:26:54.398Z"
   },
   {
    "duration": 135,
    "start_time": "2022-11-06T09:28:10.660Z"
   },
   {
    "duration": 13,
    "start_time": "2022-11-06T09:29:06.340Z"
   },
   {
    "duration": 133,
    "start_time": "2022-11-06T09:29:52.044Z"
   },
   {
    "duration": 8,
    "start_time": "2022-11-06T09:30:02.622Z"
   },
   {
    "duration": 7,
    "start_time": "2022-11-06T09:30:22.456Z"
   },
   {
    "duration": 4,
    "start_time": "2022-11-06T09:30:43.025Z"
   },
   {
    "duration": 9,
    "start_time": "2022-11-06T09:31:18.934Z"
   },
   {
    "duration": 8,
    "start_time": "2022-11-06T09:31:36.374Z"
   },
   {
    "duration": 138,
    "start_time": "2022-11-06T09:31:41.625Z"
   },
   {
    "duration": 5,
    "start_time": "2022-11-06T09:31:58.594Z"
   },
   {
    "duration": 143,
    "start_time": "2022-11-06T09:32:01.339Z"
   },
   {
    "duration": 148,
    "start_time": "2022-11-06T09:32:36.203Z"
   },
   {
    "duration": 195,
    "start_time": "2022-11-06T09:32:41.541Z"
   },
   {
    "duration": 143,
    "start_time": "2022-11-06T09:34:03.265Z"
   },
   {
    "duration": 25,
    "start_time": "2022-11-06T09:34:26.300Z"
   },
   {
    "duration": 145,
    "start_time": "2022-11-06T09:35:58.326Z"
   },
   {
    "duration": 26,
    "start_time": "2022-11-06T09:36:40.950Z"
   },
   {
    "duration": 1167,
    "start_time": "2022-11-06T09:36:48.323Z"
   },
   {
    "duration": 2028,
    "start_time": "2022-11-06T09:36:49.492Z"
   },
   {
    "duration": 149,
    "start_time": "2022-11-06T09:36:51.522Z"
   },
   {
    "duration": 67,
    "start_time": "2022-11-06T09:36:51.673Z"
   },
   {
    "duration": 122,
    "start_time": "2022-11-06T09:36:51.741Z"
   },
   {
    "duration": 153,
    "start_time": "2022-11-06T09:36:51.865Z"
   },
   {
    "duration": 145,
    "start_time": "2022-11-06T09:36:52.020Z"
   },
   {
    "duration": 144,
    "start_time": "2022-11-06T09:36:52.167Z"
   },
   {
    "duration": 150,
    "start_time": "2022-11-06T09:36:52.313Z"
   },
   {
    "duration": 145,
    "start_time": "2022-11-06T09:36:52.467Z"
   },
   {
    "duration": 152,
    "start_time": "2022-11-06T09:36:52.617Z"
   },
   {
    "duration": 130,
    "start_time": "2022-11-06T09:36:52.771Z"
   },
   {
    "duration": 140,
    "start_time": "2022-11-06T09:36:52.902Z"
   },
   {
    "duration": 0,
    "start_time": "2022-11-06T09:36:53.044Z"
   },
   {
    "duration": 0,
    "start_time": "2022-11-06T09:36:53.045Z"
   },
   {
    "duration": 0,
    "start_time": "2022-11-06T09:36:53.046Z"
   },
   {
    "duration": 0,
    "start_time": "2022-11-06T09:36:53.048Z"
   },
   {
    "duration": 0,
    "start_time": "2022-11-06T09:36:53.049Z"
   },
   {
    "duration": 0,
    "start_time": "2022-11-06T09:36:53.050Z"
   },
   {
    "duration": 0,
    "start_time": "2022-11-06T09:36:53.051Z"
   },
   {
    "duration": 0,
    "start_time": "2022-11-06T09:36:53.052Z"
   },
   {
    "duration": 0,
    "start_time": "2022-11-06T09:36:53.053Z"
   },
   {
    "duration": 0,
    "start_time": "2022-11-06T09:36:53.055Z"
   },
   {
    "duration": 0,
    "start_time": "2022-11-06T09:36:53.056Z"
   },
   {
    "duration": 0,
    "start_time": "2022-11-06T09:36:53.057Z"
   },
   {
    "duration": 0,
    "start_time": "2022-11-06T09:36:53.058Z"
   },
   {
    "duration": 0,
    "start_time": "2022-11-06T09:36:53.059Z"
   },
   {
    "duration": 0,
    "start_time": "2022-11-06T09:36:53.059Z"
   },
   {
    "duration": 0,
    "start_time": "2022-11-06T09:36:53.061Z"
   },
   {
    "duration": 0,
    "start_time": "2022-11-06T09:36:53.062Z"
   },
   {
    "duration": 0,
    "start_time": "2022-11-06T09:36:53.063Z"
   },
   {
    "duration": 0,
    "start_time": "2022-11-06T09:36:53.063Z"
   },
   {
    "duration": 0,
    "start_time": "2022-11-06T09:36:53.065Z"
   },
   {
    "duration": 0,
    "start_time": "2022-11-06T09:36:53.066Z"
   },
   {
    "duration": 0,
    "start_time": "2022-11-06T09:36:53.067Z"
   },
   {
    "duration": 0,
    "start_time": "2022-11-06T09:36:53.067Z"
   },
   {
    "duration": 0,
    "start_time": "2022-11-06T09:36:53.109Z"
   },
   {
    "duration": 0,
    "start_time": "2022-11-06T09:36:53.110Z"
   },
   {
    "duration": 0,
    "start_time": "2022-11-06T09:36:53.110Z"
   },
   {
    "duration": 0,
    "start_time": "2022-11-06T09:36:53.111Z"
   },
   {
    "duration": 0,
    "start_time": "2022-11-06T09:36:53.112Z"
   },
   {
    "duration": 0,
    "start_time": "2022-11-06T09:36:53.112Z"
   },
   {
    "duration": 0,
    "start_time": "2022-11-06T09:36:53.113Z"
   },
   {
    "duration": 0,
    "start_time": "2022-11-06T09:36:53.114Z"
   },
   {
    "duration": 0,
    "start_time": "2022-11-06T09:36:53.114Z"
   },
   {
    "duration": 0,
    "start_time": "2022-11-06T09:36:53.116Z"
   },
   {
    "duration": 0,
    "start_time": "2022-11-06T09:36:53.117Z"
   },
   {
    "duration": 0,
    "start_time": "2022-11-06T09:36:53.118Z"
   },
   {
    "duration": 0,
    "start_time": "2022-11-06T09:36:53.119Z"
   },
   {
    "duration": 0,
    "start_time": "2022-11-06T09:36:53.120Z"
   },
   {
    "duration": 0,
    "start_time": "2022-11-06T09:36:53.121Z"
   },
   {
    "duration": 11,
    "start_time": "2022-11-06T09:37:23.570Z"
   },
   {
    "duration": 1190,
    "start_time": "2022-11-06T09:37:37.084Z"
   },
   {
    "duration": 1996,
    "start_time": "2022-11-06T09:37:38.276Z"
   },
   {
    "duration": 154,
    "start_time": "2022-11-06T09:37:40.274Z"
   },
   {
    "duration": 52,
    "start_time": "2022-11-06T09:37:40.429Z"
   },
   {
    "duration": 126,
    "start_time": "2022-11-06T09:37:40.483Z"
   },
   {
    "duration": 148,
    "start_time": "2022-11-06T09:37:40.611Z"
   },
   {
    "duration": 136,
    "start_time": "2022-11-06T09:37:40.761Z"
   },
   {
    "duration": 144,
    "start_time": "2022-11-06T09:37:40.899Z"
   },
   {
    "duration": 151,
    "start_time": "2022-11-06T09:37:41.045Z"
   },
   {
    "duration": 133,
    "start_time": "2022-11-06T09:37:41.209Z"
   },
   {
    "duration": 133,
    "start_time": "2022-11-06T09:37:41.344Z"
   },
   {
    "duration": 153,
    "start_time": "2022-11-06T09:37:41.479Z"
   },
   {
    "duration": 169,
    "start_time": "2022-11-06T09:37:41.634Z"
   },
   {
    "duration": 6,
    "start_time": "2022-11-06T09:37:41.805Z"
   },
   {
    "duration": 9,
    "start_time": "2022-11-06T09:37:41.813Z"
   },
   {
    "duration": 25,
    "start_time": "2022-11-06T09:37:41.824Z"
   },
   {
    "duration": 4,
    "start_time": "2022-11-06T09:37:41.850Z"
   },
   {
    "duration": 26,
    "start_time": "2022-11-06T09:37:41.856Z"
   },
   {
    "duration": 4,
    "start_time": "2022-11-06T09:37:41.884Z"
   },
   {
    "duration": 31,
    "start_time": "2022-11-06T09:37:41.889Z"
   },
   {
    "duration": 5,
    "start_time": "2022-11-06T09:37:41.921Z"
   },
   {
    "duration": 24,
    "start_time": "2022-11-06T09:37:41.927Z"
   },
   {
    "duration": 53,
    "start_time": "2022-11-06T09:37:41.953Z"
   },
   {
    "duration": 6,
    "start_time": "2022-11-06T09:37:42.007Z"
   },
   {
    "duration": 26,
    "start_time": "2022-11-06T09:37:42.014Z"
   },
   {
    "duration": 123,
    "start_time": "2022-11-06T09:37:42.042Z"
   },
   {
    "duration": 0,
    "start_time": "2022-11-06T09:37:42.167Z"
   },
   {
    "duration": 0,
    "start_time": "2022-11-06T09:37:42.168Z"
   },
   {
    "duration": 0,
    "start_time": "2022-11-06T09:37:42.170Z"
   },
   {
    "duration": 0,
    "start_time": "2022-11-06T09:37:42.171Z"
   },
   {
    "duration": 0,
    "start_time": "2022-11-06T09:37:42.172Z"
   },
   {
    "duration": 0,
    "start_time": "2022-11-06T09:37:42.173Z"
   },
   {
    "duration": 0,
    "start_time": "2022-11-06T09:37:42.174Z"
   },
   {
    "duration": 0,
    "start_time": "2022-11-06T09:37:42.175Z"
   },
   {
    "duration": 0,
    "start_time": "2022-11-06T09:37:42.176Z"
   },
   {
    "duration": 0,
    "start_time": "2022-11-06T09:37:42.177Z"
   },
   {
    "duration": 0,
    "start_time": "2022-11-06T09:37:42.178Z"
   },
   {
    "duration": 0,
    "start_time": "2022-11-06T09:37:42.179Z"
   },
   {
    "duration": 0,
    "start_time": "2022-11-06T09:37:42.180Z"
   },
   {
    "duration": 0,
    "start_time": "2022-11-06T09:37:42.209Z"
   },
   {
    "duration": 0,
    "start_time": "2022-11-06T09:37:42.210Z"
   },
   {
    "duration": 0,
    "start_time": "2022-11-06T09:37:42.216Z"
   },
   {
    "duration": 0,
    "start_time": "2022-11-06T09:37:42.218Z"
   },
   {
    "duration": 0,
    "start_time": "2022-11-06T09:37:42.219Z"
   },
   {
    "duration": 0,
    "start_time": "2022-11-06T09:37:42.220Z"
   },
   {
    "duration": 0,
    "start_time": "2022-11-06T09:37:42.221Z"
   },
   {
    "duration": 0,
    "start_time": "2022-11-06T09:37:42.222Z"
   },
   {
    "duration": 0,
    "start_time": "2022-11-06T09:37:42.222Z"
   },
   {
    "duration": 0,
    "start_time": "2022-11-06T09:37:42.223Z"
   },
   {
    "duration": 0,
    "start_time": "2022-11-06T09:37:42.224Z"
   },
   {
    "duration": 0,
    "start_time": "2022-11-06T09:37:42.225Z"
   },
   {
    "duration": 138,
    "start_time": "2022-11-06T09:38:10.726Z"
   },
   {
    "duration": 1170,
    "start_time": "2022-11-06T09:39:29.193Z"
   },
   {
    "duration": 1995,
    "start_time": "2022-11-06T09:39:30.365Z"
   },
   {
    "duration": 166,
    "start_time": "2022-11-06T09:39:32.363Z"
   },
   {
    "duration": 53,
    "start_time": "2022-11-06T09:39:32.531Z"
   },
   {
    "duration": 115,
    "start_time": "2022-11-06T09:39:32.586Z"
   },
   {
    "duration": 143,
    "start_time": "2022-11-06T09:39:32.711Z"
   },
   {
    "duration": 138,
    "start_time": "2022-11-06T09:39:32.855Z"
   },
   {
    "duration": 142,
    "start_time": "2022-11-06T09:39:32.995Z"
   },
   {
    "duration": 149,
    "start_time": "2022-11-06T09:39:33.139Z"
   },
   {
    "duration": 133,
    "start_time": "2022-11-06T09:39:33.291Z"
   },
   {
    "duration": 141,
    "start_time": "2022-11-06T09:39:33.425Z"
   },
   {
    "duration": 133,
    "start_time": "2022-11-06T09:39:33.568Z"
   },
   {
    "duration": 136,
    "start_time": "2022-11-06T09:39:33.702Z"
   },
   {
    "duration": 5,
    "start_time": "2022-11-06T09:39:33.840Z"
   },
   {
    "duration": 134,
    "start_time": "2022-11-06T09:39:33.847Z"
   },
   {
    "duration": 3,
    "start_time": "2022-11-06T09:39:33.982Z"
   },
   {
    "duration": 6,
    "start_time": "2022-11-06T09:39:33.986Z"
   },
   {
    "duration": 19,
    "start_time": "2022-11-06T09:39:33.993Z"
   },
   {
    "duration": 21,
    "start_time": "2022-11-06T09:39:34.014Z"
   },
   {
    "duration": 41,
    "start_time": "2022-11-06T09:39:34.036Z"
   },
   {
    "duration": 4,
    "start_time": "2022-11-06T09:39:34.079Z"
   },
   {
    "duration": 89,
    "start_time": "2022-11-06T09:39:34.085Z"
   },
   {
    "duration": 2,
    "start_time": "2022-11-06T09:39:34.176Z"
   },
   {
    "duration": 7,
    "start_time": "2022-11-06T09:39:34.179Z"
   },
   {
    "duration": 58,
    "start_time": "2022-11-06T09:39:34.188Z"
   },
   {
    "duration": 6,
    "start_time": "2022-11-06T09:39:34.247Z"
   },
   {
    "duration": 15,
    "start_time": "2022-11-06T09:39:34.254Z"
   },
   {
    "duration": 139,
    "start_time": "2022-11-06T09:39:34.272Z"
   },
   {
    "duration": 0,
    "start_time": "2022-11-06T09:39:34.413Z"
   },
   {
    "duration": 0,
    "start_time": "2022-11-06T09:39:34.414Z"
   },
   {
    "duration": 0,
    "start_time": "2022-11-06T09:39:34.415Z"
   },
   {
    "duration": 0,
    "start_time": "2022-11-06T09:39:34.417Z"
   },
   {
    "duration": 0,
    "start_time": "2022-11-06T09:39:34.418Z"
   },
   {
    "duration": 0,
    "start_time": "2022-11-06T09:39:34.419Z"
   },
   {
    "duration": 0,
    "start_time": "2022-11-06T09:39:34.421Z"
   },
   {
    "duration": 0,
    "start_time": "2022-11-06T09:39:34.422Z"
   },
   {
    "duration": 0,
    "start_time": "2022-11-06T09:39:34.423Z"
   },
   {
    "duration": 0,
    "start_time": "2022-11-06T09:39:34.424Z"
   },
   {
    "duration": 0,
    "start_time": "2022-11-06T09:39:34.425Z"
   },
   {
    "duration": 0,
    "start_time": "2022-11-06T09:39:34.427Z"
   },
   {
    "duration": 0,
    "start_time": "2022-11-06T09:39:34.428Z"
   },
   {
    "duration": 0,
    "start_time": "2022-11-06T09:39:34.430Z"
   },
   {
    "duration": 0,
    "start_time": "2022-11-06T09:39:34.431Z"
   },
   {
    "duration": 0,
    "start_time": "2022-11-06T09:39:34.432Z"
   },
   {
    "duration": 0,
    "start_time": "2022-11-06T09:39:34.433Z"
   },
   {
    "duration": 0,
    "start_time": "2022-11-06T09:39:34.435Z"
   },
   {
    "duration": 0,
    "start_time": "2022-11-06T09:39:34.436Z"
   },
   {
    "duration": 0,
    "start_time": "2022-11-06T09:39:34.437Z"
   },
   {
    "duration": 0,
    "start_time": "2022-11-06T09:39:34.438Z"
   },
   {
    "duration": 0,
    "start_time": "2022-11-06T09:39:34.440Z"
   },
   {
    "duration": 0,
    "start_time": "2022-11-06T09:39:34.442Z"
   },
   {
    "duration": 0,
    "start_time": "2022-11-06T09:39:34.443Z"
   },
   {
    "duration": 0,
    "start_time": "2022-11-06T09:39:34.445Z"
   },
   {
    "duration": 9,
    "start_time": "2022-11-06T09:40:13.589Z"
   },
   {
    "duration": 133,
    "start_time": "2022-11-06T09:40:15.461Z"
   },
   {
    "duration": 67,
    "start_time": "2022-11-06T09:40:52.321Z"
   },
   {
    "duration": 122,
    "start_time": "2022-11-06T09:42:05.421Z"
   },
   {
    "duration": 130,
    "start_time": "2022-11-06T09:42:41.540Z"
   },
   {
    "duration": 36,
    "start_time": "2022-11-06T09:47:48.747Z"
   },
   {
    "duration": 41,
    "start_time": "2022-11-06T09:49:33.965Z"
   },
   {
    "duration": 8,
    "start_time": "2022-11-06T09:49:35.685Z"
   },
   {
    "duration": 46,
    "start_time": "2022-11-06T09:49:39.921Z"
   },
   {
    "duration": 8,
    "start_time": "2022-11-06T09:49:41.974Z"
   },
   {
    "duration": 4,
    "start_time": "2022-11-06T09:49:46.593Z"
   },
   {
    "duration": 127,
    "start_time": "2022-11-06T09:49:48.143Z"
   },
   {
    "duration": 172,
    "start_time": "2022-11-06T09:50:24.541Z"
   },
   {
    "duration": 156,
    "start_time": "2022-11-06T09:50:26.908Z"
   },
   {
    "duration": 9,
    "start_time": "2022-11-06T09:55:09.243Z"
   },
   {
    "duration": 1095,
    "start_time": "2022-11-06T09:55:20.268Z"
   },
   {
    "duration": 2106,
    "start_time": "2022-11-06T09:55:21.366Z"
   },
   {
    "duration": 160,
    "start_time": "2022-11-06T09:55:23.474Z"
   },
   {
    "duration": 55,
    "start_time": "2022-11-06T09:55:23.636Z"
   },
   {
    "duration": 3,
    "start_time": "2022-11-06T09:55:23.693Z"
   },
   {
    "duration": 127,
    "start_time": "2022-11-06T09:55:23.698Z"
   },
   {
    "duration": 148,
    "start_time": "2022-11-06T09:55:23.827Z"
   },
   {
    "duration": 141,
    "start_time": "2022-11-06T09:55:23.977Z"
   },
   {
    "duration": 158,
    "start_time": "2022-11-06T09:55:24.119Z"
   },
   {
    "duration": 150,
    "start_time": "2022-11-06T09:55:24.279Z"
   },
   {
    "duration": 171,
    "start_time": "2022-11-06T09:55:24.431Z"
   },
   {
    "duration": 148,
    "start_time": "2022-11-06T09:55:24.616Z"
   },
   {
    "duration": 138,
    "start_time": "2022-11-06T09:55:24.765Z"
   },
   {
    "duration": 147,
    "start_time": "2022-11-06T09:55:24.904Z"
   },
   {
    "duration": 137,
    "start_time": "2022-11-06T09:55:25.052Z"
   },
   {
    "duration": 10,
    "start_time": "2022-11-06T09:55:25.190Z"
   },
   {
    "duration": 247,
    "start_time": "2022-11-06T09:55:25.201Z"
   },
   {
    "duration": 135,
    "start_time": "2022-11-06T09:55:25.450Z"
   },
   {
    "duration": 145,
    "start_time": "2022-11-06T09:55:25.587Z"
   },
   {
    "duration": 152,
    "start_time": "2022-11-06T09:55:25.734Z"
   },
   {
    "duration": 169,
    "start_time": "2022-11-06T09:55:25.887Z"
   },
   {
    "duration": 121,
    "start_time": "2022-11-06T09:55:26.058Z"
   },
   {
    "duration": 0,
    "start_time": "2022-11-06T09:55:26.182Z"
   },
   {
    "duration": 0,
    "start_time": "2022-11-06T09:55:26.183Z"
   },
   {
    "duration": 0,
    "start_time": "2022-11-06T09:55:26.185Z"
   },
   {
    "duration": 0,
    "start_time": "2022-11-06T09:55:26.186Z"
   },
   {
    "duration": 0,
    "start_time": "2022-11-06T09:55:26.188Z"
   },
   {
    "duration": 0,
    "start_time": "2022-11-06T09:55:26.189Z"
   },
   {
    "duration": 0,
    "start_time": "2022-11-06T09:55:26.190Z"
   },
   {
    "duration": 0,
    "start_time": "2022-11-06T09:55:26.192Z"
   },
   {
    "duration": 0,
    "start_time": "2022-11-06T09:55:26.194Z"
   },
   {
    "duration": 0,
    "start_time": "2022-11-06T09:55:26.210Z"
   },
   {
    "duration": 0,
    "start_time": "2022-11-06T09:55:26.212Z"
   },
   {
    "duration": 0,
    "start_time": "2022-11-06T09:55:26.213Z"
   },
   {
    "duration": 0,
    "start_time": "2022-11-06T09:55:26.214Z"
   },
   {
    "duration": 0,
    "start_time": "2022-11-06T09:55:26.215Z"
   },
   {
    "duration": 0,
    "start_time": "2022-11-06T09:55:26.216Z"
   },
   {
    "duration": 0,
    "start_time": "2022-11-06T09:55:26.217Z"
   },
   {
    "duration": 0,
    "start_time": "2022-11-06T09:55:26.223Z"
   },
   {
    "duration": 0,
    "start_time": "2022-11-06T09:55:26.224Z"
   },
   {
    "duration": 0,
    "start_time": "2022-11-06T09:55:26.225Z"
   },
   {
    "duration": 0,
    "start_time": "2022-11-06T09:55:26.226Z"
   },
   {
    "duration": 0,
    "start_time": "2022-11-06T09:55:26.227Z"
   },
   {
    "duration": 0,
    "start_time": "2022-11-06T09:55:26.228Z"
   },
   {
    "duration": 0,
    "start_time": "2022-11-06T09:55:26.229Z"
   },
   {
    "duration": 0,
    "start_time": "2022-11-06T09:55:26.230Z"
   },
   {
    "duration": 0,
    "start_time": "2022-11-06T09:55:26.232Z"
   },
   {
    "duration": 0,
    "start_time": "2022-11-06T09:55:26.233Z"
   },
   {
    "duration": 0,
    "start_time": "2022-11-06T09:55:26.235Z"
   },
   {
    "duration": 0,
    "start_time": "2022-11-06T09:55:26.236Z"
   },
   {
    "duration": 1,
    "start_time": "2022-11-06T09:55:26.236Z"
   },
   {
    "duration": 0,
    "start_time": "2022-11-06T09:55:26.237Z"
   },
   {
    "duration": 0,
    "start_time": "2022-11-06T09:55:26.238Z"
   },
   {
    "duration": 0,
    "start_time": "2022-11-06T09:55:26.238Z"
   },
   {
    "duration": 0,
    "start_time": "2022-11-06T09:55:26.239Z"
   },
   {
    "duration": 0,
    "start_time": "2022-11-06T09:55:26.240Z"
   },
   {
    "duration": 0,
    "start_time": "2022-11-06T09:55:26.242Z"
   },
   {
    "duration": 0,
    "start_time": "2022-11-06T09:55:26.243Z"
   },
   {
    "duration": 0,
    "start_time": "2022-11-06T09:55:26.244Z"
   },
   {
    "duration": 0,
    "start_time": "2022-11-06T09:55:26.245Z"
   },
   {
    "duration": 8,
    "start_time": "2022-11-06T09:56:26.345Z"
   },
   {
    "duration": 8,
    "start_time": "2022-11-06T09:56:42.995Z"
   },
   {
    "duration": 11,
    "start_time": "2022-11-06T09:56:49.273Z"
   },
   {
    "duration": 8,
    "start_time": "2022-11-06T09:56:54.838Z"
   },
   {
    "duration": 8,
    "start_time": "2022-11-06T09:56:59.598Z"
   },
   {
    "duration": 8,
    "start_time": "2022-11-06T09:57:06.648Z"
   },
   {
    "duration": 8,
    "start_time": "2022-11-06T09:57:11.900Z"
   },
   {
    "duration": 8,
    "start_time": "2022-11-06T09:57:17.457Z"
   },
   {
    "duration": 147,
    "start_time": "2022-11-06T09:57:24.089Z"
   },
   {
    "duration": 133,
    "start_time": "2022-11-06T09:57:29.509Z"
   },
   {
    "duration": 128,
    "start_time": "2022-11-06T09:57:57.622Z"
   },
   {
    "duration": 5,
    "start_time": "2022-11-06T09:57:58.401Z"
   },
   {
    "duration": 131,
    "start_time": "2022-11-06T09:57:59.039Z"
   },
   {
    "duration": 130,
    "start_time": "2022-11-06T09:58:42.779Z"
   },
   {
    "duration": 3,
    "start_time": "2022-11-06T09:58:43.450Z"
   },
   {
    "duration": 133,
    "start_time": "2022-11-06T09:58:43.949Z"
   },
   {
    "duration": 5,
    "start_time": "2022-11-06T09:59:19.853Z"
   },
   {
    "duration": 146,
    "start_time": "2022-11-06T09:59:20.384Z"
   },
   {
    "duration": 211,
    "start_time": "2022-11-06T10:00:12.684Z"
   },
   {
    "duration": 5,
    "start_time": "2022-11-06T10:00:15.461Z"
   },
   {
    "duration": 141,
    "start_time": "2022-11-06T10:00:16.021Z"
   },
   {
    "duration": 145,
    "start_time": "2022-11-06T10:02:03.601Z"
   },
   {
    "duration": 2,
    "start_time": "2022-11-06T10:02:05.525Z"
   },
   {
    "duration": 144,
    "start_time": "2022-11-06T10:02:06.121Z"
   },
   {
    "duration": 130,
    "start_time": "2022-11-06T10:03:29.983Z"
   },
   {
    "duration": 158,
    "start_time": "2022-11-06T10:04:31.396Z"
   },
   {
    "duration": 6,
    "start_time": "2022-11-06T10:04:33.826Z"
   },
   {
    "duration": 164,
    "start_time": "2022-11-06T10:04:34.425Z"
   },
   {
    "duration": 167,
    "start_time": "2022-11-06T10:05:17.170Z"
   },
   {
    "duration": 7,
    "start_time": "2022-11-06T10:05:17.926Z"
   },
   {
    "duration": 138,
    "start_time": "2022-11-06T10:05:18.463Z"
   },
   {
    "duration": 150,
    "start_time": "2022-11-06T10:07:37.103Z"
   },
   {
    "duration": 163,
    "start_time": "2022-11-06T10:07:41.393Z"
   },
   {
    "duration": 7,
    "start_time": "2022-11-06T10:08:18.539Z"
   },
   {
    "duration": 150,
    "start_time": "2022-11-06T10:08:34.995Z"
   },
   {
    "duration": 210,
    "start_time": "2022-11-06T10:08:41.758Z"
   },
   {
    "duration": 142,
    "start_time": "2022-11-06T10:09:41.517Z"
   },
   {
    "duration": 4,
    "start_time": "2022-11-06T10:10:18.714Z"
   },
   {
    "duration": 167,
    "start_time": "2022-11-06T10:10:34.487Z"
   },
   {
    "duration": 139,
    "start_time": "2022-11-06T10:11:47.665Z"
   },
   {
    "duration": 5,
    "start_time": "2022-11-06T10:12:38.098Z"
   },
   {
    "duration": 1162,
    "start_time": "2022-11-06T10:12:43.558Z"
   },
   {
    "duration": 1906,
    "start_time": "2022-11-06T10:12:44.722Z"
   },
   {
    "duration": 152,
    "start_time": "2022-11-06T10:12:46.630Z"
   },
   {
    "duration": 58,
    "start_time": "2022-11-06T10:12:46.784Z"
   },
   {
    "duration": 3,
    "start_time": "2022-11-06T10:12:46.844Z"
   },
   {
    "duration": 115,
    "start_time": "2022-11-06T10:12:46.848Z"
   },
   {
    "duration": 138,
    "start_time": "2022-11-06T10:12:46.964Z"
   },
   {
    "duration": 135,
    "start_time": "2022-11-06T10:12:47.103Z"
   },
   {
    "duration": 145,
    "start_time": "2022-11-06T10:12:47.240Z"
   },
   {
    "duration": 132,
    "start_time": "2022-11-06T10:12:47.388Z"
   },
   {
    "duration": 149,
    "start_time": "2022-11-06T10:12:47.522Z"
   },
   {
    "duration": 127,
    "start_time": "2022-11-06T10:12:47.674Z"
   },
   {
    "duration": 136,
    "start_time": "2022-11-06T10:12:47.803Z"
   },
   {
    "duration": 128,
    "start_time": "2022-11-06T10:12:47.940Z"
   },
   {
    "duration": 129,
    "start_time": "2022-11-06T10:12:48.070Z"
   },
   {
    "duration": 15,
    "start_time": "2022-11-06T10:12:48.201Z"
   },
   {
    "duration": 214,
    "start_time": "2022-11-06T10:12:48.217Z"
   },
   {
    "duration": 121,
    "start_time": "2022-11-06T10:12:48.433Z"
   },
   {
    "duration": 132,
    "start_time": "2022-11-06T10:12:48.555Z"
   },
   {
    "duration": 141,
    "start_time": "2022-11-06T10:12:48.688Z"
   },
   {
    "duration": 139,
    "start_time": "2022-11-06T10:12:48.831Z"
   },
   {
    "duration": 127,
    "start_time": "2022-11-06T10:12:48.972Z"
   },
   {
    "duration": 11,
    "start_time": "2022-11-06T10:12:49.100Z"
   },
   {
    "duration": 136,
    "start_time": "2022-11-06T10:12:49.112Z"
   },
   {
    "duration": 134,
    "start_time": "2022-11-06T10:12:49.250Z"
   },
   {
    "duration": 4,
    "start_time": "2022-11-06T10:12:49.385Z"
   },
   {
    "duration": 144,
    "start_time": "2022-11-06T10:12:49.390Z"
   },
   {
    "duration": 136,
    "start_time": "2022-11-06T10:12:49.538Z"
   },
   {
    "duration": 2,
    "start_time": "2022-11-06T10:12:49.675Z"
   },
   {
    "duration": 149,
    "start_time": "2022-11-06T10:12:49.678Z"
   },
   {
    "duration": 121,
    "start_time": "2022-11-06T10:12:49.828Z"
   },
   {
    "duration": 217,
    "start_time": "2022-11-06T10:12:49.950Z"
   },
   {
    "duration": 5,
    "start_time": "2022-11-06T10:12:50.168Z"
   },
   {
    "duration": 145,
    "start_time": "2022-11-06T10:12:50.174Z"
   },
   {
    "duration": 2,
    "start_time": "2022-11-06T10:12:50.321Z"
   },
   {
    "duration": 6,
    "start_time": "2022-11-06T10:12:50.325Z"
   },
   {
    "duration": 10,
    "start_time": "2022-11-06T10:12:50.332Z"
   },
   {
    "duration": 4,
    "start_time": "2022-11-06T10:12:50.343Z"
   },
   {
    "duration": 26,
    "start_time": "2022-11-06T10:12:50.349Z"
   },
   {
    "duration": 4,
    "start_time": "2022-11-06T10:12:50.377Z"
   },
   {
    "duration": 15,
    "start_time": "2022-11-06T10:12:50.409Z"
   },
   {
    "duration": 3,
    "start_time": "2022-11-06T10:12:50.426Z"
   },
   {
    "duration": 8,
    "start_time": "2022-11-06T10:12:50.430Z"
   },
   {
    "duration": 50,
    "start_time": "2022-11-06T10:12:50.440Z"
   },
   {
    "duration": 5,
    "start_time": "2022-11-06T10:12:50.508Z"
   },
   {
    "duration": 17,
    "start_time": "2022-11-06T10:12:50.515Z"
   },
   {
    "duration": 124,
    "start_time": "2022-11-06T10:12:50.533Z"
   },
   {
    "duration": 0,
    "start_time": "2022-11-06T10:12:50.658Z"
   },
   {
    "duration": 0,
    "start_time": "2022-11-06T10:12:50.659Z"
   },
   {
    "duration": 0,
    "start_time": "2022-11-06T10:12:50.660Z"
   },
   {
    "duration": 0,
    "start_time": "2022-11-06T10:12:50.661Z"
   },
   {
    "duration": 0,
    "start_time": "2022-11-06T10:12:50.662Z"
   },
   {
    "duration": 0,
    "start_time": "2022-11-06T10:12:50.663Z"
   },
   {
    "duration": 0,
    "start_time": "2022-11-06T10:12:50.664Z"
   },
   {
    "duration": 0,
    "start_time": "2022-11-06T10:12:50.665Z"
   },
   {
    "duration": 0,
    "start_time": "2022-11-06T10:12:50.666Z"
   },
   {
    "duration": 0,
    "start_time": "2022-11-06T10:12:50.667Z"
   },
   {
    "duration": 0,
    "start_time": "2022-11-06T10:12:50.668Z"
   },
   {
    "duration": 0,
    "start_time": "2022-11-06T10:12:50.669Z"
   },
   {
    "duration": 0,
    "start_time": "2022-11-06T10:12:50.670Z"
   },
   {
    "duration": 0,
    "start_time": "2022-11-06T10:12:50.671Z"
   },
   {
    "duration": 0,
    "start_time": "2022-11-06T10:12:50.672Z"
   },
   {
    "duration": 0,
    "start_time": "2022-11-06T10:12:50.673Z"
   },
   {
    "duration": 0,
    "start_time": "2022-11-06T10:12:50.673Z"
   },
   {
    "duration": 0,
    "start_time": "2022-11-06T10:12:50.674Z"
   },
   {
    "duration": 0,
    "start_time": "2022-11-06T10:12:50.675Z"
   },
   {
    "duration": 0,
    "start_time": "2022-11-06T10:12:50.676Z"
   },
   {
    "duration": 0,
    "start_time": "2022-11-06T10:12:50.709Z"
   },
   {
    "duration": 0,
    "start_time": "2022-11-06T10:12:50.710Z"
   },
   {
    "duration": 0,
    "start_time": "2022-11-06T10:12:50.711Z"
   },
   {
    "duration": 0,
    "start_time": "2022-11-06T10:12:50.712Z"
   },
   {
    "duration": 0,
    "start_time": "2022-11-06T10:12:50.713Z"
   },
   {
    "duration": 133,
    "start_time": "2022-11-06T10:14:06.766Z"
   },
   {
    "duration": 17,
    "start_time": "2022-11-06T10:14:08.983Z"
   },
   {
    "duration": 12,
    "start_time": "2022-11-06T10:14:24.415Z"
   },
   {
    "duration": 1155,
    "start_time": "2022-11-06T10:14:30.989Z"
   },
   {
    "duration": 1874,
    "start_time": "2022-11-06T10:14:32.146Z"
   },
   {
    "duration": 145,
    "start_time": "2022-11-06T10:14:34.021Z"
   },
   {
    "duration": 55,
    "start_time": "2022-11-06T10:14:34.168Z"
   },
   {
    "duration": 3,
    "start_time": "2022-11-06T10:14:34.224Z"
   },
   {
    "duration": 113,
    "start_time": "2022-11-06T10:14:34.229Z"
   },
   {
    "duration": 178,
    "start_time": "2022-11-06T10:14:34.344Z"
   },
   {
    "duration": 167,
    "start_time": "2022-11-06T10:14:34.524Z"
   },
   {
    "duration": 138,
    "start_time": "2022-11-06T10:14:34.692Z"
   },
   {
    "duration": 125,
    "start_time": "2022-11-06T10:14:34.832Z"
   },
   {
    "duration": 153,
    "start_time": "2022-11-06T10:14:34.958Z"
   },
   {
    "duration": 126,
    "start_time": "2022-11-06T10:14:35.112Z"
   },
   {
    "duration": 134,
    "start_time": "2022-11-06T10:14:35.239Z"
   },
   {
    "duration": 135,
    "start_time": "2022-11-06T10:14:35.375Z"
   },
   {
    "duration": 130,
    "start_time": "2022-11-06T10:14:35.512Z"
   },
   {
    "duration": 9,
    "start_time": "2022-11-06T10:14:35.644Z"
   },
   {
    "duration": 211,
    "start_time": "2022-11-06T10:14:35.655Z"
   },
   {
    "duration": 127,
    "start_time": "2022-11-06T10:14:35.867Z"
   },
   {
    "duration": 140,
    "start_time": "2022-11-06T10:14:35.995Z"
   },
   {
    "duration": 147,
    "start_time": "2022-11-06T10:14:36.136Z"
   },
   {
    "duration": 147,
    "start_time": "2022-11-06T10:14:36.285Z"
   },
   {
    "duration": 142,
    "start_time": "2022-11-06T10:14:36.434Z"
   },
   {
    "duration": 4,
    "start_time": "2022-11-06T10:14:36.578Z"
   },
   {
    "duration": 136,
    "start_time": "2022-11-06T10:14:36.583Z"
   },
   {
    "duration": 146,
    "start_time": "2022-11-06T10:14:36.721Z"
   },
   {
    "duration": 5,
    "start_time": "2022-11-06T10:14:36.869Z"
   },
   {
    "duration": 153,
    "start_time": "2022-11-06T10:14:36.875Z"
   },
   {
    "duration": 142,
    "start_time": "2022-11-06T10:14:37.031Z"
   },
   {
    "duration": 2,
    "start_time": "2022-11-06T10:14:37.175Z"
   },
   {
    "duration": 154,
    "start_time": "2022-11-06T10:14:37.178Z"
   },
   {
    "duration": 129,
    "start_time": "2022-11-06T10:14:37.334Z"
   },
   {
    "duration": 214,
    "start_time": "2022-11-06T10:14:37.465Z"
   },
   {
    "duration": 8,
    "start_time": "2022-11-06T10:14:37.681Z"
   },
   {
    "duration": 18,
    "start_time": "2022-11-06T10:14:37.691Z"
   },
   {
    "duration": 135,
    "start_time": "2022-11-06T10:14:37.711Z"
   },
   {
    "duration": 2,
    "start_time": "2022-11-06T10:14:37.848Z"
   },
   {
    "duration": 6,
    "start_time": "2022-11-06T10:14:37.852Z"
   },
   {
    "duration": 11,
    "start_time": "2022-11-06T10:14:37.860Z"
   },
   {
    "duration": 4,
    "start_time": "2022-11-06T10:14:37.873Z"
   },
   {
    "duration": 49,
    "start_time": "2022-11-06T10:14:37.879Z"
   },
   {
    "duration": 6,
    "start_time": "2022-11-06T10:14:37.929Z"
   },
   {
    "duration": 17,
    "start_time": "2022-11-06T10:14:37.936Z"
   },
   {
    "duration": 1,
    "start_time": "2022-11-06T10:14:37.955Z"
   },
   {
    "duration": 8,
    "start_time": "2022-11-06T10:14:37.958Z"
   },
   {
    "duration": 64,
    "start_time": "2022-11-06T10:14:37.967Z"
   },
   {
    "duration": 5,
    "start_time": "2022-11-06T10:14:38.032Z"
   },
   {
    "duration": 12,
    "start_time": "2022-11-06T10:14:38.038Z"
   },
   {
    "duration": 134,
    "start_time": "2022-11-06T10:14:38.051Z"
   },
   {
    "duration": 0,
    "start_time": "2022-11-06T10:14:38.186Z"
   },
   {
    "duration": 0,
    "start_time": "2022-11-06T10:14:38.188Z"
   },
   {
    "duration": 0,
    "start_time": "2022-11-06T10:14:38.189Z"
   },
   {
    "duration": 0,
    "start_time": "2022-11-06T10:14:38.190Z"
   },
   {
    "duration": 0,
    "start_time": "2022-11-06T10:14:38.191Z"
   },
   {
    "duration": 0,
    "start_time": "2022-11-06T10:14:38.193Z"
   },
   {
    "duration": 0,
    "start_time": "2022-11-06T10:14:38.208Z"
   },
   {
    "duration": 0,
    "start_time": "2022-11-06T10:14:38.209Z"
   },
   {
    "duration": 0,
    "start_time": "2022-11-06T10:14:38.211Z"
   },
   {
    "duration": 0,
    "start_time": "2022-11-06T10:14:38.212Z"
   },
   {
    "duration": 0,
    "start_time": "2022-11-06T10:14:38.213Z"
   },
   {
    "duration": 0,
    "start_time": "2022-11-06T10:14:38.214Z"
   },
   {
    "duration": 0,
    "start_time": "2022-11-06T10:14:38.215Z"
   },
   {
    "duration": 0,
    "start_time": "2022-11-06T10:14:38.216Z"
   },
   {
    "duration": 0,
    "start_time": "2022-11-06T10:14:38.217Z"
   },
   {
    "duration": 0,
    "start_time": "2022-11-06T10:14:38.218Z"
   },
   {
    "duration": 0,
    "start_time": "2022-11-06T10:14:38.219Z"
   },
   {
    "duration": 0,
    "start_time": "2022-11-06T10:14:38.220Z"
   },
   {
    "duration": 0,
    "start_time": "2022-11-06T10:14:38.221Z"
   },
   {
    "duration": 0,
    "start_time": "2022-11-06T10:14:38.222Z"
   },
   {
    "duration": 0,
    "start_time": "2022-11-06T10:14:38.223Z"
   },
   {
    "duration": 0,
    "start_time": "2022-11-06T10:14:38.224Z"
   },
   {
    "duration": 0,
    "start_time": "2022-11-06T10:14:38.225Z"
   },
   {
    "duration": 0,
    "start_time": "2022-11-06T10:14:38.225Z"
   },
   {
    "duration": 0,
    "start_time": "2022-11-06T10:14:38.227Z"
   },
   {
    "duration": 121,
    "start_time": "2022-11-06T10:16:02.005Z"
   },
   {
    "duration": 4,
    "start_time": "2022-11-06T10:16:07.723Z"
   },
   {
    "duration": 120,
    "start_time": "2022-11-06T10:16:08.355Z"
   },
   {
    "duration": 11,
    "start_time": "2022-11-06T10:18:06.011Z"
   },
   {
    "duration": 10,
    "start_time": "2022-11-06T10:18:18.053Z"
   },
   {
    "duration": 15,
    "start_time": "2022-11-06T10:18:38.042Z"
   },
   {
    "duration": 3,
    "start_time": "2022-11-06T10:19:12.750Z"
   },
   {
    "duration": 50,
    "start_time": "2022-11-06T10:19:18.793Z"
   },
   {
    "duration": 6,
    "start_time": "2022-11-06T10:19:23.795Z"
   },
   {
    "duration": 20,
    "start_time": "2022-11-06T10:19:31.734Z"
   },
   {
    "duration": 20,
    "start_time": "2022-11-06T10:20:03.518Z"
   },
   {
    "duration": 37,
    "start_time": "2022-11-06T10:20:19.703Z"
   },
   {
    "duration": 23,
    "start_time": "2022-11-06T10:20:39.661Z"
   },
   {
    "duration": 22,
    "start_time": "2022-11-06T10:22:05.854Z"
   },
   {
    "duration": 45,
    "start_time": "2022-11-06T10:23:49.069Z"
   },
   {
    "duration": 50,
    "start_time": "2022-11-06T10:23:56.796Z"
   },
   {
    "duration": 5,
    "start_time": "2022-11-06T10:24:03.988Z"
   },
   {
    "duration": 668,
    "start_time": "2022-11-06T10:24:20.827Z"
   },
   {
    "duration": 514,
    "start_time": "2022-11-06T10:24:35.587Z"
   },
   {
    "duration": 6,
    "start_time": "2022-11-06T10:25:08.012Z"
   },
   {
    "duration": 747,
    "start_time": "2022-11-06T10:25:14.652Z"
   },
   {
    "duration": 8,
    "start_time": "2022-11-06T10:25:20.662Z"
   },
   {
    "duration": 325,
    "start_time": "2022-11-06T10:25:58.651Z"
   },
   {
    "duration": 9,
    "start_time": "2022-11-06T10:27:30.305Z"
   },
   {
    "duration": 10,
    "start_time": "2022-11-06T10:28:05.653Z"
   },
   {
    "duration": 10,
    "start_time": "2022-11-06T10:28:11.868Z"
   },
   {
    "duration": 11,
    "start_time": "2022-11-06T10:28:30.153Z"
   },
   {
    "duration": 13,
    "start_time": "2022-11-06T10:29:18.225Z"
   },
   {
    "duration": 1128,
    "start_time": "2022-11-06T10:31:53.845Z"
   },
   {
    "duration": 1937,
    "start_time": "2022-11-06T10:31:54.975Z"
   },
   {
    "duration": 155,
    "start_time": "2022-11-06T10:31:56.914Z"
   },
   {
    "duration": 57,
    "start_time": "2022-11-06T10:31:57.071Z"
   },
   {
    "duration": 3,
    "start_time": "2022-11-06T10:31:57.131Z"
   },
   {
    "duration": 140,
    "start_time": "2022-11-06T10:31:57.136Z"
   },
   {
    "duration": 156,
    "start_time": "2022-11-06T10:31:57.278Z"
   },
   {
    "duration": 133,
    "start_time": "2022-11-06T10:31:57.436Z"
   },
   {
    "duration": 151,
    "start_time": "2022-11-06T10:31:57.571Z"
   },
   {
    "duration": 130,
    "start_time": "2022-11-06T10:31:57.723Z"
   },
   {
    "duration": 144,
    "start_time": "2022-11-06T10:31:57.855Z"
   },
   {
    "duration": 127,
    "start_time": "2022-11-06T10:31:58.001Z"
   },
   {
    "duration": 135,
    "start_time": "2022-11-06T10:31:58.130Z"
   },
   {
    "duration": 128,
    "start_time": "2022-11-06T10:31:58.268Z"
   },
   {
    "duration": 143,
    "start_time": "2022-11-06T10:31:58.397Z"
   },
   {
    "duration": 9,
    "start_time": "2022-11-06T10:31:58.541Z"
   },
   {
    "duration": 218,
    "start_time": "2022-11-06T10:31:58.552Z"
   },
   {
    "duration": 121,
    "start_time": "2022-11-06T10:31:58.772Z"
   },
   {
    "duration": 148,
    "start_time": "2022-11-06T10:31:58.895Z"
   },
   {
    "duration": 131,
    "start_time": "2022-11-06T10:31:59.045Z"
   },
   {
    "duration": 163,
    "start_time": "2022-11-06T10:31:59.178Z"
   },
   {
    "duration": 138,
    "start_time": "2022-11-06T10:31:59.343Z"
   },
   {
    "duration": 4,
    "start_time": "2022-11-06T10:31:59.483Z"
   },
   {
    "duration": 139,
    "start_time": "2022-11-06T10:31:59.489Z"
   },
   {
    "duration": 146,
    "start_time": "2022-11-06T10:31:59.630Z"
   },
   {
    "duration": 5,
    "start_time": "2022-11-06T10:31:59.778Z"
   },
   {
    "duration": 143,
    "start_time": "2022-11-06T10:31:59.784Z"
   },
   {
    "duration": 146,
    "start_time": "2022-11-06T10:31:59.928Z"
   },
   {
    "duration": 3,
    "start_time": "2022-11-06T10:32:00.076Z"
   },
   {
    "duration": 168,
    "start_time": "2022-11-06T10:32:00.080Z"
   },
   {
    "duration": 139,
    "start_time": "2022-11-06T10:32:00.250Z"
   },
   {
    "duration": 231,
    "start_time": "2022-11-06T10:32:00.391Z"
   },
   {
    "duration": 9,
    "start_time": "2022-11-06T10:32:00.623Z"
   },
   {
    "duration": 11,
    "start_time": "2022-11-06T10:32:00.634Z"
   },
   {
    "duration": 146,
    "start_time": "2022-11-06T10:32:00.647Z"
   },
   {
    "duration": 137,
    "start_time": "2022-11-06T10:32:00.795Z"
   },
   {
    "duration": 17,
    "start_time": "2022-11-06T10:32:00.933Z"
   },
   {
    "duration": 141,
    "start_time": "2022-11-06T10:32:00.951Z"
   },
   {
    "duration": 2,
    "start_time": "2022-11-06T10:32:01.094Z"
   },
   {
    "duration": 12,
    "start_time": "2022-11-06T10:32:01.098Z"
   },
   {
    "duration": 3,
    "start_time": "2022-11-06T10:32:01.114Z"
   },
   {
    "duration": 17,
    "start_time": "2022-11-06T10:32:01.119Z"
   },
   {
    "duration": 17,
    "start_time": "2022-11-06T10:32:01.137Z"
   },
   {
    "duration": 20,
    "start_time": "2022-11-06T10:32:01.155Z"
   },
   {
    "duration": 15,
    "start_time": "2022-11-06T10:32:01.176Z"
   },
   {
    "duration": 21,
    "start_time": "2022-11-06T10:32:01.192Z"
   },
   {
    "duration": 2,
    "start_time": "2022-11-06T10:32:01.215Z"
   },
   {
    "duration": 21,
    "start_time": "2022-11-06T10:32:01.218Z"
   },
   {
    "duration": 68,
    "start_time": "2022-11-06T10:32:01.240Z"
   },
   {
    "duration": 35,
    "start_time": "2022-11-06T10:32:01.309Z"
   },
   {
    "duration": 19,
    "start_time": "2022-11-06T10:32:01.345Z"
   },
   {
    "duration": 121,
    "start_time": "2022-11-06T10:32:01.366Z"
   },
   {
    "duration": 0,
    "start_time": "2022-11-06T10:32:01.489Z"
   },
   {
    "duration": 0,
    "start_time": "2022-11-06T10:32:01.490Z"
   },
   {
    "duration": 0,
    "start_time": "2022-11-06T10:32:01.492Z"
   },
   {
    "duration": 0,
    "start_time": "2022-11-06T10:32:01.494Z"
   },
   {
    "duration": 0,
    "start_time": "2022-11-06T10:32:01.495Z"
   },
   {
    "duration": 0,
    "start_time": "2022-11-06T10:32:01.510Z"
   },
   {
    "duration": 0,
    "start_time": "2022-11-06T10:32:01.511Z"
   },
   {
    "duration": 0,
    "start_time": "2022-11-06T10:32:01.512Z"
   },
   {
    "duration": 0,
    "start_time": "2022-11-06T10:32:01.514Z"
   },
   {
    "duration": 0,
    "start_time": "2022-11-06T10:32:01.516Z"
   },
   {
    "duration": 0,
    "start_time": "2022-11-06T10:32:01.517Z"
   },
   {
    "duration": 0,
    "start_time": "2022-11-06T10:32:01.519Z"
   },
   {
    "duration": 0,
    "start_time": "2022-11-06T10:32:01.520Z"
   },
   {
    "duration": 0,
    "start_time": "2022-11-06T10:32:01.521Z"
   },
   {
    "duration": 0,
    "start_time": "2022-11-06T10:32:01.522Z"
   },
   {
    "duration": 0,
    "start_time": "2022-11-06T10:32:01.523Z"
   },
   {
    "duration": 0,
    "start_time": "2022-11-06T10:32:01.525Z"
   },
   {
    "duration": 0,
    "start_time": "2022-11-06T10:32:01.526Z"
   },
   {
    "duration": 0,
    "start_time": "2022-11-06T10:32:01.527Z"
   },
   {
    "duration": 0,
    "start_time": "2022-11-06T10:32:01.528Z"
   },
   {
    "duration": 0,
    "start_time": "2022-11-06T10:32:01.529Z"
   },
   {
    "duration": 0,
    "start_time": "2022-11-06T10:32:01.531Z"
   },
   {
    "duration": 0,
    "start_time": "2022-11-06T10:32:01.532Z"
   },
   {
    "duration": 0,
    "start_time": "2022-11-06T10:32:01.533Z"
   },
   {
    "duration": 0,
    "start_time": "2022-11-06T10:32:01.534Z"
   },
   {
    "duration": 1107,
    "start_time": "2022-11-06T11:23:02.047Z"
   },
   {
    "duration": 1939,
    "start_time": "2022-11-06T11:23:03.157Z"
   },
   {
    "duration": 148,
    "start_time": "2022-11-06T11:23:05.098Z"
   },
   {
    "duration": 62,
    "start_time": "2022-11-06T11:23:05.248Z"
   },
   {
    "duration": 3,
    "start_time": "2022-11-06T11:23:05.313Z"
   },
   {
    "duration": 116,
    "start_time": "2022-11-06T11:23:05.318Z"
   },
   {
    "duration": 149,
    "start_time": "2022-11-06T11:23:05.435Z"
   },
   {
    "duration": 150,
    "start_time": "2022-11-06T11:23:05.586Z"
   },
   {
    "duration": 145,
    "start_time": "2022-11-06T11:23:05.738Z"
   },
   {
    "duration": 144,
    "start_time": "2022-11-06T11:23:05.884Z"
   },
   {
    "duration": 151,
    "start_time": "2022-11-06T11:23:06.029Z"
   },
   {
    "duration": 131,
    "start_time": "2022-11-06T11:23:06.182Z"
   },
   {
    "duration": 268,
    "start_time": "2022-11-06T11:23:06.315Z"
   },
   {
    "duration": 124,
    "start_time": "2022-11-06T11:23:06.586Z"
   },
   {
    "duration": 142,
    "start_time": "2022-11-06T11:23:06.712Z"
   },
   {
    "duration": 9,
    "start_time": "2022-11-06T11:23:06.855Z"
   },
   {
    "duration": 224,
    "start_time": "2022-11-06T11:23:06.865Z"
   },
   {
    "duration": 146,
    "start_time": "2022-11-06T11:23:07.091Z"
   },
   {
    "duration": 174,
    "start_time": "2022-11-06T11:23:07.239Z"
   },
   {
    "duration": 143,
    "start_time": "2022-11-06T11:23:07.415Z"
   },
   {
    "duration": 159,
    "start_time": "2022-11-06T11:23:07.560Z"
   },
   {
    "duration": 138,
    "start_time": "2022-11-06T11:23:07.721Z"
   },
   {
    "duration": 68,
    "start_time": "2022-11-06T11:23:07.861Z"
   },
   {
    "duration": 161,
    "start_time": "2022-11-06T11:23:07.931Z"
   },
   {
    "duration": 126,
    "start_time": "2022-11-06T11:23:08.094Z"
   },
   {
    "duration": 3,
    "start_time": "2022-11-06T11:23:08.222Z"
   },
   {
    "duration": 143,
    "start_time": "2022-11-06T11:23:08.227Z"
   },
   {
    "duration": 146,
    "start_time": "2022-11-06T11:23:08.371Z"
   },
   {
    "duration": 3,
    "start_time": "2022-11-06T11:23:08.518Z"
   },
   {
    "duration": 153,
    "start_time": "2022-11-06T11:23:08.522Z"
   },
   {
    "duration": 121,
    "start_time": "2022-11-06T11:23:08.676Z"
   },
   {
    "duration": 214,
    "start_time": "2022-11-06T11:23:08.799Z"
   },
   {
    "duration": 7,
    "start_time": "2022-11-06T11:23:09.015Z"
   },
   {
    "duration": 27,
    "start_time": "2022-11-06T11:23:09.024Z"
   },
   {
    "duration": 148,
    "start_time": "2022-11-06T11:23:09.053Z"
   },
   {
    "duration": 140,
    "start_time": "2022-11-06T11:23:09.203Z"
   },
   {
    "duration": 8,
    "start_time": "2022-11-06T11:23:09.344Z"
   },
   {
    "duration": 141,
    "start_time": "2022-11-06T11:23:09.353Z"
   },
   {
    "duration": 2,
    "start_time": "2022-11-06T11:23:09.495Z"
   },
   {
    "duration": 11,
    "start_time": "2022-11-06T11:23:09.499Z"
   },
   {
    "duration": 3,
    "start_time": "2022-11-06T11:23:09.514Z"
   },
   {
    "duration": 11,
    "start_time": "2022-11-06T11:23:09.518Z"
   },
   {
    "duration": 4,
    "start_time": "2022-11-06T11:23:09.530Z"
   },
   {
    "duration": 16,
    "start_time": "2022-11-06T11:23:09.535Z"
   },
   {
    "duration": 5,
    "start_time": "2022-11-06T11:23:09.553Z"
   },
   {
    "duration": 15,
    "start_time": "2022-11-06T11:23:09.560Z"
   },
   {
    "duration": 33,
    "start_time": "2022-11-06T11:23:09.576Z"
   },
   {
    "duration": 8,
    "start_time": "2022-11-06T11:23:09.611Z"
   },
   {
    "duration": 43,
    "start_time": "2022-11-06T11:23:09.620Z"
   },
   {
    "duration": 6,
    "start_time": "2022-11-06T11:23:09.665Z"
   },
   {
    "duration": 12,
    "start_time": "2022-11-06T11:23:09.673Z"
   },
   {
    "duration": 148,
    "start_time": "2022-11-06T11:23:09.686Z"
   },
   {
    "duration": 0,
    "start_time": "2022-11-06T11:23:09.836Z"
   },
   {
    "duration": 0,
    "start_time": "2022-11-06T11:23:09.837Z"
   },
   {
    "duration": 0,
    "start_time": "2022-11-06T11:23:09.839Z"
   },
   {
    "duration": 0,
    "start_time": "2022-11-06T11:23:09.840Z"
   },
   {
    "duration": 0,
    "start_time": "2022-11-06T11:23:09.841Z"
   },
   {
    "duration": 0,
    "start_time": "2022-11-06T11:23:09.842Z"
   },
   {
    "duration": 0,
    "start_time": "2022-11-06T11:23:09.843Z"
   },
   {
    "duration": 0,
    "start_time": "2022-11-06T11:23:09.845Z"
   },
   {
    "duration": 0,
    "start_time": "2022-11-06T11:23:09.846Z"
   },
   {
    "duration": 0,
    "start_time": "2022-11-06T11:23:09.848Z"
   },
   {
    "duration": 0,
    "start_time": "2022-11-06T11:23:09.849Z"
   },
   {
    "duration": 0,
    "start_time": "2022-11-06T11:23:09.850Z"
   },
   {
    "duration": 0,
    "start_time": "2022-11-06T11:23:09.852Z"
   },
   {
    "duration": 0,
    "start_time": "2022-11-06T11:23:09.853Z"
   },
   {
    "duration": 0,
    "start_time": "2022-11-06T11:23:09.854Z"
   },
   {
    "duration": 0,
    "start_time": "2022-11-06T11:23:09.855Z"
   },
   {
    "duration": 0,
    "start_time": "2022-11-06T11:23:09.856Z"
   },
   {
    "duration": 0,
    "start_time": "2022-11-06T11:23:09.858Z"
   },
   {
    "duration": 0,
    "start_time": "2022-11-06T11:23:09.859Z"
   },
   {
    "duration": 0,
    "start_time": "2022-11-06T11:23:09.860Z"
   },
   {
    "duration": 0,
    "start_time": "2022-11-06T11:23:09.861Z"
   },
   {
    "duration": 0,
    "start_time": "2022-11-06T11:23:09.863Z"
   },
   {
    "duration": 0,
    "start_time": "2022-11-06T11:23:09.864Z"
   },
   {
    "duration": 0,
    "start_time": "2022-11-06T11:23:09.865Z"
   },
   {
    "duration": 0,
    "start_time": "2022-11-06T11:23:09.909Z"
   },
   {
    "duration": 15,
    "start_time": "2022-11-06T11:25:32.952Z"
   },
   {
    "duration": 133,
    "start_time": "2022-11-06T11:26:32.618Z"
   },
   {
    "duration": 125,
    "start_time": "2022-11-06T11:30:40.965Z"
   },
   {
    "duration": 125,
    "start_time": "2022-11-06T11:30:43.439Z"
   },
   {
    "duration": 128,
    "start_time": "2022-11-06T11:33:57.646Z"
   },
   {
    "duration": 3,
    "start_time": "2022-11-06T11:33:58.845Z"
   },
   {
    "duration": 121,
    "start_time": "2022-11-06T11:33:59.383Z"
   },
   {
    "duration": 101,
    "start_time": "2022-11-06T11:56:27.869Z"
   },
   {
    "duration": 6,
    "start_time": "2022-11-06T11:57:33.599Z"
   },
   {
    "duration": 6,
    "start_time": "2022-11-06T11:57:44.187Z"
   },
   {
    "duration": 13,
    "start_time": "2022-11-06T11:59:03.005Z"
   },
   {
    "duration": 101,
    "start_time": "2022-11-06T11:59:20.333Z"
   },
   {
    "duration": 10,
    "start_time": "2022-11-06T11:59:21.194Z"
   },
   {
    "duration": 117,
    "start_time": "2022-11-06T11:59:21.968Z"
   },
   {
    "duration": 186,
    "start_time": "2022-11-06T11:59:49.693Z"
   },
   {
    "duration": 8,
    "start_time": "2022-11-06T12:00:25.835Z"
   },
   {
    "duration": 120,
    "start_time": "2022-11-06T12:00:26.501Z"
   },
   {
    "duration": 5,
    "start_time": "2022-11-06T12:00:38.299Z"
   },
   {
    "duration": 7,
    "start_time": "2022-11-06T12:00:39.158Z"
   },
   {
    "duration": 147,
    "start_time": "2022-11-06T12:00:47.734Z"
   },
   {
    "duration": 128,
    "start_time": "2022-11-06T12:01:07.462Z"
   },
   {
    "duration": 117,
    "start_time": "2022-11-06T12:15:12.522Z"
   },
   {
    "duration": 135,
    "start_time": "2022-11-06T12:15:14.942Z"
   },
   {
    "duration": 127,
    "start_time": "2022-11-06T12:15:15.545Z"
   },
   {
    "duration": 101,
    "start_time": "2022-11-06T12:15:18.393Z"
   },
   {
    "duration": 116,
    "start_time": "2022-11-06T12:15:20.564Z"
   },
   {
    "duration": 122,
    "start_time": "2022-11-06T12:16:25.430Z"
   },
   {
    "duration": 115,
    "start_time": "2022-11-06T12:16:26.335Z"
   },
   {
    "duration": 2,
    "start_time": "2022-11-06T12:17:42.226Z"
   },
   {
    "duration": 3,
    "start_time": "2022-11-06T12:17:42.758Z"
   },
   {
    "duration": 43,
    "start_time": "2022-11-06T12:17:43.213Z"
   },
   {
    "duration": 3,
    "start_time": "2022-11-06T12:19:23.108Z"
   },
   {
    "duration": 57,
    "start_time": "2022-11-06T12:19:25.384Z"
   },
   {
    "duration": 49,
    "start_time": "2022-11-06T12:20:03.385Z"
   },
   {
    "duration": 51,
    "start_time": "2022-11-06T12:20:09.148Z"
   },
   {
    "duration": 3,
    "start_time": "2022-11-06T12:20:22.434Z"
   },
   {
    "duration": 3,
    "start_time": "2022-11-06T12:20:22.919Z"
   },
   {
    "duration": 48,
    "start_time": "2022-11-06T12:20:23.369Z"
   },
   {
    "duration": 113,
    "start_time": "2022-11-06T12:24:02.847Z"
   },
   {
    "duration": 21,
    "start_time": "2022-11-06T12:48:47.050Z"
   },
   {
    "duration": 1166,
    "start_time": "2022-11-06T12:49:03.835Z"
   },
   {
    "duration": 105,
    "start_time": "2022-11-06T12:49:05.002Z"
   },
   {
    "duration": 33,
    "start_time": "2022-11-06T12:49:05.108Z"
   },
   {
    "duration": 14,
    "start_time": "2022-11-06T12:49:05.143Z"
   },
   {
    "duration": 1854,
    "start_time": "2022-11-06T12:49:05.158Z"
   },
   {
    "duration": 135,
    "start_time": "2022-11-06T12:49:07.014Z"
   },
   {
    "duration": 5,
    "start_time": "2022-11-06T12:49:07.151Z"
   },
   {
    "duration": 122,
    "start_time": "2022-11-06T12:49:07.158Z"
   },
   {
    "duration": 150,
    "start_time": "2022-11-06T12:49:07.282Z"
   },
   {
    "duration": 137,
    "start_time": "2022-11-06T12:49:07.436Z"
   },
   {
    "duration": 156,
    "start_time": "2022-11-06T12:49:07.575Z"
   },
   {
    "duration": 158,
    "start_time": "2022-11-06T12:49:07.733Z"
   },
   {
    "duration": 163,
    "start_time": "2022-11-06T12:49:07.893Z"
   },
   {
    "duration": 139,
    "start_time": "2022-11-06T12:49:08.058Z"
   },
   {
    "duration": 140,
    "start_time": "2022-11-06T12:49:08.198Z"
   },
   {
    "duration": 139,
    "start_time": "2022-11-06T12:49:08.340Z"
   },
   {
    "duration": 149,
    "start_time": "2022-11-06T12:49:08.481Z"
   },
   {
    "duration": 9,
    "start_time": "2022-11-06T12:49:08.632Z"
   },
   {
    "duration": 220,
    "start_time": "2022-11-06T12:49:08.642Z"
   },
   {
    "duration": 126,
    "start_time": "2022-11-06T12:49:08.864Z"
   },
   {
    "duration": 145,
    "start_time": "2022-11-06T12:49:08.992Z"
   },
   {
    "duration": 142,
    "start_time": "2022-11-06T12:49:09.139Z"
   },
   {
    "duration": 159,
    "start_time": "2022-11-06T12:49:09.283Z"
   },
   {
    "duration": 137,
    "start_time": "2022-11-06T12:49:09.444Z"
   },
   {
    "duration": 4,
    "start_time": "2022-11-06T12:49:09.583Z"
   },
   {
    "duration": 150,
    "start_time": "2022-11-06T12:49:09.588Z"
   },
   {
    "duration": 139,
    "start_time": "2022-11-06T12:49:09.740Z"
   },
   {
    "duration": 5,
    "start_time": "2022-11-06T12:49:09.883Z"
   },
   {
    "duration": 150,
    "start_time": "2022-11-06T12:49:09.890Z"
   },
   {
    "duration": 152,
    "start_time": "2022-11-06T12:49:10.042Z"
   },
   {
    "duration": 17,
    "start_time": "2022-11-06T12:49:10.195Z"
   },
   {
    "duration": 147,
    "start_time": "2022-11-06T12:49:10.213Z"
   },
   {
    "duration": 132,
    "start_time": "2022-11-06T12:49:10.361Z"
   },
   {
    "duration": 219,
    "start_time": "2022-11-06T12:49:10.495Z"
   },
   {
    "duration": 8,
    "start_time": "2022-11-06T12:49:10.716Z"
   },
   {
    "duration": 4,
    "start_time": "2022-11-06T12:49:10.726Z"
   },
   {
    "duration": 154,
    "start_time": "2022-11-06T12:49:10.732Z"
   },
   {
    "duration": 135,
    "start_time": "2022-11-06T12:49:10.888Z"
   },
   {
    "duration": 8,
    "start_time": "2022-11-06T12:49:11.024Z"
   },
   {
    "duration": 146,
    "start_time": "2022-11-06T12:49:11.034Z"
   },
   {
    "duration": 153,
    "start_time": "2022-11-06T12:49:11.183Z"
   },
   {
    "duration": 2,
    "start_time": "2022-11-06T12:49:11.338Z"
   },
   {
    "duration": 141,
    "start_time": "2022-11-06T12:49:11.341Z"
   },
   {
    "duration": 127,
    "start_time": "2022-11-06T12:49:11.484Z"
   },
   {
    "duration": 5,
    "start_time": "2022-11-06T12:49:11.613Z"
   },
   {
    "duration": 18,
    "start_time": "2022-11-06T12:49:11.620Z"
   },
   {
    "duration": 127,
    "start_time": "2022-11-06T12:49:11.640Z"
   },
   {
    "duration": 141,
    "start_time": "2022-11-06T12:49:11.768Z"
   },
   {
    "duration": 146,
    "start_time": "2022-11-06T12:49:11.910Z"
   },
   {
    "duration": 138,
    "start_time": "2022-11-06T12:49:12.059Z"
   },
   {
    "duration": 134,
    "start_time": "2022-11-06T12:49:12.208Z"
   },
   {
    "duration": 203,
    "start_time": "2022-11-06T12:49:12.344Z"
   },
   {
    "duration": 108,
    "start_time": "2022-11-06T12:49:12.549Z"
   },
   {
    "duration": 134,
    "start_time": "2022-11-06T12:49:12.658Z"
   },
   {
    "duration": 3,
    "start_time": "2022-11-06T12:49:12.793Z"
   },
   {
    "duration": 2,
    "start_time": "2022-11-06T12:49:12.809Z"
   },
   {
    "duration": 11,
    "start_time": "2022-11-06T12:49:12.813Z"
   },
   {
    "duration": 5,
    "start_time": "2022-11-06T12:49:12.826Z"
   },
   {
    "duration": 17,
    "start_time": "2022-11-06T12:49:12.833Z"
   },
   {
    "duration": 6,
    "start_time": "2022-11-06T12:49:12.852Z"
   },
   {
    "duration": 51,
    "start_time": "2022-11-06T12:49:12.859Z"
   },
   {
    "duration": 7,
    "start_time": "2022-11-06T12:49:12.912Z"
   },
   {
    "duration": 62,
    "start_time": "2022-11-06T12:49:12.921Z"
   },
   {
    "duration": 26,
    "start_time": "2022-11-06T12:49:12.984Z"
   },
   {
    "duration": 13,
    "start_time": "2022-11-06T12:49:13.012Z"
   },
   {
    "duration": 141,
    "start_time": "2022-11-06T12:49:13.027Z"
   },
   {
    "duration": 0,
    "start_time": "2022-11-06T12:49:13.170Z"
   },
   {
    "duration": 0,
    "start_time": "2022-11-06T12:49:13.171Z"
   },
   {
    "duration": 0,
    "start_time": "2022-11-06T12:49:13.172Z"
   },
   {
    "duration": 0,
    "start_time": "2022-11-06T12:49:13.173Z"
   },
   {
    "duration": 0,
    "start_time": "2022-11-06T12:49:13.175Z"
   },
   {
    "duration": 0,
    "start_time": "2022-11-06T12:49:13.176Z"
   },
   {
    "duration": 0,
    "start_time": "2022-11-06T12:49:13.177Z"
   },
   {
    "duration": 0,
    "start_time": "2022-11-06T12:49:13.179Z"
   },
   {
    "duration": 0,
    "start_time": "2022-11-06T12:49:13.180Z"
   },
   {
    "duration": 0,
    "start_time": "2022-11-06T12:49:13.181Z"
   },
   {
    "duration": 0,
    "start_time": "2022-11-06T12:49:13.182Z"
   },
   {
    "duration": 0,
    "start_time": "2022-11-06T12:49:13.183Z"
   },
   {
    "duration": 0,
    "start_time": "2022-11-06T12:49:13.183Z"
   },
   {
    "duration": 0,
    "start_time": "2022-11-06T12:49:13.184Z"
   },
   {
    "duration": 0,
    "start_time": "2022-11-06T12:49:13.185Z"
   },
   {
    "duration": 0,
    "start_time": "2022-11-06T12:49:13.185Z"
   },
   {
    "duration": 0,
    "start_time": "2022-11-06T12:49:13.186Z"
   },
   {
    "duration": 0,
    "start_time": "2022-11-06T12:49:13.209Z"
   },
   {
    "duration": 0,
    "start_time": "2022-11-06T12:49:13.210Z"
   },
   {
    "duration": 0,
    "start_time": "2022-11-06T12:49:13.211Z"
   },
   {
    "duration": 0,
    "start_time": "2022-11-06T12:49:13.212Z"
   },
   {
    "duration": 0,
    "start_time": "2022-11-06T12:49:13.213Z"
   },
   {
    "duration": 0,
    "start_time": "2022-11-06T12:49:13.214Z"
   },
   {
    "duration": 0,
    "start_time": "2022-11-06T12:49:13.215Z"
   },
   {
    "duration": 0,
    "start_time": "2022-11-06T12:49:13.216Z"
   },
   {
    "duration": 128,
    "start_time": "2022-11-06T13:12:55.164Z"
   },
   {
    "duration": 1132,
    "start_time": "2022-11-06T13:13:35.439Z"
   },
   {
    "duration": 94,
    "start_time": "2022-11-06T13:13:37.103Z"
   },
   {
    "duration": 30,
    "start_time": "2022-11-06T13:13:37.844Z"
   },
   {
    "duration": 16,
    "start_time": "2022-11-06T13:13:42.463Z"
   },
   {
    "duration": 1760,
    "start_time": "2022-11-06T13:13:45.296Z"
   },
   {
    "duration": 123,
    "start_time": "2022-11-06T13:13:52.592Z"
   },
   {
    "duration": 4,
    "start_time": "2022-11-06T13:14:00.928Z"
   },
   {
    "duration": 103,
    "start_time": "2022-11-06T13:14:04.185Z"
   },
   {
    "duration": 138,
    "start_time": "2022-11-06T13:16:41.800Z"
   },
   {
    "duration": 120,
    "start_time": "2022-11-06T13:18:06.561Z"
   },
   {
    "duration": 137,
    "start_time": "2022-11-06T13:19:03.865Z"
   },
   {
    "duration": 136,
    "start_time": "2022-11-06T13:21:20.338Z"
   },
   {
    "duration": 144,
    "start_time": "2022-11-06T13:22:37.281Z"
   },
   {
    "duration": 150,
    "start_time": "2022-11-06T13:24:14.498Z"
   },
   {
    "duration": 121,
    "start_time": "2022-11-06T13:26:50.812Z"
   },
   {
    "duration": 5,
    "start_time": "2022-11-06T13:30:41.093Z"
   },
   {
    "duration": 120,
    "start_time": "2022-11-06T13:33:22.103Z"
   },
   {
    "duration": 7,
    "start_time": "2022-11-06T13:35:55.136Z"
   },
   {
    "duration": 42,
    "start_time": "2022-11-06T13:38:38.419Z"
   },
   {
    "duration": 5,
    "start_time": "2022-11-06T13:42:01.217Z"
   },
   {
    "duration": 124,
    "start_time": "2022-11-06T13:42:08.632Z"
   },
   {
    "duration": 5,
    "start_time": "2022-11-06T13:44:24.721Z"
   },
   {
    "duration": 7,
    "start_time": "2022-11-06T13:45:21.057Z"
   },
   {
    "duration": 210,
    "start_time": "2022-11-06T13:45:51.705Z"
   },
   {
    "duration": 134,
    "start_time": "2022-11-06T13:47:09.594Z"
   },
   {
    "duration": 121,
    "start_time": "2022-11-06T13:49:33.410Z"
   },
   {
    "duration": 5,
    "start_time": "2022-11-06T13:51:56.884Z"
   },
   {
    "duration": 5,
    "start_time": "2022-11-06T13:53:42.607Z"
   },
   {
    "duration": 114,
    "start_time": "2022-11-06T13:53:59.685Z"
   },
   {
    "duration": 4,
    "start_time": "2022-11-06T13:54:29.638Z"
   },
   {
    "duration": 5,
    "start_time": "2022-11-06T13:55:27.595Z"
   },
   {
    "duration": 129,
    "start_time": "2022-11-06T13:57:21.060Z"
   },
   {
    "duration": 137,
    "start_time": "2022-11-06T13:58:12.232Z"
   },
   {
    "duration": 125,
    "start_time": "2022-11-06T14:00:38.805Z"
   },
   {
    "duration": 5,
    "start_time": "2022-11-06T14:02:52.482Z"
   },
   {
    "duration": 141,
    "start_time": "2022-11-06T14:02:58.703Z"
   },
   {
    "duration": 124,
    "start_time": "2022-11-06T14:04:30.143Z"
   },
   {
    "duration": 128,
    "start_time": "2022-11-06T14:05:35.331Z"
   },
   {
    "duration": 147,
    "start_time": "2022-11-06T14:06:58.104Z"
   },
   {
    "duration": 138,
    "start_time": "2022-11-06T14:10:57.024Z"
   },
   {
    "duration": 155,
    "start_time": "2022-11-06T14:12:14.370Z"
   },
   {
    "duration": 211,
    "start_time": "2022-11-06T14:14:05.090Z"
   },
   {
    "duration": 5,
    "start_time": "2022-11-06T14:20:12.603Z"
   },
   {
    "duration": 141,
    "start_time": "2022-11-06T14:23:16.380Z"
   },
   {
    "duration": 6,
    "start_time": "2022-11-06T14:23:34.444Z"
   },
   {
    "duration": 122,
    "start_time": "2022-11-06T14:25:15.301Z"
   },
   {
    "duration": 120,
    "start_time": "2022-11-06T14:30:53.887Z"
   },
   {
    "duration": 20,
    "start_time": "2022-11-06T14:34:23.328Z"
   },
   {
    "duration": 11,
    "start_time": "2022-11-06T14:34:56.337Z"
   },
   {
    "duration": 6,
    "start_time": "2022-11-06T14:35:37.872Z"
   },
   {
    "duration": 120,
    "start_time": "2022-11-06T14:40:26.314Z"
   },
   {
    "duration": 8,
    "start_time": "2022-11-06T14:40:48.730Z"
   },
   {
    "duration": 117,
    "start_time": "2022-11-06T14:41:33.538Z"
   },
   {
    "duration": 7,
    "start_time": "2022-11-06T14:41:43.322Z"
   },
   {
    "duration": 124,
    "start_time": "2022-11-06T14:45:28.735Z"
   },
   {
    "duration": 4,
    "start_time": "2022-11-06T14:47:15.692Z"
   },
   {
    "duration": 125,
    "start_time": "2022-11-06T14:47:25.076Z"
   },
   {
    "duration": 4,
    "start_time": "2022-11-06T14:54:17.934Z"
   },
   {
    "duration": 6,
    "start_time": "2022-11-06T14:54:33.847Z"
   },
   {
    "duration": 134,
    "start_time": "2022-11-06T14:54:51.716Z"
   },
   {
    "duration": 107,
    "start_time": "2022-11-06T14:56:30.303Z"
   },
   {
    "duration": 106,
    "start_time": "2022-11-06T14:57:06.047Z"
   },
   {
    "duration": 6,
    "start_time": "2022-11-06T14:57:54.007Z"
   },
   {
    "duration": 6,
    "start_time": "2022-11-06T14:59:58.559Z"
   },
   {
    "duration": 73,
    "start_time": "2022-11-06T15:01:00.983Z"
   },
   {
    "duration": 12,
    "start_time": "2022-11-06T15:01:33.288Z"
   },
   {
    "duration": 6,
    "start_time": "2022-11-06T15:01:40.831Z"
   },
   {
    "duration": 12,
    "start_time": "2022-11-06T15:05:29.893Z"
   },
   {
    "duration": 3,
    "start_time": "2022-11-06T15:05:49.602Z"
   },
   {
    "duration": 53,
    "start_time": "2022-11-06T15:05:51.930Z"
   },
   {
    "duration": 103,
    "start_time": "2022-11-06T15:07:39.737Z"
   },
   {
    "duration": 198,
    "start_time": "2022-11-06T15:10:11.667Z"
   },
   {
    "duration": 137,
    "start_time": "2022-11-06T15:11:31.762Z"
   },
   {
    "duration": 123,
    "start_time": "2022-11-06T15:16:37.825Z"
   },
   {
    "duration": 135,
    "start_time": "2022-11-06T15:17:09.167Z"
   },
   {
    "duration": 142,
    "start_time": "2022-11-06T15:17:54.317Z"
   },
   {
    "duration": 104,
    "start_time": "2022-11-06T15:20:19.693Z"
   },
   {
    "duration": 10,
    "start_time": "2022-11-06T15:20:30.293Z"
   },
   {
    "duration": 147,
    "start_time": "2022-11-06T15:36:49.794Z"
   },
   {
    "duration": 5,
    "start_time": "2022-11-06T15:47:36.399Z"
   },
   {
    "duration": 6,
    "start_time": "2022-11-06T15:48:19.806Z"
   },
   {
    "duration": 5,
    "start_time": "2022-11-06T15:48:58.542Z"
   },
   {
    "duration": 5,
    "start_time": "2022-11-06T15:50:09.671Z"
   },
   {
    "duration": 3,
    "start_time": "2022-11-06T15:55:04.798Z"
   },
   {
    "duration": 551,
    "start_time": "2022-11-06T15:55:10.184Z"
   },
   {
    "duration": 4,
    "start_time": "2022-11-06T15:55:13.376Z"
   },
   {
    "duration": 26,
    "start_time": "2022-11-06T15:55:16.488Z"
   },
   {
    "duration": 393,
    "start_time": "2022-11-06T15:57:21.309Z"
   },
   {
    "duration": 314,
    "start_time": "2022-11-06T15:59:04.194Z"
   },
   {
    "duration": 255,
    "start_time": "2022-11-06T15:59:59.091Z"
   },
   {
    "duration": 318,
    "start_time": "2022-11-06T16:01:09.353Z"
   },
   {
    "duration": 240,
    "start_time": "2022-11-06T16:01:43.329Z"
   },
   {
    "duration": 211,
    "start_time": "2022-11-06T16:06:36.529Z"
   },
   {
    "duration": 337,
    "start_time": "2022-11-06T16:07:42.948Z"
   },
   {
    "duration": 134,
    "start_time": "2022-11-06T16:08:52.956Z"
   },
   {
    "duration": 131,
    "start_time": "2022-11-06T16:09:01.972Z"
   },
   {
    "duration": 214,
    "start_time": "2022-11-06T16:09:51.973Z"
   },
   {
    "duration": 1042,
    "start_time": "2022-11-06T16:11:24.501Z"
   },
   {
    "duration": 839,
    "start_time": "2022-11-06T16:14:18.607Z"
   },
   {
    "duration": 416,
    "start_time": "2022-11-06T16:15:57.760Z"
   },
   {
    "duration": 245,
    "start_time": "2022-11-06T16:16:49.825Z"
   },
   {
    "duration": 248,
    "start_time": "2022-11-06T16:16:58.903Z"
   },
   {
    "duration": 237,
    "start_time": "2022-11-06T16:18:15.089Z"
   },
   {
    "duration": 229,
    "start_time": "2022-11-06T16:18:31.169Z"
   },
   {
    "duration": 398,
    "start_time": "2022-11-06T16:21:34.637Z"
   },
   {
    "duration": 422,
    "start_time": "2022-11-06T16:22:42.859Z"
   },
   {
    "duration": 394,
    "start_time": "2022-11-06T16:23:37.329Z"
   },
   {
    "duration": 313,
    "start_time": "2022-11-06T16:23:50.605Z"
   },
   {
    "duration": 150,
    "start_time": "2022-11-06T16:29:31.288Z"
   },
   {
    "duration": 172,
    "start_time": "2022-11-06T16:31:11.798Z"
   },
   {
    "duration": 137,
    "start_time": "2022-11-06T16:31:42.454Z"
   },
   {
    "duration": 155,
    "start_time": "2022-11-06T16:32:14.621Z"
   },
   {
    "duration": 161,
    "start_time": "2022-11-06T16:33:23.160Z"
   },
   {
    "duration": 145,
    "start_time": "2022-11-06T16:33:32.223Z"
   },
   {
    "duration": 156,
    "start_time": "2022-11-06T16:34:29.271Z"
   },
   {
    "duration": 230,
    "start_time": "2022-11-06T16:34:49.057Z"
   },
   {
    "duration": 129,
    "start_time": "2022-11-06T16:36:26.022Z"
   },
   {
    "duration": 133,
    "start_time": "2022-11-06T16:36:46.888Z"
   },
   {
    "duration": 139,
    "start_time": "2022-11-06T16:39:04.720Z"
   },
   {
    "duration": 146,
    "start_time": "2022-11-06T16:39:49.751Z"
   },
   {
    "duration": 145,
    "start_time": "2022-11-06T16:40:30.114Z"
   },
   {
    "duration": 17,
    "start_time": "2022-11-06T16:41:12.177Z"
   },
   {
    "duration": 159,
    "start_time": "2022-11-06T16:42:16.169Z"
   },
   {
    "duration": 167,
    "start_time": "2022-11-06T16:42:41.114Z"
   },
   {
    "duration": 133,
    "start_time": "2022-11-06T16:42:56.965Z"
   },
   {
    "duration": 120,
    "start_time": "2022-11-06T16:43:17.706Z"
   },
   {
    "duration": 35,
    "start_time": "2022-11-06T16:45:39.092Z"
   },
   {
    "duration": 147,
    "start_time": "2022-11-06T16:48:13.011Z"
   },
   {
    "duration": 1232,
    "start_time": "2022-11-08T18:02:11.958Z"
   },
   {
    "duration": 94,
    "start_time": "2022-11-08T18:02:13.192Z"
   },
   {
    "duration": 41,
    "start_time": "2022-11-08T18:02:13.288Z"
   },
   {
    "duration": 15,
    "start_time": "2022-11-08T18:02:13.331Z"
   },
   {
    "duration": 2183,
    "start_time": "2022-11-08T18:02:13.348Z"
   },
   {
    "duration": 148,
    "start_time": "2022-11-08T18:02:15.533Z"
   },
   {
    "duration": 3,
    "start_time": "2022-11-08T18:02:15.683Z"
   },
   {
    "duration": 166,
    "start_time": "2022-11-08T18:02:15.687Z"
   },
   {
    "duration": 177,
    "start_time": "2022-11-08T18:02:15.854Z"
   },
   {
    "duration": 143,
    "start_time": "2022-11-08T18:02:16.034Z"
   },
   {
    "duration": 160,
    "start_time": "2022-11-08T18:02:16.179Z"
   },
   {
    "duration": 148,
    "start_time": "2022-11-08T18:02:16.342Z"
   },
   {
    "duration": 173,
    "start_time": "2022-11-08T18:02:16.492Z"
   },
   {
    "duration": 149,
    "start_time": "2022-11-08T18:02:16.668Z"
   },
   {
    "duration": 154,
    "start_time": "2022-11-08T18:02:16.819Z"
   },
   {
    "duration": 5,
    "start_time": "2022-11-08T18:02:16.975Z"
   },
   {
    "duration": 149,
    "start_time": "2022-11-08T18:02:16.982Z"
   },
   {
    "duration": 6,
    "start_time": "2022-11-08T18:02:17.132Z"
   },
   {
    "duration": 6,
    "start_time": "2022-11-08T18:02:17.140Z"
   },
   {
    "duration": 174,
    "start_time": "2022-11-08T18:02:17.148Z"
   },
   {
    "duration": 6,
    "start_time": "2022-11-08T18:02:17.323Z"
   },
   {
    "duration": 14,
    "start_time": "2022-11-08T18:02:17.331Z"
   },
   {
    "duration": 240,
    "start_time": "2022-11-08T18:02:17.347Z"
   },
   {
    "duration": 147,
    "start_time": "2022-11-08T18:02:17.588Z"
   },
   {
    "duration": 175,
    "start_time": "2022-11-08T18:02:17.738Z"
   },
   {
    "duration": 164,
    "start_time": "2022-11-08T18:02:17.915Z"
   },
   {
    "duration": 176,
    "start_time": "2022-11-08T18:02:18.081Z"
   },
   {
    "duration": 176,
    "start_time": "2022-11-08T18:02:18.262Z"
   },
   {
    "duration": 157,
    "start_time": "2022-11-08T18:02:18.440Z"
   },
   {
    "duration": 148,
    "start_time": "2022-11-08T18:02:18.598Z"
   },
   {
    "duration": 144,
    "start_time": "2022-11-08T18:02:18.748Z"
   },
   {
    "duration": 157,
    "start_time": "2022-11-08T18:02:18.897Z"
   },
   {
    "duration": 180,
    "start_time": "2022-11-08T18:02:19.056Z"
   },
   {
    "duration": 148,
    "start_time": "2022-11-08T18:02:19.238Z"
   },
   {
    "duration": 251,
    "start_time": "2022-11-08T18:02:19.388Z"
   },
   {
    "duration": 165,
    "start_time": "2022-11-08T18:02:19.642Z"
   },
   {
    "duration": 6,
    "start_time": "2022-11-08T18:02:19.810Z"
   },
   {
    "duration": 177,
    "start_time": "2022-11-08T18:02:19.817Z"
   },
   {
    "duration": 150,
    "start_time": "2022-11-08T18:02:19.997Z"
   },
   {
    "duration": 161,
    "start_time": "2022-11-08T18:02:20.149Z"
   },
   {
    "duration": 156,
    "start_time": "2022-11-08T18:02:20.315Z"
   },
   {
    "duration": 169,
    "start_time": "2022-11-08T18:02:20.473Z"
   },
   {
    "duration": 128,
    "start_time": "2022-11-08T18:02:20.644Z"
   },
   {
    "duration": 7,
    "start_time": "2022-11-08T18:02:20.774Z"
   },
   {
    "duration": 28,
    "start_time": "2022-11-08T18:02:20.782Z"
   },
   {
    "duration": 10,
    "start_time": "2022-11-08T18:02:20.813Z"
   },
   {
    "duration": 61,
    "start_time": "2022-11-08T18:02:20.825Z"
   },
   {
    "duration": 138,
    "start_time": "2022-11-08T18:02:20.888Z"
   },
   {
    "duration": 144,
    "start_time": "2022-11-08T18:02:21.028Z"
   },
   {
    "duration": 160,
    "start_time": "2022-11-08T18:02:21.174Z"
   },
   {
    "duration": 138,
    "start_time": "2022-11-08T18:02:21.335Z"
   },
   {
    "duration": 249,
    "start_time": "2022-11-08T18:02:21.474Z"
   },
   {
    "duration": 151,
    "start_time": "2022-11-08T18:02:21.725Z"
   },
   {
    "duration": 8,
    "start_time": "2022-11-08T18:02:21.878Z"
   },
   {
    "duration": 149,
    "start_time": "2022-11-08T18:02:21.898Z"
   },
   {
    "duration": 6,
    "start_time": "2022-11-08T18:02:22.049Z"
   },
   {
    "duration": 16,
    "start_time": "2022-11-08T18:02:22.056Z"
   },
   {
    "duration": 19,
    "start_time": "2022-11-08T18:02:22.074Z"
   },
   {
    "duration": 21,
    "start_time": "2022-11-08T18:02:22.095Z"
   },
   {
    "duration": 27,
    "start_time": "2022-11-08T18:02:22.118Z"
   },
   {
    "duration": 475,
    "start_time": "2022-11-08T18:02:22.147Z"
   },
   {
    "duration": 5,
    "start_time": "2022-11-08T18:02:22.624Z"
   },
   {
    "duration": 32,
    "start_time": "2022-11-08T18:02:22.631Z"
   },
   {
    "duration": 360,
    "start_time": "2022-11-08T18:02:22.665Z"
   },
   {
    "duration": 330,
    "start_time": "2022-11-08T18:02:23.028Z"
   },
   {
    "duration": 288,
    "start_time": "2022-11-08T18:02:23.360Z"
   },
   {
    "duration": 480,
    "start_time": "2022-11-08T18:02:23.649Z"
   },
   {
    "duration": 335,
    "start_time": "2022-11-08T18:02:24.131Z"
   },
   {
    "duration": 248,
    "start_time": "2022-11-08T18:02:24.467Z"
   },
   {
    "duration": 231,
    "start_time": "2022-11-08T18:02:24.717Z"
   },
   {
    "duration": 143,
    "start_time": "2022-11-08T18:02:24.950Z"
   },
   {
    "duration": 260,
    "start_time": "2022-11-08T18:02:25.097Z"
   },
   {
    "duration": 1102,
    "start_time": "2022-11-08T18:02:25.359Z"
   },
   {
    "duration": 1086,
    "start_time": "2022-11-08T18:02:26.463Z"
   },
   {
    "duration": 346,
    "start_time": "2022-11-08T18:02:27.551Z"
   },
   {
    "duration": 268,
    "start_time": "2022-11-08T18:02:27.899Z"
   },
   {
    "duration": 254,
    "start_time": "2022-11-08T18:02:28.169Z"
   },
   {
    "duration": 358,
    "start_time": "2022-11-08T18:02:28.425Z"
   },
   {
    "duration": 174,
    "start_time": "2022-11-08T18:02:28.785Z"
   },
   {
    "duration": 188,
    "start_time": "2022-11-08T18:02:28.960Z"
   },
   {
    "duration": 188,
    "start_time": "2022-11-08T18:02:29.149Z"
   },
   {
    "duration": 332,
    "start_time": "2022-11-08T18:02:29.343Z"
   },
   {
    "duration": 154,
    "start_time": "2022-11-08T18:02:29.677Z"
   },
   {
    "duration": 168,
    "start_time": "2022-11-08T18:02:29.833Z"
   },
   {
    "duration": 204,
    "start_time": "2022-11-08T18:02:30.003Z"
   },
   {
    "duration": 201,
    "start_time": "2022-11-08T18:02:30.209Z"
   },
   {
    "duration": 39,
    "start_time": "2022-11-08T18:02:30.412Z"
   },
   {
    "duration": 198,
    "start_time": "2022-11-08T18:02:30.453Z"
   },
   {
    "duration": 1269,
    "start_time": "2022-11-08T18:44:05.174Z"
   },
   {
    "duration": 88,
    "start_time": "2022-11-08T18:44:06.445Z"
   },
   {
    "duration": 45,
    "start_time": "2022-11-08T18:44:06.534Z"
   },
   {
    "duration": 30,
    "start_time": "2022-11-08T18:44:06.581Z"
   },
   {
    "duration": 2134,
    "start_time": "2022-11-08T18:44:06.613Z"
   },
   {
    "duration": 159,
    "start_time": "2022-11-08T18:44:08.749Z"
   },
   {
    "duration": 4,
    "start_time": "2022-11-08T18:44:08.910Z"
   },
   {
    "duration": 15,
    "start_time": "2022-11-08T18:44:08.916Z"
   },
   {
    "duration": 19,
    "start_time": "2022-11-08T18:44:08.933Z"
   },
   {
    "duration": 119,
    "start_time": "2022-11-08T18:44:08.955Z"
   },
   {
    "duration": 0,
    "start_time": "2022-11-08T18:44:09.078Z"
   },
   {
    "duration": 0,
    "start_time": "2022-11-08T18:44:09.079Z"
   },
   {
    "duration": 1,
    "start_time": "2022-11-08T18:44:09.080Z"
   },
   {
    "duration": 0,
    "start_time": "2022-11-08T18:44:09.082Z"
   },
   {
    "duration": 0,
    "start_time": "2022-11-08T18:44:09.097Z"
   },
   {
    "duration": 0,
    "start_time": "2022-11-08T18:44:09.101Z"
   },
   {
    "duration": 0,
    "start_time": "2022-11-08T18:44:09.102Z"
   },
   {
    "duration": 0,
    "start_time": "2022-11-08T18:44:09.103Z"
   },
   {
    "duration": 0,
    "start_time": "2022-11-08T18:44:09.104Z"
   },
   {
    "duration": 0,
    "start_time": "2022-11-08T18:44:09.105Z"
   },
   {
    "duration": 0,
    "start_time": "2022-11-08T18:44:09.106Z"
   },
   {
    "duration": 0,
    "start_time": "2022-11-08T18:44:09.107Z"
   },
   {
    "duration": 0,
    "start_time": "2022-11-08T18:44:09.108Z"
   },
   {
    "duration": 0,
    "start_time": "2022-11-08T18:44:09.110Z"
   },
   {
    "duration": 0,
    "start_time": "2022-11-08T18:44:09.110Z"
   },
   {
    "duration": 0,
    "start_time": "2022-11-08T18:44:09.111Z"
   },
   {
    "duration": 0,
    "start_time": "2022-11-08T18:44:09.112Z"
   },
   {
    "duration": 0,
    "start_time": "2022-11-08T18:44:09.113Z"
   },
   {
    "duration": 0,
    "start_time": "2022-11-08T18:44:09.114Z"
   },
   {
    "duration": 0,
    "start_time": "2022-11-08T18:44:09.115Z"
   },
   {
    "duration": 0,
    "start_time": "2022-11-08T18:44:09.116Z"
   },
   {
    "duration": 0,
    "start_time": "2022-11-08T18:44:09.118Z"
   },
   {
    "duration": 0,
    "start_time": "2022-11-08T18:44:09.119Z"
   },
   {
    "duration": 0,
    "start_time": "2022-11-08T18:44:09.120Z"
   },
   {
    "duration": 0,
    "start_time": "2022-11-08T18:44:09.121Z"
   },
   {
    "duration": 0,
    "start_time": "2022-11-08T18:44:09.123Z"
   },
   {
    "duration": 0,
    "start_time": "2022-11-08T18:44:09.124Z"
   },
   {
    "duration": 0,
    "start_time": "2022-11-08T18:44:09.126Z"
   },
   {
    "duration": 0,
    "start_time": "2022-11-08T18:44:09.127Z"
   },
   {
    "duration": 0,
    "start_time": "2022-11-08T18:44:09.128Z"
   },
   {
    "duration": 0,
    "start_time": "2022-11-08T18:44:09.129Z"
   },
   {
    "duration": 0,
    "start_time": "2022-11-08T18:44:09.130Z"
   },
   {
    "duration": 0,
    "start_time": "2022-11-08T18:44:09.131Z"
   },
   {
    "duration": 0,
    "start_time": "2022-11-08T18:44:09.132Z"
   },
   {
    "duration": 0,
    "start_time": "2022-11-08T18:44:09.133Z"
   },
   {
    "duration": 0,
    "start_time": "2022-11-08T18:44:09.134Z"
   },
   {
    "duration": 0,
    "start_time": "2022-11-08T18:44:09.135Z"
   },
   {
    "duration": 0,
    "start_time": "2022-11-08T18:44:09.135Z"
   },
   {
    "duration": 0,
    "start_time": "2022-11-08T18:44:09.137Z"
   },
   {
    "duration": 0,
    "start_time": "2022-11-08T18:44:09.138Z"
   },
   {
    "duration": 0,
    "start_time": "2022-11-08T18:44:09.197Z"
   },
   {
    "duration": 0,
    "start_time": "2022-11-08T18:44:09.199Z"
   },
   {
    "duration": 0,
    "start_time": "2022-11-08T18:44:09.200Z"
   },
   {
    "duration": 0,
    "start_time": "2022-11-08T18:44:09.201Z"
   },
   {
    "duration": 0,
    "start_time": "2022-11-08T18:44:09.203Z"
   },
   {
    "duration": 0,
    "start_time": "2022-11-08T18:44:09.204Z"
   },
   {
    "duration": 0,
    "start_time": "2022-11-08T18:44:09.205Z"
   },
   {
    "duration": 0,
    "start_time": "2022-11-08T18:44:09.206Z"
   },
   {
    "duration": 0,
    "start_time": "2022-11-08T18:44:09.206Z"
   },
   {
    "duration": 0,
    "start_time": "2022-11-08T18:44:09.208Z"
   },
   {
    "duration": 0,
    "start_time": "2022-11-08T18:44:09.209Z"
   },
   {
    "duration": 0,
    "start_time": "2022-11-08T18:44:09.210Z"
   },
   {
    "duration": 0,
    "start_time": "2022-11-08T18:44:09.212Z"
   },
   {
    "duration": 0,
    "start_time": "2022-11-08T18:44:09.213Z"
   },
   {
    "duration": 0,
    "start_time": "2022-11-08T18:44:09.214Z"
   },
   {
    "duration": 0,
    "start_time": "2022-11-08T18:44:09.215Z"
   },
   {
    "duration": 0,
    "start_time": "2022-11-08T18:44:09.216Z"
   },
   {
    "duration": 0,
    "start_time": "2022-11-08T18:44:09.216Z"
   },
   {
    "duration": 0,
    "start_time": "2022-11-08T18:44:09.217Z"
   },
   {
    "duration": 0,
    "start_time": "2022-11-08T18:44:09.218Z"
   },
   {
    "duration": 0,
    "start_time": "2022-11-08T18:44:09.219Z"
   },
   {
    "duration": 0,
    "start_time": "2022-11-08T18:44:09.219Z"
   },
   {
    "duration": 0,
    "start_time": "2022-11-08T18:44:09.220Z"
   },
   {
    "duration": 0,
    "start_time": "2022-11-08T18:44:09.227Z"
   },
   {
    "duration": 0,
    "start_time": "2022-11-08T18:44:09.229Z"
   },
   {
    "duration": 0,
    "start_time": "2022-11-08T18:44:09.230Z"
   },
   {
    "duration": 0,
    "start_time": "2022-11-08T18:44:09.232Z"
   },
   {
    "duration": 0,
    "start_time": "2022-11-08T18:44:09.233Z"
   },
   {
    "duration": 0,
    "start_time": "2022-11-08T18:44:09.234Z"
   },
   {
    "duration": 0,
    "start_time": "2022-11-08T18:44:09.234Z"
   },
   {
    "duration": 0,
    "start_time": "2022-11-08T18:44:09.235Z"
   },
   {
    "duration": 0,
    "start_time": "2022-11-08T18:44:09.237Z"
   },
   {
    "duration": 0,
    "start_time": "2022-11-08T18:44:09.238Z"
   },
   {
    "duration": 0,
    "start_time": "2022-11-08T18:44:09.297Z"
   },
   {
    "duration": 0,
    "start_time": "2022-11-08T18:44:09.299Z"
   },
   {
    "duration": 0,
    "start_time": "2022-11-08T18:44:09.300Z"
   },
   {
    "duration": 0,
    "start_time": "2022-11-08T18:44:09.301Z"
   },
   {
    "duration": 0,
    "start_time": "2022-11-08T18:44:09.303Z"
   },
   {
    "duration": 1221,
    "start_time": "2022-11-08T18:45:06.633Z"
   },
   {
    "duration": 88,
    "start_time": "2022-11-08T18:45:07.856Z"
   },
   {
    "duration": 44,
    "start_time": "2022-11-08T18:45:07.946Z"
   },
   {
    "duration": 20,
    "start_time": "2022-11-08T18:45:07.998Z"
   },
   {
    "duration": 2072,
    "start_time": "2022-11-08T18:45:08.019Z"
   },
   {
    "duration": 156,
    "start_time": "2022-11-08T18:45:10.093Z"
   },
   {
    "duration": 5,
    "start_time": "2022-11-08T18:45:10.251Z"
   },
   {
    "duration": 18,
    "start_time": "2022-11-08T18:45:10.258Z"
   },
   {
    "duration": 37,
    "start_time": "2022-11-08T18:45:10.278Z"
   },
   {
    "duration": 144,
    "start_time": "2022-11-08T18:45:10.319Z"
   },
   {
    "duration": 168,
    "start_time": "2022-11-08T18:45:10.464Z"
   },
   {
    "duration": 170,
    "start_time": "2022-11-08T18:45:10.633Z"
   },
   {
    "duration": 160,
    "start_time": "2022-11-08T18:45:10.805Z"
   },
   {
    "duration": 153,
    "start_time": "2022-11-08T18:45:10.967Z"
   },
   {
    "duration": 148,
    "start_time": "2022-11-08T18:45:11.121Z"
   },
   {
    "duration": 6,
    "start_time": "2022-11-08T18:45:11.271Z"
   },
   {
    "duration": 144,
    "start_time": "2022-11-08T18:45:11.278Z"
   },
   {
    "duration": 6,
    "start_time": "2022-11-08T18:45:11.424Z"
   },
   {
    "duration": 9,
    "start_time": "2022-11-08T18:45:11.432Z"
   },
   {
    "duration": 141,
    "start_time": "2022-11-08T18:45:11.443Z"
   },
   {
    "duration": 16,
    "start_time": "2022-11-08T18:45:11.585Z"
   },
   {
    "duration": 11,
    "start_time": "2022-11-08T18:45:11.603Z"
   },
   {
    "duration": 152,
    "start_time": "2022-11-08T18:45:11.616Z"
   },
   {
    "duration": 158,
    "start_time": "2022-11-08T18:45:11.770Z"
   },
   {
    "duration": 234,
    "start_time": "2022-11-08T18:45:11.930Z"
   },
   {
    "duration": 175,
    "start_time": "2022-11-08T18:45:12.166Z"
   },
   {
    "duration": 150,
    "start_time": "2022-11-08T18:45:12.343Z"
   },
   {
    "duration": 197,
    "start_time": "2022-11-08T18:45:12.497Z"
   },
   {
    "duration": 143,
    "start_time": "2022-11-08T18:45:12.696Z"
   },
   {
    "duration": 143,
    "start_time": "2022-11-08T18:45:12.840Z"
   },
   {
    "duration": 154,
    "start_time": "2022-11-08T18:45:12.985Z"
   },
   {
    "duration": 174,
    "start_time": "2022-11-08T18:45:13.141Z"
   },
   {
    "duration": 166,
    "start_time": "2022-11-08T18:45:13.317Z"
   },
   {
    "duration": 147,
    "start_time": "2022-11-08T18:45:13.485Z"
   },
   {
    "duration": 153,
    "start_time": "2022-11-08T18:45:13.634Z"
   },
   {
    "duration": 166,
    "start_time": "2022-11-08T18:45:13.789Z"
   },
   {
    "duration": 6,
    "start_time": "2022-11-08T18:45:13.957Z"
   },
   {
    "duration": 312,
    "start_time": "2022-11-08T18:45:13.965Z"
   },
   {
    "duration": 170,
    "start_time": "2022-11-08T18:45:14.279Z"
   },
   {
    "duration": 158,
    "start_time": "2022-11-08T18:45:14.452Z"
   },
   {
    "duration": 157,
    "start_time": "2022-11-08T18:45:14.612Z"
   },
   {
    "duration": 151,
    "start_time": "2022-11-08T18:45:14.771Z"
   },
   {
    "duration": 126,
    "start_time": "2022-11-08T18:45:14.924Z"
   },
   {
    "duration": 8,
    "start_time": "2022-11-08T18:45:15.051Z"
   },
   {
    "duration": 35,
    "start_time": "2022-11-08T18:45:15.060Z"
   },
   {
    "duration": 39,
    "start_time": "2022-11-08T18:45:15.097Z"
   },
   {
    "duration": 365,
    "start_time": "2022-11-08T18:45:15.137Z"
   },
   {
    "duration": 204,
    "start_time": "2022-11-08T18:45:15.504Z"
   },
   {
    "duration": 137,
    "start_time": "2022-11-08T18:45:15.710Z"
   },
   {
    "duration": 171,
    "start_time": "2022-11-08T18:45:15.850Z"
   },
   {
    "duration": 136,
    "start_time": "2022-11-08T18:45:16.023Z"
   },
   {
    "duration": 163,
    "start_time": "2022-11-08T18:45:16.162Z"
   },
   {
    "duration": 151,
    "start_time": "2022-11-08T18:45:16.327Z"
   },
   {
    "duration": 185,
    "start_time": "2022-11-08T18:45:16.480Z"
   },
   {
    "duration": 234,
    "start_time": "2022-11-08T18:45:16.667Z"
   },
   {
    "duration": 5,
    "start_time": "2022-11-08T18:45:16.903Z"
   },
   {
    "duration": 11,
    "start_time": "2022-11-08T18:45:16.911Z"
   },
   {
    "duration": 8,
    "start_time": "2022-11-08T18:45:16.923Z"
   },
   {
    "duration": 17,
    "start_time": "2022-11-08T18:45:16.933Z"
   },
   {
    "duration": 4,
    "start_time": "2022-11-08T18:45:16.952Z"
   },
   {
    "duration": 474,
    "start_time": "2022-11-08T18:45:16.958Z"
   },
   {
    "duration": 5,
    "start_time": "2022-11-08T18:45:17.434Z"
   },
   {
    "duration": 30,
    "start_time": "2022-11-08T18:45:17.440Z"
   },
   {
    "duration": 430,
    "start_time": "2022-11-08T18:45:17.472Z"
   },
   {
    "duration": 331,
    "start_time": "2022-11-08T18:45:17.904Z"
   },
   {
    "duration": 280,
    "start_time": "2022-11-08T18:45:18.237Z"
   },
   {
    "duration": 449,
    "start_time": "2022-11-08T18:45:18.520Z"
   },
   {
    "duration": 278,
    "start_time": "2022-11-08T18:45:18.971Z"
   },
   {
    "duration": 236,
    "start_time": "2022-11-08T18:45:19.251Z"
   },
   {
    "duration": 225,
    "start_time": "2022-11-08T18:45:19.489Z"
   },
   {
    "duration": 154,
    "start_time": "2022-11-08T18:45:19.716Z"
   },
   {
    "duration": 245,
    "start_time": "2022-11-08T18:45:19.872Z"
   },
   {
    "duration": 1150,
    "start_time": "2022-11-08T18:45:20.119Z"
   },
   {
    "duration": 1039,
    "start_time": "2022-11-08T18:45:21.270Z"
   },
   {
    "duration": 524,
    "start_time": "2022-11-08T18:45:22.312Z"
   },
   {
    "duration": 268,
    "start_time": "2022-11-08T18:45:22.838Z"
   },
   {
    "duration": 252,
    "start_time": "2022-11-08T18:45:23.108Z"
   },
   {
    "duration": 374,
    "start_time": "2022-11-08T18:45:23.363Z"
   },
   {
    "duration": 164,
    "start_time": "2022-11-08T18:45:23.740Z"
   },
   {
    "duration": 201,
    "start_time": "2022-11-08T18:45:23.906Z"
   },
   {
    "duration": 229,
    "start_time": "2022-11-08T18:45:24.109Z"
   },
   {
    "duration": 216,
    "start_time": "2022-11-08T18:45:24.345Z"
   },
   {
    "duration": 262,
    "start_time": "2022-11-08T18:45:24.564Z"
   },
   {
    "duration": 164,
    "start_time": "2022-11-08T18:45:24.828Z"
   },
   {
    "duration": 245,
    "start_time": "2022-11-08T18:45:24.994Z"
   },
   {
    "duration": 247,
    "start_time": "2022-11-08T18:45:25.242Z"
   },
   {
    "duration": 37,
    "start_time": "2022-11-08T18:45:25.498Z"
   },
   {
    "duration": 196,
    "start_time": "2022-11-08T18:45:25.537Z"
   },
   {
    "duration": 5,
    "start_time": "2022-11-08T18:47:53.212Z"
   },
   {
    "duration": 8,
    "start_time": "2022-11-08T18:47:54.605Z"
   },
   {
    "duration": 117,
    "start_time": "2022-11-08T18:48:06.509Z"
   },
   {
    "duration": 5,
    "start_time": "2022-11-08T18:48:36.589Z"
   },
   {
    "duration": 7,
    "start_time": "2022-11-08T18:48:42.052Z"
   },
   {
    "duration": 210,
    "start_time": "2022-11-08T18:49:01.725Z"
   },
   {
    "duration": 1109,
    "start_time": "2022-11-08T19:01:12.257Z"
   },
   {
    "duration": 91,
    "start_time": "2022-11-08T19:01:13.368Z"
   },
   {
    "duration": 49,
    "start_time": "2022-11-08T19:01:13.461Z"
   },
   {
    "duration": 41,
    "start_time": "2022-11-08T19:01:13.512Z"
   },
   {
    "duration": 2168,
    "start_time": "2022-11-08T19:01:13.555Z"
   },
   {
    "duration": 152,
    "start_time": "2022-11-08T19:01:15.725Z"
   },
   {
    "duration": 4,
    "start_time": "2022-11-08T19:01:15.880Z"
   },
   {
    "duration": 10,
    "start_time": "2022-11-08T19:01:15.901Z"
   },
   {
    "duration": 21,
    "start_time": "2022-11-08T19:01:15.915Z"
   },
   {
    "duration": 133,
    "start_time": "2022-11-08T19:01:15.939Z"
   },
   {
    "duration": 159,
    "start_time": "2022-11-08T19:01:16.074Z"
   },
   {
    "duration": 133,
    "start_time": "2022-11-08T19:01:16.234Z"
   },
   {
    "duration": 155,
    "start_time": "2022-11-08T19:01:16.369Z"
   },
   {
    "duration": 7,
    "start_time": "2022-11-08T19:01:16.526Z"
   },
   {
    "duration": 152,
    "start_time": "2022-11-08T19:01:16.535Z"
   },
   {
    "duration": 18,
    "start_time": "2022-11-08T19:01:16.689Z"
   },
   {
    "duration": 12,
    "start_time": "2022-11-08T19:01:16.709Z"
   },
   {
    "duration": 140,
    "start_time": "2022-11-08T19:01:16.723Z"
   },
   {
    "duration": 5,
    "start_time": "2022-11-08T19:01:16.865Z"
   },
   {
    "duration": 13,
    "start_time": "2022-11-08T19:01:16.872Z"
   },
   {
    "duration": 171,
    "start_time": "2022-11-08T19:01:16.887Z"
   },
   {
    "duration": 157,
    "start_time": "2022-11-08T19:01:17.059Z"
   },
   {
    "duration": 145,
    "start_time": "2022-11-08T19:01:17.219Z"
   },
   {
    "duration": 164,
    "start_time": "2022-11-08T19:01:17.366Z"
   },
   {
    "duration": 268,
    "start_time": "2022-11-08T19:01:17.531Z"
   },
   {
    "duration": 177,
    "start_time": "2022-11-08T19:01:17.801Z"
   },
   {
    "duration": 160,
    "start_time": "2022-11-08T19:01:17.980Z"
   },
   {
    "duration": 143,
    "start_time": "2022-11-08T19:01:18.144Z"
   },
   {
    "duration": 166,
    "start_time": "2022-11-08T19:01:18.289Z"
   },
   {
    "duration": 173,
    "start_time": "2022-11-08T19:01:18.457Z"
   },
   {
    "duration": 122,
    "start_time": "2022-11-08T19:01:18.632Z"
   },
   {
    "duration": 0,
    "start_time": "2022-11-08T19:01:18.756Z"
   },
   {
    "duration": 0,
    "start_time": "2022-11-08T19:01:18.757Z"
   },
   {
    "duration": 0,
    "start_time": "2022-11-08T19:01:18.758Z"
   },
   {
    "duration": 0,
    "start_time": "2022-11-08T19:01:18.759Z"
   },
   {
    "duration": 0,
    "start_time": "2022-11-08T19:01:18.760Z"
   },
   {
    "duration": 0,
    "start_time": "2022-11-08T19:01:18.761Z"
   },
   {
    "duration": 0,
    "start_time": "2022-11-08T19:01:18.762Z"
   },
   {
    "duration": 0,
    "start_time": "2022-11-08T19:01:18.763Z"
   },
   {
    "duration": 0,
    "start_time": "2022-11-08T19:01:18.764Z"
   },
   {
    "duration": 0,
    "start_time": "2022-11-08T19:01:18.765Z"
   },
   {
    "duration": 0,
    "start_time": "2022-11-08T19:01:18.766Z"
   },
   {
    "duration": 0,
    "start_time": "2022-11-08T19:01:18.767Z"
   },
   {
    "duration": 0,
    "start_time": "2022-11-08T19:01:18.768Z"
   },
   {
    "duration": 0,
    "start_time": "2022-11-08T19:01:18.769Z"
   },
   {
    "duration": 0,
    "start_time": "2022-11-08T19:01:18.770Z"
   },
   {
    "duration": 0,
    "start_time": "2022-11-08T19:01:18.771Z"
   },
   {
    "duration": 0,
    "start_time": "2022-11-08T19:01:18.773Z"
   },
   {
    "duration": 0,
    "start_time": "2022-11-08T19:01:18.799Z"
   },
   {
    "duration": 0,
    "start_time": "2022-11-08T19:01:18.800Z"
   },
   {
    "duration": 0,
    "start_time": "2022-11-08T19:01:18.801Z"
   },
   {
    "duration": 0,
    "start_time": "2022-11-08T19:01:18.802Z"
   },
   {
    "duration": 0,
    "start_time": "2022-11-08T19:01:18.803Z"
   },
   {
    "duration": 0,
    "start_time": "2022-11-08T19:01:18.805Z"
   },
   {
    "duration": 0,
    "start_time": "2022-11-08T19:01:18.806Z"
   },
   {
    "duration": 0,
    "start_time": "2022-11-08T19:01:18.807Z"
   },
   {
    "duration": 0,
    "start_time": "2022-11-08T19:01:18.808Z"
   },
   {
    "duration": 0,
    "start_time": "2022-11-08T19:01:18.810Z"
   },
   {
    "duration": 0,
    "start_time": "2022-11-08T19:01:18.811Z"
   },
   {
    "duration": 0,
    "start_time": "2022-11-08T19:01:18.812Z"
   },
   {
    "duration": 0,
    "start_time": "2022-11-08T19:01:18.814Z"
   },
   {
    "duration": 0,
    "start_time": "2022-11-08T19:01:18.815Z"
   },
   {
    "duration": 0,
    "start_time": "2022-11-08T19:01:18.816Z"
   },
   {
    "duration": 0,
    "start_time": "2022-11-08T19:01:18.817Z"
   },
   {
    "duration": 0,
    "start_time": "2022-11-08T19:01:18.819Z"
   },
   {
    "duration": 0,
    "start_time": "2022-11-08T19:01:18.820Z"
   },
   {
    "duration": 0,
    "start_time": "2022-11-08T19:01:18.821Z"
   },
   {
    "duration": 0,
    "start_time": "2022-11-08T19:01:18.823Z"
   },
   {
    "duration": 0,
    "start_time": "2022-11-08T19:01:18.824Z"
   },
   {
    "duration": 1,
    "start_time": "2022-11-08T19:01:18.825Z"
   },
   {
    "duration": 0,
    "start_time": "2022-11-08T19:01:18.827Z"
   },
   {
    "duration": 0,
    "start_time": "2022-11-08T19:01:18.828Z"
   },
   {
    "duration": 0,
    "start_time": "2022-11-08T19:01:18.829Z"
   },
   {
    "duration": 0,
    "start_time": "2022-11-08T19:01:18.830Z"
   },
   {
    "duration": 0,
    "start_time": "2022-11-08T19:01:18.831Z"
   },
   {
    "duration": 0,
    "start_time": "2022-11-08T19:01:18.833Z"
   },
   {
    "duration": 0,
    "start_time": "2022-11-08T19:01:18.833Z"
   },
   {
    "duration": 0,
    "start_time": "2022-11-08T19:01:18.835Z"
   },
   {
    "duration": 0,
    "start_time": "2022-11-08T19:01:18.836Z"
   },
   {
    "duration": 0,
    "start_time": "2022-11-08T19:01:18.837Z"
   },
   {
    "duration": 0,
    "start_time": "2022-11-08T19:01:18.838Z"
   },
   {
    "duration": 0,
    "start_time": "2022-11-08T19:01:18.839Z"
   },
   {
    "duration": 0,
    "start_time": "2022-11-08T19:01:18.840Z"
   },
   {
    "duration": 0,
    "start_time": "2022-11-08T19:01:18.900Z"
   },
   {
    "duration": 0,
    "start_time": "2022-11-08T19:01:18.901Z"
   },
   {
    "duration": 0,
    "start_time": "2022-11-08T19:01:18.905Z"
   },
   {
    "duration": 141,
    "start_time": "2022-11-08T19:02:47.360Z"
   },
   {
    "duration": 191,
    "start_time": "2022-11-08T19:02:55.216Z"
   },
   {
    "duration": 154,
    "start_time": "2022-11-08T19:03:02.153Z"
   },
   {
    "duration": 6,
    "start_time": "2022-11-08T19:03:07.510Z"
   },
   {
    "duration": 135,
    "start_time": "2022-11-08T19:03:17.131Z"
   },
   {
    "duration": 141,
    "start_time": "2022-11-08T19:03:20.729Z"
   },
   {
    "duration": 158,
    "start_time": "2022-11-08T19:03:29.150Z"
   },
   {
    "duration": 268,
    "start_time": "2022-11-08T19:03:33.012Z"
   },
   {
    "duration": 161,
    "start_time": "2022-11-08T19:03:36.752Z"
   },
   {
    "duration": 15,
    "start_time": "2022-11-08T19:03:39.760Z"
   },
   {
    "duration": 7,
    "start_time": "2022-11-08T19:03:48.032Z"
   },
   {
    "duration": 15,
    "start_time": "2022-11-08T19:03:54.079Z"
   },
   {
    "duration": 4,
    "start_time": "2022-11-08T19:04:01.032Z"
   },
   {
    "duration": 57,
    "start_time": "2022-11-08T19:04:03.063Z"
   },
   {
    "duration": 112,
    "start_time": "2022-11-08T19:05:13.250Z"
   },
   {
    "duration": 38,
    "start_time": "2022-11-08T19:06:16.689Z"
   },
   {
    "duration": 1291,
    "start_time": "2022-11-08T19:11:01.111Z"
   },
   {
    "duration": 89,
    "start_time": "2022-11-08T19:11:02.405Z"
   },
   {
    "duration": 52,
    "start_time": "2022-11-08T19:11:02.496Z"
   },
   {
    "duration": 16,
    "start_time": "2022-11-08T19:11:02.550Z"
   },
   {
    "duration": 2218,
    "start_time": "2022-11-08T19:11:02.569Z"
   },
   {
    "duration": 154,
    "start_time": "2022-11-08T19:11:04.789Z"
   },
   {
    "duration": 3,
    "start_time": "2022-11-08T19:11:04.945Z"
   },
   {
    "duration": 32,
    "start_time": "2022-11-08T19:11:04.950Z"
   },
   {
    "duration": 65,
    "start_time": "2022-11-08T19:11:04.984Z"
   },
   {
    "duration": 190,
    "start_time": "2022-11-08T19:11:05.051Z"
   },
   {
    "duration": 160,
    "start_time": "2022-11-08T19:11:05.244Z"
   },
   {
    "duration": 154,
    "start_time": "2022-11-08T19:11:05.405Z"
   },
   {
    "duration": 163,
    "start_time": "2022-11-08T19:11:05.561Z"
   },
   {
    "duration": 6,
    "start_time": "2022-11-08T19:11:05.728Z"
   },
   {
    "duration": 186,
    "start_time": "2022-11-08T19:11:05.736Z"
   },
   {
    "duration": 7,
    "start_time": "2022-11-08T19:11:05.927Z"
   },
   {
    "duration": 18,
    "start_time": "2022-11-08T19:11:05.936Z"
   },
   {
    "duration": 204,
    "start_time": "2022-11-08T19:11:05.957Z"
   },
   {
    "duration": 8,
    "start_time": "2022-11-08T19:11:06.167Z"
   },
   {
    "duration": 37,
    "start_time": "2022-11-08T19:11:06.176Z"
   },
   {
    "duration": 151,
    "start_time": "2022-11-08T19:11:06.217Z"
   },
   {
    "duration": 168,
    "start_time": "2022-11-08T19:11:06.371Z"
   },
   {
    "duration": 192,
    "start_time": "2022-11-08T19:11:06.540Z"
   },
   {
    "duration": 168,
    "start_time": "2022-11-08T19:11:06.735Z"
   },
   {
    "duration": 233,
    "start_time": "2022-11-08T19:11:06.905Z"
   },
   {
    "duration": 143,
    "start_time": "2022-11-08T19:11:07.140Z"
   },
   {
    "duration": 185,
    "start_time": "2022-11-08T19:11:07.285Z"
   },
   {
    "duration": 175,
    "start_time": "2022-11-08T19:11:07.472Z"
   },
   {
    "duration": 136,
    "start_time": "2022-11-08T19:11:07.649Z"
   },
   {
    "duration": 0,
    "start_time": "2022-11-08T19:11:07.790Z"
   },
   {
    "duration": 0,
    "start_time": "2022-11-08T19:11:07.802Z"
   },
   {
    "duration": 0,
    "start_time": "2022-11-08T19:11:07.805Z"
   },
   {
    "duration": 0,
    "start_time": "2022-11-08T19:11:07.807Z"
   },
   {
    "duration": 0,
    "start_time": "2022-11-08T19:11:07.809Z"
   },
   {
    "duration": 0,
    "start_time": "2022-11-08T19:11:07.811Z"
   },
   {
    "duration": 0,
    "start_time": "2022-11-08T19:11:07.812Z"
   },
   {
    "duration": 0,
    "start_time": "2022-11-08T19:11:07.814Z"
   },
   {
    "duration": 0,
    "start_time": "2022-11-08T19:11:07.815Z"
   },
   {
    "duration": 0,
    "start_time": "2022-11-08T19:11:07.816Z"
   },
   {
    "duration": 0,
    "start_time": "2022-11-08T19:11:07.817Z"
   },
   {
    "duration": 0,
    "start_time": "2022-11-08T19:11:07.818Z"
   },
   {
    "duration": 0,
    "start_time": "2022-11-08T19:11:07.819Z"
   },
   {
    "duration": 0,
    "start_time": "2022-11-08T19:11:07.820Z"
   },
   {
    "duration": 0,
    "start_time": "2022-11-08T19:11:07.821Z"
   },
   {
    "duration": 0,
    "start_time": "2022-11-08T19:11:07.822Z"
   },
   {
    "duration": 0,
    "start_time": "2022-11-08T19:11:07.823Z"
   },
   {
    "duration": 0,
    "start_time": "2022-11-08T19:11:07.824Z"
   },
   {
    "duration": 0,
    "start_time": "2022-11-08T19:11:07.825Z"
   },
   {
    "duration": 0,
    "start_time": "2022-11-08T19:11:07.826Z"
   },
   {
    "duration": 0,
    "start_time": "2022-11-08T19:11:07.828Z"
   },
   {
    "duration": 0,
    "start_time": "2022-11-08T19:11:07.829Z"
   },
   {
    "duration": 0,
    "start_time": "2022-11-08T19:11:07.830Z"
   },
   {
    "duration": 0,
    "start_time": "2022-11-08T19:11:07.831Z"
   },
   {
    "duration": 0,
    "start_time": "2022-11-08T19:11:07.832Z"
   },
   {
    "duration": 1,
    "start_time": "2022-11-08T19:11:07.833Z"
   },
   {
    "duration": 0,
    "start_time": "2022-11-08T19:11:07.835Z"
   },
   {
    "duration": 0,
    "start_time": "2022-11-08T19:11:07.836Z"
   },
   {
    "duration": 0,
    "start_time": "2022-11-08T19:11:07.837Z"
   },
   {
    "duration": 0,
    "start_time": "2022-11-08T19:11:07.838Z"
   },
   {
    "duration": 0,
    "start_time": "2022-11-08T19:11:07.839Z"
   },
   {
    "duration": 0,
    "start_time": "2022-11-08T19:11:07.841Z"
   },
   {
    "duration": 0,
    "start_time": "2022-11-08T19:11:07.842Z"
   },
   {
    "duration": 0,
    "start_time": "2022-11-08T19:11:07.843Z"
   },
   {
    "duration": 0,
    "start_time": "2022-11-08T19:11:07.844Z"
   },
   {
    "duration": 0,
    "start_time": "2022-11-08T19:11:07.845Z"
   },
   {
    "duration": 0,
    "start_time": "2022-11-08T19:11:07.847Z"
   },
   {
    "duration": 0,
    "start_time": "2022-11-08T19:11:07.848Z"
   },
   {
    "duration": 0,
    "start_time": "2022-11-08T19:11:07.849Z"
   },
   {
    "duration": 0,
    "start_time": "2022-11-08T19:11:07.850Z"
   },
   {
    "duration": 0,
    "start_time": "2022-11-08T19:11:07.852Z"
   },
   {
    "duration": 0,
    "start_time": "2022-11-08T19:11:07.853Z"
   },
   {
    "duration": 0,
    "start_time": "2022-11-08T19:11:07.854Z"
   },
   {
    "duration": 0,
    "start_time": "2022-11-08T19:11:07.855Z"
   },
   {
    "duration": 0,
    "start_time": "2022-11-08T19:11:07.857Z"
   },
   {
    "duration": 0,
    "start_time": "2022-11-08T19:11:07.858Z"
   },
   {
    "duration": 0,
    "start_time": "2022-11-08T19:11:07.859Z"
   },
   {
    "duration": 0,
    "start_time": "2022-11-08T19:11:07.860Z"
   },
   {
    "duration": 0,
    "start_time": "2022-11-08T19:11:07.861Z"
   },
   {
    "duration": 0,
    "start_time": "2022-11-08T19:11:07.863Z"
   },
   {
    "duration": 0,
    "start_time": "2022-11-08T19:11:07.898Z"
   },
   {
    "duration": 0,
    "start_time": "2022-11-08T19:11:07.899Z"
   },
   {
    "duration": 0,
    "start_time": "2022-11-08T19:11:07.900Z"
   },
   {
    "duration": 0,
    "start_time": "2022-11-08T19:11:07.902Z"
   },
   {
    "duration": 0,
    "start_time": "2022-11-08T19:11:07.903Z"
   },
   {
    "duration": 1206,
    "start_time": "2022-11-08T19:11:40.058Z"
   },
   {
    "duration": 92,
    "start_time": "2022-11-08T19:11:41.266Z"
   },
   {
    "duration": 56,
    "start_time": "2022-11-08T19:11:41.360Z"
   },
   {
    "duration": 16,
    "start_time": "2022-11-08T19:11:41.419Z"
   },
   {
    "duration": 2141,
    "start_time": "2022-11-08T19:11:41.438Z"
   },
   {
    "duration": 163,
    "start_time": "2022-11-08T19:11:43.581Z"
   },
   {
    "duration": 4,
    "start_time": "2022-11-08T19:11:43.745Z"
   },
   {
    "duration": 12,
    "start_time": "2022-11-08T19:11:43.750Z"
   },
   {
    "duration": 39,
    "start_time": "2022-11-08T19:11:43.764Z"
   },
   {
    "duration": 140,
    "start_time": "2022-11-08T19:11:43.815Z"
   },
   {
    "duration": 198,
    "start_time": "2022-11-08T19:11:43.957Z"
   },
   {
    "duration": 183,
    "start_time": "2022-11-08T19:11:44.157Z"
   },
   {
    "duration": 185,
    "start_time": "2022-11-08T19:11:44.344Z"
   },
   {
    "duration": 6,
    "start_time": "2022-11-08T19:11:44.531Z"
   },
   {
    "duration": 144,
    "start_time": "2022-11-08T19:11:44.540Z"
   },
   {
    "duration": 23,
    "start_time": "2022-11-08T19:11:44.686Z"
   },
   {
    "duration": 9,
    "start_time": "2022-11-08T19:11:44.711Z"
   },
   {
    "duration": 139,
    "start_time": "2022-11-08T19:11:44.722Z"
   },
   {
    "duration": 5,
    "start_time": "2022-11-08T19:11:44.863Z"
   },
   {
    "duration": 12,
    "start_time": "2022-11-08T19:11:44.869Z"
   },
   {
    "duration": 168,
    "start_time": "2022-11-08T19:11:44.883Z"
   },
   {
    "duration": 140,
    "start_time": "2022-11-08T19:11:45.053Z"
   },
   {
    "duration": 149,
    "start_time": "2022-11-08T19:11:45.198Z"
   },
   {
    "duration": 136,
    "start_time": "2022-11-08T19:11:45.349Z"
   },
   {
    "duration": 251,
    "start_time": "2022-11-08T19:11:45.487Z"
   },
   {
    "duration": 135,
    "start_time": "2022-11-08T19:11:45.740Z"
   },
   {
    "duration": 153,
    "start_time": "2022-11-08T19:11:45.877Z"
   },
   {
    "duration": 153,
    "start_time": "2022-11-08T19:11:46.034Z"
   },
   {
    "duration": 11,
    "start_time": "2022-11-08T19:11:46.190Z"
   },
   {
    "duration": 133,
    "start_time": "2022-11-08T19:11:46.212Z"
   },
   {
    "duration": 165,
    "start_time": "2022-11-08T19:11:46.346Z"
   },
   {
    "duration": 188,
    "start_time": "2022-11-08T19:11:46.519Z"
   },
   {
    "duration": 7,
    "start_time": "2022-11-08T19:11:46.713Z"
   },
   {
    "duration": 133,
    "start_time": "2022-11-08T19:11:46.721Z"
   },
   {
    "duration": 152,
    "start_time": "2022-11-08T19:11:46.855Z"
   },
   {
    "duration": 138,
    "start_time": "2022-11-08T19:11:47.014Z"
   },
   {
    "duration": 157,
    "start_time": "2022-11-08T19:11:47.155Z"
   },
   {
    "duration": 149,
    "start_time": "2022-11-08T19:11:47.313Z"
   },
   {
    "duration": 12,
    "start_time": "2022-11-08T19:11:47.464Z"
   },
   {
    "duration": 24,
    "start_time": "2022-11-08T19:11:47.477Z"
   },
   {
    "duration": 14,
    "start_time": "2022-11-08T19:11:47.507Z"
   },
   {
    "duration": 3,
    "start_time": "2022-11-08T19:11:47.523Z"
   },
   {
    "duration": 34,
    "start_time": "2022-11-08T19:11:47.527Z"
   },
   {
    "duration": 152,
    "start_time": "2022-11-08T19:11:47.563Z"
   },
   {
    "duration": 150,
    "start_time": "2022-11-08T19:11:47.717Z"
   },
   {
    "duration": 180,
    "start_time": "2022-11-08T19:11:47.870Z"
   },
   {
    "duration": 139,
    "start_time": "2022-11-08T19:11:48.051Z"
   },
   {
    "duration": 149,
    "start_time": "2022-11-08T19:11:48.192Z"
   },
   {
    "duration": 139,
    "start_time": "2022-11-08T19:11:48.343Z"
   },
   {
    "duration": 27,
    "start_time": "2022-11-08T19:11:48.484Z"
   },
   {
    "duration": 152,
    "start_time": "2022-11-08T19:11:48.520Z"
   },
   {
    "duration": 6,
    "start_time": "2022-11-08T19:11:48.673Z"
   },
   {
    "duration": 24,
    "start_time": "2022-11-08T19:11:48.681Z"
   },
   {
    "duration": 6,
    "start_time": "2022-11-08T19:11:48.709Z"
   },
   {
    "duration": 8,
    "start_time": "2022-11-08T19:11:48.717Z"
   },
   {
    "duration": 5,
    "start_time": "2022-11-08T19:11:48.727Z"
   },
   {
    "duration": 438,
    "start_time": "2022-11-08T19:11:48.733Z"
   },
   {
    "duration": 5,
    "start_time": "2022-11-08T19:11:49.173Z"
   },
   {
    "duration": 59,
    "start_time": "2022-11-08T19:11:49.180Z"
   },
   {
    "duration": 340,
    "start_time": "2022-11-08T19:11:49.241Z"
   },
   {
    "duration": 432,
    "start_time": "2022-11-08T19:11:49.582Z"
   },
   {
    "duration": 271,
    "start_time": "2022-11-08T19:11:50.016Z"
   },
   {
    "duration": 358,
    "start_time": "2022-11-08T19:11:50.289Z"
   },
   {
    "duration": 273,
    "start_time": "2022-11-08T19:11:50.649Z"
   },
   {
    "duration": 263,
    "start_time": "2022-11-08T19:11:50.924Z"
   },
   {
    "duration": 262,
    "start_time": "2022-11-08T19:11:51.188Z"
   },
   {
    "duration": 163,
    "start_time": "2022-11-08T19:11:51.452Z"
   },
   {
    "duration": 382,
    "start_time": "2022-11-08T19:11:51.621Z"
   },
   {
    "duration": 1043,
    "start_time": "2022-11-08T19:11:52.010Z"
   },
   {
    "duration": 1231,
    "start_time": "2022-11-08T19:11:53.055Z"
   },
   {
    "duration": 431,
    "start_time": "2022-11-08T19:11:54.288Z"
   },
   {
    "duration": 264,
    "start_time": "2022-11-08T19:11:54.720Z"
   },
   {
    "duration": 233,
    "start_time": "2022-11-08T19:11:54.986Z"
   },
   {
    "duration": 451,
    "start_time": "2022-11-08T19:11:55.221Z"
   },
   {
    "duration": 163,
    "start_time": "2022-11-08T19:11:55.673Z"
   },
   {
    "duration": 187,
    "start_time": "2022-11-08T19:11:55.838Z"
   },
   {
    "duration": 192,
    "start_time": "2022-11-08T19:11:56.027Z"
   },
   {
    "duration": 166,
    "start_time": "2022-11-08T19:11:56.220Z"
   },
   {
    "duration": 156,
    "start_time": "2022-11-08T19:11:56.387Z"
   },
   {
    "duration": 179,
    "start_time": "2022-11-08T19:11:56.545Z"
   },
   {
    "duration": 197,
    "start_time": "2022-11-08T19:11:56.726Z"
   },
   {
    "duration": 184,
    "start_time": "2022-11-08T19:11:56.928Z"
   },
   {
    "duration": 34,
    "start_time": "2022-11-08T19:11:57.113Z"
   },
   {
    "duration": 170,
    "start_time": "2022-11-08T19:11:57.148Z"
   },
   {
    "duration": 7,
    "start_time": "2022-11-08T19:25:05.311Z"
   },
   {
    "duration": 1230,
    "start_time": "2022-11-08T19:26:07.875Z"
   },
   {
    "duration": 109,
    "start_time": "2022-11-08T19:26:09.107Z"
   },
   {
    "duration": 433,
    "start_time": "2022-11-08T19:26:09.219Z"
   },
   {
    "duration": 24,
    "start_time": "2022-11-08T19:26:09.654Z"
   },
   {
    "duration": 2071,
    "start_time": "2022-11-08T19:26:09.680Z"
   },
   {
    "duration": 166,
    "start_time": "2022-11-08T19:26:11.754Z"
   },
   {
    "duration": 3,
    "start_time": "2022-11-08T19:26:11.922Z"
   },
   {
    "duration": 25,
    "start_time": "2022-11-08T19:26:11.927Z"
   },
   {
    "duration": 13,
    "start_time": "2022-11-08T19:26:11.954Z"
   },
   {
    "duration": 135,
    "start_time": "2022-11-08T19:26:11.970Z"
   },
   {
    "duration": 142,
    "start_time": "2022-11-08T19:26:12.107Z"
   },
   {
    "duration": 130,
    "start_time": "2022-11-08T19:26:12.251Z"
   },
   {
    "duration": 147,
    "start_time": "2022-11-08T19:26:12.383Z"
   },
   {
    "duration": 6,
    "start_time": "2022-11-08T19:26:12.532Z"
   },
   {
    "duration": 137,
    "start_time": "2022-11-08T19:26:12.540Z"
   },
   {
    "duration": 5,
    "start_time": "2022-11-08T19:26:12.679Z"
   },
   {
    "duration": 8,
    "start_time": "2022-11-08T19:26:12.697Z"
   },
   {
    "duration": 151,
    "start_time": "2022-11-08T19:26:12.706Z"
   },
   {
    "duration": 5,
    "start_time": "2022-11-08T19:26:12.858Z"
   },
   {
    "duration": 12,
    "start_time": "2022-11-08T19:26:12.865Z"
   },
   {
    "duration": 154,
    "start_time": "2022-11-08T19:26:12.879Z"
   },
   {
    "duration": 145,
    "start_time": "2022-11-08T19:26:13.035Z"
   },
   {
    "duration": 150,
    "start_time": "2022-11-08T19:26:13.182Z"
   },
   {
    "duration": 142,
    "start_time": "2022-11-08T19:26:13.334Z"
   },
   {
    "duration": 241,
    "start_time": "2022-11-08T19:26:13.478Z"
   },
   {
    "duration": 136,
    "start_time": "2022-11-08T19:26:13.720Z"
   },
   {
    "duration": 147,
    "start_time": "2022-11-08T19:26:13.857Z"
   },
   {
    "duration": 179,
    "start_time": "2022-11-08T19:26:14.008Z"
   },
   {
    "duration": 11,
    "start_time": "2022-11-08T19:26:14.190Z"
   },
   {
    "duration": 165,
    "start_time": "2022-11-08T19:26:14.205Z"
   },
   {
    "duration": 172,
    "start_time": "2022-11-08T19:26:14.372Z"
   },
   {
    "duration": 161,
    "start_time": "2022-11-08T19:26:14.546Z"
   },
   {
    "duration": 5,
    "start_time": "2022-11-08T19:26:14.708Z"
   },
   {
    "duration": 145,
    "start_time": "2022-11-08T19:26:14.714Z"
   },
   {
    "duration": 145,
    "start_time": "2022-11-08T19:26:14.860Z"
   },
   {
    "duration": 184,
    "start_time": "2022-11-08T19:26:15.006Z"
   },
   {
    "duration": 141,
    "start_time": "2022-11-08T19:26:15.191Z"
   },
   {
    "duration": 151,
    "start_time": "2022-11-08T19:26:15.334Z"
   },
   {
    "duration": 19,
    "start_time": "2022-11-08T19:26:15.487Z"
   },
   {
    "duration": 16,
    "start_time": "2022-11-08T19:26:15.508Z"
   },
   {
    "duration": 35,
    "start_time": "2022-11-08T19:26:15.526Z"
   },
   {
    "duration": 3,
    "start_time": "2022-11-08T19:26:15.563Z"
   },
   {
    "duration": 57,
    "start_time": "2022-11-08T19:26:15.567Z"
   },
   {
    "duration": 669,
    "start_time": "2022-11-08T19:26:15.625Z"
   },
   {
    "duration": 152,
    "start_time": "2022-11-08T19:26:16.296Z"
   },
   {
    "duration": 225,
    "start_time": "2022-11-08T19:26:16.450Z"
   },
   {
    "duration": 134,
    "start_time": "2022-11-08T19:26:16.677Z"
   },
   {
    "duration": 134,
    "start_time": "2022-11-08T19:26:16.814Z"
   },
   {
    "duration": 133,
    "start_time": "2022-11-08T19:26:16.950Z"
   },
   {
    "duration": 14,
    "start_time": "2022-11-08T19:26:17.085Z"
   },
   {
    "duration": 143,
    "start_time": "2022-11-08T19:26:17.101Z"
   },
   {
    "duration": 5,
    "start_time": "2022-11-08T19:26:17.246Z"
   },
   {
    "duration": 24,
    "start_time": "2022-11-08T19:26:17.253Z"
   },
   {
    "duration": 20,
    "start_time": "2022-11-08T19:26:17.279Z"
   },
   {
    "duration": 28,
    "start_time": "2022-11-08T19:26:17.301Z"
   },
   {
    "duration": 7,
    "start_time": "2022-11-08T19:26:17.331Z"
   },
   {
    "duration": 444,
    "start_time": "2022-11-08T19:26:17.340Z"
   },
   {
    "duration": 12,
    "start_time": "2022-11-08T19:26:17.786Z"
   },
   {
    "duration": 491,
    "start_time": "2022-11-08T19:26:17.800Z"
   },
   {
    "duration": 385,
    "start_time": "2022-11-08T19:26:18.292Z"
   },
   {
    "duration": 422,
    "start_time": "2022-11-08T19:26:18.679Z"
   },
   {
    "duration": 274,
    "start_time": "2022-11-08T19:26:19.103Z"
   },
   {
    "duration": 484,
    "start_time": "2022-11-08T19:26:19.379Z"
   },
   {
    "duration": 267,
    "start_time": "2022-11-08T19:26:19.865Z"
   },
   {
    "duration": 223,
    "start_time": "2022-11-08T19:26:20.133Z"
   },
   {
    "duration": 217,
    "start_time": "2022-11-08T19:26:20.357Z"
   },
   {
    "duration": 154,
    "start_time": "2022-11-08T19:26:20.575Z"
   },
   {
    "duration": 362,
    "start_time": "2022-11-08T19:26:20.731Z"
   },
   {
    "duration": 985,
    "start_time": "2022-11-08T19:26:21.094Z"
   },
   {
    "duration": 1072,
    "start_time": "2022-11-08T19:26:22.081Z"
   },
   {
    "duration": 329,
    "start_time": "2022-11-08T19:26:23.156Z"
   },
   {
    "duration": 256,
    "start_time": "2022-11-08T19:26:23.487Z"
   },
   {
    "duration": 237,
    "start_time": "2022-11-08T19:26:23.745Z"
   },
   {
    "duration": 493,
    "start_time": "2022-11-08T19:26:23.984Z"
   },
   {
    "duration": 182,
    "start_time": "2022-11-08T19:26:24.479Z"
   },
   {
    "duration": 172,
    "start_time": "2022-11-08T19:26:24.663Z"
   },
   {
    "duration": 174,
    "start_time": "2022-11-08T19:26:24.837Z"
   },
   {
    "duration": 166,
    "start_time": "2022-11-08T19:26:25.012Z"
   },
   {
    "duration": 146,
    "start_time": "2022-11-08T19:26:25.181Z"
   },
   {
    "duration": 156,
    "start_time": "2022-11-08T19:26:25.329Z"
   },
   {
    "duration": 185,
    "start_time": "2022-11-08T19:26:25.487Z"
   },
   {
    "duration": 168,
    "start_time": "2022-11-08T19:26:25.677Z"
   },
   {
    "duration": 33,
    "start_time": "2022-11-08T19:26:25.847Z"
   },
   {
    "duration": 171,
    "start_time": "2022-11-08T19:26:25.882Z"
   },
   {
    "duration": 1291,
    "start_time": "2022-11-09T12:03:47.508Z"
   },
   {
    "duration": 286,
    "start_time": "2022-11-09T12:03:48.801Z"
   },
   {
    "duration": 29,
    "start_time": "2022-11-09T12:03:49.088Z"
   },
   {
    "duration": 13,
    "start_time": "2022-11-09T12:03:49.119Z"
   },
   {
    "duration": 1725,
    "start_time": "2022-11-09T12:03:49.134Z"
   },
   {
    "duration": 130,
    "start_time": "2022-11-09T12:03:50.861Z"
   },
   {
    "duration": 3,
    "start_time": "2022-11-09T12:03:50.993Z"
   },
   {
    "duration": 11,
    "start_time": "2022-11-09T12:03:50.997Z"
   },
   {
    "duration": 19,
    "start_time": "2022-11-09T12:03:51.009Z"
   },
   {
    "duration": 123,
    "start_time": "2022-11-09T12:03:51.031Z"
   },
   {
    "duration": 122,
    "start_time": "2022-11-09T12:03:51.155Z"
   },
   {
    "duration": 118,
    "start_time": "2022-11-09T12:03:51.279Z"
   },
   {
    "duration": 124,
    "start_time": "2022-11-09T12:03:51.399Z"
   },
   {
    "duration": 4,
    "start_time": "2022-11-09T12:03:51.525Z"
   },
   {
    "duration": 119,
    "start_time": "2022-11-09T12:03:51.531Z"
   },
   {
    "duration": 5,
    "start_time": "2022-11-09T12:03:51.658Z"
   },
   {
    "duration": 10,
    "start_time": "2022-11-09T12:03:51.665Z"
   },
   {
    "duration": 120,
    "start_time": "2022-11-09T12:03:51.676Z"
   },
   {
    "duration": 4,
    "start_time": "2022-11-09T12:03:51.798Z"
   },
   {
    "duration": 11,
    "start_time": "2022-11-09T12:03:51.804Z"
   },
   {
    "duration": 132,
    "start_time": "2022-11-09T12:03:51.816Z"
   },
   {
    "duration": 116,
    "start_time": "2022-11-09T12:03:51.958Z"
   },
   {
    "duration": 129,
    "start_time": "2022-11-09T12:03:52.075Z"
   },
   {
    "duration": 133,
    "start_time": "2022-11-09T12:03:52.205Z"
   },
   {
    "duration": 208,
    "start_time": "2022-11-09T12:03:52.340Z"
   },
   {
    "duration": 133,
    "start_time": "2022-11-09T12:03:52.549Z"
   },
   {
    "duration": 131,
    "start_time": "2022-11-09T12:03:52.684Z"
   },
   {
    "duration": 142,
    "start_time": "2022-11-09T12:03:52.819Z"
   },
   {
    "duration": 6,
    "start_time": "2022-11-09T12:03:52.962Z"
   },
   {
    "duration": 126,
    "start_time": "2022-11-09T12:03:52.969Z"
   },
   {
    "duration": 132,
    "start_time": "2022-11-09T12:03:53.096Z"
   },
   {
    "duration": 148,
    "start_time": "2022-11-09T12:03:53.230Z"
   },
   {
    "duration": 4,
    "start_time": "2022-11-09T12:03:53.380Z"
   },
   {
    "duration": 126,
    "start_time": "2022-11-09T12:03:53.386Z"
   },
   {
    "duration": 120,
    "start_time": "2022-11-09T12:03:53.514Z"
   },
   {
    "duration": 126,
    "start_time": "2022-11-09T12:03:53.636Z"
   },
   {
    "duration": 126,
    "start_time": "2022-11-09T12:03:53.764Z"
   },
   {
    "duration": 134,
    "start_time": "2022-11-09T12:03:53.891Z"
   },
   {
    "duration": 13,
    "start_time": "2022-11-09T12:03:54.027Z"
   },
   {
    "duration": 23,
    "start_time": "2022-11-09T12:03:54.041Z"
   },
   {
    "duration": 13,
    "start_time": "2022-11-09T12:03:54.066Z"
   },
   {
    "duration": 3,
    "start_time": "2022-11-09T12:03:54.081Z"
   },
   {
    "duration": 29,
    "start_time": "2022-11-09T12:03:54.086Z"
   },
   {
    "duration": 117,
    "start_time": "2022-11-09T12:03:54.116Z"
   },
   {
    "duration": 144,
    "start_time": "2022-11-09T12:03:54.235Z"
   },
   {
    "duration": 141,
    "start_time": "2022-11-09T12:03:54.381Z"
   },
   {
    "duration": 145,
    "start_time": "2022-11-09T12:03:54.524Z"
   },
   {
    "duration": 158,
    "start_time": "2022-11-09T12:03:54.671Z"
   },
   {
    "duration": 129,
    "start_time": "2022-11-09T12:03:54.831Z"
   },
   {
    "duration": 6,
    "start_time": "2022-11-09T12:03:54.962Z"
   },
   {
    "duration": 136,
    "start_time": "2022-11-09T12:03:54.970Z"
   },
   {
    "duration": 4,
    "start_time": "2022-11-09T12:03:55.108Z"
   },
   {
    "duration": 11,
    "start_time": "2022-11-09T12:03:55.114Z"
   },
   {
    "duration": 6,
    "start_time": "2022-11-09T12:03:55.126Z"
   },
   {
    "duration": 10,
    "start_time": "2022-11-09T12:03:55.133Z"
   },
   {
    "duration": 3,
    "start_time": "2022-11-09T12:03:55.144Z"
   },
   {
    "duration": 383,
    "start_time": "2022-11-09T12:03:55.148Z"
   },
   {
    "duration": 4,
    "start_time": "2022-11-09T12:03:55.532Z"
   },
   {
    "duration": 28,
    "start_time": "2022-11-09T12:03:55.538Z"
   },
   {
    "duration": 270,
    "start_time": "2022-11-09T12:03:55.568Z"
   },
   {
    "duration": 349,
    "start_time": "2022-11-09T12:03:55.840Z"
   },
   {
    "duration": 219,
    "start_time": "2022-11-09T12:03:56.190Z"
   },
   {
    "duration": 297,
    "start_time": "2022-11-09T12:03:56.411Z"
   },
   {
    "duration": 220,
    "start_time": "2022-11-09T12:03:56.709Z"
   },
   {
    "duration": 190,
    "start_time": "2022-11-09T12:03:56.930Z"
   },
   {
    "duration": 198,
    "start_time": "2022-11-09T12:03:57.122Z"
   },
   {
    "duration": 138,
    "start_time": "2022-11-09T12:03:57.321Z"
   },
   {
    "duration": 303,
    "start_time": "2022-11-09T12:03:57.460Z"
   },
   {
    "duration": 866,
    "start_time": "2022-11-09T12:03:57.765Z"
   },
   {
    "duration": 900,
    "start_time": "2022-11-09T12:03:58.633Z"
   },
   {
    "duration": 282,
    "start_time": "2022-11-09T12:03:59.535Z"
   },
   {
    "duration": 207,
    "start_time": "2022-11-09T12:03:59.819Z"
   },
   {
    "duration": 213,
    "start_time": "2022-11-09T12:04:00.028Z"
   },
   {
    "duration": 400,
    "start_time": "2022-11-09T12:04:00.243Z"
   },
   {
    "duration": 145,
    "start_time": "2022-11-09T12:04:00.644Z"
   },
   {
    "duration": 156,
    "start_time": "2022-11-09T12:04:00.790Z"
   },
   {
    "duration": 148,
    "start_time": "2022-11-09T12:04:00.948Z"
   },
   {
    "duration": 144,
    "start_time": "2022-11-09T12:04:01.097Z"
   },
   {
    "duration": 125,
    "start_time": "2022-11-09T12:04:01.242Z"
   },
   {
    "duration": 136,
    "start_time": "2022-11-09T12:04:01.369Z"
   },
   {
    "duration": 154,
    "start_time": "2022-11-09T12:04:01.506Z"
   },
   {
    "duration": 142,
    "start_time": "2022-11-09T12:04:01.665Z"
   },
   {
    "duration": 31,
    "start_time": "2022-11-09T12:04:01.808Z"
   },
   {
    "duration": 150,
    "start_time": "2022-11-09T12:04:01.840Z"
   },
   {
    "duration": 18,
    "start_time": "2022-11-09T12:07:24.587Z"
   },
   {
    "duration": 98,
    "start_time": "2022-11-09T12:11:31.307Z"
   },
   {
    "duration": 4,
    "start_time": "2022-11-09T12:11:34.292Z"
   }
  ],
  "kernelspec": {
   "display_name": "Python 3 (ipykernel)",
   "language": "python",
   "name": "python3"
  },
  "language_info": {
   "codemirror_mode": {
    "name": "ipython",
    "version": 3
   },
   "file_extension": ".py",
   "mimetype": "text/x-python",
   "name": "python",
   "nbconvert_exporter": "python",
   "pygments_lexer": "ipython3",
   "version": "3.9.13"
  },
  "toc": {
   "base_numbering": 1,
   "nav_menu": {
    "height": "246px",
    "width": "418px"
   },
   "number_sections": true,
   "sideBar": true,
   "skip_h1_title": true,
   "title_cell": "Содержание",
   "title_sidebar": "Contents",
   "toc_cell": true,
   "toc_position": {},
   "toc_section_display": true,
   "toc_window_display": false
  }
 },
 "nbformat": 4,
 "nbformat_minor": 5
}
