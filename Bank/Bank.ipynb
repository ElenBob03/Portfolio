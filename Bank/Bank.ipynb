{
 "cells": [
  {
   "cell_type": "markdown",
   "id": "475626ee",
   "metadata": {
    "deletable": false,
    "editable": false,
    "id": "c81daeeb"
   },
   "source": [
    "# Исследование надежности заемщиков\n"
   ]
  },
  {
   "cell_type": "markdown",
   "id": "43ecea65",
   "metadata": {
    "deletable": false,
    "editable": false,
    "id": "827c20bf"
   },
   "source": [
    "Во второй части проекта вы выполните шаги 3 и 4. Их вручную проверит ревьюер.\n",
    "Чтобы вам не пришлось писать код заново для шагов 1 и 2, мы добавили авторские решения в ячейки с кодом. \n",
    "\n"
   ]
  },
  {
   "cell_type": "markdown",
   "id": "e368ab69",
   "metadata": {
    "deletable": false,
    "editable": false,
    "id": "744d7639"
   },
   "source": [
    "## Откройте таблицу и изучите общую информацию о данных"
   ]
  },
  {
   "cell_type": "markdown",
   "id": "eb7b2392",
   "metadata": {
    "deletable": false,
    "editable": false,
    "id": "e7a14c31"
   },
   "source": [
    "**Задание 1. Импортируйте библиотеку pandas. Считайте данные из csv-файла в датафрейм и сохраните в переменную `data`. Путь к файлу:**\n",
    "\n",
    "`/datasets/data.csv`"
   ]
  },
  {
   "cell_type": "code",
   "execution_count": 1,
   "id": "8996b1fb",
   "metadata": {
    "deletable": false,
    "id": "7bcf75c9"
   },
   "outputs": [],
   "source": [
    "import pandas as pd\n",
    "\n",
    "try:\n",
    "    data = pd.read_csv('/datasets/data.csv')\n",
    "except:\n",
    "    data = pd.read_csv('https://code.s3.yandex.net/datasets/data.csv')"
   ]
  },
  {
   "cell_type": "markdown",
   "id": "050f325c",
   "metadata": {
    "deletable": false,
    "editable": false,
    "id": "b8038fe3"
   },
   "source": [
    "**Задание 2. Выведите первые 20 строчек датафрейма `data` на экран.**"
   ]
  },
  {
   "cell_type": "code",
   "execution_count": 2,
   "id": "2b901481",
   "metadata": {
    "deletable": false,
    "id": "2a7cab99",
    "outputId": "1a8f3ef2-d323-4ec2-ddf7-89670b5944c4"
   },
   "outputs": [
    {
     "data": {
      "text/html": [
       "<div>\n",
       "<style scoped>\n",
       "    .dataframe tbody tr th:only-of-type {\n",
       "        vertical-align: middle;\n",
       "    }\n",
       "\n",
       "    .dataframe tbody tr th {\n",
       "        vertical-align: top;\n",
       "    }\n",
       "\n",
       "    .dataframe thead th {\n",
       "        text-align: right;\n",
       "    }\n",
       "</style>\n",
       "<table border=\"1\" class=\"dataframe\">\n",
       "  <thead>\n",
       "    <tr style=\"text-align: right;\">\n",
       "      <th></th>\n",
       "      <th>children</th>\n",
       "      <th>days_employed</th>\n",
       "      <th>dob_years</th>\n",
       "      <th>education</th>\n",
       "      <th>education_id</th>\n",
       "      <th>family_status</th>\n",
       "      <th>family_status_id</th>\n",
       "      <th>gender</th>\n",
       "      <th>income_type</th>\n",
       "      <th>debt</th>\n",
       "      <th>total_income</th>\n",
       "      <th>purpose</th>\n",
       "    </tr>\n",
       "  </thead>\n",
       "  <tbody>\n",
       "    <tr>\n",
       "      <th>0</th>\n",
       "      <td>1</td>\n",
       "      <td>-8437.673028</td>\n",
       "      <td>42</td>\n",
       "      <td>высшее</td>\n",
       "      <td>0</td>\n",
       "      <td>женат / замужем</td>\n",
       "      <td>0</td>\n",
       "      <td>F</td>\n",
       "      <td>сотрудник</td>\n",
       "      <td>0</td>\n",
       "      <td>253875.639453</td>\n",
       "      <td>покупка жилья</td>\n",
       "    </tr>\n",
       "    <tr>\n",
       "      <th>1</th>\n",
       "      <td>1</td>\n",
       "      <td>-4024.803754</td>\n",
       "      <td>36</td>\n",
       "      <td>среднее</td>\n",
       "      <td>1</td>\n",
       "      <td>женат / замужем</td>\n",
       "      <td>0</td>\n",
       "      <td>F</td>\n",
       "      <td>сотрудник</td>\n",
       "      <td>0</td>\n",
       "      <td>112080.014102</td>\n",
       "      <td>приобретение автомобиля</td>\n",
       "    </tr>\n",
       "    <tr>\n",
       "      <th>2</th>\n",
       "      <td>0</td>\n",
       "      <td>-5623.422610</td>\n",
       "      <td>33</td>\n",
       "      <td>Среднее</td>\n",
       "      <td>1</td>\n",
       "      <td>женат / замужем</td>\n",
       "      <td>0</td>\n",
       "      <td>M</td>\n",
       "      <td>сотрудник</td>\n",
       "      <td>0</td>\n",
       "      <td>145885.952297</td>\n",
       "      <td>покупка жилья</td>\n",
       "    </tr>\n",
       "    <tr>\n",
       "      <th>3</th>\n",
       "      <td>3</td>\n",
       "      <td>-4124.747207</td>\n",
       "      <td>32</td>\n",
       "      <td>среднее</td>\n",
       "      <td>1</td>\n",
       "      <td>женат / замужем</td>\n",
       "      <td>0</td>\n",
       "      <td>M</td>\n",
       "      <td>сотрудник</td>\n",
       "      <td>0</td>\n",
       "      <td>267628.550329</td>\n",
       "      <td>дополнительное образование</td>\n",
       "    </tr>\n",
       "    <tr>\n",
       "      <th>4</th>\n",
       "      <td>0</td>\n",
       "      <td>340266.072047</td>\n",
       "      <td>53</td>\n",
       "      <td>среднее</td>\n",
       "      <td>1</td>\n",
       "      <td>гражданский брак</td>\n",
       "      <td>1</td>\n",
       "      <td>F</td>\n",
       "      <td>пенсионер</td>\n",
       "      <td>0</td>\n",
       "      <td>158616.077870</td>\n",
       "      <td>сыграть свадьбу</td>\n",
       "    </tr>\n",
       "    <tr>\n",
       "      <th>5</th>\n",
       "      <td>0</td>\n",
       "      <td>-926.185831</td>\n",
       "      <td>27</td>\n",
       "      <td>высшее</td>\n",
       "      <td>0</td>\n",
       "      <td>гражданский брак</td>\n",
       "      <td>1</td>\n",
       "      <td>M</td>\n",
       "      <td>компаньон</td>\n",
       "      <td>0</td>\n",
       "      <td>255763.565419</td>\n",
       "      <td>покупка жилья</td>\n",
       "    </tr>\n",
       "    <tr>\n",
       "      <th>6</th>\n",
       "      <td>0</td>\n",
       "      <td>-2879.202052</td>\n",
       "      <td>43</td>\n",
       "      <td>высшее</td>\n",
       "      <td>0</td>\n",
       "      <td>женат / замужем</td>\n",
       "      <td>0</td>\n",
       "      <td>F</td>\n",
       "      <td>компаньон</td>\n",
       "      <td>0</td>\n",
       "      <td>240525.971920</td>\n",
       "      <td>операции с жильем</td>\n",
       "    </tr>\n",
       "    <tr>\n",
       "      <th>7</th>\n",
       "      <td>0</td>\n",
       "      <td>-152.779569</td>\n",
       "      <td>50</td>\n",
       "      <td>СРЕДНЕЕ</td>\n",
       "      <td>1</td>\n",
       "      <td>женат / замужем</td>\n",
       "      <td>0</td>\n",
       "      <td>M</td>\n",
       "      <td>сотрудник</td>\n",
       "      <td>0</td>\n",
       "      <td>135823.934197</td>\n",
       "      <td>образование</td>\n",
       "    </tr>\n",
       "    <tr>\n",
       "      <th>8</th>\n",
       "      <td>2</td>\n",
       "      <td>-6929.865299</td>\n",
       "      <td>35</td>\n",
       "      <td>ВЫСШЕЕ</td>\n",
       "      <td>0</td>\n",
       "      <td>гражданский брак</td>\n",
       "      <td>1</td>\n",
       "      <td>F</td>\n",
       "      <td>сотрудник</td>\n",
       "      <td>0</td>\n",
       "      <td>95856.832424</td>\n",
       "      <td>на проведение свадьбы</td>\n",
       "    </tr>\n",
       "    <tr>\n",
       "      <th>9</th>\n",
       "      <td>0</td>\n",
       "      <td>-2188.756445</td>\n",
       "      <td>41</td>\n",
       "      <td>среднее</td>\n",
       "      <td>1</td>\n",
       "      <td>женат / замужем</td>\n",
       "      <td>0</td>\n",
       "      <td>M</td>\n",
       "      <td>сотрудник</td>\n",
       "      <td>0</td>\n",
       "      <td>144425.938277</td>\n",
       "      <td>покупка жилья для семьи</td>\n",
       "    </tr>\n",
       "    <tr>\n",
       "      <th>10</th>\n",
       "      <td>2</td>\n",
       "      <td>-4171.483647</td>\n",
       "      <td>36</td>\n",
       "      <td>высшее</td>\n",
       "      <td>0</td>\n",
       "      <td>женат / замужем</td>\n",
       "      <td>0</td>\n",
       "      <td>M</td>\n",
       "      <td>компаньон</td>\n",
       "      <td>0</td>\n",
       "      <td>113943.491460</td>\n",
       "      <td>покупка недвижимости</td>\n",
       "    </tr>\n",
       "    <tr>\n",
       "      <th>11</th>\n",
       "      <td>0</td>\n",
       "      <td>-792.701887</td>\n",
       "      <td>40</td>\n",
       "      <td>среднее</td>\n",
       "      <td>1</td>\n",
       "      <td>женат / замужем</td>\n",
       "      <td>0</td>\n",
       "      <td>F</td>\n",
       "      <td>сотрудник</td>\n",
       "      <td>0</td>\n",
       "      <td>77069.234271</td>\n",
       "      <td>покупка коммерческой недвижимости</td>\n",
       "    </tr>\n",
       "    <tr>\n",
       "      <th>12</th>\n",
       "      <td>0</td>\n",
       "      <td>NaN</td>\n",
       "      <td>65</td>\n",
       "      <td>среднее</td>\n",
       "      <td>1</td>\n",
       "      <td>гражданский брак</td>\n",
       "      <td>1</td>\n",
       "      <td>M</td>\n",
       "      <td>пенсионер</td>\n",
       "      <td>0</td>\n",
       "      <td>NaN</td>\n",
       "      <td>сыграть свадьбу</td>\n",
       "    </tr>\n",
       "    <tr>\n",
       "      <th>13</th>\n",
       "      <td>0</td>\n",
       "      <td>-1846.641941</td>\n",
       "      <td>54</td>\n",
       "      <td>неоконченное высшее</td>\n",
       "      <td>2</td>\n",
       "      <td>женат / замужем</td>\n",
       "      <td>0</td>\n",
       "      <td>F</td>\n",
       "      <td>сотрудник</td>\n",
       "      <td>0</td>\n",
       "      <td>130458.228857</td>\n",
       "      <td>приобретение автомобиля</td>\n",
       "    </tr>\n",
       "    <tr>\n",
       "      <th>14</th>\n",
       "      <td>0</td>\n",
       "      <td>-1844.956182</td>\n",
       "      <td>56</td>\n",
       "      <td>высшее</td>\n",
       "      <td>0</td>\n",
       "      <td>гражданский брак</td>\n",
       "      <td>1</td>\n",
       "      <td>F</td>\n",
       "      <td>компаньон</td>\n",
       "      <td>1</td>\n",
       "      <td>165127.911772</td>\n",
       "      <td>покупка жилой недвижимости</td>\n",
       "    </tr>\n",
       "    <tr>\n",
       "      <th>15</th>\n",
       "      <td>1</td>\n",
       "      <td>-972.364419</td>\n",
       "      <td>26</td>\n",
       "      <td>среднее</td>\n",
       "      <td>1</td>\n",
       "      <td>женат / замужем</td>\n",
       "      <td>0</td>\n",
       "      <td>F</td>\n",
       "      <td>сотрудник</td>\n",
       "      <td>0</td>\n",
       "      <td>116820.904450</td>\n",
       "      <td>строительство собственной недвижимости</td>\n",
       "    </tr>\n",
       "    <tr>\n",
       "      <th>16</th>\n",
       "      <td>0</td>\n",
       "      <td>-1719.934226</td>\n",
       "      <td>35</td>\n",
       "      <td>среднее</td>\n",
       "      <td>1</td>\n",
       "      <td>женат / замужем</td>\n",
       "      <td>0</td>\n",
       "      <td>F</td>\n",
       "      <td>сотрудник</td>\n",
       "      <td>0</td>\n",
       "      <td>289202.704229</td>\n",
       "      <td>недвижимость</td>\n",
       "    </tr>\n",
       "    <tr>\n",
       "      <th>17</th>\n",
       "      <td>0</td>\n",
       "      <td>-2369.999720</td>\n",
       "      <td>33</td>\n",
       "      <td>высшее</td>\n",
       "      <td>0</td>\n",
       "      <td>гражданский брак</td>\n",
       "      <td>1</td>\n",
       "      <td>M</td>\n",
       "      <td>сотрудник</td>\n",
       "      <td>0</td>\n",
       "      <td>90410.586745</td>\n",
       "      <td>строительство недвижимости</td>\n",
       "    </tr>\n",
       "    <tr>\n",
       "      <th>18</th>\n",
       "      <td>0</td>\n",
       "      <td>400281.136913</td>\n",
       "      <td>53</td>\n",
       "      <td>среднее</td>\n",
       "      <td>1</td>\n",
       "      <td>вдовец / вдова</td>\n",
       "      <td>2</td>\n",
       "      <td>F</td>\n",
       "      <td>пенсионер</td>\n",
       "      <td>0</td>\n",
       "      <td>56823.777243</td>\n",
       "      <td>на покупку подержанного автомобиля</td>\n",
       "    </tr>\n",
       "    <tr>\n",
       "      <th>19</th>\n",
       "      <td>0</td>\n",
       "      <td>-10038.818549</td>\n",
       "      <td>48</td>\n",
       "      <td>СРЕДНЕЕ</td>\n",
       "      <td>1</td>\n",
       "      <td>в разводе</td>\n",
       "      <td>3</td>\n",
       "      <td>F</td>\n",
       "      <td>сотрудник</td>\n",
       "      <td>0</td>\n",
       "      <td>242831.107982</td>\n",
       "      <td>на покупку своего автомобиля</td>\n",
       "    </tr>\n",
       "  </tbody>\n",
       "</table>\n",
       "</div>"
      ],
      "text/plain": [
       "    children  days_employed  dob_years            education  education_id  \\\n",
       "0          1   -8437.673028         42               высшее             0   \n",
       "1          1   -4024.803754         36              среднее             1   \n",
       "2          0   -5623.422610         33              Среднее             1   \n",
       "3          3   -4124.747207         32              среднее             1   \n",
       "4          0  340266.072047         53              среднее             1   \n",
       "5          0    -926.185831         27               высшее             0   \n",
       "6          0   -2879.202052         43               высшее             0   \n",
       "7          0    -152.779569         50              СРЕДНЕЕ             1   \n",
       "8          2   -6929.865299         35               ВЫСШЕЕ             0   \n",
       "9          0   -2188.756445         41              среднее             1   \n",
       "10         2   -4171.483647         36               высшее             0   \n",
       "11         0    -792.701887         40              среднее             1   \n",
       "12         0            NaN         65              среднее             1   \n",
       "13         0   -1846.641941         54  неоконченное высшее             2   \n",
       "14         0   -1844.956182         56               высшее             0   \n",
       "15         1    -972.364419         26              среднее             1   \n",
       "16         0   -1719.934226         35              среднее             1   \n",
       "17         0   -2369.999720         33               высшее             0   \n",
       "18         0  400281.136913         53              среднее             1   \n",
       "19         0  -10038.818549         48              СРЕДНЕЕ             1   \n",
       "\n",
       "       family_status  family_status_id gender income_type  debt  \\\n",
       "0    женат / замужем                 0      F   сотрудник     0   \n",
       "1    женат / замужем                 0      F   сотрудник     0   \n",
       "2    женат / замужем                 0      M   сотрудник     0   \n",
       "3    женат / замужем                 0      M   сотрудник     0   \n",
       "4   гражданский брак                 1      F   пенсионер     0   \n",
       "5   гражданский брак                 1      M   компаньон     0   \n",
       "6    женат / замужем                 0      F   компаньон     0   \n",
       "7    женат / замужем                 0      M   сотрудник     0   \n",
       "8   гражданский брак                 1      F   сотрудник     0   \n",
       "9    женат / замужем                 0      M   сотрудник     0   \n",
       "10   женат / замужем                 0      M   компаньон     0   \n",
       "11   женат / замужем                 0      F   сотрудник     0   \n",
       "12  гражданский брак                 1      M   пенсионер     0   \n",
       "13   женат / замужем                 0      F   сотрудник     0   \n",
       "14  гражданский брак                 1      F   компаньон     1   \n",
       "15   женат / замужем                 0      F   сотрудник     0   \n",
       "16   женат / замужем                 0      F   сотрудник     0   \n",
       "17  гражданский брак                 1      M   сотрудник     0   \n",
       "18    вдовец / вдова                 2      F   пенсионер     0   \n",
       "19         в разводе                 3      F   сотрудник     0   \n",
       "\n",
       "     total_income                                 purpose  \n",
       "0   253875.639453                           покупка жилья  \n",
       "1   112080.014102                 приобретение автомобиля  \n",
       "2   145885.952297                           покупка жилья  \n",
       "3   267628.550329              дополнительное образование  \n",
       "4   158616.077870                         сыграть свадьбу  \n",
       "5   255763.565419                           покупка жилья  \n",
       "6   240525.971920                       операции с жильем  \n",
       "7   135823.934197                             образование  \n",
       "8    95856.832424                   на проведение свадьбы  \n",
       "9   144425.938277                 покупка жилья для семьи  \n",
       "10  113943.491460                    покупка недвижимости  \n",
       "11   77069.234271       покупка коммерческой недвижимости  \n",
       "12            NaN                         сыграть свадьбу  \n",
       "13  130458.228857                 приобретение автомобиля  \n",
       "14  165127.911772              покупка жилой недвижимости  \n",
       "15  116820.904450  строительство собственной недвижимости  \n",
       "16  289202.704229                            недвижимость  \n",
       "17   90410.586745              строительство недвижимости  \n",
       "18   56823.777243      на покупку подержанного автомобиля  \n",
       "19  242831.107982            на покупку своего автомобиля  "
      ]
     },
     "execution_count": 2,
     "metadata": {},
     "output_type": "execute_result"
    }
   ],
   "source": [
    "data.head(20)"
   ]
  },
  {
   "cell_type": "markdown",
   "id": "0ce5d8b5",
   "metadata": {
    "deletable": false,
    "editable": false,
    "id": "1c12e233"
   },
   "source": [
    "**Задание 3. Выведите основную информацию о датафрейме с помощью метода `info()`.**"
   ]
  },
  {
   "cell_type": "code",
   "execution_count": 3,
   "id": "91c3abd5",
   "metadata": {
    "deletable": false,
    "id": "2b757bca",
    "outputId": "15376089-8dad-46c9-b520-c05248d43158"
   },
   "outputs": [
    {
     "name": "stdout",
     "output_type": "stream",
     "text": [
      "<class 'pandas.core.frame.DataFrame'>\n",
      "RangeIndex: 21525 entries, 0 to 21524\n",
      "Data columns (total 12 columns):\n",
      " #   Column            Non-Null Count  Dtype  \n",
      "---  ------            --------------  -----  \n",
      " 0   children          21525 non-null  int64  \n",
      " 1   days_employed     19351 non-null  float64\n",
      " 2   dob_years         21525 non-null  int64  \n",
      " 3   education         21525 non-null  object \n",
      " 4   education_id      21525 non-null  int64  \n",
      " 5   family_status     21525 non-null  object \n",
      " 6   family_status_id  21525 non-null  int64  \n",
      " 7   gender            21525 non-null  object \n",
      " 8   income_type       21525 non-null  object \n",
      " 9   debt              21525 non-null  int64  \n",
      " 10  total_income      19351 non-null  float64\n",
      " 11  purpose           21525 non-null  object \n",
      "dtypes: float64(2), int64(5), object(5)\n",
      "memory usage: 2.0+ MB\n"
     ]
    }
   ],
   "source": [
    "data.info()"
   ]
  },
  {
   "cell_type": "markdown",
   "id": "a42d3c2d",
   "metadata": {
    "deletable": false,
    "editable": false,
    "id": "333ec665"
   },
   "source": [
    "## Предобработка данных"
   ]
  },
  {
   "cell_type": "markdown",
   "id": "7f9504f7",
   "metadata": {
    "deletable": false,
    "editable": false,
    "id": "02d92d53"
   },
   "source": [
    "### Удаление пропусков"
   ]
  },
  {
   "cell_type": "markdown",
   "id": "51356cad",
   "metadata": {
    "deletable": false,
    "editable": false,
    "id": "cd84967c"
   },
   "source": [
    "**Задание 4. Выведите количество пропущенных значений для каждого столбца. Используйте комбинацию двух методов.**"
   ]
  },
  {
   "cell_type": "code",
   "execution_count": 4,
   "id": "69eb57b3",
   "metadata": {
    "deletable": false,
    "id": "7f9b2309",
    "outputId": "81f4d817-781c-465c-ed15-91ce4446810d"
   },
   "outputs": [
    {
     "data": {
      "text/plain": [
       "children               0\n",
       "days_employed       2174\n",
       "dob_years              0\n",
       "education              0\n",
       "education_id           0\n",
       "family_status          0\n",
       "family_status_id       0\n",
       "gender                 0\n",
       "income_type            0\n",
       "debt                   0\n",
       "total_income        2174\n",
       "purpose                0\n",
       "dtype: int64"
      ]
     },
     "execution_count": 4,
     "metadata": {},
     "output_type": "execute_result"
    }
   ],
   "source": [
    "data.isna().sum()"
   ]
  },
  {
   "cell_type": "markdown",
   "id": "e9bc5de0",
   "metadata": {
    "deletable": false,
    "editable": false,
    "id": "db86e27b"
   },
   "source": [
    "**Задание 5. В двух столбцах есть пропущенные значения. Один из них — `days_employed`. Пропуски в этом столбце вы обработаете на следующем этапе. Другой столбец с пропущенными значениями — `total_income` — хранит данные о доходах. На сумму дохода сильнее всего влияет тип занятости, поэтому заполнить пропуски в этом столбце нужно медианным значением по каждому типу из столбца `income_type`. Например, у человека с типом занятости `сотрудник` пропуск в столбце `total_income` должен быть заполнен медианным доходом среди всех записей с тем же типом.**"
   ]
  },
  {
   "cell_type": "code",
   "execution_count": 5,
   "id": "9431e509",
   "metadata": {
    "deletable": false,
    "id": "42006a93"
   },
   "outputs": [],
   "source": [
    "for t in data['income_type'].unique():\n",
    "    data.loc[(data['income_type'] == t) & (data['total_income'].isna()), 'total_income'] = \\\n",
    "    data.loc[(data['income_type'] == t), 'total_income'].median()"
   ]
  },
  {
   "cell_type": "markdown",
   "id": "5c9d659b",
   "metadata": {
    "deletable": false,
    "editable": false,
    "id": "89da5ece"
   },
   "source": [
    "### Обработка аномальных значений"
   ]
  },
  {
   "cell_type": "markdown",
   "id": "711301db",
   "metadata": {
    "deletable": false,
    "editable": false,
    "id": "57964554"
   },
   "source": [
    "**Задание 6. В данных могут встречаться артефакты (аномалии) — значения, которые не отражают действительность и появились по какой-то ошибке. таким артефактом будет отрицательное количество дней трудового стажа в столбце `days_employed`. Для реальных данных это нормально. Обработайте значения в этом столбце: замените все отрицательные значения положительными с помощью метода `abs()`.**"
   ]
  },
  {
   "cell_type": "code",
   "execution_count": 6,
   "id": "83afc907",
   "metadata": {
    "deletable": false,
    "id": "f6f055bf"
   },
   "outputs": [],
   "source": [
    "data['days_employed'] = data['days_employed'].abs()"
   ]
  },
  {
   "cell_type": "markdown",
   "id": "95a7a35b",
   "metadata": {
    "deletable": false,
    "editable": false,
    "id": "6107dd2f"
   },
   "source": [
    "**Задание 7. Для каждого типа занятости выведите медианное значение трудового стажа `days_employed` в днях.**"
   ]
  },
  {
   "cell_type": "code",
   "execution_count": 7,
   "id": "c758e3ef",
   "metadata": {
    "deletable": false,
    "id": "85a5faf6",
    "outputId": "801ef80e-522b-4668-f34e-565af7432bcf"
   },
   "outputs": [
    {
     "data": {
      "text/plain": [
       "income_type\n",
       "безработный        366413.652744\n",
       "в декрете            3296.759962\n",
       "госслужащий          2689.368353\n",
       "компаньон            1547.382223\n",
       "пенсионер          365213.306266\n",
       "предприниматель       520.848083\n",
       "сотрудник            1574.202821\n",
       "студент               578.751554\n",
       "Name: days_employed, dtype: float64"
      ]
     },
     "execution_count": 7,
     "metadata": {},
     "output_type": "execute_result"
    }
   ],
   "source": [
    "data.groupby('income_type')['days_employed'].agg('median')"
   ]
  },
  {
   "cell_type": "markdown",
   "id": "3d488a1b",
   "metadata": {
    "deletable": false,
    "editable": false,
    "id": "38d1a030"
   },
   "source": [
    "У двух типов (безработные и пенсионеры) получатся аномально большие значения. Исправить такие значения сложно, поэтому оставьте их как есть. Тем более этот столбец не понадобится вам для исследования."
   ]
  },
  {
   "cell_type": "markdown",
   "id": "d2ab50b7",
   "metadata": {
    "deletable": false,
    "editable": false,
    "id": "d8a9f147"
   },
   "source": [
    "**Задание 8. Выведите перечень уникальных значений столбца `children`.**"
   ]
  },
  {
   "cell_type": "code",
   "execution_count": 8,
   "id": "2384c3b8",
   "metadata": {
    "deletable": false,
    "id": "ef5056eb",
    "outputId": "6975b15c-7f95-4697-d16d-a0c79b657b03"
   },
   "outputs": [
    {
     "data": {
      "text/plain": [
       "array([ 1,  0,  3,  2, -1,  4, 20,  5])"
      ]
     },
     "execution_count": 8,
     "metadata": {},
     "output_type": "execute_result"
    }
   ],
   "source": [
    "data['children'].unique()"
   ]
  },
  {
   "cell_type": "markdown",
   "id": "480383aa",
   "metadata": {
    "deletable": false,
    "editable": false,
    "id": "40b9ebf2"
   },
   "source": [
    "**Задание 9. В столбце `children` есть два аномальных значения. Удалите строки, в которых встречаются такие аномальные значения из датафрейма `data`.**"
   ]
  },
  {
   "cell_type": "code",
   "execution_count": 9,
   "id": "3de67db6",
   "metadata": {
    "deletable": false,
    "id": "3ff9801d"
   },
   "outputs": [],
   "source": [
    "data = data[(data['children'] != -1) & (data['children'] != 20)]"
   ]
  },
  {
   "cell_type": "markdown",
   "id": "aa28b184",
   "metadata": {
    "deletable": false,
    "editable": false,
    "id": "bbc4d0ce"
   },
   "source": [
    "**Задание 10. Ещё раз выведите перечень уникальных значений столбца `children`, чтобы убедиться, что артефакты удалены.**"
   ]
  },
  {
   "cell_type": "code",
   "execution_count": 10,
   "id": "af7d60d1",
   "metadata": {
    "deletable": false,
    "id": "ad4fa8b7",
    "outputId": "b2097101-d49d-44d9-901b-32a65c9463d1"
   },
   "outputs": [
    {
     "data": {
      "text/plain": [
       "array([1, 0, 3, 2, 4, 5])"
      ]
     },
     "execution_count": 10,
     "metadata": {},
     "output_type": "execute_result"
    }
   ],
   "source": [
    "data['children'].unique()"
   ]
  },
  {
   "cell_type": "markdown",
   "id": "68c8c7cb",
   "metadata": {
    "deletable": false,
    "editable": false,
    "id": "75440b63"
   },
   "source": [
    "### Удаление пропусков (продолжение)"
   ]
  },
  {
   "cell_type": "markdown",
   "id": "78beab19",
   "metadata": {
    "deletable": false,
    "editable": false,
    "id": "f4ea573f"
   },
   "source": [
    "**Задание 11. Заполните пропуски в столбце `days_employed` медианными значениями по каждого типа занятости `income_type`.**"
   ]
  },
  {
   "cell_type": "code",
   "execution_count": 11,
   "id": "8700181a",
   "metadata": {
    "deletable": false,
    "id": "af6b1a7e"
   },
   "outputs": [],
   "source": [
    "for t in data['income_type'].unique():\n",
    "    data.loc[(data['income_type'] == t) & (data['days_employed'].isna()), 'days_employed'] = \\\n",
    "    data.loc[(data['income_type'] == t), 'days_employed'].median()"
   ]
  },
  {
   "cell_type": "markdown",
   "id": "6079aa5f",
   "metadata": {
    "deletable": false,
    "editable": false,
    "id": "2753f40d"
   },
   "source": [
    "**Задание 12. Убедитесь, что все пропуски заполнены. Проверьте себя и ещё раз выведите количество пропущенных значений для каждого столбца с помощью двух методов.**"
   ]
  },
  {
   "cell_type": "code",
   "execution_count": 12,
   "id": "f646accd",
   "metadata": {
    "deletable": false,
    "id": "55f78bc2",
    "outputId": "8da1e4e1-358e-4e87-98c9-f261bce0a7b2"
   },
   "outputs": [
    {
     "data": {
      "text/plain": [
       "children            0\n",
       "days_employed       0\n",
       "dob_years           0\n",
       "education           0\n",
       "education_id        0\n",
       "family_status       0\n",
       "family_status_id    0\n",
       "gender              0\n",
       "income_type         0\n",
       "debt                0\n",
       "total_income        0\n",
       "purpose             0\n",
       "dtype: int64"
      ]
     },
     "execution_count": 12,
     "metadata": {},
     "output_type": "execute_result"
    }
   ],
   "source": [
    "data.isna().sum()"
   ]
  },
  {
   "cell_type": "markdown",
   "id": "e2457c74",
   "metadata": {
    "deletable": false,
    "editable": false,
    "id": "ddc81e43"
   },
   "source": [
    "### Изменение типов данных"
   ]
  },
  {
   "cell_type": "markdown",
   "id": "68dca8a4",
   "metadata": {
    "deletable": false,
    "editable": false,
    "id": "42d19d24"
   },
   "source": [
    "**Задание 13. Замените вещественный тип данных в столбце `total_income` на целочисленный с помощью метода `astype()`.**"
   ]
  },
  {
   "cell_type": "code",
   "execution_count": 13,
   "id": "a41debac",
   "metadata": {
    "deletable": false,
    "id": "920b65ad"
   },
   "outputs": [],
   "source": [
    "data['total_income'] = data['total_income'].astype(int)"
   ]
  },
  {
   "cell_type": "markdown",
   "id": "73e34781",
   "metadata": {
    "deletable": false,
    "editable": false,
    "id": "80c420ba"
   },
   "source": [
    "### Обработка дубликатов"
   ]
  },
  {
   "cell_type": "markdown",
   "id": "36c202c5",
   "metadata": {
    "deletable": false,
    "editable": false
   },
   "source": [
    "**Задание 14. Обработайте неявные дубликаты в столбце `education`. В этом столбце есть одни и те же значения, но записанные по-разному: с использованием заглавных и строчных букв. Приведите их к нижнему регистру. Проверьте остальные столбцы.**"
   ]
  },
  {
   "cell_type": "code",
   "execution_count": 14,
   "id": "2f4e02b4",
   "metadata": {
    "deletable": false
   },
   "outputs": [],
   "source": [
    "data['education'] = data['education'].str.lower()"
   ]
  },
  {
   "cell_type": "markdown",
   "id": "2d6b4db4",
   "metadata": {
    "deletable": false,
    "editable": false,
    "id": "dc587695"
   },
   "source": [
    "**Задание 15. Выведите на экран количество строк-дубликатов в данных. Если такие строки присутствуют, удалите их.**"
   ]
  },
  {
   "cell_type": "code",
   "execution_count": 15,
   "id": "57efdc09",
   "metadata": {
    "deletable": false,
    "id": "3ee445e4",
    "outputId": "9684deba-1934-42d1-99e1-cda61740f822"
   },
   "outputs": [
    {
     "data": {
      "text/plain": [
       "71"
      ]
     },
     "execution_count": 15,
     "metadata": {},
     "output_type": "execute_result"
    }
   ],
   "source": [
    "data.duplicated().sum()"
   ]
  },
  {
   "cell_type": "code",
   "execution_count": 16,
   "id": "d3af100b",
   "metadata": {
    "deletable": false,
    "id": "8575fe05"
   },
   "outputs": [],
   "source": [
    "data = data.drop_duplicates()"
   ]
  },
  {
   "cell_type": "markdown",
   "id": "88deb919",
   "metadata": {
    "deletable": false,
    "editable": false,
    "id": "9904cf55"
   },
   "source": [
    "### Категоризация данных"
   ]
  },
  {
   "cell_type": "markdown",
   "id": "59e8346f",
   "metadata": {
    "deletable": false,
    "editable": false,
    "id": "72fcc8a2"
   },
   "source": [
    "**Задание 16. На основании диапазонов, указанных ниже, создайте в датафрейме `data` столбец `total_income_category` с категориями:**\n",
    "\n",
    "- 0–30000 — `'E'`;\n",
    "- 30001–50000 — `'D'`;\n",
    "- 50001–200000 — `'C'`;\n",
    "- 200001–1000000 — `'B'`;\n",
    "- 1000001 и выше — `'A'`.\n",
    "\n",
    "\n",
    "**Например, кредитополучателю с доходом 25000 нужно назначить категорию `'E'`, а клиенту, получающему 235000, — `'B'`. Используйте собственную функцию с именем `categorize_income()` и метод `apply()`.**"
   ]
  },
  {
   "cell_type": "code",
   "execution_count": 17,
   "id": "766a1be7",
   "metadata": {
    "deletable": false,
    "id": "e1771346"
   },
   "outputs": [],
   "source": [
    "def categorize_income(income):\n",
    "    try:\n",
    "        if 0 <= income <= 30000:\n",
    "            return 'E'\n",
    "        elif 30001 <= income <= 50000:\n",
    "            return 'D'\n",
    "        elif 50001 <= income <= 200000:\n",
    "            return 'C'\n",
    "        elif 200001 <= income <= 1000000:\n",
    "            return 'B'\n",
    "        elif income >= 1000001:\n",
    "            return 'A'\n",
    "    except:\n",
    "        pass"
   ]
  },
  {
   "cell_type": "code",
   "execution_count": 18,
   "id": "714746b9",
   "metadata": {
    "deletable": false,
    "id": "d5f3586d"
   },
   "outputs": [],
   "source": [
    "data['total_income_category'] = data['total_income'].apply(categorize_income)"
   ]
  },
  {
   "cell_type": "markdown",
   "id": "8173bd4a",
   "metadata": {
    "deletable": false,
    "editable": false,
    "id": "dde49b5c"
   },
   "source": [
    "**Задание 17. Выведите на экран перечень уникальных целей взятия кредита из столбца `purpose`.**"
   ]
  },
  {
   "cell_type": "code",
   "execution_count": 19,
   "id": "e08acf1a",
   "metadata": {
    "deletable": false,
    "id": "f67ce9b3",
    "outputId": "673c12d9-7d7e-4ae0-9812-c622c89dd244"
   },
   "outputs": [
    {
     "data": {
      "text/plain": [
       "array(['покупка жилья', 'приобретение автомобиля',\n",
       "       'дополнительное образование', 'сыграть свадьбу',\n",
       "       'операции с жильем', 'образование', 'на проведение свадьбы',\n",
       "       'покупка жилья для семьи', 'покупка недвижимости',\n",
       "       'покупка коммерческой недвижимости', 'покупка жилой недвижимости',\n",
       "       'строительство собственной недвижимости', 'недвижимость',\n",
       "       'строительство недвижимости', 'на покупку подержанного автомобиля',\n",
       "       'на покупку своего автомобиля',\n",
       "       'операции с коммерческой недвижимостью',\n",
       "       'строительство жилой недвижимости', 'жилье',\n",
       "       'операции со своей недвижимостью', 'автомобили',\n",
       "       'заняться образованием', 'сделка с подержанным автомобилем',\n",
       "       'получение образования', 'автомобиль', 'свадьба',\n",
       "       'получение дополнительного образования', 'покупка своего жилья',\n",
       "       'операции с недвижимостью', 'получение высшего образования',\n",
       "       'свой автомобиль', 'сделка с автомобилем',\n",
       "       'профильное образование', 'высшее образование',\n",
       "       'покупка жилья для сдачи', 'на покупку автомобиля', 'ремонт жилью',\n",
       "       'заняться высшим образованием'], dtype=object)"
      ]
     },
     "execution_count": 19,
     "metadata": {},
     "output_type": "execute_result"
    }
   ],
   "source": [
    "data['purpose'].unique()"
   ]
  },
  {
   "cell_type": "markdown",
   "id": "3df1bfaa",
   "metadata": {
    "deletable": false,
    "editable": false,
    "id": "85d0aef0"
   },
   "source": [
    "**Задание 18. Создайте функцию, которая на основании данных из столбца `purpose` сформирует новый столбец `purpose_category`, в который войдут следующие категории:**\n",
    "\n",
    "- `'операции с автомобилем'`,\n",
    "- `'операции с недвижимостью'`,\n",
    "- `'проведение свадьбы'`,\n",
    "- `'получение образования'`.\n",
    "\n",
    "**Например, если в столбце `purpose` находится подстрока `'на покупку автомобиля'`, то в столбце `purpose_category` должна появиться строка `'операции с автомобилем'`.**\n",
    "\n",
    "**Используйте собственную функцию с именем `categorize_purpose()` и метод `apply()`. Изучите данные в столбце `purpose` и определите, какие подстроки помогут вам правильно определить категорию.**"
   ]
  },
  {
   "cell_type": "code",
   "execution_count": 20,
   "id": "e86a7a04",
   "metadata": {
    "deletable": false,
    "id": "e149fab4"
   },
   "outputs": [],
   "source": [
    "def categorize_purpose(row):\n",
    "    try:\n",
    "        if 'автом' in row:\n",
    "            return 'операции с автомобилем'\n",
    "        elif 'жил' in row or 'недвиж' in row:\n",
    "            return 'операции с недвижимостью'\n",
    "        elif 'свад' in row:\n",
    "            return 'проведение свадьбы'\n",
    "        elif 'образов' in row:\n",
    "            return 'получение образования'\n",
    "    except:\n",
    "        return 'нет категории'"
   ]
  },
  {
   "cell_type": "code",
   "execution_count": 21,
   "id": "dfeed408",
   "metadata": {
    "deletable": false,
    "id": "bf36e69b"
   },
   "outputs": [],
   "source": [
    "data['purpose_category'] = data['purpose'].apply(categorize_purpose)"
   ]
  },
  {
   "cell_type": "markdown",
   "id": "35ce6ed2",
   "metadata": {
    "deletable": false,
    "editable": false,
    "id": "09b242bf"
   },
   "source": [
    "### Шаг 3. Исследуйте данные и ответьте на вопросы"
   ]
  },
  {
   "cell_type": "markdown",
   "id": "8221b52e",
   "metadata": {
    "deletable": false,
    "editable": false,
    "id": "c5d66278"
   },
   "source": [
    "#### 3.1 Есть ли зависимость между количеством детей и возвратом кредита в срок?"
   ]
  },
  {
   "cell_type": "code",
   "execution_count": 22,
   "id": "21e79c46",
   "metadata": {
    "deletable": false,
    "id": "2cacfc4a",
    "scrolled": false
   },
   "outputs": [
    {
     "name": "stdout",
     "output_type": "stream",
     "text": [
      "children  debt\n",
      "0         0       0.924562\n",
      "          1       0.075438\n",
      "1         0       0.907654\n",
      "          1       0.092346\n",
      "2         0       0.905458\n",
      "          1       0.094542\n",
      "3         0       0.918182\n",
      "          1       0.081818\n",
      "4         0       0.902439\n",
      "          1       0.097561\n",
      "5         0       1.000000\n",
      "Name: debt, dtype: float64\n"
     ]
    },
    {
     "data": {
      "text/plain": [
       "<AxesSubplot:xlabel='children,debt'>"
      ]
     },
     "execution_count": 22,
     "metadata": {},
     "output_type": "execute_result"
    },
    {
     "data": {
      "image/png": "[encoded data removed]",
      "text/plain": [
       "<Figure size 432x288 with 1 Axes>"
      ]
     },
     "metadata": {
      "needs_background": "light"
     },
     "output_type": "display_data"
    }
   ],
   "source": [
    "# считаем доли просрочек и вовзратов по кол-ву детей\n",
    "data_children_count_norm = data.groupby(['children'])['debt'].value_counts(normalize=True)\n",
    "print(data_children_count_norm)\n",
    "data_children_count_norm.plot(kind='bar')"
   ]
  },
  {
   "cell_type": "code",
   "execution_count": 23,
   "id": "7559b975",
   "metadata": {},
   "outputs": [
    {
     "name": "stdout",
     "output_type": "stream",
     "text": [
      "сортировка для наглядности\n",
      "children  debt\n",
      "5         0       1.000000\n",
      "0         0       0.924562\n",
      "3         0       0.918182\n",
      "1         0       0.907654\n",
      "2         0       0.905458\n",
      "4         0       0.902439\n",
      "          1       0.097561\n",
      "2         1       0.094542\n",
      "1         1       0.092346\n",
      "3         1       0.081818\n",
      "0         1       0.075438\n",
      "Name: debt, dtype: float64\n"
     ]
    },
    {
     "data": {
      "text/plain": [
       "<AxesSubplot:xlabel='children,debt'>"
      ]
     },
     "execution_count": 23,
     "metadata": {},
     "output_type": "execute_result"
    },
    {
     "data": {
      "image/png": "[encoded data removed]",
      "text/plain": [
       "<Figure size 432x288 with 1 Axes>"
      ]
     },
     "metadata": {
      "needs_background": "light"
     },
     "output_type": "display_data"
    }
   ],
   "source": [
    "# сортировка для наглядности\n",
    "print('сортировка для наглядности')\n",
    "print(data_children_count_norm.sort_values(ascending=False))\n",
    "data_children_count_norm.sort_values(ascending=False).plot(kind='bar')"
   ]
  },
  {
   "cell_type": "code",
   "execution_count": 24,
   "id": "497a8b19",
   "metadata": {},
   "outputs": [],
   "source": [
    "# более  наглядный вариант с дополнительными данными\n",
    "\n",
    "# все задания однотипные, поэтому создадим функцию\n",
    "def ratio(column):\n",
    "    df = pd.DataFrame()\n",
    "    df['users'] = data.groupby([column])['debt'].count()\n",
    "    df['users_with_debt'] = data.groupby([column])['debt'].sum()\n",
    "    df['debt_ratio'] = df['users_with_debt'] / df['users']\n",
    "\n",
    "    df_sorted = df.sort_values(by = 'debt_ratio', ascending = False)\n",
    "    print(df_sorted)\n",
    "\n",
    "    print(df_sorted['debt_ratio'].plot(kind = 'barh'))\n",
    "#     print(df_sorted['debt_ratio'].plot(kind='pie',normalize=False))\n",
    "\n"
   ]
  },
  {
   "cell_type": "code",
   "execution_count": 25,
   "id": "a5978505",
   "metadata": {},
   "outputs": [
    {
     "name": "stdout",
     "output_type": "stream",
     "text": [
      "          users  users_with_debt  debt_ratio\n",
      "children                                    \n",
      "4            41                4    0.097561\n",
      "2          2052              194    0.094542\n",
      "1          4808              444    0.092346\n",
      "3           330               27    0.081818\n",
      "0         14091             1063    0.075438\n",
      "5             9                0    0.000000\n",
      "AxesSubplot(0.125,0.125;0.775x0.755)\n"
     ]
    },
    {
     "data": {
      "image/png": "[encoded data removed]",
      "text/plain": [
       "<Figure size 432x288 with 1 Axes>"
      ]
     },
     "metadata": {
      "needs_background": "light"
     },
     "output_type": "display_data"
    }
   ],
   "source": [
    "ratio('children')"
   ]
  },
  {
   "cell_type": "markdown",
   "id": "86648e31",
   "metadata": {
    "deletable": false,
    "id": "3a6b99ec"
   },
   "source": [
    "**Вывод:** \n",
    "при 4 детях самая высокая доля просрочек 0.097561.\n",
    "при 0 детей самая низкая доля просрочек 0.075438.\n",
    "\n",
    "данные с 5 детьми выглядят аномально и их мало, всего 9 записей.\n"
   ]
  },
  {
   "cell_type": "markdown",
   "id": "9ddb2057",
   "metadata": {
    "deletable": false,
    "editable": false,
    "id": "97be82ca"
   },
   "source": [
    "#### 3.2 Есть ли зависимость между семейным положением и возвратом кредита в срок?"
   ]
  },
  {
   "cell_type": "code",
   "execution_count": 26,
   "id": "5c55ca23",
   "metadata": {
    "deletable": false,
    "id": "dc3f7ee8",
    "scrolled": false
   },
   "outputs": [
    {
     "name": "stdout",
     "output_type": "stream",
     "text": [
      "                       users  users_with_debt  debt_ratio\n",
      "family_status                                            \n",
      "Не женат / не замужем   2796              273    0.097639\n",
      "гражданский брак        4134              385    0.093130\n",
      "женат / замужем        12261              927    0.075606\n",
      "в разводе               1189               84    0.070648\n",
      "вдовец / вдова           951               63    0.066246\n",
      "AxesSubplot(0.125,0.125;0.775x0.755)\n"
     ]
    },
    {
     "data": {
      "image/png": "[encoded data removed]",
      "text/plain": [
       "<Figure size 432x288 with 1 Axes>"
      ]
     },
     "metadata": {
      "needs_background": "light"
     },
     "output_type": "display_data"
    }
   ],
   "source": [
    "ratio('family_status')"
   ]
  },
  {
   "cell_type": "markdown",
   "id": "5a27577f",
   "metadata": {
    "deletable": false,
    "id": "1cef7837"
   },
   "source": [
    "**Вывод:** По данным можно зметить, что люди не женатые или не замужем реже погашают кредиты, а вдовцы погашают кредиты лучше остальных. "
   ]
  },
  {
   "cell_type": "markdown",
   "id": "0e9dc39f",
   "metadata": {
    "deletable": false,
    "editable": false,
    "id": "1e8b2fca"
   },
   "source": [
    "#### 3.3 Есть ли зависимость между уровнем дохода и возвратом кредита в срок?"
   ]
  },
  {
   "cell_type": "code",
   "execution_count": 27,
   "id": "d2b1d6ca",
   "metadata": {
    "deletable": false,
    "id": "cd7e3720"
   },
   "outputs": [
    {
     "name": "stdout",
     "output_type": "stream",
     "text": [
      "                       users  users_with_debt  debt_ratio\n",
      "total_income_category                                    \n",
      "E                         22                2    0.090909\n",
      "C                      15921             1353    0.084982\n",
      "A                         25                2    0.080000\n",
      "B                       5014              354    0.070602\n",
      "D                        349               21    0.060172\n",
      "AxesSubplot(0.125,0.125;0.775x0.755)\n"
     ]
    },
    {
     "data": {
      "image/png": "[encoded data removed]",
      "text/plain": [
       "<Figure size 432x288 with 1 Axes>"
      ]
     },
     "metadata": {
      "needs_background": "light"
     },
     "output_type": "display_data"
    }
   ],
   "source": [
    "ratio('total_income_category')"
   ]
  },
  {
   "cell_type": "markdown",
   "id": "8a987b2e",
   "metadata": {
    "deletable": false,
    "id": "e8593def"
   },
   "source": [
    "**Вывод:** Люди с наименьшим уровнем дохода реже погашают кредиты, что не удивляет. Зато люди с доходами чуть выше наименьшего уровня погашают кредиты лучше всех."
   ]
  },
  {
   "cell_type": "markdown",
   "id": "c213aa25",
   "metadata": {
    "deletable": false,
    "editable": false,
    "id": "99ecbd1f"
   },
   "source": [
    "#### 3.4 Как разные цели кредита влияют на его возврат в срок?"
   ]
  },
  {
   "cell_type": "code",
   "execution_count": 28,
   "id": "1cc9599b",
   "metadata": {
    "deletable": false,
    "id": "2b687290"
   },
   "outputs": [
    {
     "name": "stdout",
     "output_type": "stream",
     "text": [
      "                          users  users_with_debt  debt_ratio\n",
      "purpose_category                                            \n",
      "операции с автомобилем     4279              400    0.093480\n",
      "получение образования      3988              369    0.092528\n",
      "проведение свадьбы         2313              183    0.079118\n",
      "операции с недвижимостью  10751              780    0.072551\n",
      "AxesSubplot(0.125,0.125;0.775x0.755)\n"
     ]
    },
    {
     "data": {
      "image/png": "[encoded data removed]",
      "text/plain": [
       "<Figure size 432x288 with 1 Axes>"
      ]
     },
     "metadata": {
      "needs_background": "light"
     },
     "output_type": "display_data"
    }
   ],
   "source": [
    "ratio('purpose_category')"
   ]
  },
  {
   "cell_type": "markdown",
   "id": "3b7bf560",
   "metadata": {
    "deletable": false,
    "id": "b4bb2ce6"
   },
   "source": [
    "**Вывод:** Кредиты на автомобили погашаются неохотнее."
   ]
  },
  {
   "cell_type": "markdown",
   "id": "f2b2cce9",
   "metadata": {
    "deletable": false,
    "editable": false,
    "id": "09c3ac4c"
   },
   "source": [
    "#### 3.5 Приведите возможные причины появления пропусков в исходных данных."
   ]
  },
  {
   "cell_type": "markdown",
   "id": "3b58ed31",
   "metadata": {
    "deletable": false,
    "id": "9da2ceda"
   },
   "source": [
    "*Ответ:* Ошибки при заполнении данных, ошибки при получении выгрузки, отсутсвие данных о кредитоплательщиках."
   ]
  },
  {
   "cell_type": "markdown",
   "id": "285ee39d",
   "metadata": {
    "deletable": false,
    "editable": false,
    "id": "7b0487d6"
   },
   "source": [
    "#### 3.6 Объясните, почему заполнить пропуски медианным значением — лучшее решение для количественных переменных."
   ]
  },
  {
   "cell_type": "markdown",
   "id": "94826667",
   "metadata": {
    "deletable": false,
    "id": "7ecf2b8e"
   },
   "source": [
    "*Ответ:* Медианное значение показывает истинную середину в количетвенных переменных, несмотря на аномально большие или маленькие значения."
   ]
  },
  {
   "cell_type": "markdown",
   "id": "445d7c61",
   "metadata": {
    "deletable": false,
    "editable": false,
    "id": "6db5255a"
   },
   "source": [
    "### Шаг 4: общий вывод."
   ]
  },
  {
   "cell_type": "markdown",
   "id": "27c1da42",
   "metadata": {
    "deletable": false,
    "id": "bad65432"
   },
   "source": [
    "На мой взгляд данных мало и для более тщательного анализа нужна выборка побольше. Исходя из полученных результатов самым перспективным плательщиком будет вдовец без детей с уровнем дохода D взявший кредит на недвижемость, в то время как не женатый/не замужний человек с 4мя детьми и с уровнем дохода Е, берущий кредит на автомобиль - потенцеальный должник. Возможно ставки под кредиты попадающие в зону риска по невозвратам следует пересмотреть, чтобы упростить людям возможность погашения таких кредитов."
   ]
  }
 ],
 "metadata": {
  "ExecuteTimeLog": [
   {
    "duration": 485,
    "start_time": "2022-10-04T16:42:30.491Z"
   },
   {
    "duration": 23,
    "start_time": "2022-10-04T16:42:30.978Z"
   },
   {
    "duration": 18,
    "start_time": "2022-10-04T16:42:31.002Z"
   },
   {
    "duration": 12,
    "start_time": "2022-10-04T16:42:31.022Z"
   },
   {
    "duration": 58,
    "start_time": "2022-10-04T16:42:31.037Z"
   },
   {
    "duration": 5,
    "start_time": "2022-10-04T16:42:31.097Z"
   },
   {
    "duration": 25,
    "start_time": "2022-10-04T16:42:31.104Z"
   },
   {
    "duration": 6,
    "start_time": "2022-10-04T16:42:31.130Z"
   },
   {
    "duration": 16,
    "start_time": "2022-10-04T16:42:31.138Z"
   },
   {
    "duration": 7,
    "start_time": "2022-10-04T16:42:31.157Z"
   },
   {
    "duration": 55,
    "start_time": "2022-10-04T16:42:31.165Z"
   },
   {
    "duration": 11,
    "start_time": "2022-10-04T16:42:31.222Z"
   },
   {
    "duration": 13,
    "start_time": "2022-10-04T16:42:31.235Z"
   },
   {
    "duration": 39,
    "start_time": "2022-10-04T16:42:31.249Z"
   },
   {
    "duration": 51,
    "start_time": "2022-10-04T16:42:31.289Z"
   },
   {
    "duration": 24,
    "start_time": "2022-10-04T16:42:31.342Z"
   },
   {
    "duration": 29,
    "start_time": "2022-10-04T16:42:31.368Z"
   },
   {
    "duration": 24,
    "start_time": "2022-10-04T16:42:31.399Z"
   },
   {
    "duration": 26,
    "start_time": "2022-10-04T16:42:31.425Z"
   },
   {
    "duration": 21,
    "start_time": "2022-10-04T16:42:31.453Z"
   },
   {
    "duration": 30,
    "start_time": "2022-10-04T16:42:31.476Z"
   },
   {
    "duration": 13,
    "start_time": "2022-10-04T16:42:31.509Z"
   },
   {
    "duration": 7,
    "start_time": "2022-10-04T16:42:31.524Z"
   },
   {
    "duration": 34,
    "start_time": "2022-10-04T16:42:31.533Z"
   },
   {
    "duration": 21,
    "start_time": "2022-10-04T16:42:31.569Z"
   },
   {
    "duration": 6,
    "start_time": "2022-10-04T17:08:25.505Z"
   },
   {
    "duration": 6,
    "start_time": "2022-10-04T17:10:41.917Z"
   },
   {
    "duration": 5,
    "start_time": "2022-10-04T17:11:04.749Z"
   },
   {
    "duration": 6,
    "start_time": "2022-10-04T17:11:11.284Z"
   },
   {
    "duration": 5,
    "start_time": "2022-10-04T17:11:49.261Z"
   },
   {
    "duration": 28,
    "start_time": "2022-10-04T17:12:25.564Z"
   },
   {
    "duration": 84,
    "start_time": "2022-10-04T17:13:36.789Z"
   },
   {
    "duration": 66,
    "start_time": "2022-10-04T17:14:31.293Z"
   },
   {
    "duration": 12,
    "start_time": "2022-10-04T17:15:00.756Z"
   },
   {
    "duration": 6,
    "start_time": "2022-10-04T17:19:18.845Z"
   },
   {
    "duration": 9,
    "start_time": "2022-10-04T17:20:37.124Z"
   },
   {
    "duration": 5,
    "start_time": "2022-10-04T17:28:34.303Z"
   },
   {
    "duration": 5,
    "start_time": "2022-10-04T17:31:16.527Z"
   },
   {
    "duration": 566,
    "start_time": "2022-10-04T17:32:21.141Z"
   },
   {
    "duration": 6,
    "start_time": "2022-10-04T17:33:20.203Z"
   },
   {
    "duration": 87,
    "start_time": "2022-10-04T17:36:45.641Z"
   },
   {
    "duration": 6,
    "start_time": "2022-10-04T17:37:11.722Z"
   },
   {
    "duration": 7,
    "start_time": "2022-10-04T17:37:45.721Z"
   },
   {
    "duration": 18,
    "start_time": "2022-10-04T17:39:01.209Z"
   },
   {
    "duration": 8,
    "start_time": "2022-10-04T17:40:59.017Z"
   },
   {
    "duration": 93,
    "start_time": "2022-10-04T17:41:21.169Z"
   },
   {
    "duration": 10,
    "start_time": "2022-10-04T17:46:55.114Z"
   },
   {
    "duration": 5,
    "start_time": "2022-10-04T17:47:14.787Z"
   },
   {
    "duration": 81,
    "start_time": "2022-10-04T17:48:16.235Z"
   },
   {
    "duration": 54,
    "start_time": "2022-10-04T17:48:21.793Z"
   },
   {
    "duration": 50,
    "start_time": "2022-10-04T17:48:30.265Z"
   },
   {
    "duration": 47,
    "start_time": "2022-10-04T17:48:50.601Z"
   },
   {
    "duration": 9,
    "start_time": "2022-10-04T17:48:57.768Z"
   },
   {
    "duration": 13,
    "start_time": "2022-10-04T17:49:26.161Z"
   },
   {
    "duration": 37,
    "start_time": "2022-10-04T17:49:36.651Z"
   },
   {
    "duration": 93,
    "start_time": "2022-10-04T17:50:15.585Z"
   },
   {
    "duration": 33,
    "start_time": "2022-10-04T17:50:33.513Z"
   },
   {
    "duration": 31,
    "start_time": "2022-10-04T17:51:53.136Z"
   },
   {
    "duration": 15,
    "start_time": "2022-10-04T17:54:53.616Z"
   },
   {
    "duration": 13,
    "start_time": "2022-10-04T17:55:21.593Z"
   },
   {
    "duration": 14,
    "start_time": "2022-10-04T17:56:36.458Z"
   },
   {
    "duration": 17,
    "start_time": "2022-10-04T17:57:15.321Z"
   },
   {
    "duration": 16,
    "start_time": "2022-10-04T17:57:37.696Z"
   },
   {
    "duration": 10,
    "start_time": "2022-10-04T17:58:12.688Z"
   },
   {
    "duration": 13,
    "start_time": "2022-10-04T17:58:36.160Z"
   },
   {
    "duration": 15,
    "start_time": "2022-10-04T17:59:04.416Z"
   },
   {
    "duration": 22,
    "start_time": "2022-10-04T18:01:49.466Z"
   },
   {
    "duration": 25,
    "start_time": "2022-10-04T18:02:14.791Z"
   },
   {
    "duration": 13,
    "start_time": "2022-10-04T18:03:08.451Z"
   },
   {
    "duration": 16,
    "start_time": "2022-10-04T18:03:45.544Z"
   },
   {
    "duration": 28,
    "start_time": "2022-10-04T18:03:57.191Z"
   },
   {
    "duration": 27,
    "start_time": "2022-10-04T18:04:54.411Z"
   },
   {
    "duration": 26,
    "start_time": "2022-10-04T18:05:04.816Z"
   },
   {
    "duration": 26,
    "start_time": "2022-10-04T18:05:50.168Z"
   },
   {
    "duration": 87,
    "start_time": "2022-10-04T18:06:41.502Z"
   },
   {
    "duration": 25,
    "start_time": "2022-10-04T18:06:48.727Z"
   },
   {
    "duration": 17,
    "start_time": "2022-10-04T18:11:48.911Z"
   },
   {
    "duration": 23,
    "start_time": "2022-10-04T18:12:22.822Z"
   },
   {
    "duration": 19,
    "start_time": "2022-10-04T18:12:32.508Z"
   },
   {
    "duration": 2,
    "start_time": "2022-10-04T18:13:31.304Z"
   },
   {
    "duration": 2,
    "start_time": "2022-10-04T18:13:35.512Z"
   },
   {
    "duration": 419,
    "start_time": "2022-10-04T18:17:07.640Z"
   },
   {
    "duration": 22,
    "start_time": "2022-10-04T18:17:08.061Z"
   },
   {
    "duration": 21,
    "start_time": "2022-10-04T18:17:08.084Z"
   },
   {
    "duration": 10,
    "start_time": "2022-10-04T18:17:08.107Z"
   },
   {
    "duration": 29,
    "start_time": "2022-10-04T18:17:08.118Z"
   },
   {
    "duration": 3,
    "start_time": "2022-10-04T18:17:08.149Z"
   },
   {
    "duration": 10,
    "start_time": "2022-10-04T18:17:08.153Z"
   },
   {
    "duration": 31,
    "start_time": "2022-10-04T18:17:08.164Z"
   },
   {
    "duration": 8,
    "start_time": "2022-10-04T18:17:08.196Z"
   },
   {
    "duration": 5,
    "start_time": "2022-10-04T18:17:08.206Z"
   },
   {
    "duration": 32,
    "start_time": "2022-10-04T18:17:08.212Z"
   },
   {
    "duration": 9,
    "start_time": "2022-10-04T18:17:08.245Z"
   },
   {
    "duration": 5,
    "start_time": "2022-10-04T18:17:08.255Z"
   },
   {
    "duration": 40,
    "start_time": "2022-10-04T18:17:08.261Z"
   },
   {
    "duration": 18,
    "start_time": "2022-10-04T18:17:08.302Z"
   },
   {
    "duration": 15,
    "start_time": "2022-10-04T18:17:08.321Z"
   },
   {
    "duration": 4,
    "start_time": "2022-10-04T18:17:08.337Z"
   },
   {
    "duration": 11,
    "start_time": "2022-10-04T18:17:08.342Z"
   },
   {
    "duration": 5,
    "start_time": "2022-10-04T18:17:08.354Z"
   },
   {
    "duration": 4,
    "start_time": "2022-10-04T18:17:08.360Z"
   },
   {
    "duration": 36,
    "start_time": "2022-10-04T18:17:08.365Z"
   },
   {
    "duration": 71,
    "start_time": "2022-10-04T18:17:08.403Z"
   },
   {
    "duration": 0,
    "start_time": "2022-10-04T18:17:08.475Z"
   },
   {
    "duration": 0,
    "start_time": "2022-10-04T18:17:08.476Z"
   },
   {
    "duration": 0,
    "start_time": "2022-10-04T18:17:08.477Z"
   },
   {
    "duration": 0,
    "start_time": "2022-10-04T18:17:08.478Z"
   },
   {
    "duration": 0,
    "start_time": "2022-10-04T18:17:08.479Z"
   },
   {
    "duration": 0,
    "start_time": "2022-10-04T18:17:08.481Z"
   },
   {
    "duration": 0,
    "start_time": "2022-10-04T18:17:08.481Z"
   },
   {
    "duration": 64,
    "start_time": "2022-10-04T18:17:16.941Z"
   },
   {
    "duration": 475,
    "start_time": "2022-10-04T18:17:23.385Z"
   },
   {
    "duration": 22,
    "start_time": "2022-10-04T18:17:23.862Z"
   },
   {
    "duration": 16,
    "start_time": "2022-10-04T18:17:23.885Z"
   },
   {
    "duration": 10,
    "start_time": "2022-10-04T18:17:23.903Z"
   },
   {
    "duration": 32,
    "start_time": "2022-10-04T18:17:23.915Z"
   },
   {
    "duration": 3,
    "start_time": "2022-10-04T18:17:23.949Z"
   },
   {
    "duration": 14,
    "start_time": "2022-10-04T18:17:23.953Z"
   },
   {
    "duration": 3,
    "start_time": "2022-10-04T18:17:23.969Z"
   },
   {
    "duration": 8,
    "start_time": "2022-10-04T18:17:23.995Z"
   },
   {
    "duration": 7,
    "start_time": "2022-10-04T18:17:24.006Z"
   },
   {
    "duration": 33,
    "start_time": "2022-10-04T18:17:24.014Z"
   },
   {
    "duration": 9,
    "start_time": "2022-10-04T18:17:24.048Z"
   },
   {
    "duration": 11,
    "start_time": "2022-10-04T18:17:24.058Z"
   },
   {
    "duration": 29,
    "start_time": "2022-10-04T18:17:24.071Z"
   },
   {
    "duration": 25,
    "start_time": "2022-10-04T18:17:24.102Z"
   },
   {
    "duration": 19,
    "start_time": "2022-10-04T18:17:24.129Z"
   },
   {
    "duration": 3,
    "start_time": "2022-10-04T18:17:24.150Z"
   },
   {
    "duration": 19,
    "start_time": "2022-10-04T18:17:24.154Z"
   },
   {
    "duration": 25,
    "start_time": "2022-10-04T18:17:24.175Z"
   },
   {
    "duration": 5,
    "start_time": "2022-10-04T18:17:24.202Z"
   },
   {
    "duration": 32,
    "start_time": "2022-10-04T18:17:24.209Z"
   },
   {
    "duration": 120,
    "start_time": "2022-10-04T18:17:24.242Z"
   },
   {
    "duration": 0,
    "start_time": "2022-10-04T18:17:24.364Z"
   },
   {
    "duration": 0,
    "start_time": "2022-10-04T18:17:24.365Z"
   },
   {
    "duration": 0,
    "start_time": "2022-10-04T18:17:24.366Z"
   },
   {
    "duration": 0,
    "start_time": "2022-10-04T18:17:24.368Z"
   },
   {
    "duration": 0,
    "start_time": "2022-10-04T18:17:24.369Z"
   },
   {
    "duration": 0,
    "start_time": "2022-10-04T18:17:24.370Z"
   },
   {
    "duration": 0,
    "start_time": "2022-10-04T18:17:24.372Z"
   },
   {
    "duration": 462,
    "start_time": "2022-10-04T18:17:45.405Z"
   },
   {
    "duration": 22,
    "start_time": "2022-10-04T18:17:45.869Z"
   },
   {
    "duration": 14,
    "start_time": "2022-10-04T18:17:45.892Z"
   },
   {
    "duration": 8,
    "start_time": "2022-10-04T18:17:45.907Z"
   },
   {
    "duration": 40,
    "start_time": "2022-10-04T18:17:45.917Z"
   },
   {
    "duration": 3,
    "start_time": "2022-10-04T18:17:45.959Z"
   },
   {
    "duration": 14,
    "start_time": "2022-10-04T18:17:45.963Z"
   },
   {
    "duration": 18,
    "start_time": "2022-10-04T18:17:45.978Z"
   },
   {
    "duration": 11,
    "start_time": "2022-10-04T18:17:45.997Z"
   },
   {
    "duration": 4,
    "start_time": "2022-10-04T18:17:46.010Z"
   },
   {
    "duration": 33,
    "start_time": "2022-10-04T18:17:46.015Z"
   },
   {
    "duration": 8,
    "start_time": "2022-10-04T18:17:46.050Z"
   },
   {
    "duration": 3,
    "start_time": "2022-10-04T18:17:46.060Z"
   },
   {
    "duration": 37,
    "start_time": "2022-10-04T18:17:46.066Z"
   },
   {
    "duration": 19,
    "start_time": "2022-10-04T18:17:46.105Z"
   },
   {
    "duration": 16,
    "start_time": "2022-10-04T18:17:46.126Z"
   },
   {
    "duration": 3,
    "start_time": "2022-10-04T18:17:46.143Z"
   },
   {
    "duration": 11,
    "start_time": "2022-10-04T18:17:46.148Z"
   },
   {
    "duration": 5,
    "start_time": "2022-10-04T18:17:46.160Z"
   },
   {
    "duration": 29,
    "start_time": "2022-10-04T18:17:46.167Z"
   },
   {
    "duration": 11,
    "start_time": "2022-10-04T18:17:46.198Z"
   },
   {
    "duration": 2,
    "start_time": "2022-10-04T18:17:46.211Z"
   },
   {
    "duration": 23,
    "start_time": "2022-10-04T18:17:46.215Z"
   },
   {
    "duration": 4,
    "start_time": "2022-10-04T18:17:46.240Z"
   },
   {
    "duration": 5,
    "start_time": "2022-10-04T18:17:46.246Z"
   },
   {
    "duration": 53,
    "start_time": "2022-10-04T18:17:46.252Z"
   },
   {
    "duration": 2,
    "start_time": "2022-10-04T18:17:46.307Z"
   },
   {
    "duration": 7,
    "start_time": "2022-10-04T18:17:46.311Z"
   },
   {
    "duration": 5,
    "start_time": "2022-10-04T18:17:46.319Z"
   },
   {
    "duration": 451,
    "start_time": "2022-10-04T18:19:29.017Z"
   },
   {
    "duration": 23,
    "start_time": "2022-10-04T18:19:29.470Z"
   },
   {
    "duration": 17,
    "start_time": "2022-10-04T18:19:29.494Z"
   },
   {
    "duration": 9,
    "start_time": "2022-10-04T18:19:29.513Z"
   },
   {
    "duration": 36,
    "start_time": "2022-10-04T18:19:29.524Z"
   },
   {
    "duration": 4,
    "start_time": "2022-10-04T18:19:29.561Z"
   },
   {
    "duration": 34,
    "start_time": "2022-10-04T18:19:29.567Z"
   },
   {
    "duration": 7,
    "start_time": "2022-10-04T18:19:29.602Z"
   },
   {
    "duration": 11,
    "start_time": "2022-10-04T18:19:29.610Z"
   },
   {
    "duration": 3,
    "start_time": "2022-10-04T18:19:29.624Z"
   },
   {
    "duration": 31,
    "start_time": "2022-10-04T18:19:29.629Z"
   },
   {
    "duration": 9,
    "start_time": "2022-10-04T18:19:29.661Z"
   },
   {
    "duration": 26,
    "start_time": "2022-10-04T18:19:29.671Z"
   },
   {
    "duration": 12,
    "start_time": "2022-10-04T18:19:29.698Z"
   },
   {
    "duration": 19,
    "start_time": "2022-10-04T18:19:29.712Z"
   },
   {
    "duration": 17,
    "start_time": "2022-10-04T18:19:29.733Z"
   },
   {
    "duration": 4,
    "start_time": "2022-10-04T18:19:29.751Z"
   },
   {
    "duration": 14,
    "start_time": "2022-10-04T18:19:29.757Z"
   },
   {
    "duration": 5,
    "start_time": "2022-10-04T18:19:29.795Z"
   },
   {
    "duration": 3,
    "start_time": "2022-10-04T18:19:29.802Z"
   },
   {
    "duration": 9,
    "start_time": "2022-10-04T18:19:29.807Z"
   },
   {
    "duration": 4,
    "start_time": "2022-10-04T18:19:29.818Z"
   },
   {
    "duration": 24,
    "start_time": "2022-10-04T18:19:29.824Z"
   },
   {
    "duration": 4,
    "start_time": "2022-10-04T18:19:29.849Z"
   },
   {
    "duration": 6,
    "start_time": "2022-10-04T18:19:29.855Z"
   },
   {
    "duration": 52,
    "start_time": "2022-10-04T18:19:29.862Z"
   },
   {
    "duration": 2,
    "start_time": "2022-10-04T18:19:29.916Z"
   },
   {
    "duration": 5,
    "start_time": "2022-10-04T18:19:29.920Z"
   },
   {
    "duration": 3,
    "start_time": "2022-10-04T18:19:29.926Z"
   },
   {
    "duration": 3,
    "start_time": "2022-10-04T18:20:24.566Z"
   },
   {
    "duration": 20,
    "start_time": "2022-10-04T18:20:26.469Z"
   },
   {
    "duration": 434,
    "start_time": "2022-10-04T18:20:33.736Z"
   },
   {
    "duration": 22,
    "start_time": "2022-10-04T18:20:34.172Z"
   },
   {
    "duration": 14,
    "start_time": "2022-10-04T18:20:34.195Z"
   },
   {
    "duration": 9,
    "start_time": "2022-10-04T18:20:34.211Z"
   },
   {
    "duration": 31,
    "start_time": "2022-10-04T18:20:34.222Z"
   },
   {
    "duration": 3,
    "start_time": "2022-10-04T18:20:34.255Z"
   },
   {
    "duration": 10,
    "start_time": "2022-10-04T18:20:34.259Z"
   },
   {
    "duration": 4,
    "start_time": "2022-10-04T18:20:34.295Z"
   },
   {
    "duration": 9,
    "start_time": "2022-10-04T18:20:34.301Z"
   },
   {
    "duration": 4,
    "start_time": "2022-10-04T18:20:34.312Z"
   },
   {
    "duration": 30,
    "start_time": "2022-10-04T18:20:34.318Z"
   },
   {
    "duration": 9,
    "start_time": "2022-10-04T18:20:34.350Z"
   },
   {
    "duration": 4,
    "start_time": "2022-10-04T18:20:34.360Z"
   },
   {
    "duration": 38,
    "start_time": "2022-10-04T18:20:34.365Z"
   },
   {
    "duration": 20,
    "start_time": "2022-10-04T18:20:34.404Z"
   },
   {
    "duration": 16,
    "start_time": "2022-10-04T18:20:34.426Z"
   },
   {
    "duration": 4,
    "start_time": "2022-10-04T18:20:34.443Z"
   },
   {
    "duration": 11,
    "start_time": "2022-10-04T18:20:34.448Z"
   },
   {
    "duration": 35,
    "start_time": "2022-10-04T18:20:34.461Z"
   },
   {
    "duration": 4,
    "start_time": "2022-10-04T18:20:34.497Z"
   },
   {
    "duration": 11,
    "start_time": "2022-10-04T18:20:34.502Z"
   },
   {
    "duration": 2,
    "start_time": "2022-10-04T18:20:34.514Z"
   },
   {
    "duration": 22,
    "start_time": "2022-10-04T18:20:34.518Z"
   },
   {
    "duration": 4,
    "start_time": "2022-10-04T18:20:34.541Z"
   },
   {
    "duration": 4,
    "start_time": "2022-10-04T18:20:34.546Z"
   },
   {
    "duration": 10,
    "start_time": "2022-10-04T18:20:34.551Z"
   },
   {
    "duration": 3,
    "start_time": "2022-10-04T18:20:34.594Z"
   },
   {
    "duration": 6,
    "start_time": "2022-10-04T18:20:34.600Z"
   },
   {
    "duration": 3,
    "start_time": "2022-10-04T18:20:34.608Z"
   },
   {
    "duration": 8,
    "start_time": "2022-10-04T18:21:56.701Z"
   },
   {
    "duration": 462,
    "start_time": "2022-10-04T18:25:14.233Z"
   },
   {
    "duration": 23,
    "start_time": "2022-10-04T18:25:14.697Z"
   },
   {
    "duration": 15,
    "start_time": "2022-10-04T18:25:14.722Z"
   },
   {
    "duration": 8,
    "start_time": "2022-10-04T18:25:14.739Z"
   },
   {
    "duration": 56,
    "start_time": "2022-10-04T18:25:14.749Z"
   },
   {
    "duration": 3,
    "start_time": "2022-10-04T18:25:14.807Z"
   },
   {
    "duration": 10,
    "start_time": "2022-10-04T18:25:14.812Z"
   },
   {
    "duration": 4,
    "start_time": "2022-10-04T18:25:14.824Z"
   },
   {
    "duration": 8,
    "start_time": "2022-10-04T18:25:14.829Z"
   },
   {
    "duration": 4,
    "start_time": "2022-10-04T18:25:14.841Z"
   },
   {
    "duration": 63,
    "start_time": "2022-10-04T18:25:14.847Z"
   },
   {
    "duration": 8,
    "start_time": "2022-10-04T18:25:14.912Z"
   },
   {
    "duration": 5,
    "start_time": "2022-10-04T18:25:14.922Z"
   },
   {
    "duration": 12,
    "start_time": "2022-10-04T18:25:14.928Z"
   },
   {
    "duration": 18,
    "start_time": "2022-10-04T18:25:14.942Z"
   },
   {
    "duration": 40,
    "start_time": "2022-10-04T18:25:14.961Z"
   },
   {
    "duration": 4,
    "start_time": "2022-10-04T18:25:15.002Z"
   },
   {
    "duration": 34,
    "start_time": "2022-10-04T18:25:15.007Z"
   },
   {
    "duration": 6,
    "start_time": "2022-10-04T18:25:15.042Z"
   },
   {
    "duration": 5,
    "start_time": "2022-10-04T18:25:15.050Z"
   },
   {
    "duration": 10,
    "start_time": "2022-10-04T18:25:15.056Z"
   },
   {
    "duration": 5,
    "start_time": "2022-10-04T18:25:15.068Z"
   },
   {
    "duration": 10,
    "start_time": "2022-10-04T18:25:15.075Z"
   },
   {
    "duration": 8,
    "start_time": "2022-10-04T18:25:15.087Z"
   },
   {
    "duration": 7,
    "start_time": "2022-10-04T18:25:15.096Z"
   },
   {
    "duration": 7,
    "start_time": "2022-10-04T18:25:15.104Z"
   },
   {
    "duration": 15,
    "start_time": "2022-10-04T18:25:15.112Z"
   },
   {
    "duration": 4,
    "start_time": "2022-10-04T18:25:15.129Z"
   },
   {
    "duration": 4,
    "start_time": "2022-10-04T18:25:15.135Z"
   },
   {
    "duration": 8,
    "start_time": "2022-10-04T18:30:14.416Z"
   },
   {
    "duration": 571,
    "start_time": "2022-10-04T18:33:08.208Z"
   },
   {
    "duration": 139,
    "start_time": "2022-10-04T18:35:43.816Z"
   },
   {
    "duration": 167,
    "start_time": "2022-10-04T18:36:49.249Z"
   },
   {
    "duration": 145,
    "start_time": "2022-10-04T18:37:32.136Z"
   },
   {
    "duration": 221,
    "start_time": "2022-10-04T18:37:43.767Z"
   },
   {
    "duration": 153,
    "start_time": "2022-10-04T18:38:02.032Z"
   },
   {
    "duration": 151,
    "start_time": "2022-10-04T18:38:29.944Z"
   },
   {
    "duration": 176,
    "start_time": "2022-10-04T18:41:08.991Z"
   },
   {
    "duration": 457,
    "start_time": "2022-10-04T18:45:09.122Z"
   },
   {
    "duration": 28,
    "start_time": "2022-10-04T18:45:09.581Z"
   },
   {
    "duration": 14,
    "start_time": "2022-10-04T18:45:09.610Z"
   },
   {
    "duration": 10,
    "start_time": "2022-10-04T18:45:09.626Z"
   },
   {
    "duration": 43,
    "start_time": "2022-10-04T18:45:09.637Z"
   },
   {
    "duration": 16,
    "start_time": "2022-10-04T18:45:09.682Z"
   },
   {
    "duration": 20,
    "start_time": "2022-10-04T18:45:09.699Z"
   },
   {
    "duration": 8,
    "start_time": "2022-10-04T18:45:09.721Z"
   },
   {
    "duration": 8,
    "start_time": "2022-10-04T18:45:09.731Z"
   },
   {
    "duration": 4,
    "start_time": "2022-10-04T18:45:09.740Z"
   },
   {
    "duration": 52,
    "start_time": "2022-10-04T18:45:09.745Z"
   },
   {
    "duration": 12,
    "start_time": "2022-10-04T18:45:09.799Z"
   },
   {
    "duration": 4,
    "start_time": "2022-10-04T18:45:09.812Z"
   },
   {
    "duration": 15,
    "start_time": "2022-10-04T18:45:09.818Z"
   },
   {
    "duration": 22,
    "start_time": "2022-10-04T18:45:09.834Z"
   },
   {
    "duration": 16,
    "start_time": "2022-10-04T18:45:09.858Z"
   },
   {
    "duration": 5,
    "start_time": "2022-10-04T18:45:09.894Z"
   },
   {
    "duration": 22,
    "start_time": "2022-10-04T18:45:09.901Z"
   },
   {
    "duration": 8,
    "start_time": "2022-10-04T18:45:09.925Z"
   },
   {
    "duration": 3,
    "start_time": "2022-10-04T18:45:09.935Z"
   },
   {
    "duration": 12,
    "start_time": "2022-10-04T18:45:09.940Z"
   },
   {
    "duration": 436,
    "start_time": "2022-10-04T18:45:09.953Z"
   },
   {
    "duration": 7,
    "start_time": "2022-10-04T18:45:10.391Z"
   },
   {
    "duration": 156,
    "start_time": "2022-10-04T18:45:10.400Z"
   },
   {
    "duration": 4,
    "start_time": "2022-10-04T18:45:10.558Z"
   },
   {
    "duration": 156,
    "start_time": "2022-10-04T18:45:10.563Z"
   },
   {
    "duration": 4,
    "start_time": "2022-10-04T18:45:10.721Z"
   },
   {
    "duration": 194,
    "start_time": "2022-10-04T18:45:10.727Z"
   },
   {
    "duration": 78,
    "start_time": "2022-10-08T08:21:36.175Z"
   },
   {
    "duration": 130,
    "start_time": "2022-10-10T11:18:39.116Z"
   },
   {
    "duration": 10,
    "start_time": "2022-10-10T11:19:09.668Z"
   },
   {
    "duration": 106,
    "start_time": "2022-10-10T11:19:14.232Z"
   },
   {
    "duration": 8,
    "start_time": "2022-10-10T11:19:20.993Z"
   },
   {
    "duration": 136,
    "start_time": "2022-10-10T11:19:27.494Z"
   },
   {
    "duration": 198,
    "start_time": "2022-10-10T11:19:41.223Z"
   },
   {
    "duration": 165,
    "start_time": "2022-10-10T11:20:00.847Z"
   },
   {
    "duration": 13,
    "start_time": "2022-10-10T11:20:04.573Z"
   },
   {
    "duration": 137,
    "start_time": "2022-10-10T11:20:08.647Z"
   },
   {
    "duration": 143,
    "start_time": "2022-10-10T11:20:54.736Z"
   },
   {
    "duration": 143,
    "start_time": "2022-10-10T11:21:07.332Z"
   },
   {
    "duration": 144,
    "start_time": "2022-10-10T11:21:17.372Z"
   },
   {
    "duration": 155,
    "start_time": "2022-10-10T11:22:02.481Z"
   },
   {
    "duration": 136,
    "start_time": "2022-10-10T11:23:37.202Z"
   },
   {
    "duration": 133,
    "start_time": "2022-10-10T11:24:32.772Z"
   },
   {
    "duration": 141,
    "start_time": "2022-10-10T11:24:38.016Z"
   },
   {
    "duration": 153,
    "start_time": "2022-10-10T11:25:05.282Z"
   },
   {
    "duration": 129,
    "start_time": "2022-10-10T11:29:16.447Z"
   },
   {
    "duration": 114,
    "start_time": "2022-10-10T11:34:08.734Z"
   },
   {
    "duration": 157,
    "start_time": "2022-10-10T11:34:20.520Z"
   },
   {
    "duration": 3,
    "start_time": "2022-10-10T11:35:03.316Z"
   },
   {
    "duration": 5,
    "start_time": "2022-10-10T11:35:11.977Z"
   },
   {
    "duration": 10,
    "start_time": "2022-10-10T11:35:29.508Z"
   },
   {
    "duration": 13,
    "start_time": "2022-10-10T11:35:38.626Z"
   },
   {
    "duration": 219,
    "start_time": "2022-10-10T11:36:04.016Z"
   },
   {
    "duration": 113,
    "start_time": "2022-10-10T11:36:11.158Z"
   },
   {
    "duration": 112,
    "start_time": "2022-10-10T11:36:25.212Z"
   },
   {
    "duration": 171,
    "start_time": "2022-10-10T11:43:19.211Z"
   },
   {
    "duration": 112,
    "start_time": "2022-10-10T11:45:06.365Z"
   },
   {
    "duration": 124,
    "start_time": "2022-10-10T11:45:30.451Z"
   },
   {
    "duration": 112,
    "start_time": "2022-10-10T11:45:45.804Z"
   },
   {
    "duration": 69,
    "start_time": "2022-10-10T11:46:19.698Z"
   },
   {
    "duration": 123,
    "start_time": "2022-10-10T11:46:24.451Z"
   },
   {
    "duration": 114,
    "start_time": "2022-10-10T11:46:36.630Z"
   },
   {
    "duration": 14,
    "start_time": "2022-10-10T11:47:10.656Z"
   },
   {
    "duration": 147,
    "start_time": "2022-10-10T11:48:03.318Z"
   },
   {
    "duration": 454,
    "start_time": "2022-10-10T11:48:13.779Z"
   },
   {
    "duration": 21,
    "start_time": "2022-10-10T11:48:14.235Z"
   },
   {
    "duration": 28,
    "start_time": "2022-10-10T11:48:14.258Z"
   },
   {
    "duration": 30,
    "start_time": "2022-10-10T11:48:14.289Z"
   },
   {
    "duration": 51,
    "start_time": "2022-10-10T11:48:14.320Z"
   },
   {
    "duration": 4,
    "start_time": "2022-10-10T11:48:14.372Z"
   },
   {
    "duration": 37,
    "start_time": "2022-10-10T11:48:14.377Z"
   },
   {
    "duration": 18,
    "start_time": "2022-10-10T11:48:14.415Z"
   },
   {
    "duration": 10,
    "start_time": "2022-10-10T11:48:14.435Z"
   },
   {
    "duration": 26,
    "start_time": "2022-10-10T11:48:14.448Z"
   },
   {
    "duration": 47,
    "start_time": "2022-10-10T11:48:14.476Z"
   },
   {
    "duration": 10,
    "start_time": "2022-10-10T11:48:14.525Z"
   },
   {
    "duration": 27,
    "start_time": "2022-10-10T11:48:14.537Z"
   },
   {
    "duration": 40,
    "start_time": "2022-10-10T11:48:14.566Z"
   },
   {
    "duration": 45,
    "start_time": "2022-10-10T11:48:14.608Z"
   },
   {
    "duration": 40,
    "start_time": "2022-10-10T11:48:14.655Z"
   },
   {
    "duration": 16,
    "start_time": "2022-10-10T11:48:14.697Z"
   },
   {
    "duration": 27,
    "start_time": "2022-10-10T11:48:14.714Z"
   },
   {
    "duration": 33,
    "start_time": "2022-10-10T11:48:14.743Z"
   },
   {
    "duration": 16,
    "start_time": "2022-10-10T11:48:14.777Z"
   },
   {
    "duration": 26,
    "start_time": "2022-10-10T11:48:14.795Z"
   },
   {
    "duration": 406,
    "start_time": "2022-10-10T11:48:14.822Z"
   },
   {
    "duration": 155,
    "start_time": "2022-10-10T11:48:15.229Z"
   },
   {
    "duration": 5,
    "start_time": "2022-10-10T11:48:15.386Z"
   },
   {
    "duration": 178,
    "start_time": "2022-10-10T11:48:15.392Z"
   },
   {
    "duration": 5,
    "start_time": "2022-10-10T11:48:15.572Z"
   },
   {
    "duration": 168,
    "start_time": "2022-10-10T11:48:15.578Z"
   },
   {
    "duration": 130,
    "start_time": "2022-10-10T11:48:53.109Z"
   },
   {
    "duration": 172,
    "start_time": "2022-10-10T11:49:48.153Z"
   },
   {
    "duration": 74,
    "start_time": "2022-10-10T11:49:53.182Z"
   },
   {
    "duration": 96,
    "start_time": "2022-10-10T11:50:11.927Z"
   },
   {
    "duration": 197,
    "start_time": "2022-10-10T11:50:46.818Z"
   },
   {
    "duration": 135,
    "start_time": "2022-10-10T11:51:03.086Z"
   },
   {
    "duration": 161,
    "start_time": "2022-10-10T11:51:14.165Z"
   },
   {
    "duration": 106,
    "start_time": "2022-10-10T11:51:41.487Z"
   },
   {
    "duration": 15,
    "start_time": "2022-10-10T11:52:11.062Z"
   },
   {
    "duration": 10,
    "start_time": "2022-10-10T11:55:10.042Z"
   },
   {
    "duration": 11,
    "start_time": "2022-10-10T11:55:22.963Z"
   },
   {
    "duration": 13,
    "start_time": "2022-10-10T11:56:39.553Z"
   },
   {
    "duration": 14,
    "start_time": "2022-10-10T11:57:04.564Z"
   },
   {
    "duration": 15,
    "start_time": "2022-10-10T11:57:48.009Z"
   },
   {
    "duration": 11,
    "start_time": "2022-10-10T11:58:00.445Z"
   },
   {
    "duration": 12,
    "start_time": "2022-10-10T11:58:18.761Z"
   },
   {
    "duration": 11,
    "start_time": "2022-10-10T11:58:25.225Z"
   },
   {
    "duration": 14,
    "start_time": "2022-10-10T12:00:15.083Z"
   },
   {
    "duration": 13,
    "start_time": "2022-10-10T12:00:22.610Z"
   },
   {
    "duration": 12,
    "start_time": "2022-10-10T12:01:56.993Z"
   },
   {
    "duration": 8,
    "start_time": "2022-10-10T12:03:42.736Z"
   },
   {
    "duration": 8,
    "start_time": "2022-10-10T12:04:51.646Z"
   },
   {
    "duration": 131,
    "start_time": "2022-10-10T12:05:00.127Z"
   },
   {
    "duration": 133,
    "start_time": "2022-10-10T12:05:05.849Z"
   },
   {
    "duration": 165,
    "start_time": "2022-10-10T12:06:16.691Z"
   },
   {
    "duration": 10,
    "start_time": "2022-10-10T12:06:19.319Z"
   },
   {
    "duration": 11,
    "start_time": "2022-10-10T12:08:27.133Z"
   },
   {
    "duration": 15,
    "start_time": "2022-10-10T12:11:05.998Z"
   },
   {
    "duration": 13,
    "start_time": "2022-10-10T12:11:17.396Z"
   },
   {
    "duration": 14,
    "start_time": "2022-10-10T12:11:19.213Z"
   },
   {
    "duration": 13,
    "start_time": "2022-10-10T12:11:29.572Z"
   },
   {
    "duration": 16,
    "start_time": "2022-10-10T12:11:36.361Z"
   },
   {
    "duration": 14,
    "start_time": "2022-10-10T12:12:19.134Z"
   },
   {
    "duration": 10,
    "start_time": "2022-10-10T12:12:49.847Z"
   },
   {
    "duration": 9,
    "start_time": "2022-10-10T12:13:05.176Z"
   },
   {
    "duration": 500,
    "start_time": "2022-10-10T12:13:13.120Z"
   },
   {
    "duration": 26,
    "start_time": "2022-10-10T12:13:13.623Z"
   },
   {
    "duration": 20,
    "start_time": "2022-10-10T12:13:13.650Z"
   },
   {
    "duration": 9,
    "start_time": "2022-10-10T12:13:13.673Z"
   },
   {
    "duration": 46,
    "start_time": "2022-10-10T12:13:13.684Z"
   },
   {
    "duration": 3,
    "start_time": "2022-10-10T12:13:13.732Z"
   },
   {
    "duration": 23,
    "start_time": "2022-10-10T12:13:13.737Z"
   },
   {
    "duration": 20,
    "start_time": "2022-10-10T12:13:13.761Z"
   },
   {
    "duration": 19,
    "start_time": "2022-10-10T12:13:13.782Z"
   },
   {
    "duration": 46,
    "start_time": "2022-10-10T12:13:13.804Z"
   },
   {
    "duration": 48,
    "start_time": "2022-10-10T12:13:13.851Z"
   },
   {
    "duration": 10,
    "start_time": "2022-10-10T12:13:13.901Z"
   },
   {
    "duration": 38,
    "start_time": "2022-10-10T12:13:13.913Z"
   },
   {
    "duration": 34,
    "start_time": "2022-10-10T12:13:13.952Z"
   },
   {
    "duration": 37,
    "start_time": "2022-10-10T12:13:13.988Z"
   },
   {
    "duration": 21,
    "start_time": "2022-10-10T12:13:14.027Z"
   },
   {
    "duration": 24,
    "start_time": "2022-10-10T12:13:14.049Z"
   },
   {
    "duration": 36,
    "start_time": "2022-10-10T12:13:14.075Z"
   },
   {
    "duration": 39,
    "start_time": "2022-10-10T12:13:14.112Z"
   },
   {
    "duration": 15,
    "start_time": "2022-10-10T12:13:14.153Z"
   },
   {
    "duration": 37,
    "start_time": "2022-10-10T12:13:14.170Z"
   },
   {
    "duration": 75,
    "start_time": "2022-10-10T12:13:14.208Z"
   },
   {
    "duration": 0,
    "start_time": "2022-10-10T12:13:14.285Z"
   },
   {
    "duration": 0,
    "start_time": "2022-10-10T12:13:14.286Z"
   },
   {
    "duration": 0,
    "start_time": "2022-10-10T12:13:14.287Z"
   },
   {
    "duration": 0,
    "start_time": "2022-10-10T12:13:14.289Z"
   },
   {
    "duration": 0,
    "start_time": "2022-10-10T12:13:14.290Z"
   },
   {
    "duration": 0,
    "start_time": "2022-10-10T12:13:14.291Z"
   },
   {
    "duration": 0,
    "start_time": "2022-10-10T12:13:14.292Z"
   },
   {
    "duration": 467,
    "start_time": "2022-10-10T12:13:48.343Z"
   },
   {
    "duration": 26,
    "start_time": "2022-10-10T12:13:48.813Z"
   },
   {
    "duration": 54,
    "start_time": "2022-10-10T12:13:48.841Z"
   },
   {
    "duration": 29,
    "start_time": "2022-10-10T12:13:48.898Z"
   },
   {
    "duration": 82,
    "start_time": "2022-10-10T12:13:48.928Z"
   },
   {
    "duration": 4,
    "start_time": "2022-10-10T12:13:49.012Z"
   },
   {
    "duration": 56,
    "start_time": "2022-10-10T12:13:49.018Z"
   },
   {
    "duration": 25,
    "start_time": "2022-10-10T12:13:49.076Z"
   },
   {
    "duration": 37,
    "start_time": "2022-10-10T12:13:49.103Z"
   },
   {
    "duration": 27,
    "start_time": "2022-10-10T12:13:49.144Z"
   },
   {
    "duration": 58,
    "start_time": "2022-10-10T12:13:49.173Z"
   },
   {
    "duration": 12,
    "start_time": "2022-10-10T12:13:49.235Z"
   },
   {
    "duration": 35,
    "start_time": "2022-10-10T12:13:49.249Z"
   },
   {
    "duration": 42,
    "start_time": "2022-10-10T12:13:49.285Z"
   },
   {
    "duration": 64,
    "start_time": "2022-10-10T12:13:49.329Z"
   },
   {
    "duration": 54,
    "start_time": "2022-10-10T12:13:49.395Z"
   },
   {
    "duration": 12,
    "start_time": "2022-10-10T12:13:49.450Z"
   },
   {
    "duration": 41,
    "start_time": "2022-10-10T12:13:49.463Z"
   },
   {
    "duration": 45,
    "start_time": "2022-10-10T12:13:49.505Z"
   },
   {
    "duration": 27,
    "start_time": "2022-10-10T12:13:49.552Z"
   },
   {
    "duration": 24,
    "start_time": "2022-10-10T12:13:49.580Z"
   },
   {
    "duration": 44,
    "start_time": "2022-10-10T12:13:49.606Z"
   },
   {
    "duration": 81,
    "start_time": "2022-10-10T12:13:49.652Z"
   },
   {
    "duration": 0,
    "start_time": "2022-10-10T12:13:49.734Z"
   },
   {
    "duration": 0,
    "start_time": "2022-10-10T12:13:49.736Z"
   },
   {
    "duration": 0,
    "start_time": "2022-10-10T12:13:49.737Z"
   },
   {
    "duration": 0,
    "start_time": "2022-10-10T12:13:49.738Z"
   },
   {
    "duration": 0,
    "start_time": "2022-10-10T12:13:49.740Z"
   },
   {
    "duration": 0,
    "start_time": "2022-10-10T12:13:49.741Z"
   },
   {
    "duration": 415,
    "start_time": "2022-10-10T12:14:02.516Z"
   },
   {
    "duration": 460,
    "start_time": "2022-10-10T12:14:07.945Z"
   },
   {
    "duration": 24,
    "start_time": "2022-10-10T12:14:08.406Z"
   },
   {
    "duration": 20,
    "start_time": "2022-10-10T12:14:08.435Z"
   },
   {
    "duration": 26,
    "start_time": "2022-10-10T12:14:08.456Z"
   },
   {
    "duration": 56,
    "start_time": "2022-10-10T12:14:08.484Z"
   },
   {
    "duration": 18,
    "start_time": "2022-10-10T12:14:08.541Z"
   },
   {
    "duration": 27,
    "start_time": "2022-10-10T12:14:08.561Z"
   },
   {
    "duration": 22,
    "start_time": "2022-10-10T12:14:08.589Z"
   },
   {
    "duration": 35,
    "start_time": "2022-10-10T12:14:08.614Z"
   },
   {
    "duration": 41,
    "start_time": "2022-10-10T12:14:08.651Z"
   },
   {
    "duration": 69,
    "start_time": "2022-10-10T12:14:08.694Z"
   },
   {
    "duration": 11,
    "start_time": "2022-10-10T12:14:08.765Z"
   },
   {
    "duration": 28,
    "start_time": "2022-10-10T12:14:08.777Z"
   },
   {
    "duration": 49,
    "start_time": "2022-10-10T12:14:08.807Z"
   },
   {
    "duration": 53,
    "start_time": "2022-10-10T12:14:08.857Z"
   },
   {
    "duration": 24,
    "start_time": "2022-10-10T12:14:08.912Z"
   },
   {
    "duration": 10,
    "start_time": "2022-10-10T12:14:08.938Z"
   },
   {
    "duration": 25,
    "start_time": "2022-10-10T12:14:08.950Z"
   },
   {
    "duration": 25,
    "start_time": "2022-10-10T12:14:08.976Z"
   },
   {
    "duration": 33,
    "start_time": "2022-10-10T12:14:09.003Z"
   },
   {
    "duration": 17,
    "start_time": "2022-10-10T12:14:09.038Z"
   },
   {
    "duration": 20,
    "start_time": "2022-10-10T12:14:09.057Z"
   },
   {
    "duration": 437,
    "start_time": "2022-10-10T12:14:09.078Z"
   },
   {
    "duration": 19,
    "start_time": "2022-10-10T12:14:09.516Z"
   },
   {
    "duration": 157,
    "start_time": "2022-10-10T12:14:09.538Z"
   },
   {
    "duration": 4,
    "start_time": "2022-10-10T12:14:09.697Z"
   },
   {
    "duration": 191,
    "start_time": "2022-10-10T12:14:09.703Z"
   },
   {
    "duration": 4,
    "start_time": "2022-10-10T12:14:09.895Z"
   },
   {
    "duration": 170,
    "start_time": "2022-10-10T12:14:09.900Z"
   },
   {
    "duration": 92,
    "start_time": "2022-10-10T12:16:05.997Z"
   },
   {
    "duration": 12,
    "start_time": "2022-10-10T12:16:17.296Z"
   },
   {
    "duration": 12,
    "start_time": "2022-10-10T12:17:18.494Z"
   },
   {
    "duration": 13,
    "start_time": "2022-10-10T12:17:53.842Z"
   },
   {
    "duration": 12,
    "start_time": "2022-10-10T12:17:58.841Z"
   },
   {
    "duration": 14,
    "start_time": "2022-10-10T12:18:08.795Z"
   },
   {
    "duration": 140,
    "start_time": "2022-10-10T12:18:09.122Z"
   },
   {
    "duration": 12,
    "start_time": "2022-10-10T12:18:20.585Z"
   },
   {
    "duration": 16,
    "start_time": "2022-10-10T12:19:01.048Z"
   },
   {
    "duration": 13,
    "start_time": "2022-10-10T12:19:14.460Z"
   },
   {
    "duration": 14,
    "start_time": "2022-10-10T12:19:35.499Z"
   },
   {
    "duration": 14,
    "start_time": "2022-10-10T12:20:50.555Z"
   },
   {
    "duration": 121,
    "start_time": "2022-10-10T12:21:07.203Z"
   },
   {
    "duration": 81,
    "start_time": "2022-10-10T12:21:12.485Z"
   },
   {
    "duration": 91,
    "start_time": "2022-10-10T12:21:27.244Z"
   },
   {
    "duration": 78,
    "start_time": "2022-10-10T12:21:43.675Z"
   },
   {
    "duration": 120,
    "start_time": "2022-10-10T12:22:36.942Z"
   },
   {
    "duration": 86,
    "start_time": "2022-10-10T12:22:51.100Z"
   },
   {
    "duration": 102,
    "start_time": "2022-10-10T12:23:15.168Z"
   },
   {
    "duration": 14,
    "start_time": "2022-10-10T12:25:21.415Z"
   },
   {
    "duration": 123,
    "start_time": "2022-10-10T12:25:26.145Z"
   },
   {
    "duration": 95,
    "start_time": "2022-10-10T12:25:53.712Z"
   },
   {
    "duration": 106,
    "start_time": "2022-10-10T12:26:16.824Z"
   },
   {
    "duration": 88,
    "start_time": "2022-10-10T12:26:28.050Z"
   },
   {
    "duration": 168,
    "start_time": "2022-10-10T12:26:32.555Z"
   },
   {
    "duration": 116,
    "start_time": "2022-10-10T12:26:58.700Z"
   },
   {
    "duration": 113,
    "start_time": "2022-10-10T12:27:22.129Z"
   },
   {
    "duration": 107,
    "start_time": "2022-10-10T12:27:28.693Z"
   },
   {
    "duration": 112,
    "start_time": "2022-10-10T12:28:08.765Z"
   },
   {
    "duration": 15,
    "start_time": "2022-10-10T12:29:03.048Z"
   },
   {
    "duration": 155,
    "start_time": "2022-10-10T12:29:18.293Z"
   },
   {
    "duration": 523,
    "start_time": "2022-10-10T12:29:38.390Z"
   },
   {
    "duration": 32,
    "start_time": "2022-10-10T12:29:38.915Z"
   },
   {
    "duration": 33,
    "start_time": "2022-10-10T12:29:38.949Z"
   },
   {
    "duration": 14,
    "start_time": "2022-10-10T12:29:38.985Z"
   },
   {
    "duration": 48,
    "start_time": "2022-10-10T12:29:39.001Z"
   },
   {
    "duration": 4,
    "start_time": "2022-10-10T12:29:39.051Z"
   },
   {
    "duration": 20,
    "start_time": "2022-10-10T12:29:39.057Z"
   },
   {
    "duration": 9,
    "start_time": "2022-10-10T12:29:39.078Z"
   },
   {
    "duration": 12,
    "start_time": "2022-10-10T12:29:39.089Z"
   },
   {
    "duration": 5,
    "start_time": "2022-10-10T12:29:39.105Z"
   },
   {
    "duration": 41,
    "start_time": "2022-10-10T12:29:39.111Z"
   },
   {
    "duration": 9,
    "start_time": "2022-10-10T12:29:39.154Z"
   },
   {
    "duration": 9,
    "start_time": "2022-10-10T12:29:39.165Z"
   },
   {
    "duration": 14,
    "start_time": "2022-10-10T12:29:39.175Z"
   },
   {
    "duration": 34,
    "start_time": "2022-10-10T12:29:39.191Z"
   },
   {
    "duration": 17,
    "start_time": "2022-10-10T12:29:39.227Z"
   },
   {
    "duration": 4,
    "start_time": "2022-10-10T12:29:39.246Z"
   },
   {
    "duration": 18,
    "start_time": "2022-10-10T12:29:39.251Z"
   },
   {
    "duration": 9,
    "start_time": "2022-10-10T12:29:39.271Z"
   },
   {
    "duration": 10,
    "start_time": "2022-10-10T12:29:39.281Z"
   },
   {
    "duration": 15,
    "start_time": "2022-10-10T12:29:39.292Z"
   },
   {
    "duration": 436,
    "start_time": "2022-10-10T12:29:39.323Z"
   },
   {
    "duration": 141,
    "start_time": "2022-10-10T12:29:39.761Z"
   },
   {
    "duration": 168,
    "start_time": "2022-10-10T12:29:39.904Z"
   },
   {
    "duration": 6,
    "start_time": "2022-10-10T12:29:40.074Z"
   },
   {
    "duration": 157,
    "start_time": "2022-10-10T12:29:40.081Z"
   },
   {
    "duration": 4,
    "start_time": "2022-10-10T12:29:40.240Z"
   },
   {
    "duration": 179,
    "start_time": "2022-10-10T12:29:40.247Z"
   },
   {
    "duration": 447,
    "start_time": "2022-10-10T12:29:57.352Z"
   },
   {
    "duration": 28,
    "start_time": "2022-10-10T12:29:57.801Z"
   },
   {
    "duration": 39,
    "start_time": "2022-10-10T12:29:57.831Z"
   },
   {
    "duration": 13,
    "start_time": "2022-10-10T12:29:57.873Z"
   },
   {
    "duration": 39,
    "start_time": "2022-10-10T12:29:57.887Z"
   },
   {
    "duration": 3,
    "start_time": "2022-10-10T12:29:57.928Z"
   },
   {
    "duration": 19,
    "start_time": "2022-10-10T12:29:57.933Z"
   },
   {
    "duration": 6,
    "start_time": "2022-10-10T12:29:57.954Z"
   },
   {
    "duration": 16,
    "start_time": "2022-10-10T12:29:57.961Z"
   },
   {
    "duration": 18,
    "start_time": "2022-10-10T12:29:57.982Z"
   },
   {
    "duration": 48,
    "start_time": "2022-10-10T12:29:58.003Z"
   },
   {
    "duration": 9,
    "start_time": "2022-10-10T12:29:58.053Z"
   },
   {
    "duration": 14,
    "start_time": "2022-10-10T12:29:58.064Z"
   },
   {
    "duration": 28,
    "start_time": "2022-10-10T12:29:58.079Z"
   },
   {
    "duration": 30,
    "start_time": "2022-10-10T12:29:58.108Z"
   },
   {
    "duration": 17,
    "start_time": "2022-10-10T12:29:58.141Z"
   },
   {
    "duration": 5,
    "start_time": "2022-10-10T12:29:58.160Z"
   },
   {
    "duration": 25,
    "start_time": "2022-10-10T12:29:58.167Z"
   },
   {
    "duration": 20,
    "start_time": "2022-10-10T12:29:58.194Z"
   },
   {
    "duration": 10,
    "start_time": "2022-10-10T12:29:58.216Z"
   },
   {
    "duration": 34,
    "start_time": "2022-10-10T12:29:58.228Z"
   },
   {
    "duration": 432,
    "start_time": "2022-10-10T12:29:58.265Z"
   },
   {
    "duration": 133,
    "start_time": "2022-10-10T12:29:58.699Z"
   },
   {
    "duration": 169,
    "start_time": "2022-10-10T12:29:58.834Z"
   },
   {
    "duration": 5,
    "start_time": "2022-10-10T12:29:59.005Z"
   },
   {
    "duration": 166,
    "start_time": "2022-10-10T12:29:59.022Z"
   },
   {
    "duration": 5,
    "start_time": "2022-10-10T12:29:59.190Z"
   },
   {
    "duration": 169,
    "start_time": "2022-10-10T12:29:59.199Z"
   },
   {
    "duration": 477,
    "start_time": "2022-10-10T12:37:44.341Z"
   },
   {
    "duration": 20,
    "start_time": "2022-10-10T12:37:44.820Z"
   },
   {
    "duration": 13,
    "start_time": "2022-10-10T12:37:44.842Z"
   },
   {
    "duration": 10,
    "start_time": "2022-10-10T12:37:44.856Z"
   },
   {
    "duration": 54,
    "start_time": "2022-10-10T12:37:44.867Z"
   },
   {
    "duration": 3,
    "start_time": "2022-10-10T12:37:44.923Z"
   },
   {
    "duration": 11,
    "start_time": "2022-10-10T12:37:44.927Z"
   },
   {
    "duration": 4,
    "start_time": "2022-10-10T12:37:44.939Z"
   },
   {
    "duration": 12,
    "start_time": "2022-10-10T12:37:44.944Z"
   },
   {
    "duration": 5,
    "start_time": "2022-10-10T12:37:44.958Z"
   },
   {
    "duration": 32,
    "start_time": "2022-10-10T12:37:44.964Z"
   },
   {
    "duration": 24,
    "start_time": "2022-10-10T12:37:44.998Z"
   },
   {
    "duration": 4,
    "start_time": "2022-10-10T12:37:45.023Z"
   },
   {
    "duration": 18,
    "start_time": "2022-10-10T12:37:45.028Z"
   },
   {
    "duration": 18,
    "start_time": "2022-10-10T12:37:45.048Z"
   },
   {
    "duration": 22,
    "start_time": "2022-10-10T12:37:45.067Z"
   },
   {
    "duration": 3,
    "start_time": "2022-10-10T12:37:45.090Z"
   },
   {
    "duration": 13,
    "start_time": "2022-10-10T12:37:45.095Z"
   },
   {
    "duration": 21,
    "start_time": "2022-10-10T12:37:45.109Z"
   },
   {
    "duration": 9,
    "start_time": "2022-10-10T12:37:45.131Z"
   },
   {
    "duration": 13,
    "start_time": "2022-10-10T12:37:45.142Z"
   },
   {
    "duration": 438,
    "start_time": "2022-10-10T12:37:45.157Z"
   },
   {
    "duration": 120,
    "start_time": "2022-10-10T12:37:45.596Z"
   },
   {
    "duration": 144,
    "start_time": "2022-10-10T12:37:45.722Z"
   },
   {
    "duration": 4,
    "start_time": "2022-10-10T12:37:45.868Z"
   },
   {
    "duration": 160,
    "start_time": "2022-10-10T12:37:45.873Z"
   },
   {
    "duration": 8,
    "start_time": "2022-10-10T12:37:46.035Z"
   },
   {
    "duration": 225,
    "start_time": "2022-10-10T12:37:46.046Z"
   },
   {
    "duration": 196,
    "start_time": "2022-10-10T12:38:45.276Z"
   },
   {
    "duration": 116,
    "start_time": "2022-10-10T12:40:23.843Z"
   },
   {
    "duration": 134,
    "start_time": "2022-10-10T12:40:35.353Z"
   },
   {
    "duration": 130,
    "start_time": "2022-10-10T12:41:10.071Z"
   },
   {
    "duration": 533,
    "start_time": "2022-10-10T12:41:27.671Z"
   },
   {
    "duration": 152,
    "start_time": "2022-10-10T12:41:42.260Z"
   },
   {
    "duration": 162,
    "start_time": "2022-10-10T12:41:51.950Z"
   },
   {
    "duration": 128,
    "start_time": "2022-10-10T12:42:07.269Z"
   },
   {
    "duration": 113,
    "start_time": "2022-10-10T12:42:23.141Z"
   },
   {
    "duration": 140,
    "start_time": "2022-10-10T12:46:45.198Z"
   },
   {
    "duration": 150,
    "start_time": "2022-10-10T12:47:02.941Z"
   },
   {
    "duration": 132,
    "start_time": "2022-10-10T12:47:08.900Z"
   },
   {
    "duration": 158,
    "start_time": "2022-10-10T12:48:00.489Z"
   },
   {
    "duration": 140,
    "start_time": "2022-10-10T12:48:51.896Z"
   },
   {
    "duration": 111,
    "start_time": "2022-10-10T12:56:59.876Z"
   },
   {
    "duration": 487,
    "start_time": "2022-10-10T12:57:28.199Z"
   },
   {
    "duration": 22,
    "start_time": "2022-10-10T12:57:28.688Z"
   },
   {
    "duration": 15,
    "start_time": "2022-10-10T12:57:28.712Z"
   },
   {
    "duration": 16,
    "start_time": "2022-10-10T12:57:28.730Z"
   },
   {
    "duration": 39,
    "start_time": "2022-10-10T12:57:28.747Z"
   },
   {
    "duration": 3,
    "start_time": "2022-10-10T12:57:28.788Z"
   },
   {
    "duration": 15,
    "start_time": "2022-10-10T12:57:28.792Z"
   },
   {
    "duration": 10,
    "start_time": "2022-10-10T12:57:28.808Z"
   },
   {
    "duration": 12,
    "start_time": "2022-10-10T12:57:28.819Z"
   },
   {
    "duration": 4,
    "start_time": "2022-10-10T12:57:28.833Z"
   },
   {
    "duration": 33,
    "start_time": "2022-10-10T12:57:28.838Z"
   },
   {
    "duration": 8,
    "start_time": "2022-10-10T12:57:28.873Z"
   },
   {
    "duration": 36,
    "start_time": "2022-10-10T12:57:28.882Z"
   },
   {
    "duration": 34,
    "start_time": "2022-10-10T12:57:28.920Z"
   },
   {
    "duration": 32,
    "start_time": "2022-10-10T12:57:28.956Z"
   },
   {
    "duration": 16,
    "start_time": "2022-10-10T12:57:28.990Z"
   },
   {
    "duration": 10,
    "start_time": "2022-10-10T12:57:29.007Z"
   },
   {
    "duration": 24,
    "start_time": "2022-10-10T12:57:29.019Z"
   },
   {
    "duration": 25,
    "start_time": "2022-10-10T12:57:29.044Z"
   },
   {
    "duration": 6,
    "start_time": "2022-10-10T12:57:29.071Z"
   },
   {
    "duration": 19,
    "start_time": "2022-10-10T12:57:29.078Z"
   },
   {
    "duration": 427,
    "start_time": "2022-10-10T12:57:29.098Z"
   },
   {
    "duration": 159,
    "start_time": "2022-10-10T12:57:29.526Z"
   },
   {
    "duration": 141,
    "start_time": "2022-10-10T12:57:29.687Z"
   },
   {
    "duration": 137,
    "start_time": "2022-10-10T12:57:29.829Z"
   },
   {
    "duration": 114,
    "start_time": "2022-10-10T12:57:29.967Z"
   },
   {
    "duration": 5,
    "start_time": "2022-10-10T12:57:30.083Z"
   },
   {
    "duration": 217,
    "start_time": "2022-10-10T12:57:30.092Z"
   },
   {
    "duration": 109,
    "start_time": "2022-10-10T13:07:47.079Z"
   },
   {
    "duration": 396,
    "start_time": "2022-10-10T13:07:54.078Z"
   },
   {
    "duration": 20,
    "start_time": "2022-10-10T13:07:54.476Z"
   },
   {
    "duration": 16,
    "start_time": "2022-10-10T13:07:54.497Z"
   },
   {
    "duration": 13,
    "start_time": "2022-10-10T13:07:54.515Z"
   },
   {
    "duration": 37,
    "start_time": "2022-10-10T13:07:54.530Z"
   },
   {
    "duration": 4,
    "start_time": "2022-10-10T13:07:54.568Z"
   },
   {
    "duration": 12,
    "start_time": "2022-10-10T13:07:54.573Z"
   },
   {
    "duration": 10,
    "start_time": "2022-10-10T13:07:54.586Z"
   },
   {
    "duration": 27,
    "start_time": "2022-10-10T13:07:54.597Z"
   },
   {
    "duration": 9,
    "start_time": "2022-10-10T13:07:54.628Z"
   },
   {
    "duration": 48,
    "start_time": "2022-10-10T13:07:54.638Z"
   },
   {
    "duration": 9,
    "start_time": "2022-10-10T13:07:54.687Z"
   },
   {
    "duration": 12,
    "start_time": "2022-10-10T13:07:54.698Z"
   },
   {
    "duration": 28,
    "start_time": "2022-10-10T13:07:54.711Z"
   },
   {
    "duration": 42,
    "start_time": "2022-10-10T13:07:54.740Z"
   },
   {
    "duration": 15,
    "start_time": "2022-10-10T13:07:54.784Z"
   },
   {
    "duration": 5,
    "start_time": "2022-10-10T13:07:54.801Z"
   },
   {
    "duration": 31,
    "start_time": "2022-10-10T13:07:54.808Z"
   },
   {
    "duration": 16,
    "start_time": "2022-10-10T13:07:54.840Z"
   },
   {
    "duration": 14,
    "start_time": "2022-10-10T13:07:54.858Z"
   },
   {
    "duration": 13,
    "start_time": "2022-10-10T13:07:54.873Z"
   },
   {
    "duration": 384,
    "start_time": "2022-10-10T13:07:54.887Z"
   },
   {
    "duration": 148,
    "start_time": "2022-10-10T13:07:55.273Z"
   },
   {
    "duration": 122,
    "start_time": "2022-10-10T13:07:55.423Z"
   },
   {
    "duration": 124,
    "start_time": "2022-10-10T13:07:55.546Z"
   },
   {
    "duration": 111,
    "start_time": "2022-10-10T13:07:55.672Z"
   },
   {
    "duration": 4,
    "start_time": "2022-10-10T13:07:55.785Z"
   },
   {
    "duration": 210,
    "start_time": "2022-10-10T13:07:55.791Z"
   },
   {
    "duration": 119,
    "start_time": "2022-10-10T13:08:45.570Z"
   },
   {
    "duration": 128,
    "start_time": "2022-10-10T13:08:48.280Z"
   },
   {
    "duration": 6,
    "start_time": "2022-10-10T13:08:57.570Z"
   },
   {
    "duration": 7,
    "start_time": "2022-10-10T13:09:15.885Z"
   },
   {
    "duration": 116,
    "start_time": "2022-10-10T13:09:31.516Z"
   },
   {
    "duration": 104,
    "start_time": "2022-10-10T13:09:44.095Z"
   },
   {
    "duration": 106,
    "start_time": "2022-10-10T13:11:16.790Z"
   },
   {
    "duration": 112,
    "start_time": "2022-10-10T13:11:37.525Z"
   },
   {
    "duration": 182,
    "start_time": "2022-10-10T13:11:50.200Z"
   },
   {
    "duration": 107,
    "start_time": "2022-10-10T13:12:01.905Z"
   },
   {
    "duration": 104,
    "start_time": "2022-10-10T13:16:47.448Z"
   },
   {
    "duration": 112,
    "start_time": "2022-10-10T13:16:53.849Z"
   },
   {
    "duration": 160,
    "start_time": "2022-10-10T13:17:08.100Z"
   },
   {
    "duration": 71,
    "start_time": "2022-10-10T13:26:13.034Z"
   },
   {
    "duration": 3,
    "start_time": "2022-10-10T13:26:17.544Z"
   },
   {
    "duration": 109,
    "start_time": "2022-10-10T13:26:38.789Z"
   },
   {
    "duration": 103,
    "start_time": "2022-10-10T13:27:10.403Z"
   },
   {
    "duration": 112,
    "start_time": "2022-10-10T13:27:48.916Z"
   },
   {
    "duration": 464,
    "start_time": "2022-10-10T13:28:32.716Z"
   },
   {
    "duration": 20,
    "start_time": "2022-10-10T13:28:33.182Z"
   },
   {
    "duration": 13,
    "start_time": "2022-10-10T13:28:33.203Z"
   },
   {
    "duration": 13,
    "start_time": "2022-10-10T13:28:33.218Z"
   },
   {
    "duration": 30,
    "start_time": "2022-10-10T13:28:33.232Z"
   },
   {
    "duration": 3,
    "start_time": "2022-10-10T13:28:33.264Z"
   },
   {
    "duration": 16,
    "start_time": "2022-10-10T13:28:33.269Z"
   },
   {
    "duration": 7,
    "start_time": "2022-10-10T13:28:33.287Z"
   },
   {
    "duration": 9,
    "start_time": "2022-10-10T13:28:33.296Z"
   },
   {
    "duration": 4,
    "start_time": "2022-10-10T13:28:33.321Z"
   },
   {
    "duration": 37,
    "start_time": "2022-10-10T13:28:33.326Z"
   },
   {
    "duration": 10,
    "start_time": "2022-10-10T13:28:33.365Z"
   },
   {
    "duration": 7,
    "start_time": "2022-10-10T13:28:33.377Z"
   },
   {
    "duration": 13,
    "start_time": "2022-10-10T13:28:33.385Z"
   },
   {
    "duration": 34,
    "start_time": "2022-10-10T13:28:33.400Z"
   },
   {
    "duration": 14,
    "start_time": "2022-10-10T13:28:33.436Z"
   },
   {
    "duration": 4,
    "start_time": "2022-10-10T13:28:33.451Z"
   },
   {
    "duration": 23,
    "start_time": "2022-10-10T13:28:33.457Z"
   },
   {
    "duration": 6,
    "start_time": "2022-10-10T13:28:33.483Z"
   },
   {
    "duration": 7,
    "start_time": "2022-10-10T13:28:33.491Z"
   },
   {
    "duration": 22,
    "start_time": "2022-10-10T13:28:33.500Z"
   },
   {
    "duration": 359,
    "start_time": "2022-10-10T13:28:33.523Z"
   },
   {
    "duration": 150,
    "start_time": "2022-10-10T13:28:33.883Z"
   },
   {
    "duration": 3,
    "start_time": "2022-10-10T13:28:34.035Z"
   },
   {
    "duration": 88,
    "start_time": "2022-10-10T13:28:34.040Z"
   },
   {
    "duration": 0,
    "start_time": "2022-10-10T13:28:34.130Z"
   },
   {
    "duration": 0,
    "start_time": "2022-10-10T13:28:34.131Z"
   },
   {
    "duration": 0,
    "start_time": "2022-10-10T13:28:34.133Z"
   },
   {
    "duration": 491,
    "start_time": "2022-10-10T13:28:55.510Z"
   },
   {
    "duration": 30,
    "start_time": "2022-10-10T13:28:56.004Z"
   },
   {
    "duration": 39,
    "start_time": "2022-10-10T13:28:56.036Z"
   },
   {
    "duration": 20,
    "start_time": "2022-10-10T13:28:56.077Z"
   },
   {
    "duration": 55,
    "start_time": "2022-10-10T13:28:56.098Z"
   },
   {
    "duration": 4,
    "start_time": "2022-10-10T13:28:56.155Z"
   },
   {
    "duration": 16,
    "start_time": "2022-10-10T13:28:56.160Z"
   },
   {
    "duration": 15,
    "start_time": "2022-10-10T13:28:56.178Z"
   },
   {
    "duration": 25,
    "start_time": "2022-10-10T13:28:56.195Z"
   },
   {
    "duration": 18,
    "start_time": "2022-10-10T13:28:56.223Z"
   },
   {
    "duration": 55,
    "start_time": "2022-10-10T13:28:56.243Z"
   },
   {
    "duration": 11,
    "start_time": "2022-10-10T13:28:56.300Z"
   },
   {
    "duration": 20,
    "start_time": "2022-10-10T13:28:56.313Z"
   },
   {
    "duration": 25,
    "start_time": "2022-10-10T13:28:56.335Z"
   },
   {
    "duration": 44,
    "start_time": "2022-10-10T13:28:56.361Z"
   },
   {
    "duration": 16,
    "start_time": "2022-10-10T13:28:56.407Z"
   },
   {
    "duration": 22,
    "start_time": "2022-10-10T13:28:56.424Z"
   },
   {
    "duration": 43,
    "start_time": "2022-10-10T13:28:56.448Z"
   },
   {
    "duration": 34,
    "start_time": "2022-10-10T13:28:56.492Z"
   },
   {
    "duration": 21,
    "start_time": "2022-10-10T13:28:56.528Z"
   },
   {
    "duration": 23,
    "start_time": "2022-10-10T13:28:56.550Z"
   },
   {
    "duration": 398,
    "start_time": "2022-10-10T13:28:56.575Z"
   },
   {
    "duration": 147,
    "start_time": "2022-10-10T13:28:56.974Z"
   },
   {
    "duration": 4,
    "start_time": "2022-10-10T13:28:57.123Z"
   },
   {
    "duration": 131,
    "start_time": "2022-10-10T13:28:57.129Z"
   },
   {
    "duration": 161,
    "start_time": "2022-10-10T13:28:57.262Z"
   },
   {
    "duration": 118,
    "start_time": "2022-10-10T13:28:57.424Z"
   },
   {
    "duration": 178,
    "start_time": "2022-10-10T13:28:57.545Z"
   },
   {
    "duration": 429,
    "start_time": "2022-10-10T13:31:24.737Z"
   },
   {
    "duration": 21,
    "start_time": "2022-10-10T13:31:25.167Z"
   },
   {
    "duration": 12,
    "start_time": "2022-10-10T13:31:25.190Z"
   },
   {
    "duration": 18,
    "start_time": "2022-10-10T13:31:25.204Z"
   },
   {
    "duration": 30,
    "start_time": "2022-10-10T13:31:25.223Z"
   },
   {
    "duration": 3,
    "start_time": "2022-10-10T13:31:25.254Z"
   },
   {
    "duration": 11,
    "start_time": "2022-10-10T13:31:25.259Z"
   },
   {
    "duration": 4,
    "start_time": "2022-10-10T13:31:25.271Z"
   },
   {
    "duration": 7,
    "start_time": "2022-10-10T13:31:25.277Z"
   },
   {
    "duration": 3,
    "start_time": "2022-10-10T13:31:25.287Z"
   },
   {
    "duration": 54,
    "start_time": "2022-10-10T13:31:25.292Z"
   },
   {
    "duration": 9,
    "start_time": "2022-10-10T13:31:25.347Z"
   },
   {
    "duration": 4,
    "start_time": "2022-10-10T13:31:25.358Z"
   },
   {
    "duration": 16,
    "start_time": "2022-10-10T13:31:25.363Z"
   },
   {
    "duration": 20,
    "start_time": "2022-10-10T13:31:25.381Z"
   },
   {
    "duration": 30,
    "start_time": "2022-10-10T13:31:25.403Z"
   },
   {
    "duration": 4,
    "start_time": "2022-10-10T13:31:25.434Z"
   },
   {
    "duration": 14,
    "start_time": "2022-10-10T13:31:25.440Z"
   },
   {
    "duration": 7,
    "start_time": "2022-10-10T13:31:25.455Z"
   },
   {
    "duration": 4,
    "start_time": "2022-10-10T13:31:25.463Z"
   },
   {
    "duration": 11,
    "start_time": "2022-10-10T13:31:25.468Z"
   },
   {
    "duration": 368,
    "start_time": "2022-10-10T13:31:25.481Z"
   },
   {
    "duration": 153,
    "start_time": "2022-10-10T13:31:25.851Z"
   },
   {
    "duration": 5,
    "start_time": "2022-10-10T13:31:26.006Z"
   },
   {
    "duration": 149,
    "start_time": "2022-10-10T13:31:26.012Z"
   },
   {
    "duration": 142,
    "start_time": "2022-10-10T13:31:26.163Z"
   },
   {
    "duration": 120,
    "start_time": "2022-10-10T13:31:26.306Z"
   },
   {
    "duration": 186,
    "start_time": "2022-10-10T13:31:26.429Z"
   },
   {
    "duration": 469,
    "start_time": "2022-10-10T16:20:41.384Z"
   },
   {
    "duration": 20,
    "start_time": "2022-10-10T16:20:41.856Z"
   },
   {
    "duration": 53,
    "start_time": "2022-10-10T16:20:41.878Z"
   },
   {
    "duration": 23,
    "start_time": "2022-10-10T16:20:41.934Z"
   },
   {
    "duration": 70,
    "start_time": "2022-10-10T16:20:41.959Z"
   },
   {
    "duration": 3,
    "start_time": "2022-10-10T16:20:42.032Z"
   },
   {
    "duration": 25,
    "start_time": "2022-10-10T16:20:42.037Z"
   },
   {
    "duration": 28,
    "start_time": "2022-10-10T16:20:42.064Z"
   },
   {
    "duration": 50,
    "start_time": "2022-10-10T16:20:42.094Z"
   },
   {
    "duration": 6,
    "start_time": "2022-10-10T16:20:42.148Z"
   },
   {
    "duration": 44,
    "start_time": "2022-10-10T16:20:42.156Z"
   },
   {
    "duration": 12,
    "start_time": "2022-10-10T16:20:42.202Z"
   },
   {
    "duration": 8,
    "start_time": "2022-10-10T16:20:42.222Z"
   },
   {
    "duration": 22,
    "start_time": "2022-10-10T16:20:42.231Z"
   },
   {
    "duration": 32,
    "start_time": "2022-10-10T16:20:42.255Z"
   },
   {
    "duration": 21,
    "start_time": "2022-10-10T16:20:42.289Z"
   },
   {
    "duration": 12,
    "start_time": "2022-10-10T16:20:42.312Z"
   },
   {
    "duration": 25,
    "start_time": "2022-10-10T16:20:42.325Z"
   },
   {
    "duration": 7,
    "start_time": "2022-10-10T16:20:42.353Z"
   },
   {
    "duration": 5,
    "start_time": "2022-10-10T16:20:42.362Z"
   },
   {
    "duration": 27,
    "start_time": "2022-10-10T16:20:42.369Z"
   },
   {
    "duration": 374,
    "start_time": "2022-10-10T16:20:42.398Z"
   },
   {
    "duration": 167,
    "start_time": "2022-10-10T16:20:42.775Z"
   },
   {
    "duration": 5,
    "start_time": "2022-10-10T16:20:42.945Z"
   },
   {
    "duration": 164,
    "start_time": "2022-10-10T16:20:42.952Z"
   },
   {
    "duration": 146,
    "start_time": "2022-10-10T16:20:43.122Z"
   },
   {
    "duration": 121,
    "start_time": "2022-10-10T16:20:43.270Z"
   },
   {
    "duration": 172,
    "start_time": "2022-10-10T16:20:43.394Z"
   },
   {
    "duration": 446,
    "start_time": "2022-10-10T16:21:09.467Z"
   },
   {
    "duration": 21,
    "start_time": "2022-10-10T16:21:09.915Z"
   },
   {
    "duration": 13,
    "start_time": "2022-10-10T16:21:09.937Z"
   },
   {
    "duration": 8,
    "start_time": "2022-10-10T16:21:09.952Z"
   },
   {
    "duration": 29,
    "start_time": "2022-10-10T16:21:09.962Z"
   },
   {
    "duration": 3,
    "start_time": "2022-10-10T16:21:09.993Z"
   },
   {
    "duration": 31,
    "start_time": "2022-10-10T16:21:09.997Z"
   },
   {
    "duration": 4,
    "start_time": "2022-10-10T16:21:10.029Z"
   },
   {
    "duration": 9,
    "start_time": "2022-10-10T16:21:10.035Z"
   },
   {
    "duration": 4,
    "start_time": "2022-10-10T16:21:10.046Z"
   },
   {
    "duration": 36,
    "start_time": "2022-10-10T16:21:10.051Z"
   },
   {
    "duration": 9,
    "start_time": "2022-10-10T16:21:10.088Z"
   },
   {
    "duration": 26,
    "start_time": "2022-10-10T16:21:10.098Z"
   },
   {
    "duration": 12,
    "start_time": "2022-10-10T16:21:10.125Z"
   },
   {
    "duration": 23,
    "start_time": "2022-10-10T16:21:10.139Z"
   },
   {
    "duration": 15,
    "start_time": "2022-10-10T16:21:10.164Z"
   },
   {
    "duration": 3,
    "start_time": "2022-10-10T16:21:10.181Z"
   },
   {
    "duration": 12,
    "start_time": "2022-10-10T16:21:10.185Z"
   },
   {
    "duration": 23,
    "start_time": "2022-10-10T16:21:10.199Z"
   },
   {
    "duration": 3,
    "start_time": "2022-10-10T16:21:10.224Z"
   },
   {
    "duration": 11,
    "start_time": "2022-10-10T16:21:10.229Z"
   },
   {
    "duration": 365,
    "start_time": "2022-10-10T16:21:10.241Z"
   },
   {
    "duration": 136,
    "start_time": "2022-10-10T16:21:10.607Z"
   },
   {
    "duration": 4,
    "start_time": "2022-10-10T16:21:10.744Z"
   },
   {
    "duration": 98,
    "start_time": "2022-10-10T16:21:10.749Z"
   },
   {
    "duration": 115,
    "start_time": "2022-10-10T16:21:10.849Z"
   },
   {
    "duration": 111,
    "start_time": "2022-10-10T16:21:10.966Z"
   },
   {
    "duration": 153,
    "start_time": "2022-10-10T16:21:11.081Z"
   },
   {
    "duration": 454,
    "start_time": "2022-10-10T16:21:33.119Z"
   },
   {
    "duration": 21,
    "start_time": "2022-10-10T16:21:33.575Z"
   },
   {
    "duration": 18,
    "start_time": "2022-10-10T16:21:33.598Z"
   },
   {
    "duration": 8,
    "start_time": "2022-10-10T16:21:33.618Z"
   },
   {
    "duration": 29,
    "start_time": "2022-10-10T16:21:33.627Z"
   },
   {
    "duration": 3,
    "start_time": "2022-10-10T16:21:33.658Z"
   },
   {
    "duration": 10,
    "start_time": "2022-10-10T16:21:33.662Z"
   },
   {
    "duration": 4,
    "start_time": "2022-10-10T16:21:33.673Z"
   },
   {
    "duration": 9,
    "start_time": "2022-10-10T16:21:33.678Z"
   },
   {
    "duration": 3,
    "start_time": "2022-10-10T16:21:33.689Z"
   },
   {
    "duration": 51,
    "start_time": "2022-10-10T16:21:33.694Z"
   },
   {
    "duration": 7,
    "start_time": "2022-10-10T16:21:33.747Z"
   },
   {
    "duration": 5,
    "start_time": "2022-10-10T16:21:33.755Z"
   },
   {
    "duration": 15,
    "start_time": "2022-10-10T16:21:33.762Z"
   },
   {
    "duration": 18,
    "start_time": "2022-10-10T16:21:33.779Z"
   },
   {
    "duration": 33,
    "start_time": "2022-10-10T16:21:33.799Z"
   },
   {
    "duration": 3,
    "start_time": "2022-10-10T16:21:33.834Z"
   },
   {
    "duration": 11,
    "start_time": "2022-10-10T16:21:33.838Z"
   },
   {
    "duration": 5,
    "start_time": "2022-10-10T16:21:33.851Z"
   },
   {
    "duration": 3,
    "start_time": "2022-10-10T16:21:33.857Z"
   },
   {
    "duration": 12,
    "start_time": "2022-10-10T16:21:33.861Z"
   },
   {
    "duration": 373,
    "start_time": "2022-10-10T16:21:33.874Z"
   },
   {
    "duration": 131,
    "start_time": "2022-10-10T16:21:34.248Z"
   },
   {
    "duration": 3,
    "start_time": "2022-10-10T16:21:34.381Z"
   },
   {
    "duration": 135,
    "start_time": "2022-10-10T16:21:34.386Z"
   },
   {
    "duration": 119,
    "start_time": "2022-10-10T16:21:34.523Z"
   },
   {
    "duration": 109,
    "start_time": "2022-10-10T16:21:34.643Z"
   },
   {
    "duration": 167,
    "start_time": "2022-10-10T16:21:34.756Z"
   },
   {
    "duration": 565,
    "start_time": "2022-10-12T08:03:17.468Z"
   },
   {
    "duration": 23,
    "start_time": "2022-10-12T08:03:18.034Z"
   },
   {
    "duration": 16,
    "start_time": "2022-10-12T08:03:18.059Z"
   },
   {
    "duration": 10,
    "start_time": "2022-10-12T08:03:18.077Z"
   },
   {
    "duration": 45,
    "start_time": "2022-10-12T08:03:18.088Z"
   },
   {
    "duration": 3,
    "start_time": "2022-10-12T08:03:18.135Z"
   },
   {
    "duration": 16,
    "start_time": "2022-10-12T08:03:18.141Z"
   },
   {
    "duration": 10,
    "start_time": "2022-10-12T08:03:18.159Z"
   },
   {
    "duration": 26,
    "start_time": "2022-10-12T08:03:18.171Z"
   },
   {
    "duration": 6,
    "start_time": "2022-10-12T08:03:18.200Z"
   },
   {
    "duration": 51,
    "start_time": "2022-10-12T08:03:18.208Z"
   },
   {
    "duration": 13,
    "start_time": "2022-10-12T08:03:18.261Z"
   },
   {
    "duration": 21,
    "start_time": "2022-10-12T08:03:18.276Z"
   },
   {
    "duration": 22,
    "start_time": "2022-10-12T08:03:18.299Z"
   },
   {
    "duration": 31,
    "start_time": "2022-10-12T08:03:18.323Z"
   },
   {
    "duration": 22,
    "start_time": "2022-10-12T08:03:18.356Z"
   },
   {
    "duration": 4,
    "start_time": "2022-10-12T08:03:18.379Z"
   },
   {
    "duration": 10,
    "start_time": "2022-10-12T08:03:18.397Z"
   },
   {
    "duration": 15,
    "start_time": "2022-10-12T08:03:18.408Z"
   },
   {
    "duration": 8,
    "start_time": "2022-10-12T08:03:18.425Z"
   },
   {
    "duration": 22,
    "start_time": "2022-10-12T08:03:18.434Z"
   },
   {
    "duration": 579,
    "start_time": "2022-10-12T08:03:18.458Z"
   },
   {
    "duration": 160,
    "start_time": "2022-10-12T08:03:19.038Z"
   },
   {
    "duration": 4,
    "start_time": "2022-10-12T08:03:19.200Z"
   },
   {
    "duration": 127,
    "start_time": "2022-10-12T08:03:19.206Z"
   },
   {
    "duration": 136,
    "start_time": "2022-10-12T08:03:19.335Z"
   },
   {
    "duration": 177,
    "start_time": "2022-10-12T08:03:19.473Z"
   },
   {
    "duration": 151,
    "start_time": "2022-10-12T08:03:19.654Z"
   },
   {
    "duration": 451,
    "start_time": "2022-10-12T08:04:12.334Z"
   },
   {
    "duration": 22,
    "start_time": "2022-10-12T08:04:12.787Z"
   },
   {
    "duration": 15,
    "start_time": "2022-10-12T08:04:12.811Z"
   },
   {
    "duration": 10,
    "start_time": "2022-10-12T08:04:12.828Z"
   },
   {
    "duration": 33,
    "start_time": "2022-10-12T08:04:12.840Z"
   },
   {
    "duration": 23,
    "start_time": "2022-10-12T08:04:12.875Z"
   },
   {
    "duration": 11,
    "start_time": "2022-10-12T08:04:12.899Z"
   },
   {
    "duration": 5,
    "start_time": "2022-10-12T08:04:12.911Z"
   },
   {
    "duration": 10,
    "start_time": "2022-10-12T08:04:12.917Z"
   },
   {
    "duration": 4,
    "start_time": "2022-10-12T08:04:12.930Z"
   },
   {
    "duration": 66,
    "start_time": "2022-10-12T08:04:12.936Z"
   },
   {
    "duration": 11,
    "start_time": "2022-10-12T08:04:13.003Z"
   },
   {
    "duration": 13,
    "start_time": "2022-10-12T08:04:13.016Z"
   },
   {
    "duration": 13,
    "start_time": "2022-10-12T08:04:13.030Z"
   },
   {
    "duration": 28,
    "start_time": "2022-10-12T08:04:13.045Z"
   },
   {
    "duration": 40,
    "start_time": "2022-10-12T08:04:13.076Z"
   },
   {
    "duration": 6,
    "start_time": "2022-10-12T08:04:13.118Z"
   },
   {
    "duration": 27,
    "start_time": "2022-10-12T08:04:13.126Z"
   },
   {
    "duration": 7,
    "start_time": "2022-10-12T08:04:13.155Z"
   },
   {
    "duration": 7,
    "start_time": "2022-10-12T08:04:13.164Z"
   },
   {
    "duration": 24,
    "start_time": "2022-10-12T08:04:13.173Z"
   },
   {
    "duration": 453,
    "start_time": "2022-10-12T08:04:13.199Z"
   },
   {
    "duration": 160,
    "start_time": "2022-10-12T08:04:13.654Z"
   },
   {
    "duration": 4,
    "start_time": "2022-10-12T08:04:13.816Z"
   },
   {
    "duration": 136,
    "start_time": "2022-10-12T08:04:13.822Z"
   },
   {
    "duration": 146,
    "start_time": "2022-10-12T08:04:13.960Z"
   },
   {
    "duration": 124,
    "start_time": "2022-10-12T08:04:14.107Z"
   },
   {
    "duration": 200,
    "start_time": "2022-10-12T08:04:14.234Z"
   },
   {
    "duration": 462,
    "start_time": "2022-10-12T08:17:00.622Z"
   },
   {
    "duration": 23,
    "start_time": "2022-10-12T08:17:01.086Z"
   },
   {
    "duration": 26,
    "start_time": "2022-10-12T08:17:01.110Z"
   },
   {
    "duration": 13,
    "start_time": "2022-10-12T08:17:01.139Z"
   },
   {
    "duration": 45,
    "start_time": "2022-10-12T08:17:01.154Z"
   },
   {
    "duration": 4,
    "start_time": "2022-10-12T08:17:01.201Z"
   },
   {
    "duration": 43,
    "start_time": "2022-10-12T08:17:01.207Z"
   },
   {
    "duration": 11,
    "start_time": "2022-10-12T08:17:01.252Z"
   },
   {
    "duration": 36,
    "start_time": "2022-10-12T08:17:01.264Z"
   },
   {
    "duration": 42,
    "start_time": "2022-10-12T08:17:01.304Z"
   },
   {
    "duration": 66,
    "start_time": "2022-10-12T08:17:01.348Z"
   },
   {
    "duration": 16,
    "start_time": "2022-10-12T08:17:01.416Z"
   },
   {
    "duration": 19,
    "start_time": "2022-10-12T08:17:01.435Z"
   },
   {
    "duration": 32,
    "start_time": "2022-10-12T08:17:01.457Z"
   },
   {
    "duration": 25,
    "start_time": "2022-10-12T08:17:01.491Z"
   },
   {
    "duration": 17,
    "start_time": "2022-10-12T08:17:01.518Z"
   },
   {
    "duration": 9,
    "start_time": "2022-10-12T08:17:01.536Z"
   },
   {
    "duration": 17,
    "start_time": "2022-10-12T08:17:01.547Z"
   },
   {
    "duration": 30,
    "start_time": "2022-10-12T08:17:01.565Z"
   },
   {
    "duration": 17,
    "start_time": "2022-10-12T08:17:01.597Z"
   },
   {
    "duration": 28,
    "start_time": "2022-10-12T08:17:01.616Z"
   },
   {
    "duration": 444,
    "start_time": "2022-10-12T08:17:01.646Z"
   },
   {
    "duration": 174,
    "start_time": "2022-10-12T08:17:02.092Z"
   },
   {
    "duration": 5,
    "start_time": "2022-10-12T08:17:02.267Z"
   },
   {
    "duration": 226,
    "start_time": "2022-10-12T08:17:02.273Z"
   },
   {
    "duration": 0,
    "start_time": "2022-10-12T08:17:02.501Z"
   },
   {
    "duration": 0,
    "start_time": "2022-10-12T08:17:02.502Z"
   },
   {
    "duration": 0,
    "start_time": "2022-10-12T08:17:02.504Z"
   },
   {
    "duration": 4,
    "start_time": "2022-10-12T08:17:30.856Z"
   },
   {
    "duration": 151,
    "start_time": "2022-10-12T08:17:33.217Z"
   },
   {
    "duration": 5,
    "start_time": "2022-10-12T08:17:44.230Z"
   },
   {
    "duration": 4,
    "start_time": "2022-10-12T08:17:52.133Z"
   },
   {
    "duration": 127,
    "start_time": "2022-10-12T08:17:53.409Z"
   },
   {
    "duration": 453,
    "start_time": "2022-10-12T08:18:02.122Z"
   },
   {
    "duration": 23,
    "start_time": "2022-10-12T08:18:02.577Z"
   },
   {
    "duration": 15,
    "start_time": "2022-10-12T08:18:02.604Z"
   },
   {
    "duration": 24,
    "start_time": "2022-10-12T08:18:02.621Z"
   },
   {
    "duration": 45,
    "start_time": "2022-10-12T08:18:02.647Z"
   },
   {
    "duration": 5,
    "start_time": "2022-10-12T08:18:02.703Z"
   },
   {
    "duration": 14,
    "start_time": "2022-10-12T08:18:02.710Z"
   },
   {
    "duration": 5,
    "start_time": "2022-10-12T08:18:02.726Z"
   },
   {
    "duration": 7,
    "start_time": "2022-10-12T08:18:02.735Z"
   },
   {
    "duration": 8,
    "start_time": "2022-10-12T08:18:02.743Z"
   },
   {
    "duration": 49,
    "start_time": "2022-10-12T08:18:02.753Z"
   },
   {
    "duration": 10,
    "start_time": "2022-10-12T08:18:02.804Z"
   },
   {
    "duration": 8,
    "start_time": "2022-10-12T08:18:02.815Z"
   },
   {
    "duration": 21,
    "start_time": "2022-10-12T08:18:02.824Z"
   },
   {
    "duration": 20,
    "start_time": "2022-10-12T08:18:02.847Z"
   },
   {
    "duration": 36,
    "start_time": "2022-10-12T08:18:02.869Z"
   },
   {
    "duration": 4,
    "start_time": "2022-10-12T08:18:02.907Z"
   },
   {
    "duration": 14,
    "start_time": "2022-10-12T08:18:02.913Z"
   },
   {
    "duration": 6,
    "start_time": "2022-10-12T08:18:02.929Z"
   },
   {
    "duration": 9,
    "start_time": "2022-10-12T08:18:02.937Z"
   },
   {
    "duration": 15,
    "start_time": "2022-10-12T08:18:02.948Z"
   },
   {
    "duration": 423,
    "start_time": "2022-10-12T08:18:02.965Z"
   },
   {
    "duration": 155,
    "start_time": "2022-10-12T08:18:03.390Z"
   },
   {
    "duration": 4,
    "start_time": "2022-10-12T08:18:03.547Z"
   },
   {
    "duration": 128,
    "start_time": "2022-10-12T08:18:03.552Z"
   },
   {
    "duration": 144,
    "start_time": "2022-10-12T08:18:03.681Z"
   },
   {
    "duration": 117,
    "start_time": "2022-10-12T08:18:03.828Z"
   },
   {
    "duration": 190,
    "start_time": "2022-10-12T08:18:03.947Z"
   },
   {
    "duration": 492,
    "start_time": "2022-10-12T08:18:46.398Z"
   },
   {
    "duration": 24,
    "start_time": "2022-10-12T08:18:46.893Z"
   },
   {
    "duration": 16,
    "start_time": "2022-10-12T08:18:46.919Z"
   },
   {
    "duration": 9,
    "start_time": "2022-10-12T08:18:46.937Z"
   },
   {
    "duration": 51,
    "start_time": "2022-10-12T08:18:46.948Z"
   },
   {
    "duration": 3,
    "start_time": "2022-10-12T08:18:47.001Z"
   },
   {
    "duration": 16,
    "start_time": "2022-10-12T08:18:47.006Z"
   },
   {
    "duration": 5,
    "start_time": "2022-10-12T08:18:47.023Z"
   },
   {
    "duration": 12,
    "start_time": "2022-10-12T08:18:47.030Z"
   },
   {
    "duration": 5,
    "start_time": "2022-10-12T08:18:47.046Z"
   },
   {
    "duration": 55,
    "start_time": "2022-10-12T08:18:47.052Z"
   },
   {
    "duration": 10,
    "start_time": "2022-10-12T08:18:47.109Z"
   },
   {
    "duration": 4,
    "start_time": "2022-10-12T08:18:47.121Z"
   },
   {
    "duration": 16,
    "start_time": "2022-10-12T08:18:47.127Z"
   },
   {
    "duration": 24,
    "start_time": "2022-10-12T08:18:47.145Z"
   },
   {
    "duration": 34,
    "start_time": "2022-10-12T08:18:47.171Z"
   },
   {
    "duration": 4,
    "start_time": "2022-10-12T08:18:47.207Z"
   },
   {
    "duration": 18,
    "start_time": "2022-10-12T08:18:47.213Z"
   },
   {
    "duration": 31,
    "start_time": "2022-10-12T08:18:47.233Z"
   },
   {
    "duration": 12,
    "start_time": "2022-10-12T08:18:47.265Z"
   },
   {
    "duration": 15,
    "start_time": "2022-10-12T08:18:47.278Z"
   },
   {
    "duration": 402,
    "start_time": "2022-10-12T08:18:47.295Z"
   },
   {
    "duration": 157,
    "start_time": "2022-10-12T08:18:47.698Z"
   },
   {
    "duration": 4,
    "start_time": "2022-10-12T08:18:47.857Z"
   },
   {
    "duration": 136,
    "start_time": "2022-10-12T08:18:47.862Z"
   },
   {
    "duration": 137,
    "start_time": "2022-10-12T08:18:48.000Z"
   },
   {
    "duration": 131,
    "start_time": "2022-10-12T08:18:48.139Z"
   },
   {
    "duration": 229,
    "start_time": "2022-10-12T08:18:48.273Z"
   }
  ],
  "colab": {
   "name": "dpp_template_part2.ipynb",
   "provenance": []
  },
  "kernelspec": {
   "display_name": "Python 3 (ipykernel)",
   "language": "python",
   "name": "python3"
  },
  "language_info": {
   "codemirror_mode": {
    "name": "ipython",
    "version": 3
   },
   "file_extension": ".py",
   "mimetype": "text/x-python",
   "name": "python",
   "nbconvert_exporter": "python",
   "pygments_lexer": "ipython3",
   "version": "3.9.13"
  },
  "toc": {
   "base_numbering": 1,
   "nav_menu": {},
   "number_sections": true,
   "sideBar": true,
   "skip_h1_title": true,
   "title_cell": "Table of Contents",
   "title_sidebar": "Contents",
   "toc_cell": false,
   "toc_position": {},
   "toc_section_display": true,
   "toc_window_display": false
  }
 },
 "nbformat": 4,
 "nbformat_minor": 5
}
